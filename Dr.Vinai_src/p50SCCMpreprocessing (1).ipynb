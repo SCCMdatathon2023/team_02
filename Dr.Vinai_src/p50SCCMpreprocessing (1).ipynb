{
 "cells": [
  {
   "cell_type": "code",
   "execution_count": 1,
   "id": "b694e2d0-8601-4464-aee4-2a2602a7d805",
   "metadata": {
    "tags": []
   },
   "outputs": [],
   "source": [
    "import pandas as pd\n",
    "import matplotlib.pyplot as plt\n",
    "import numpy as np\n",
    "import seaborn as sns\n",
    "import missingno as mno"
   ]
  },
  {
   "cell_type": "code",
   "execution_count": 2,
   "id": "bea5706d-20d1-4820-b14c-9cfdd56e86a4",
   "metadata": {
    "tags": []
   },
   "outputs": [],
   "source": [
    "from sklearn.experimental import enable_iterative_imputer\n",
    "from sklearn.impute import IterativeImputer\n",
    "from sklearn.linear_model import BayesianRidge"
   ]
  },
  {
   "cell_type": "code",
   "execution_count": 3,
   "id": "1837ca98-0ff1-4333-8611-6c018414c948",
   "metadata": {
    "tags": []
   },
   "outputs": [],
   "source": [
    "csv_path = '/users/mvina/OneDrive/SCCMDatathon/pulseox_dataset.csv'"
   ]
  },
  {
   "cell_type": "code",
   "execution_count": 4,
   "id": "76f530b2-0b9b-46a2-ad95-29e6aeb6c720",
   "metadata": {
    "tags": []
   },
   "outputs": [
    {
     "name": "stderr",
     "output_type": "stream",
     "text": [
      "C:\\Users\\mvina\\AppData\\Local\\Temp\\ipykernel_44468\\2867298657.py:1: DtypeWarning: Columns (3) have mixed types. Specify dtype option on import or set low_memory=False.\n",
      "  df_sccm = pd.read_csv(csv_path)\n"
     ]
    }
   ],
   "source": [
    "df_sccm = pd.read_csv(csv_path)"
   ]
  },
  {
   "cell_type": "code",
   "execution_count": 5,
   "id": "cc23c3eb-7877-401a-b6c0-880db4ebaa86",
   "metadata": {
    "tags": []
   },
   "outputs": [
    {
     "data": {
      "text/plain": [
       "(49093, 142)"
      ]
     },
     "execution_count": 5,
     "metadata": {},
     "output_type": "execute_result"
    }
   ],
   "source": [
    "df_sccm.shape"
   ]
  },
  {
   "cell_type": "code",
   "execution_count": 6,
   "id": "79bda796-76d2-4b95-a16c-191ef7b19f7e",
   "metadata": {
    "tags": []
   },
   "outputs": [],
   "source": [
    "column_names = df_sccm.columns.tolist()"
   ]
  },
  {
   "cell_type": "code",
   "execution_count": 7,
   "id": "3b64a5c0-9da8-4cd4-ae99-469c69e48e2b",
   "metadata": {
    "tags": []
   },
   "outputs": [
    {
     "name": "stdout",
     "output_type": "stream",
     "text": [
      "Column Names: ['unique_subject_id', 'unique_hospital_admission_id', 'unique_icustay_id', 'subject_id', 'hospital_admission_id', 'icustay_id', 'source_db', 'hospitalid', 'numbedscategory', 'teachingstatus', 'region', 'admission_age', 'sex_female', 'weight_admission', 'height_admission', 'BMI_admission', 'datetime_hospital_admit', 'datetime_hospital_discharge', 'datetime_icu_admit', 'datetime_icu_discharge', 'los_hospital', 'los_ICU', 'comorbidity_score_name', 'comorbidity_score_value', 'in_hospital_mortality', 'race_ethnicity', 'SaO2_timestamp', 'pH', 'pCO2', 'pO2', 'SaO2', 'SpO2', 'Carboxyhemoglobin', 'Methemoglobin', 'SpO2_timestamp', 'delta_SpO2', 'delta_vitals_heart_rate', 'vitals_heart_rate', 'delta_vitals_resp_rate', 'vitals_resp_rate', 'delta_vitals_mbp_ni', 'vitals_mbp_ni', 'delta_vitals_sbp_ni', 'vitals_sbp_ni', 'delta_vitals_dbp_ni', 'vitals_dbp_ni', 'delta_vitals_mbp_i', 'vitals_mbp_i', 'delta_vitals_sbp_i', 'vitals_sbp_i', 'delta_vitals_dbp_i', 'vitals_dbp_i', 'delta_vitals_tempc', 'vitals_tempc', 'delta_cbc_hemoglobin', 'cbc_hemoglobin', 'delta_cbc_hematocrit', 'cbc_hematocrit', 'delta_cbc_mch', 'cbc_mch', 'delta_cbc_mchc', 'cbc_mchc', 'delta_cbc_mcv', 'cbc_mcv', 'delta_cbc_platelet', 'cbc_platelet', 'delta_cbc_rbc', 'cbc_rbc', 'delta_cbc_rdw', 'cbc_rdw', 'delta_cbc_wbc', 'cbc_wbc', 'delta_coag_fibrinogen', 'coag_fibrinogen', 'delta_coag_inr', 'coag_inr', 'delta_coag_pt', 'coag_pt', 'delta_coag_ptt', 'coag_ptt', 'delta_bmp_sodium', 'bmp_sodium', 'delta_bmp_potassium', 'bmp_potassium', 'delta_bmp_chloride', 'bmp_chloride', 'delta_bmp_bicarbonate', 'bmp_bicarbonate', 'delta_bmp_bun', 'bmp_bun', 'delta_bmp_creatinine', 'bmp_creatinine', 'delta_bmp_glucose', 'bmp_glucose', 'delta_bmp_aniongap', 'bmp_aniongap', 'delta_bmp_calcium', 'bmp_calcium', 'delta_bmp_lactate', 'bmp_lactate', 'delta_hfp_alt', 'hfp_alt', 'delta_hfp_alp', 'hfp_alp', 'delta_hfp_ast', 'hfp_ast', 'delta_hfp_bilirubin_total', 'hfp_bilirubin_total', 'delta_hfp_bilirubin_direct', 'hfp_bilirubin_direct', 'delta_hfp_albumin', 'hfp_albumin', 'delta_others_ck_cpk', 'others_ck_cpk', 'delta_others_ck_mb', 'others_ck_mb', 'delta_others_ld_ldh', 'others_ld_ldh', 'delta_sofa_past_overall_24hr', 'sofa_past_overall_24hr', 'delta_sofa_past_coagulation_24hr', 'sofa_past_coagulation_24hr', 'delta_sofa_past_liver_24hr', 'sofa_past_liver_24hr', 'delta_sofa_past_cardiovascular_24hr', 'sofa_past_cardiovascular_24hr', 'delta_sofa_past_cns_24hr', 'sofa_past_cns_24hr', 'delta_sofa_past_renal_24hr', 'sofa_past_renal_24hr', 'delta_sofa_future_overall_24hr', 'sofa_future_overall_24hr', 'delta_sofa_future_coagulation_24hr', 'sofa_future_coagulation_24hr', 'delta_sofa_future_liver_24hr', 'sofa_future_liver_24hr', 'delta_sofa_future_cardiovascular_24hr', 'sofa_future_cardiovascular_24hr', 'delta_sofa_future_cns_24hr', 'sofa_future_cns_24hr', 'delta_sofa_future_renal_24hr', 'sofa_future_renal_24hr']\n"
     ]
    }
   ],
   "source": [
    "print(\"Column Names:\", column_names)"
   ]
  },
  {
   "cell_type": "code",
   "execution_count": 7,
   "id": "399e2174-d13d-4f34-b05e-7cc9bd8d7081",
   "metadata": {
    "tags": []
   },
   "outputs": [],
   "source": [
    "df_sccm_1 = df_sccm[['subject_id', 'hospital_admission_id', 'source_db', 'admission_age', 'sex_female', 'weight_admission', 'height_admission', 'BMI_admission', 'los_hospital', 'los_ICU', 'comorbidity_score_name', 'comorbidity_score_value', 'in_hospital_mortality', 'race_ethnicity', 'pH', 'pCO2', 'pO2', 'SaO2', 'SpO2', 'vitals_tempc', 'cbc_hemoglobin', 'bmp_sodium', 'bmp_bicarbonate', 'bmp_creatinine', 'sofa_past_overall_24hr', 'sofa_past_cardiovascular_24hr', 'sofa_future_overall_24hr', 'bmp_aniongap', 'bmp_lactate', 'coag_pt', 'hfp_alt', 'hfp_bilirubin_total', 'hfp_albumin']]"
   ]
  },
  {
   "cell_type": "code",
   "execution_count": 9,
   "id": "8370675a-780f-473d-a924-ddf18209c9f9",
   "metadata": {
    "tags": []
   },
   "outputs": [
    {
     "data": {
      "text/plain": [
       "(49093, 33)"
      ]
     },
     "execution_count": 9,
     "metadata": {},
     "output_type": "execute_result"
    }
   ],
   "source": [
    "df_sccm_1.shape"
   ]
  },
  {
   "cell_type": "code",
   "execution_count": 12,
   "id": "54edd142-5691-4c32-a430-d3701d185bfe",
   "metadata": {
    "tags": []
   },
   "outputs": [],
   "source": [
    "df_sccm_2 = df_sccm[['subject_id', 'hospital_admission_id', 'source_db', 'admission_age', 'sex_female', 'weight_admission', 'height_admission', 'BMI_admission', 'los_hospital', 'los_ICU', 'comorbidity_score_name', 'comorbidity_score_value', 'in_hospital_mortality', 'race_ethnicity', 'pH', 'pCO2', 'pO2', 'SaO2', 'SpO2', 'vitals_tempc', 'cbc_hemoglobin', 'bmp_sodium', 'bmp_bicarbonate', 'bmp_creatinine', 'sofa_past_overall_24hr', 'sofa_past_cardiovascular_24hr', 'sofa_future_overall_24hr']]"
   ]
  },
  {
   "cell_type": "code",
   "execution_count": 13,
   "id": "785bd46c-061a-4283-8c0c-67b17fa7eb8b",
   "metadata": {
    "tags": []
   },
   "outputs": [
    {
     "data": {
      "text/plain": [
       "(49093, 27)"
      ]
     },
     "execution_count": 13,
     "metadata": {},
     "output_type": "execute_result"
    }
   ],
   "source": [
    "df_sccm_2.shape"
   ]
  },
  {
   "cell_type": "code",
   "execution_count": 14,
   "id": "6766dee5-6723-4aa8-b631-a0f3a16b2be0",
   "metadata": {
    "tags": []
   },
   "outputs": [
    {
     "name": "stderr",
     "output_type": "stream",
     "text": [
      "C:\\Users\\mvina\\AppData\\Local\\Temp\\ipykernel_44468\\2570554493.py:1: SettingWithCopyWarning: \n",
      "A value is trying to be set on a copy of a slice from a DataFrame.\n",
      "Try using .loc[row_indexer,col_indexer] = value instead\n",
      "\n",
      "See the caveats in the documentation: https://pandas.pydata.org/pandas-docs/stable/user_guide/indexing.html#returning-a-view-versus-a-copy\n",
      "  df_sccm_2['p50'] = ((100 * (df_sccm_2['pO2']**2.7111) / df_sccm_2['SpO2']) - (df_sccm_2['pO2']**2.7111))**(1/2.7111)\n"
     ]
    }
   ],
   "source": [
    "df_sccm_2['p50'] = ((100 * (df_sccm_2['pO2']**2.7111) / df_sccm_2['SpO2']) - (df_sccm_2['pO2']**2.7111))**(1/2.7111)"
   ]
  },
  {
   "cell_type": "code",
   "execution_count": 15,
   "id": "53925e9b-b4c6-4d79-a519-cfe4db30a25d",
   "metadata": {
    "tags": []
   },
   "outputs": [
    {
     "data": {
      "text/plain": [
       "(49093, 28)"
      ]
     },
     "execution_count": 15,
     "metadata": {},
     "output_type": "execute_result"
    }
   ],
   "source": [
    "df_sccm_2.shape"
   ]
  },
  {
   "cell_type": "code",
   "execution_count": 16,
   "id": "93ed1ed9-95f0-4442-929f-f608b155f23d",
   "metadata": {
    "tags": []
   },
   "outputs": [
    {
     "data": {
      "text/html": [
       "<div>\n",
       "<style scoped>\n",
       "    .dataframe tbody tr th:only-of-type {\n",
       "        vertical-align: middle;\n",
       "    }\n",
       "\n",
       "    .dataframe tbody tr th {\n",
       "        vertical-align: top;\n",
       "    }\n",
       "\n",
       "    .dataframe thead th {\n",
       "        text-align: right;\n",
       "    }\n",
       "</style>\n",
       "<table border=\"1\" class=\"dataframe\">\n",
       "  <thead>\n",
       "    <tr style=\"text-align: right;\">\n",
       "      <th></th>\n",
       "      <th>hospital_admission_id</th>\n",
       "      <th>admission_age</th>\n",
       "      <th>sex_female</th>\n",
       "      <th>weight_admission</th>\n",
       "      <th>height_admission</th>\n",
       "      <th>BMI_admission</th>\n",
       "      <th>los_hospital</th>\n",
       "      <th>los_ICU</th>\n",
       "      <th>comorbidity_score_value</th>\n",
       "      <th>in_hospital_mortality</th>\n",
       "      <th>...</th>\n",
       "      <th>SpO2</th>\n",
       "      <th>vitals_tempc</th>\n",
       "      <th>cbc_hemoglobin</th>\n",
       "      <th>bmp_sodium</th>\n",
       "      <th>bmp_bicarbonate</th>\n",
       "      <th>bmp_creatinine</th>\n",
       "      <th>sofa_past_overall_24hr</th>\n",
       "      <th>sofa_past_cardiovascular_24hr</th>\n",
       "      <th>sofa_future_overall_24hr</th>\n",
       "      <th>p50</th>\n",
       "    </tr>\n",
       "  </thead>\n",
       "  <tbody>\n",
       "    <tr>\n",
       "      <th>count</th>\n",
       "      <td>4.909300e+04</td>\n",
       "      <td>49091.000000</td>\n",
       "      <td>49093.000000</td>\n",
       "      <td>47989.000000</td>\n",
       "      <td>47809.000000</td>\n",
       "      <td>47108.000000</td>\n",
       "      <td>49093.000000</td>\n",
       "      <td>49093.000000</td>\n",
       "      <td>49091.000000</td>\n",
       "      <td>48689.000000</td>\n",
       "      <td>...</td>\n",
       "      <td>49093.000000</td>\n",
       "      <td>41134.000000</td>\n",
       "      <td>42297.000000</td>\n",
       "      <td>42554.000000</td>\n",
       "      <td>38426.000000</td>\n",
       "      <td>41297.000000</td>\n",
       "      <td>38115.000000</td>\n",
       "      <td>38115.000000</td>\n",
       "      <td>39667.000000</td>\n",
       "      <td>47372.000000</td>\n",
       "    </tr>\n",
       "    <tr>\n",
       "      <th>mean</th>\n",
       "      <td>3.714965e+06</td>\n",
       "      <td>64.429549</td>\n",
       "      <td>0.436580</td>\n",
       "      <td>85.611319</td>\n",
       "      <td>169.347372</td>\n",
       "      <td>200.285514</td>\n",
       "      <td>11.547233</td>\n",
       "      <td>5.226004</td>\n",
       "      <td>4.217453</td>\n",
       "      <td>0.175440</td>\n",
       "      <td>...</td>\n",
       "      <td>97.137066</td>\n",
       "      <td>36.739015</td>\n",
       "      <td>11.142147</td>\n",
       "      <td>138.589879</td>\n",
       "      <td>23.831729</td>\n",
       "      <td>1.610437</td>\n",
       "      <td>4.863702</td>\n",
       "      <td>0.984127</td>\n",
       "      <td>6.050344</td>\n",
       "      <td>18.804253</td>\n",
       "    </tr>\n",
       "    <tr>\n",
       "      <th>std</th>\n",
       "      <td>7.188941e+06</td>\n",
       "      <td>15.800227</td>\n",
       "      <td>0.495967</td>\n",
       "      <td>27.847338</td>\n",
       "      <td>12.872780</td>\n",
       "      <td>8189.044538</td>\n",
       "      <td>13.662529</td>\n",
       "      <td>7.130980</td>\n",
       "      <td>3.044719</td>\n",
       "      <td>0.380347</td>\n",
       "      <td>...</td>\n",
       "      <td>3.834850</td>\n",
       "      <td>0.942444</td>\n",
       "      <td>2.433666</td>\n",
       "      <td>5.459354</td>\n",
       "      <td>5.976145</td>\n",
       "      <td>1.607343</td>\n",
       "      <td>3.463522</td>\n",
       "      <td>1.115390</td>\n",
       "      <td>3.688183</td>\n",
       "      <td>20.974208</td>\n",
       "    </tr>\n",
       "    <tr>\n",
       "      <th>min</th>\n",
       "      <td>1.000680e+05</td>\n",
       "      <td>14.000000</td>\n",
       "      <td>0.000000</td>\n",
       "      <td>0.000000</td>\n",
       "      <td>0.000000</td>\n",
       "      <td>0.000000</td>\n",
       "      <td>-0.264583</td>\n",
       "      <td>0.000000</td>\n",
       "      <td>-15.000000</td>\n",
       "      <td>0.000000</td>\n",
       "      <td>...</td>\n",
       "      <td>70.000000</td>\n",
       "      <td>23.700000</td>\n",
       "      <td>1.900000</td>\n",
       "      <td>99.000000</td>\n",
       "      <td>2.000000</td>\n",
       "      <td>0.100000</td>\n",
       "      <td>0.000000</td>\n",
       "      <td>0.000000</td>\n",
       "      <td>0.000000</td>\n",
       "      <td>0.000000</td>\n",
       "    </tr>\n",
       "    <tr>\n",
       "      <th>25%</th>\n",
       "      <td>7.178640e+05</td>\n",
       "      <td>55.000000</td>\n",
       "      <td>0.000000</td>\n",
       "      <td>67.400000</td>\n",
       "      <td>162.560000</td>\n",
       "      <td>23.824857</td>\n",
       "      <td>4.889583</td>\n",
       "      <td>1.666667</td>\n",
       "      <td>2.000000</td>\n",
       "      <td>0.000000</td>\n",
       "      <td>...</td>\n",
       "      <td>96.000000</td>\n",
       "      <td>36.400000</td>\n",
       "      <td>9.400000</td>\n",
       "      <td>136.000000</td>\n",
       "      <td>20.000000</td>\n",
       "      <td>0.800000</td>\n",
       "      <td>2.000000</td>\n",
       "      <td>0.000000</td>\n",
       "      <td>3.000000</td>\n",
       "      <td>0.000000</td>\n",
       "    </tr>\n",
       "    <tr>\n",
       "      <th>50%</th>\n",
       "      <td>1.286911e+06</td>\n",
       "      <td>66.000000</td>\n",
       "      <td>0.000000</td>\n",
       "      <td>81.500000</td>\n",
       "      <td>170.000000</td>\n",
       "      <td>28.058219</td>\n",
       "      <td>8.128472</td>\n",
       "      <td>3.041667</td>\n",
       "      <td>4.000000</td>\n",
       "      <td>0.000000</td>\n",
       "      <td>...</td>\n",
       "      <td>98.000000</td>\n",
       "      <td>36.720000</td>\n",
       "      <td>10.900000</td>\n",
       "      <td>139.000000</td>\n",
       "      <td>24.000000</td>\n",
       "      <td>1.100000</td>\n",
       "      <td>4.000000</td>\n",
       "      <td>1.000000</td>\n",
       "      <td>6.000000</td>\n",
       "      <td>20.705404</td>\n",
       "    </tr>\n",
       "    <tr>\n",
       "      <th>75%</th>\n",
       "      <td>2.443592e+06</td>\n",
       "      <td>76.000000</td>\n",
       "      <td>1.000000</td>\n",
       "      <td>99.000000</td>\n",
       "      <td>177.800000</td>\n",
       "      <td>33.564014</td>\n",
       "      <td>14.124306</td>\n",
       "      <td>6.125000</td>\n",
       "      <td>6.000000</td>\n",
       "      <td>0.000000</td>\n",
       "      <td>...</td>\n",
       "      <td>100.000000</td>\n",
       "      <td>37.200000</td>\n",
       "      <td>12.700000</td>\n",
       "      <td>142.000000</td>\n",
       "      <td>27.000000</td>\n",
       "      <td>1.750000</td>\n",
       "      <td>7.000000</td>\n",
       "      <td>1.000000</td>\n",
       "      <td>8.000000</td>\n",
       "      <td>26.655233</td>\n",
       "    </tr>\n",
       "    <tr>\n",
       "      <th>max</th>\n",
       "      <td>2.999550e+07</td>\n",
       "      <td>90.000000</td>\n",
       "      <td>1.000000</td>\n",
       "      <td>771.200000</td>\n",
       "      <td>504.800000</td>\n",
       "      <td>725551.020400</td>\n",
       "      <td>763.455556</td>\n",
       "      <td>506.375000</td>\n",
       "      <td>41.000000</td>\n",
       "      <td>1.000000</td>\n",
       "      <td>...</td>\n",
       "      <td>100.000000</td>\n",
       "      <td>44.300000</td>\n",
       "      <td>96.000000</td>\n",
       "      <td>188.000000</td>\n",
       "      <td>63.000000</td>\n",
       "      <td>26.600000</td>\n",
       "      <td>24.000000</td>\n",
       "      <td>4.000000</td>\n",
       "      <td>23.000000</td>\n",
       "      <td>385.503260</td>\n",
       "    </tr>\n",
       "  </tbody>\n",
       "</table>\n",
       "<p>8 rows × 24 columns</p>\n",
       "</div>"
      ],
      "text/plain": [
       "       hospital_admission_id  admission_age    sex_female  weight_admission  \\\n",
       "count           4.909300e+04   49091.000000  49093.000000      47989.000000   \n",
       "mean            3.714965e+06      64.429549      0.436580         85.611319   \n",
       "std             7.188941e+06      15.800227      0.495967         27.847338   \n",
       "min             1.000680e+05      14.000000      0.000000          0.000000   \n",
       "25%             7.178640e+05      55.000000      0.000000         67.400000   \n",
       "50%             1.286911e+06      66.000000      0.000000         81.500000   \n",
       "75%             2.443592e+06      76.000000      1.000000         99.000000   \n",
       "max             2.999550e+07      90.000000      1.000000        771.200000   \n",
       "\n",
       "       height_admission  BMI_admission  los_hospital       los_ICU  \\\n",
       "count      47809.000000   47108.000000  49093.000000  49093.000000   \n",
       "mean         169.347372     200.285514     11.547233      5.226004   \n",
       "std           12.872780    8189.044538     13.662529      7.130980   \n",
       "min            0.000000       0.000000     -0.264583      0.000000   \n",
       "25%          162.560000      23.824857      4.889583      1.666667   \n",
       "50%          170.000000      28.058219      8.128472      3.041667   \n",
       "75%          177.800000      33.564014     14.124306      6.125000   \n",
       "max          504.800000  725551.020400    763.455556    506.375000   \n",
       "\n",
       "       comorbidity_score_value  in_hospital_mortality  ...          SpO2  \\\n",
       "count             49091.000000           48689.000000  ...  49093.000000   \n",
       "mean                  4.217453               0.175440  ...     97.137066   \n",
       "std                   3.044719               0.380347  ...      3.834850   \n",
       "min                 -15.000000               0.000000  ...     70.000000   \n",
       "25%                   2.000000               0.000000  ...     96.000000   \n",
       "50%                   4.000000               0.000000  ...     98.000000   \n",
       "75%                   6.000000               0.000000  ...    100.000000   \n",
       "max                  41.000000               1.000000  ...    100.000000   \n",
       "\n",
       "       vitals_tempc  cbc_hemoglobin    bmp_sodium  bmp_bicarbonate  \\\n",
       "count  41134.000000    42297.000000  42554.000000     38426.000000   \n",
       "mean      36.739015       11.142147    138.589879        23.831729   \n",
       "std        0.942444        2.433666      5.459354         5.976145   \n",
       "min       23.700000        1.900000     99.000000         2.000000   \n",
       "25%       36.400000        9.400000    136.000000        20.000000   \n",
       "50%       36.720000       10.900000    139.000000        24.000000   \n",
       "75%       37.200000       12.700000    142.000000        27.000000   \n",
       "max       44.300000       96.000000    188.000000        63.000000   \n",
       "\n",
       "       bmp_creatinine  sofa_past_overall_24hr  sofa_past_cardiovascular_24hr  \\\n",
       "count    41297.000000            38115.000000                   38115.000000   \n",
       "mean         1.610437                4.863702                       0.984127   \n",
       "std          1.607343                3.463522                       1.115390   \n",
       "min          0.100000                0.000000                       0.000000   \n",
       "25%          0.800000                2.000000                       0.000000   \n",
       "50%          1.100000                4.000000                       1.000000   \n",
       "75%          1.750000                7.000000                       1.000000   \n",
       "max         26.600000               24.000000                       4.000000   \n",
       "\n",
       "       sofa_future_overall_24hr           p50  \n",
       "count              39667.000000  47372.000000  \n",
       "mean                   6.050344     18.804253  \n",
       "std                    3.688183     20.974208  \n",
       "min                    0.000000      0.000000  \n",
       "25%                    3.000000      0.000000  \n",
       "50%                    6.000000     20.705404  \n",
       "75%                    8.000000     26.655233  \n",
       "max                   23.000000    385.503260  \n",
       "\n",
       "[8 rows x 24 columns]"
      ]
     },
     "execution_count": 16,
     "metadata": {},
     "output_type": "execute_result"
    }
   ],
   "source": [
    "df_sccm_2.describe()"
   ]
  },
  {
   "cell_type": "code",
   "execution_count": 17,
   "id": "4cce10d1-f244-4e21-b921-e03eb61c2b14",
   "metadata": {
    "tags": []
   },
   "outputs": [],
   "source": [
    "df_sccm_2.to_csv('C:/users/Mvina/OneDrive/SCCMDatathon/sccm23_p50_2.csv')"
   ]
  },
  {
   "cell_type": "code",
   "execution_count": 18,
   "id": "577ab898-8473-4b3c-809a-9b80ff05de8f",
   "metadata": {
    "tags": []
   },
   "outputs": [],
   "source": [
    "missing_percentage2 = (df_sccm_2.isnull().sum() / len(df_sccm_2)) * 100"
   ]
  },
  {
   "cell_type": "code",
   "execution_count": 19,
   "id": "51b36434-f738-4c70-b5ec-ecd6068416dd",
   "metadata": {
    "tags": []
   },
   "outputs": [
    {
     "data": {
      "text/plain": [
       "subject_id                        0.000000\n",
       "hospital_admission_id             0.000000\n",
       "source_db                         0.000000\n",
       "admission_age                     0.004074\n",
       "sex_female                        0.000000\n",
       "weight_admission                  2.248793\n",
       "height_admission                  2.615444\n",
       "BMI_admission                     4.043346\n",
       "los_hospital                      0.000000\n",
       "los_ICU                           0.000000\n",
       "comorbidity_score_name            0.000000\n",
       "comorbidity_score_value           0.004074\n",
       "in_hospital_mortality             0.822928\n",
       "race_ethnicity                    0.000000\n",
       "pH                                0.000000\n",
       "pCO2                              0.000000\n",
       "pO2                               0.000000\n",
       "SaO2                              0.000000\n",
       "SpO2                              0.000000\n",
       "vitals_tempc                     16.212087\n",
       "cbc_hemoglobin                   13.843114\n",
       "bmp_sodium                       13.319618\n",
       "bmp_bicarbonate                  21.728149\n",
       "bmp_creatinine                   15.880064\n",
       "sofa_past_overall_24hr           22.361640\n",
       "sofa_past_cardiovascular_24hr    22.361640\n",
       "sofa_future_overall_24hr         19.200293\n",
       "p50                               3.505591\n",
       "dtype: float64"
      ]
     },
     "execution_count": 19,
     "metadata": {},
     "output_type": "execute_result"
    }
   ],
   "source": [
    "missing_percentage2"
   ]
  },
  {
   "cell_type": "code",
   "execution_count": 20,
   "id": "ffc325a3-086f-4220-aaa2-2544b94060cc",
   "metadata": {
    "tags": []
   },
   "outputs": [],
   "source": [
    "df_sccm_3a = df_sccm_2.dropna(subset = [\"sofa_past_overall_24hr\", \"in_hospital_mortality\",\"p50\"])"
   ]
  },
  {
   "cell_type": "code",
   "execution_count": 21,
   "id": "a5b7200e-1260-4986-bc51-db29c1ca6767",
   "metadata": {
    "tags": []
   },
   "outputs": [
    {
     "data": {
      "text/plain": [
       "(36504, 28)"
      ]
     },
     "execution_count": 21,
     "metadata": {},
     "output_type": "execute_result"
    }
   ],
   "source": [
    "df_sccm_3a.shape"
   ]
  },
  {
   "cell_type": "code",
   "execution_count": 22,
   "id": "8776ecc7-1218-43c8-8286-5273f210ff59",
   "metadata": {
    "tags": []
   },
   "outputs": [],
   "source": [
    "missing_percentage3a = (df_sccm_3a.isnull().sum() / len(df_sccm_3a)) * 100"
   ]
  },
  {
   "cell_type": "code",
   "execution_count": 23,
   "id": "34ceb27f-1d17-4a0e-a21b-149dfb36cb7a",
   "metadata": {
    "tags": []
   },
   "outputs": [
    {
     "data": {
      "text/plain": [
       "subject_id                        0.000000\n",
       "hospital_admission_id             0.000000\n",
       "source_db                         0.000000\n",
       "admission_age                     0.000000\n",
       "sex_female                        0.000000\n",
       "weight_admission                  2.175104\n",
       "height_admission                  2.843524\n",
       "BMI_admission                     4.144751\n",
       "los_hospital                      0.000000\n",
       "los_ICU                           0.000000\n",
       "comorbidity_score_name            0.000000\n",
       "comorbidity_score_value           0.002739\n",
       "in_hospital_mortality             0.000000\n",
       "race_ethnicity                    0.000000\n",
       "pH                                0.000000\n",
       "pCO2                              0.000000\n",
       "pO2                               0.000000\n",
       "SaO2                              0.000000\n",
       "SpO2                              0.000000\n",
       "vitals_tempc                     13.023230\n",
       "cbc_hemoglobin                   11.341223\n",
       "bmp_sodium                       10.968661\n",
       "bmp_bicarbonate                  17.406312\n",
       "bmp_creatinine                   11.091935\n",
       "sofa_past_overall_24hr            0.000000\n",
       "sofa_past_cardiovascular_24hr     0.000000\n",
       "sofa_future_overall_24hr         19.249945\n",
       "p50                               0.000000\n",
       "dtype: float64"
      ]
     },
     "execution_count": 23,
     "metadata": {},
     "output_type": "execute_result"
    }
   ],
   "source": [
    "missing_percentage3a"
   ]
  },
  {
   "cell_type": "code",
   "execution_count": 24,
   "id": "9c8a00bd-78b7-4bc8-a3f8-17be413630de",
   "metadata": {
    "tags": []
   },
   "outputs": [],
   "source": [
    "df_sccm_3 = df_sccm_3a[df_sccm_3a[\"comorbidity_score_name\"] == \"Charlson\"]"
   ]
  },
  {
   "cell_type": "code",
   "execution_count": 25,
   "id": "2f421a64-00c8-47e3-899e-2c4d59cafbeb",
   "metadata": {
    "tags": []
   },
   "outputs": [
    {
     "data": {
      "text/plain": [
       "(35798, 28)"
      ]
     },
     "execution_count": 25,
     "metadata": {},
     "output_type": "execute_result"
    }
   ],
   "source": [
    "df_sccm_3.shape"
   ]
  },
  {
   "cell_type": "code",
   "execution_count": 26,
   "id": "f41c3da5-d515-4eac-a406-080267647ad7",
   "metadata": {
    "tags": []
   },
   "outputs": [
    {
     "data": {
      "text/html": [
       "<div>\n",
       "<style scoped>\n",
       "    .dataframe tbody tr th:only-of-type {\n",
       "        vertical-align: middle;\n",
       "    }\n",
       "\n",
       "    .dataframe tbody tr th {\n",
       "        vertical-align: top;\n",
       "    }\n",
       "\n",
       "    .dataframe thead th {\n",
       "        text-align: right;\n",
       "    }\n",
       "</style>\n",
       "<table border=\"1\" class=\"dataframe\">\n",
       "  <thead>\n",
       "    <tr style=\"text-align: right;\">\n",
       "      <th></th>\n",
       "      <th>hospital_admission_id</th>\n",
       "      <th>admission_age</th>\n",
       "      <th>sex_female</th>\n",
       "      <th>weight_admission</th>\n",
       "      <th>height_admission</th>\n",
       "      <th>BMI_admission</th>\n",
       "      <th>los_hospital</th>\n",
       "      <th>los_ICU</th>\n",
       "      <th>comorbidity_score_value</th>\n",
       "      <th>in_hospital_mortality</th>\n",
       "      <th>...</th>\n",
       "      <th>SpO2</th>\n",
       "      <th>vitals_tempc</th>\n",
       "      <th>cbc_hemoglobin</th>\n",
       "      <th>bmp_sodium</th>\n",
       "      <th>bmp_bicarbonate</th>\n",
       "      <th>bmp_creatinine</th>\n",
       "      <th>sofa_past_overall_24hr</th>\n",
       "      <th>sofa_past_cardiovascular_24hr</th>\n",
       "      <th>sofa_future_overall_24hr</th>\n",
       "      <th>p50</th>\n",
       "    </tr>\n",
       "  </thead>\n",
       "  <tbody>\n",
       "    <tr>\n",
       "      <th>count</th>\n",
       "      <td>3.579800e+04</td>\n",
       "      <td>35798.000000</td>\n",
       "      <td>35798.000000</td>\n",
       "      <td>35005.000000</td>\n",
       "      <td>34841.000000</td>\n",
       "      <td>34366.000000</td>\n",
       "      <td>35798.000000</td>\n",
       "      <td>35798.000000</td>\n",
       "      <td>35798.000000</td>\n",
       "      <td>35798.000000</td>\n",
       "      <td>...</td>\n",
       "      <td>35798.000000</td>\n",
       "      <td>31187.000000</td>\n",
       "      <td>31973.000000</td>\n",
       "      <td>32110.000000</td>\n",
       "      <td>30116.000000</td>\n",
       "      <td>31803.000000</td>\n",
       "      <td>35798.000000</td>\n",
       "      <td>35798.000000</td>\n",
       "      <td>28871.000000</td>\n",
       "      <td>35798.000000</td>\n",
       "    </tr>\n",
       "    <tr>\n",
       "      <th>mean</th>\n",
       "      <td>4.229630e+06</td>\n",
       "      <td>64.415917</td>\n",
       "      <td>0.445053</td>\n",
       "      <td>85.501419</td>\n",
       "      <td>169.173378</td>\n",
       "      <td>215.874404</td>\n",
       "      <td>11.758357</td>\n",
       "      <td>5.537047</td>\n",
       "      <td>4.176323</td>\n",
       "      <td>0.186463</td>\n",
       "      <td>...</td>\n",
       "      <td>96.942231</td>\n",
       "      <td>36.795603</td>\n",
       "      <td>11.104576</td>\n",
       "      <td>138.622192</td>\n",
       "      <td>23.855180</td>\n",
       "      <td>1.626875</td>\n",
       "      <td>4.811665</td>\n",
       "      <td>0.977289</td>\n",
       "      <td>5.957570</td>\n",
       "      <td>19.165746</td>\n",
       "    </tr>\n",
       "    <tr>\n",
       "      <th>std</th>\n",
       "      <td>7.804448e+06</td>\n",
       "      <td>15.849341</td>\n",
       "      <td>0.496979</td>\n",
       "      <td>28.237917</td>\n",
       "      <td>13.057307</td>\n",
       "      <td>8627.832468</td>\n",
       "      <td>14.350123</td>\n",
       "      <td>7.475461</td>\n",
       "      <td>2.786181</td>\n",
       "      <td>0.389485</td>\n",
       "      <td>...</td>\n",
       "      <td>3.829890</td>\n",
       "      <td>0.931084</td>\n",
       "      <td>2.441345</td>\n",
       "      <td>5.526357</td>\n",
       "      <td>6.055387</td>\n",
       "      <td>1.623073</td>\n",
       "      <td>3.427059</td>\n",
       "      <td>1.111019</td>\n",
       "      <td>3.696229</td>\n",
       "      <td>20.411015</td>\n",
       "    </tr>\n",
       "    <tr>\n",
       "      <th>min</th>\n",
       "      <td>1.292600e+05</td>\n",
       "      <td>14.000000</td>\n",
       "      <td>0.000000</td>\n",
       "      <td>0.000000</td>\n",
       "      <td>0.000000</td>\n",
       "      <td>0.000000</td>\n",
       "      <td>-0.264583</td>\n",
       "      <td>0.000000</td>\n",
       "      <td>0.000000</td>\n",
       "      <td>0.000000</td>\n",
       "      <td>...</td>\n",
       "      <td>70.000000</td>\n",
       "      <td>23.700000</td>\n",
       "      <td>1.900000</td>\n",
       "      <td>100.000000</td>\n",
       "      <td>2.000000</td>\n",
       "      <td>0.100000</td>\n",
       "      <td>0.000000</td>\n",
       "      <td>0.000000</td>\n",
       "      <td>0.000000</td>\n",
       "      <td>0.000000</td>\n",
       "    </tr>\n",
       "    <tr>\n",
       "      <th>25%</th>\n",
       "      <td>7.460468e+05</td>\n",
       "      <td>55.000000</td>\n",
       "      <td>0.000000</td>\n",
       "      <td>67.000000</td>\n",
       "      <td>162.500000</td>\n",
       "      <td>23.724537</td>\n",
       "      <td>4.932639</td>\n",
       "      <td>1.791667</td>\n",
       "      <td>2.000000</td>\n",
       "      <td>0.000000</td>\n",
       "      <td>...</td>\n",
       "      <td>95.000000</td>\n",
       "      <td>36.400000</td>\n",
       "      <td>9.300000</td>\n",
       "      <td>136.000000</td>\n",
       "      <td>20.000000</td>\n",
       "      <td>0.790000</td>\n",
       "      <td>2.000000</td>\n",
       "      <td>0.000000</td>\n",
       "      <td>3.000000</td>\n",
       "      <td>0.000000</td>\n",
       "    </tr>\n",
       "    <tr>\n",
       "      <th>50%</th>\n",
       "      <td>1.322821e+06</td>\n",
       "      <td>66.000000</td>\n",
       "      <td>0.000000</td>\n",
       "      <td>81.000000</td>\n",
       "      <td>170.000000</td>\n",
       "      <td>27.989210</td>\n",
       "      <td>8.309028</td>\n",
       "      <td>3.333333</td>\n",
       "      <td>4.000000</td>\n",
       "      <td>0.000000</td>\n",
       "      <td>...</td>\n",
       "      <td>98.000000</td>\n",
       "      <td>36.800000</td>\n",
       "      <td>10.900000</td>\n",
       "      <td>139.000000</td>\n",
       "      <td>24.000000</td>\n",
       "      <td>1.100000</td>\n",
       "      <td>4.000000</td>\n",
       "      <td>1.000000</td>\n",
       "      <td>5.000000</td>\n",
       "      <td>21.084972</td>\n",
       "    </tr>\n",
       "    <tr>\n",
       "      <th>75%</th>\n",
       "      <td>2.465594e+06</td>\n",
       "      <td>76.000000</td>\n",
       "      <td>1.000000</td>\n",
       "      <td>99.000000</td>\n",
       "      <td>177.800000</td>\n",
       "      <td>33.613180</td>\n",
       "      <td>14.521701</td>\n",
       "      <td>6.708333</td>\n",
       "      <td>6.000000</td>\n",
       "      <td>0.000000</td>\n",
       "      <td>...</td>\n",
       "      <td>100.000000</td>\n",
       "      <td>37.200000</td>\n",
       "      <td>12.700000</td>\n",
       "      <td>142.000000</td>\n",
       "      <td>27.000000</td>\n",
       "      <td>1.800000</td>\n",
       "      <td>7.000000</td>\n",
       "      <td>1.000000</td>\n",
       "      <td>8.000000</td>\n",
       "      <td>26.741958</td>\n",
       "    </tr>\n",
       "    <tr>\n",
       "      <th>max</th>\n",
       "      <td>2.999550e+07</td>\n",
       "      <td>90.000000</td>\n",
       "      <td>1.000000</td>\n",
       "      <td>713.000000</td>\n",
       "      <td>504.800000</td>\n",
       "      <td>725551.020400</td>\n",
       "      <td>763.455556</td>\n",
       "      <td>506.375000</td>\n",
       "      <td>19.000000</td>\n",
       "      <td>1.000000</td>\n",
       "      <td>...</td>\n",
       "      <td>100.000000</td>\n",
       "      <td>44.300000</td>\n",
       "      <td>96.000000</td>\n",
       "      <td>188.000000</td>\n",
       "      <td>63.000000</td>\n",
       "      <td>26.600000</td>\n",
       "      <td>24.000000</td>\n",
       "      <td>4.000000</td>\n",
       "      <td>23.000000</td>\n",
       "      <td>385.503260</td>\n",
       "    </tr>\n",
       "  </tbody>\n",
       "</table>\n",
       "<p>8 rows × 24 columns</p>\n",
       "</div>"
      ],
      "text/plain": [
       "       hospital_admission_id  admission_age    sex_female  weight_admission  \\\n",
       "count           3.579800e+04   35798.000000  35798.000000      35005.000000   \n",
       "mean            4.229630e+06      64.415917      0.445053         85.501419   \n",
       "std             7.804448e+06      15.849341      0.496979         28.237917   \n",
       "min             1.292600e+05      14.000000      0.000000          0.000000   \n",
       "25%             7.460468e+05      55.000000      0.000000         67.000000   \n",
       "50%             1.322821e+06      66.000000      0.000000         81.000000   \n",
       "75%             2.465594e+06      76.000000      1.000000         99.000000   \n",
       "max             2.999550e+07      90.000000      1.000000        713.000000   \n",
       "\n",
       "       height_admission  BMI_admission  los_hospital       los_ICU  \\\n",
       "count      34841.000000   34366.000000  35798.000000  35798.000000   \n",
       "mean         169.173378     215.874404     11.758357      5.537047   \n",
       "std           13.057307    8627.832468     14.350123      7.475461   \n",
       "min            0.000000       0.000000     -0.264583      0.000000   \n",
       "25%          162.500000      23.724537      4.932639      1.791667   \n",
       "50%          170.000000      27.989210      8.309028      3.333333   \n",
       "75%          177.800000      33.613180     14.521701      6.708333   \n",
       "max          504.800000  725551.020400    763.455556    506.375000   \n",
       "\n",
       "       comorbidity_score_value  in_hospital_mortality  ...          SpO2  \\\n",
       "count             35798.000000           35798.000000  ...  35798.000000   \n",
       "mean                  4.176323               0.186463  ...     96.942231   \n",
       "std                   2.786181               0.389485  ...      3.829890   \n",
       "min                   0.000000               0.000000  ...     70.000000   \n",
       "25%                   2.000000               0.000000  ...     95.000000   \n",
       "50%                   4.000000               0.000000  ...     98.000000   \n",
       "75%                   6.000000               0.000000  ...    100.000000   \n",
       "max                  19.000000               1.000000  ...    100.000000   \n",
       "\n",
       "       vitals_tempc  cbc_hemoglobin    bmp_sodium  bmp_bicarbonate  \\\n",
       "count  31187.000000    31973.000000  32110.000000     30116.000000   \n",
       "mean      36.795603       11.104576    138.622192        23.855180   \n",
       "std        0.931084        2.441345      5.526357         6.055387   \n",
       "min       23.700000        1.900000    100.000000         2.000000   \n",
       "25%       36.400000        9.300000    136.000000        20.000000   \n",
       "50%       36.800000       10.900000    139.000000        24.000000   \n",
       "75%       37.200000       12.700000    142.000000        27.000000   \n",
       "max       44.300000       96.000000    188.000000        63.000000   \n",
       "\n",
       "       bmp_creatinine  sofa_past_overall_24hr  sofa_past_cardiovascular_24hr  \\\n",
       "count    31803.000000            35798.000000                   35798.000000   \n",
       "mean         1.626875                4.811665                       0.977289   \n",
       "std          1.623073                3.427059                       1.111019   \n",
       "min          0.100000                0.000000                       0.000000   \n",
       "25%          0.790000                2.000000                       0.000000   \n",
       "50%          1.100000                4.000000                       1.000000   \n",
       "75%          1.800000                7.000000                       1.000000   \n",
       "max         26.600000               24.000000                       4.000000   \n",
       "\n",
       "       sofa_future_overall_24hr           p50  \n",
       "count              28871.000000  35798.000000  \n",
       "mean                   5.957570     19.165746  \n",
       "std                    3.696229     20.411015  \n",
       "min                    0.000000      0.000000  \n",
       "25%                    3.000000      0.000000  \n",
       "50%                    5.000000     21.084972  \n",
       "75%                    8.000000     26.741958  \n",
       "max                   23.000000    385.503260  \n",
       "\n",
       "[8 rows x 24 columns]"
      ]
     },
     "execution_count": 26,
     "metadata": {},
     "output_type": "execute_result"
    }
   ],
   "source": [
    "df_sccm_3.describe()"
   ]
  },
  {
   "cell_type": "code",
   "execution_count": 27,
   "id": "14a75412-e1c6-407b-bc4b-78429f761238",
   "metadata": {
    "tags": []
   },
   "outputs": [],
   "source": [
    "df_sccm_3.to_csv('C:/users/Mvina/OneDrive/SCCMDatathon/sccm23_p50_3.csv')"
   ]
  },
  {
   "cell_type": "code",
   "execution_count": 28,
   "id": "48b5d1e3-6597-4400-8342-111424b1bad2",
   "metadata": {
    "tags": []
   },
   "outputs": [],
   "source": [
    "missing_percentage3 = (df_sccm_3.isnull().sum() / len(df_sccm_3)) * 100"
   ]
  },
  {
   "cell_type": "code",
   "execution_count": 29,
   "id": "bdd572b0-26e7-48fc-9573-d666a2e7bffb",
   "metadata": {
    "tags": []
   },
   "outputs": [
    {
     "data": {
      "text/plain": [
       "subject_id                        0.000000\n",
       "hospital_admission_id             0.000000\n",
       "source_db                         0.000000\n",
       "admission_age                     0.000000\n",
       "sex_female                        0.000000\n",
       "weight_admission                  2.215208\n",
       "height_admission                  2.673334\n",
       "BMI_admission                     4.000223\n",
       "los_hospital                      0.000000\n",
       "los_ICU                           0.000000\n",
       "comorbidity_score_name            0.000000\n",
       "comorbidity_score_value           0.000000\n",
       "in_hospital_mortality             0.000000\n",
       "race_ethnicity                    0.000000\n",
       "pH                                0.000000\n",
       "pCO2                              0.000000\n",
       "pO2                               0.000000\n",
       "SaO2                              0.000000\n",
       "SpO2                              0.000000\n",
       "vitals_tempc                     12.880608\n",
       "cbc_hemoglobin                   10.684954\n",
       "bmp_sodium                       10.302252\n",
       "bmp_bicarbonate                  15.872395\n",
       "bmp_creatinine                   11.159841\n",
       "sofa_past_overall_24hr            0.000000\n",
       "sofa_past_cardiovascular_24hr     0.000000\n",
       "sofa_future_overall_24hr         19.350243\n",
       "p50                               0.000000\n",
       "dtype: float64"
      ]
     },
     "execution_count": 29,
     "metadata": {},
     "output_type": "execute_result"
    }
   ],
   "source": [
    "missing_percentage3"
   ]
  },
  {
   "cell_type": "code",
   "execution_count": 30,
   "id": "89d17544-5c3b-450b-a734-e76a3689331a",
   "metadata": {
    "tags": []
   },
   "outputs": [
    {
     "data": {
      "text/html": [
       "<div>\n",
       "<style scoped>\n",
       "    .dataframe tbody tr th:only-of-type {\n",
       "        vertical-align: middle;\n",
       "    }\n",
       "\n",
       "    .dataframe tbody tr th {\n",
       "        vertical-align: top;\n",
       "    }\n",
       "\n",
       "    .dataframe thead th {\n",
       "        text-align: right;\n",
       "    }\n",
       "</style>\n",
       "<table border=\"1\" class=\"dataframe\">\n",
       "  <thead>\n",
       "    <tr style=\"text-align: right;\">\n",
       "      <th></th>\n",
       "      <th>p50</th>\n",
       "    </tr>\n",
       "  </thead>\n",
       "  <tbody>\n",
       "    <tr>\n",
       "      <th>count</th>\n",
       "      <td>35798.000000</td>\n",
       "    </tr>\n",
       "    <tr>\n",
       "      <th>mean</th>\n",
       "      <td>19.165746</td>\n",
       "    </tr>\n",
       "    <tr>\n",
       "      <th>std</th>\n",
       "      <td>20.411015</td>\n",
       "    </tr>\n",
       "    <tr>\n",
       "      <th>min</th>\n",
       "      <td>0.000000</td>\n",
       "    </tr>\n",
       "    <tr>\n",
       "      <th>25%</th>\n",
       "      <td>0.000000</td>\n",
       "    </tr>\n",
       "    <tr>\n",
       "      <th>50%</th>\n",
       "      <td>21.084972</td>\n",
       "    </tr>\n",
       "    <tr>\n",
       "      <th>75%</th>\n",
       "      <td>26.741958</td>\n",
       "    </tr>\n",
       "    <tr>\n",
       "      <th>max</th>\n",
       "      <td>385.503260</td>\n",
       "    </tr>\n",
       "  </tbody>\n",
       "</table>\n",
       "</div>"
      ],
      "text/plain": [
       "                p50\n",
       "count  35798.000000\n",
       "mean      19.165746\n",
       "std       20.411015\n",
       "min        0.000000\n",
       "25%        0.000000\n",
       "50%       21.084972\n",
       "75%       26.741958\n",
       "max      385.503260"
      ]
     },
     "execution_count": 30,
     "metadata": {},
     "output_type": "execute_result"
    }
   ],
   "source": [
    "df_sccm_3[[\"p50\"]].describe()"
   ]
  },
  {
   "cell_type": "code",
   "execution_count": 31,
   "id": "e46a9c05-6c9a-4f30-8b08-8f4bc1b78fcf",
   "metadata": {
    "tags": []
   },
   "outputs": [],
   "source": [
    "df_sccm_4a = df_sccm_3[df_sccm_3[\"p50\"]>10]"
   ]
  },
  {
   "cell_type": "code",
   "execution_count": 32,
   "id": "f951efb1-00aa-4857-8f5a-3be9ec65d8dd",
   "metadata": {
    "tags": []
   },
   "outputs": [],
   "source": [
    "df_sccm_4b = df_sccm_4a[df_sccm_4a[\"p50\"]<100]"
   ]
  },
  {
   "cell_type": "code",
   "execution_count": 33,
   "id": "dd8a765f-80cb-4250-a24f-f898878eb94f",
   "metadata": {
    "tags": []
   },
   "outputs": [
    {
     "data": {
      "text/plain": [
       "(24155, 28)"
      ]
     },
     "execution_count": 33,
     "metadata": {},
     "output_type": "execute_result"
    }
   ],
   "source": [
    "df_sccm_4a.shape"
   ]
  },
  {
   "cell_type": "code",
   "execution_count": 34,
   "id": "21368fa2-0bec-4f8a-a6e3-bb8b08eb7531",
   "metadata": {
    "tags": []
   },
   "outputs": [
    {
     "data": {
      "text/plain": [
       "(23848, 28)"
      ]
     },
     "execution_count": 34,
     "metadata": {},
     "output_type": "execute_result"
    }
   ],
   "source": [
    "df_sccm_4b.shape"
   ]
  },
  {
   "cell_type": "code",
   "execution_count": 36,
   "id": "09521158-fcc1-4808-89e7-bc37d3c8c7da",
   "metadata": {
    "tags": []
   },
   "outputs": [],
   "source": [
    "df_sccm_4b.to_csv('C:/users/Mvina/OneDrive/SCCMDatathon/sccm23_p50_4.csv')"
   ]
  },
  {
   "cell_type": "code",
   "execution_count": 35,
   "id": "a23eba39-329a-42c9-aaf1-c5f24b2361e0",
   "metadata": {
    "tags": []
   },
   "outputs": [
    {
     "name": "stdout",
     "output_type": "stream",
     "text": [
      "['subject_id', 'hospital_admission_id', 'source_db', 'admission_age', 'sex_female', 'weight_admission', 'height_admission', 'BMI_admission', 'los_hospital', 'los_ICU', 'comorbidity_score_name', 'comorbidity_score_value', 'in_hospital_mortality', 'race_ethnicity', 'pH', 'pCO2', 'pO2', 'SaO2', 'SpO2', 'vitals_tempc', 'cbc_hemoglobin', 'bmp_sodium', 'bmp_bicarbonate', 'bmp_creatinine', 'sofa_past_overall_24hr', 'sofa_past_cardiovascular_24hr', 'sofa_future_overall_24hr', 'p50']\n"
     ]
    }
   ],
   "source": [
    "print(df_sccm_4b.columns.tolist())"
   ]
  },
  {
   "cell_type": "code",
   "execution_count": 37,
   "id": "06f66eb4-5298-46a7-9272-014eb2fb24e7",
   "metadata": {
    "tags": []
   },
   "outputs": [],
   "source": [
    "df_sccm_final = df_sccm_4b[['subject_id', 'hospital_admission_id', 'admission_age', 'sex_female', 'los_hospital', 'los_ICU', 'comorbidity_score_value', 'in_hospital_mortality', 'race_ethnicity', 'pH', 'pCO2', 'pO2', 'SpO2', 'vitals_tempc', 'cbc_hemoglobin', 'bmp_sodium', 'bmp_bicarbonate', 'bmp_creatinine', 'sofa_past_overall_24hr', 'p50']]"
   ]
  },
  {
   "cell_type": "code",
   "execution_count": 38,
   "id": "0c69d3fa-36b6-45ca-976a-5ead0c3d16a4",
   "metadata": {
    "tags": []
   },
   "outputs": [
    {
     "data": {
      "text/plain": [
       "(23848, 20)"
      ]
     },
     "execution_count": 38,
     "metadata": {},
     "output_type": "execute_result"
    }
   ],
   "source": [
    "df_sccm_final.shape"
   ]
  },
  {
   "cell_type": "code",
   "execution_count": 39,
   "id": "855e06d8-3555-4b6e-90f6-c8de38a83c41",
   "metadata": {
    "tags": []
   },
   "outputs": [
    {
     "data": {
      "text/html": [
       "<div>\n",
       "<style scoped>\n",
       "    .dataframe tbody tr th:only-of-type {\n",
       "        vertical-align: middle;\n",
       "    }\n",
       "\n",
       "    .dataframe tbody tr th {\n",
       "        vertical-align: top;\n",
       "    }\n",
       "\n",
       "    .dataframe thead th {\n",
       "        text-align: right;\n",
       "    }\n",
       "</style>\n",
       "<table border=\"1\" class=\"dataframe\">\n",
       "  <thead>\n",
       "    <tr style=\"text-align: right;\">\n",
       "      <th></th>\n",
       "      <th>hospital_admission_id</th>\n",
       "      <th>admission_age</th>\n",
       "      <th>sex_female</th>\n",
       "      <th>los_hospital</th>\n",
       "      <th>los_ICU</th>\n",
       "      <th>comorbidity_score_value</th>\n",
       "      <th>in_hospital_mortality</th>\n",
       "      <th>pH</th>\n",
       "      <th>pCO2</th>\n",
       "      <th>pO2</th>\n",
       "      <th>SpO2</th>\n",
       "      <th>vitals_tempc</th>\n",
       "      <th>cbc_hemoglobin</th>\n",
       "      <th>bmp_sodium</th>\n",
       "      <th>bmp_bicarbonate</th>\n",
       "      <th>bmp_creatinine</th>\n",
       "      <th>sofa_past_overall_24hr</th>\n",
       "      <th>p50</th>\n",
       "    </tr>\n",
       "  </thead>\n",
       "  <tbody>\n",
       "    <tr>\n",
       "      <th>count</th>\n",
       "      <td>2.384800e+04</td>\n",
       "      <td>23848.000000</td>\n",
       "      <td>23848.000000</td>\n",
       "      <td>23848.000000</td>\n",
       "      <td>23848.000000</td>\n",
       "      <td>23848.000000</td>\n",
       "      <td>23848.000000</td>\n",
       "      <td>23848.000000</td>\n",
       "      <td>23848.000000</td>\n",
       "      <td>23848.000000</td>\n",
       "      <td>23848.000000</td>\n",
       "      <td>20821.000000</td>\n",
       "      <td>21238.000000</td>\n",
       "      <td>21423.000000</td>\n",
       "      <td>20177.000000</td>\n",
       "      <td>21179.000000</td>\n",
       "      <td>23848.000000</td>\n",
       "      <td>23848.000000</td>\n",
       "    </tr>\n",
       "    <tr>\n",
       "      <th>mean</th>\n",
       "      <td>4.205574e+06</td>\n",
       "      <td>64.970815</td>\n",
       "      <td>0.443350</td>\n",
       "      <td>11.569295</td>\n",
       "      <td>5.585981</td>\n",
       "      <td>4.241446</td>\n",
       "      <td>0.188192</td>\n",
       "      <td>7.700758</td>\n",
       "      <td>43.602071</td>\n",
       "      <td>93.703468</td>\n",
       "      <td>95.579084</td>\n",
       "      <td>36.856048</td>\n",
       "      <td>11.247490</td>\n",
       "      <td>138.465966</td>\n",
       "      <td>24.292868</td>\n",
       "      <td>1.616159</td>\n",
       "      <td>4.801702</td>\n",
       "      <td>26.756140</td>\n",
       "    </tr>\n",
       "    <tr>\n",
       "      <th>std</th>\n",
       "      <td>7.769750e+06</td>\n",
       "      <td>15.379478</td>\n",
       "      <td>0.496791</td>\n",
       "      <td>13.528632</td>\n",
       "      <td>7.488608</td>\n",
       "      <td>2.748176</td>\n",
       "      <td>0.390874</td>\n",
       "      <td>48.164776</td>\n",
       "      <td>14.736972</td>\n",
       "      <td>42.822412</td>\n",
       "      <td>3.679745</td>\n",
       "      <td>0.886489</td>\n",
       "      <td>2.467057</td>\n",
       "      <td>5.562155</td>\n",
       "      <td>6.279668</td>\n",
       "      <td>1.566367</td>\n",
       "      <td>3.438460</td>\n",
       "      <td>10.847245</td>\n",
       "    </tr>\n",
       "    <tr>\n",
       "      <th>min</th>\n",
       "      <td>1.292600e+05</td>\n",
       "      <td>14.000000</td>\n",
       "      <td>0.000000</td>\n",
       "      <td>-0.264583</td>\n",
       "      <td>0.000000</td>\n",
       "      <td>0.000000</td>\n",
       "      <td>0.000000</td>\n",
       "      <td>6.683000</td>\n",
       "      <td>0.000000</td>\n",
       "      <td>33.000000</td>\n",
       "      <td>70.000000</td>\n",
       "      <td>23.700000</td>\n",
       "      <td>3.000000</td>\n",
       "      <td>100.000000</td>\n",
       "      <td>2.000000</td>\n",
       "      <td>0.100000</td>\n",
       "      <td>0.000000</td>\n",
       "      <td>10.025238</td>\n",
       "    </tr>\n",
       "    <tr>\n",
       "      <th>25%</th>\n",
       "      <td>7.410632e+05</td>\n",
       "      <td>56.000000</td>\n",
       "      <td>0.000000</td>\n",
       "      <td>4.919965</td>\n",
       "      <td>1.791667</td>\n",
       "      <td>2.000000</td>\n",
       "      <td>0.000000</td>\n",
       "      <td>7.310000</td>\n",
       "      <td>34.300000</td>\n",
       "      <td>69.000000</td>\n",
       "      <td>94.000000</td>\n",
       "      <td>36.440000</td>\n",
       "      <td>9.500000</td>\n",
       "      <td>135.000000</td>\n",
       "      <td>21.000000</td>\n",
       "      <td>0.800000</td>\n",
       "      <td>2.000000</td>\n",
       "      <td>20.841005</td>\n",
       "    </tr>\n",
       "    <tr>\n",
       "      <th>50%</th>\n",
       "      <td>1.333188e+06</td>\n",
       "      <td>67.000000</td>\n",
       "      <td>0.000000</td>\n",
       "      <td>8.285764</td>\n",
       "      <td>3.375000</td>\n",
       "      <td>4.000000</td>\n",
       "      <td>0.000000</td>\n",
       "      <td>7.370000</td>\n",
       "      <td>40.600000</td>\n",
       "      <td>83.000000</td>\n",
       "      <td>97.000000</td>\n",
       "      <td>36.800000</td>\n",
       "      <td>11.100000</td>\n",
       "      <td>139.000000</td>\n",
       "      <td>24.000000</td>\n",
       "      <td>1.100000</td>\n",
       "      <td>4.000000</td>\n",
       "      <td>24.690009</td>\n",
       "    </tr>\n",
       "    <tr>\n",
       "      <th>75%</th>\n",
       "      <td>2.467345e+06</td>\n",
       "      <td>76.000000</td>\n",
       "      <td>1.000000</td>\n",
       "      <td>14.410764</td>\n",
       "      <td>6.833333</td>\n",
       "      <td>6.000000</td>\n",
       "      <td>0.000000</td>\n",
       "      <td>7.428000</td>\n",
       "      <td>49.000000</td>\n",
       "      <td>104.000000</td>\n",
       "      <td>98.000000</td>\n",
       "      <td>37.300000</td>\n",
       "      <td>12.800000</td>\n",
       "      <td>142.000000</td>\n",
       "      <td>27.000000</td>\n",
       "      <td>1.800000</td>\n",
       "      <td>7.000000</td>\n",
       "      <td>29.194373</td>\n",
       "    </tr>\n",
       "    <tr>\n",
       "      <th>max</th>\n",
       "      <td>2.999550e+07</td>\n",
       "      <td>90.000000</td>\n",
       "      <td>1.000000</td>\n",
       "      <td>763.275000</td>\n",
       "      <td>506.375000</td>\n",
       "      <td>19.000000</td>\n",
       "      <td>1.000000</td>\n",
       "      <td>7410.000000</td>\n",
       "      <td>181.700000</td>\n",
       "      <td>542.000000</td>\n",
       "      <td>99.000000</td>\n",
       "      <td>44.300000</td>\n",
       "      <td>96.000000</td>\n",
       "      <td>183.000000</td>\n",
       "      <td>63.000000</td>\n",
       "      <td>22.990000</td>\n",
       "      <td>24.000000</td>\n",
       "      <td>99.876181</td>\n",
       "    </tr>\n",
       "  </tbody>\n",
       "</table>\n",
       "</div>"
      ],
      "text/plain": [
       "       hospital_admission_id  admission_age    sex_female  los_hospital  \\\n",
       "count           2.384800e+04   23848.000000  23848.000000  23848.000000   \n",
       "mean            4.205574e+06      64.970815      0.443350     11.569295   \n",
       "std             7.769750e+06      15.379478      0.496791     13.528632   \n",
       "min             1.292600e+05      14.000000      0.000000     -0.264583   \n",
       "25%             7.410632e+05      56.000000      0.000000      4.919965   \n",
       "50%             1.333188e+06      67.000000      0.000000      8.285764   \n",
       "75%             2.467345e+06      76.000000      1.000000     14.410764   \n",
       "max             2.999550e+07      90.000000      1.000000    763.275000   \n",
       "\n",
       "            los_ICU  comorbidity_score_value  in_hospital_mortality  \\\n",
       "count  23848.000000             23848.000000           23848.000000   \n",
       "mean       5.585981                 4.241446               0.188192   \n",
       "std        7.488608                 2.748176               0.390874   \n",
       "min        0.000000                 0.000000               0.000000   \n",
       "25%        1.791667                 2.000000               0.000000   \n",
       "50%        3.375000                 4.000000               0.000000   \n",
       "75%        6.833333                 6.000000               0.000000   \n",
       "max      506.375000                19.000000               1.000000   \n",
       "\n",
       "                 pH          pCO2           pO2          SpO2  vitals_tempc  \\\n",
       "count  23848.000000  23848.000000  23848.000000  23848.000000  20821.000000   \n",
       "mean       7.700758     43.602071     93.703468     95.579084     36.856048   \n",
       "std       48.164776     14.736972     42.822412      3.679745      0.886489   \n",
       "min        6.683000      0.000000     33.000000     70.000000     23.700000   \n",
       "25%        7.310000     34.300000     69.000000     94.000000     36.440000   \n",
       "50%        7.370000     40.600000     83.000000     97.000000     36.800000   \n",
       "75%        7.428000     49.000000    104.000000     98.000000     37.300000   \n",
       "max     7410.000000    181.700000    542.000000     99.000000     44.300000   \n",
       "\n",
       "       cbc_hemoglobin    bmp_sodium  bmp_bicarbonate  bmp_creatinine  \\\n",
       "count    21238.000000  21423.000000     20177.000000    21179.000000   \n",
       "mean        11.247490    138.465966        24.292868        1.616159   \n",
       "std          2.467057      5.562155         6.279668        1.566367   \n",
       "min          3.000000    100.000000         2.000000        0.100000   \n",
       "25%          9.500000    135.000000        21.000000        0.800000   \n",
       "50%         11.100000    139.000000        24.000000        1.100000   \n",
       "75%         12.800000    142.000000        27.000000        1.800000   \n",
       "max         96.000000    183.000000        63.000000       22.990000   \n",
       "\n",
       "       sofa_past_overall_24hr           p50  \n",
       "count            23848.000000  23848.000000  \n",
       "mean                 4.801702     26.756140  \n",
       "std                  3.438460     10.847245  \n",
       "min                  0.000000     10.025238  \n",
       "25%                  2.000000     20.841005  \n",
       "50%                  4.000000     24.690009  \n",
       "75%                  7.000000     29.194373  \n",
       "max                 24.000000     99.876181  "
      ]
     },
     "execution_count": 39,
     "metadata": {},
     "output_type": "execute_result"
    }
   ],
   "source": [
    "df_sccm_final.describe()"
   ]
  },
  {
   "cell_type": "code",
   "execution_count": 40,
   "id": "ae1b79b4-f2da-4567-8293-b16254b55fe4",
   "metadata": {
    "tags": []
   },
   "outputs": [],
   "source": [
    "df_sccm_final.loc[df_sccm_final[\"pCO2\"] == 0.0, \"pCO2\"] = np.NAN\n",
    "df_sccm_final.loc[df_sccm_final[\"pH\"] > 8.0, \"pH\"] = np.NAN\n",
    "df_sccm_final.loc[df_sccm_final[\"cbc_hemoglobin\"] > 30.0, \"cbc_hemoglobin\"] = np.NAN"
   ]
  },
  {
   "cell_type": "code",
   "execution_count": 41,
   "id": "ef5bb412-180c-4946-9a31-499e61d589d0",
   "metadata": {
    "tags": []
   },
   "outputs": [
    {
     "data": {
      "text/plain": [
       "subject_id                  0.000000\n",
       "hospital_admission_id       0.000000\n",
       "admission_age               0.000000\n",
       "sex_female                  0.000000\n",
       "los_hospital                0.000000\n",
       "los_ICU                     0.000000\n",
       "comorbidity_score_value     0.000000\n",
       "in_hospital_mortality       0.000000\n",
       "race_ethnicity              0.000000\n",
       "pH                          0.008386\n",
       "pCO2                        0.004193\n",
       "pO2                         0.000000\n",
       "SpO2                        0.000000\n",
       "vitals_tempc               12.692888\n",
       "cbc_hemoglobin             10.952700\n",
       "bmp_sodium                 10.168568\n",
       "bmp_bicarbonate            15.393324\n",
       "bmp_creatinine             11.191714\n",
       "sofa_past_overall_24hr      0.000000\n",
       "p50                         0.000000\n",
       "dtype: float64"
      ]
     },
     "execution_count": 41,
     "metadata": {},
     "output_type": "execute_result"
    }
   ],
   "source": [
    "missing_percentage_final = (df_sccm_final.isnull().sum() / len(df_sccm_final)) * 100\n",
    "missing_percentage_final"
   ]
  },
  {
   "cell_type": "code",
   "execution_count": 42,
   "id": "0e02ae64-d540-4c0e-9cf1-a66d8d8f1f8a",
   "metadata": {
    "tags": []
   },
   "outputs": [],
   "source": [
    "missing_vars = [\"pH\", \"pCO2\", \"vitals_tempc\", \"cbc_hemoglobin\", \"bmp_sodium\", \"bmp_bicarbonate\", \"bmp_creatinine\"]"
   ]
  },
  {
   "cell_type": "code",
   "execution_count": 43,
   "id": "9ba94ecc-bd46-415b-b1ed-8a2b8e355732",
   "metadata": {
    "tags": []
   },
   "outputs": [],
   "source": [
    "predictor_vars = ['admission_age', 'sex_female', 'comorbidity_score_value', 'sofa_past_overall_24hr']"
   ]
  },
  {
   "cell_type": "code",
   "execution_count": 44,
   "id": "cf222bca-287e-47f3-b0e0-d07bb5f1d4a8",
   "metadata": {
    "tags": []
   },
   "outputs": [],
   "source": [
    "from sklearn import linear_model\n",
    "from sklearn.experimental import enable_iterative_imputer\n",
    "from sklearn.impute import IterativeImputer\n",
    "from sklearn.ensemble import RandomForestRegressor\n",
    "from sklearn.experimental import enable_iterative_imputer\n",
    "from sklearn.kernel_approximation import Nystroem\n",
    "from sklearn.linear_model import BayesianRidge, Ridge\n",
    "from sklearn.model_selection import cross_val_score\n",
    "from sklearn.neighbors import KNeighborsRegressor\n",
    "from sklearn.pipeline import make_pipeline"
   ]
  },
  {
   "cell_type": "code",
   "execution_count": 45,
   "id": "1ff80636-b97c-4ece-b8fb-3e17cbeb787e",
   "metadata": {
    "tags": []
   },
   "outputs": [
    {
     "name": "stderr",
     "output_type": "stream",
     "text": [
      "C:\\ProgramData\\anaconda3\\Lib\\site-packages\\sklearn\\impute\\_iterative.py:796: ConvergenceWarning: [IterativeImputer] Early stopping criterion not reached.\n",
      "  warnings.warn(\n",
      "C:\\Users\\mvina\\AppData\\Local\\Temp\\ipykernel_44468\\3712242572.py:3: SettingWithCopyWarning: \n",
      "A value is trying to be set on a copy of a slice from a DataFrame.\n",
      "Try using .loc[row_indexer,col_indexer] = value instead\n",
      "\n",
      "See the caveats in the documentation: https://pandas.pydata.org/pandas-docs/stable/user_guide/indexing.html#returning-a-view-versus-a-copy\n",
      "  df_sccm_final[missing_vars] = imputed_df_sccm_final[:, -len(missing_vars):]\n"
     ]
    }
   ],
   "source": [
    "imputer = IterativeImputer(estimator=KNeighborsRegressor())\n",
    "imputed_df_sccm_final = imputer.fit_transform(df_sccm_final[predictor_vars + missing_vars])\n",
    "df_sccm_final[missing_vars] = imputed_df_sccm_final[:, -len(missing_vars):]"
   ]
  },
  {
   "cell_type": "code",
   "execution_count": 46,
   "id": "202a421f-be03-4af1-b0d2-5010acc02454",
   "metadata": {
    "tags": []
   },
   "outputs": [
    {
     "data": {
      "text/html": [
       "<div>\n",
       "<style scoped>\n",
       "    .dataframe tbody tr th:only-of-type {\n",
       "        vertical-align: middle;\n",
       "    }\n",
       "\n",
       "    .dataframe tbody tr th {\n",
       "        vertical-align: top;\n",
       "    }\n",
       "\n",
       "    .dataframe thead th {\n",
       "        text-align: right;\n",
       "    }\n",
       "</style>\n",
       "<table border=\"1\" class=\"dataframe\">\n",
       "  <thead>\n",
       "    <tr style=\"text-align: right;\">\n",
       "      <th></th>\n",
       "      <th>hospital_admission_id</th>\n",
       "      <th>admission_age</th>\n",
       "      <th>sex_female</th>\n",
       "      <th>los_hospital</th>\n",
       "      <th>los_ICU</th>\n",
       "      <th>comorbidity_score_value</th>\n",
       "      <th>in_hospital_mortality</th>\n",
       "      <th>pH</th>\n",
       "      <th>pCO2</th>\n",
       "      <th>pO2</th>\n",
       "      <th>SpO2</th>\n",
       "      <th>vitals_tempc</th>\n",
       "      <th>cbc_hemoglobin</th>\n",
       "      <th>bmp_sodium</th>\n",
       "      <th>bmp_bicarbonate</th>\n",
       "      <th>bmp_creatinine</th>\n",
       "      <th>sofa_past_overall_24hr</th>\n",
       "      <th>p50</th>\n",
       "    </tr>\n",
       "  </thead>\n",
       "  <tbody>\n",
       "    <tr>\n",
       "      <th>count</th>\n",
       "      <td>2.384800e+04</td>\n",
       "      <td>23848.000000</td>\n",
       "      <td>23848.000000</td>\n",
       "      <td>23848.000000</td>\n",
       "      <td>23848.000000</td>\n",
       "      <td>23848.000000</td>\n",
       "      <td>23848.000000</td>\n",
       "      <td>23848.000000</td>\n",
       "      <td>23848.000000</td>\n",
       "      <td>23848.000000</td>\n",
       "      <td>23848.000000</td>\n",
       "      <td>23848.000000</td>\n",
       "      <td>23848.000000</td>\n",
       "      <td>23848.000000</td>\n",
       "      <td>23848.000000</td>\n",
       "      <td>23848.000000</td>\n",
       "      <td>23848.000000</td>\n",
       "      <td>23848.000000</td>\n",
       "    </tr>\n",
       "    <tr>\n",
       "      <th>mean</th>\n",
       "      <td>4.205574e+06</td>\n",
       "      <td>64.970815</td>\n",
       "      <td>0.443350</td>\n",
       "      <td>11.569295</td>\n",
       "      <td>5.585981</td>\n",
       "      <td>4.241446</td>\n",
       "      <td>0.188192</td>\n",
       "      <td>7.359974</td>\n",
       "      <td>43.604682</td>\n",
       "      <td>93.703468</td>\n",
       "      <td>95.579084</td>\n",
       "      <td>36.855433</td>\n",
       "      <td>11.282642</td>\n",
       "      <td>138.447603</td>\n",
       "      <td>24.501457</td>\n",
       "      <td>1.566705</td>\n",
       "      <td>4.801702</td>\n",
       "      <td>26.756140</td>\n",
       "    </tr>\n",
       "    <tr>\n",
       "      <th>std</th>\n",
       "      <td>7.769750e+06</td>\n",
       "      <td>15.379478</td>\n",
       "      <td>0.496791</td>\n",
       "      <td>13.528632</td>\n",
       "      <td>7.488608</td>\n",
       "      <td>2.748176</td>\n",
       "      <td>0.390874</td>\n",
       "      <td>0.099333</td>\n",
       "      <td>14.734762</td>\n",
       "      <td>42.822412</td>\n",
       "      <td>3.679745</td>\n",
       "      <td>0.841042</td>\n",
       "      <td>2.289953</td>\n",
       "      <td>5.324162</td>\n",
       "      <td>6.121259</td>\n",
       "      <td>1.492863</td>\n",
       "      <td>3.438460</td>\n",
       "      <td>10.847245</td>\n",
       "    </tr>\n",
       "    <tr>\n",
       "      <th>min</th>\n",
       "      <td>1.292600e+05</td>\n",
       "      <td>14.000000</td>\n",
       "      <td>0.000000</td>\n",
       "      <td>-0.264583</td>\n",
       "      <td>0.000000</td>\n",
       "      <td>0.000000</td>\n",
       "      <td>0.000000</td>\n",
       "      <td>6.683000</td>\n",
       "      <td>9.000000</td>\n",
       "      <td>33.000000</td>\n",
       "      <td>70.000000</td>\n",
       "      <td>23.700000</td>\n",
       "      <td>3.000000</td>\n",
       "      <td>100.000000</td>\n",
       "      <td>2.000000</td>\n",
       "      <td>0.100000</td>\n",
       "      <td>0.000000</td>\n",
       "      <td>10.025238</td>\n",
       "    </tr>\n",
       "    <tr>\n",
       "      <th>25%</th>\n",
       "      <td>7.410632e+05</td>\n",
       "      <td>56.000000</td>\n",
       "      <td>0.000000</td>\n",
       "      <td>4.919965</td>\n",
       "      <td>1.791667</td>\n",
       "      <td>2.000000</td>\n",
       "      <td>0.000000</td>\n",
       "      <td>7.310000</td>\n",
       "      <td>34.300000</td>\n",
       "      <td>69.000000</td>\n",
       "      <td>94.000000</td>\n",
       "      <td>36.500000</td>\n",
       "      <td>9.600000</td>\n",
       "      <td>136.000000</td>\n",
       "      <td>21.000000</td>\n",
       "      <td>0.800000</td>\n",
       "      <td>2.000000</td>\n",
       "      <td>20.841005</td>\n",
       "    </tr>\n",
       "    <tr>\n",
       "      <th>50%</th>\n",
       "      <td>1.333188e+06</td>\n",
       "      <td>67.000000</td>\n",
       "      <td>0.000000</td>\n",
       "      <td>8.285764</td>\n",
       "      <td>3.375000</td>\n",
       "      <td>4.000000</td>\n",
       "      <td>0.000000</td>\n",
       "      <td>7.370000</td>\n",
       "      <td>40.600000</td>\n",
       "      <td>83.000000</td>\n",
       "      <td>97.000000</td>\n",
       "      <td>36.800000</td>\n",
       "      <td>11.200000</td>\n",
       "      <td>138.800000</td>\n",
       "      <td>24.000000</td>\n",
       "      <td>1.100000</td>\n",
       "      <td>4.000000</td>\n",
       "      <td>24.690009</td>\n",
       "    </tr>\n",
       "    <tr>\n",
       "      <th>75%</th>\n",
       "      <td>2.467345e+06</td>\n",
       "      <td>76.000000</td>\n",
       "      <td>1.000000</td>\n",
       "      <td>14.410764</td>\n",
       "      <td>6.833333</td>\n",
       "      <td>6.000000</td>\n",
       "      <td>0.000000</td>\n",
       "      <td>7.428000</td>\n",
       "      <td>49.000000</td>\n",
       "      <td>104.000000</td>\n",
       "      <td>98.000000</td>\n",
       "      <td>37.200000</td>\n",
       "      <td>12.700000</td>\n",
       "      <td>141.000000</td>\n",
       "      <td>27.400000</td>\n",
       "      <td>1.720000</td>\n",
       "      <td>7.000000</td>\n",
       "      <td>29.194373</td>\n",
       "    </tr>\n",
       "    <tr>\n",
       "      <th>max</th>\n",
       "      <td>2.999550e+07</td>\n",
       "      <td>90.000000</td>\n",
       "      <td>1.000000</td>\n",
       "      <td>763.275000</td>\n",
       "      <td>506.375000</td>\n",
       "      <td>19.000000</td>\n",
       "      <td>1.000000</td>\n",
       "      <td>7.778000</td>\n",
       "      <td>181.700000</td>\n",
       "      <td>542.000000</td>\n",
       "      <td>99.000000</td>\n",
       "      <td>44.300000</td>\n",
       "      <td>23.000000</td>\n",
       "      <td>183.000000</td>\n",
       "      <td>63.000000</td>\n",
       "      <td>22.990000</td>\n",
       "      <td>24.000000</td>\n",
       "      <td>99.876181</td>\n",
       "    </tr>\n",
       "  </tbody>\n",
       "</table>\n",
       "</div>"
      ],
      "text/plain": [
       "       hospital_admission_id  admission_age    sex_female  los_hospital  \\\n",
       "count           2.384800e+04   23848.000000  23848.000000  23848.000000   \n",
       "mean            4.205574e+06      64.970815      0.443350     11.569295   \n",
       "std             7.769750e+06      15.379478      0.496791     13.528632   \n",
       "min             1.292600e+05      14.000000      0.000000     -0.264583   \n",
       "25%             7.410632e+05      56.000000      0.000000      4.919965   \n",
       "50%             1.333188e+06      67.000000      0.000000      8.285764   \n",
       "75%             2.467345e+06      76.000000      1.000000     14.410764   \n",
       "max             2.999550e+07      90.000000      1.000000    763.275000   \n",
       "\n",
       "            los_ICU  comorbidity_score_value  in_hospital_mortality  \\\n",
       "count  23848.000000             23848.000000           23848.000000   \n",
       "mean       5.585981                 4.241446               0.188192   \n",
       "std        7.488608                 2.748176               0.390874   \n",
       "min        0.000000                 0.000000               0.000000   \n",
       "25%        1.791667                 2.000000               0.000000   \n",
       "50%        3.375000                 4.000000               0.000000   \n",
       "75%        6.833333                 6.000000               0.000000   \n",
       "max      506.375000                19.000000               1.000000   \n",
       "\n",
       "                 pH          pCO2           pO2          SpO2  vitals_tempc  \\\n",
       "count  23848.000000  23848.000000  23848.000000  23848.000000  23848.000000   \n",
       "mean       7.359974     43.604682     93.703468     95.579084     36.855433   \n",
       "std        0.099333     14.734762     42.822412      3.679745      0.841042   \n",
       "min        6.683000      9.000000     33.000000     70.000000     23.700000   \n",
       "25%        7.310000     34.300000     69.000000     94.000000     36.500000   \n",
       "50%        7.370000     40.600000     83.000000     97.000000     36.800000   \n",
       "75%        7.428000     49.000000    104.000000     98.000000     37.200000   \n",
       "max        7.778000    181.700000    542.000000     99.000000     44.300000   \n",
       "\n",
       "       cbc_hemoglobin    bmp_sodium  bmp_bicarbonate  bmp_creatinine  \\\n",
       "count    23848.000000  23848.000000     23848.000000    23848.000000   \n",
       "mean        11.282642    138.447603        24.501457        1.566705   \n",
       "std          2.289953      5.324162         6.121259        1.492863   \n",
       "min          3.000000    100.000000         2.000000        0.100000   \n",
       "25%          9.600000    136.000000        21.000000        0.800000   \n",
       "50%         11.200000    138.800000        24.000000        1.100000   \n",
       "75%         12.700000    141.000000        27.400000        1.720000   \n",
       "max         23.000000    183.000000        63.000000       22.990000   \n",
       "\n",
       "       sofa_past_overall_24hr           p50  \n",
       "count            23848.000000  23848.000000  \n",
       "mean                 4.801702     26.756140  \n",
       "std                  3.438460     10.847245  \n",
       "min                  0.000000     10.025238  \n",
       "25%                  2.000000     20.841005  \n",
       "50%                  4.000000     24.690009  \n",
       "75%                  7.000000     29.194373  \n",
       "max                 24.000000     99.876181  "
      ]
     },
     "execution_count": 46,
     "metadata": {},
     "output_type": "execute_result"
    }
   ],
   "source": [
    "df_sccm_final.describe()"
   ]
  },
  {
   "cell_type": "code",
   "execution_count": 47,
   "id": "e03449a3-2395-409d-800b-f53e7180ce34",
   "metadata": {
    "tags": []
   },
   "outputs": [],
   "source": [
    "df_sccm_final.to_csv('C:/users/Mvina/OneDrive/SCCMDatathon/sccm23_p50_final.csv')"
   ]
  },
  {
   "cell_type": "code",
   "execution_count": null,
   "id": "f0341b76-2dfe-4176-9a13-8aa278041686",
   "metadata": {},
   "outputs": [],
   "source": []
  }
 ],
 "metadata": {
  "kernelspec": {
   "display_name": "Python 3 (ipykernel)",
   "language": "python",
   "name": "python3"
  },
  "language_info": {
   "codemirror_mode": {
    "name": "ipython",
    "version": 3
   },
   "file_extension": ".py",
   "mimetype": "text/x-python",
   "name": "python",
   "nbconvert_exporter": "python",
   "pygments_lexer": "ipython3",
   "version": "3.9.16"
  }
 },
 "nbformat": 4,
 "nbformat_minor": 5
}
