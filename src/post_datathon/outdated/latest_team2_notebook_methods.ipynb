{
 "cells": [
  {
   "cell_type": "markdown",
   "metadata": {
    "id": "pfULIyaT9IqS",
    "jp-MarkdownHeadingCollapsed": true
   },
   "source": [
    "# Loading the dependencies and libraries"
   ]
  },
  {
   "cell_type": "code",
   "execution_count": 1,
   "metadata": {
    "colab": {
     "base_uri": "https://localhost:8080/"
    },
    "id": "zBvi5yFh8a5Z",
    "outputId": "319308af-6273-4bcd-d677-ea3f64d91651"
   },
   "outputs": [],
   "source": [
    "# ! pip install pandas-profiling"
   ]
  },
  {
   "cell_type": "code",
   "execution_count": 2,
   "metadata": {},
   "outputs": [
    {
     "name": "stdout",
     "output_type": "stream",
     "text": [
      "Using matplotlib backend: <object object at 0x1099a2910>\n"
     ]
    }
   ],
   "source": [
    "# to display plots inline, Change the backend for Matplotlib \n",
    "%matplotlib"
   ]
  },
  {
   "cell_type": "code",
   "execution_count": 3,
   "metadata": {},
   "outputs": [
    {
     "name": "stdout",
     "output_type": "stream",
     "text": [
      "Requirement already satisfied: notebook in /opt/anaconda3/envs/ml/lib/python3.9/site-packages (7.0.4)\n",
      "Requirement already satisfied: jupyter-server<3,>=2.4.0 in /opt/anaconda3/envs/ml/lib/python3.9/site-packages (from notebook) (2.7.3)\n",
      "Requirement already satisfied: jupyterlab-server<3,>=2.22.1 in /opt/anaconda3/envs/ml/lib/python3.9/site-packages (from notebook) (2.25.0)\n",
      "Requirement already satisfied: jupyterlab<5,>=4.0.2 in /opt/anaconda3/envs/ml/lib/python3.9/site-packages (from notebook) (4.0.6)\n",
      "Requirement already satisfied: notebook-shim<0.3,>=0.2 in /opt/anaconda3/envs/ml/lib/python3.9/site-packages (from notebook) (0.2.3)\n",
      "Requirement already satisfied: tornado>=6.2.0 in /opt/anaconda3/envs/ml/lib/python3.9/site-packages (from notebook) (6.2)\n",
      "Requirement already satisfied: anyio>=3.1.0 in /opt/anaconda3/envs/ml/lib/python3.9/site-packages (from jupyter-server<3,>=2.4.0->notebook) (4.0.0)\n",
      "Requirement already satisfied: argon2-cffi in /opt/anaconda3/envs/ml/lib/python3.9/site-packages (from jupyter-server<3,>=2.4.0->notebook) (23.1.0)\n",
      "Requirement already satisfied: jinja2 in /opt/anaconda3/envs/ml/lib/python3.9/site-packages (from jupyter-server<3,>=2.4.0->notebook) (3.1.2)\n",
      "Requirement already satisfied: jupyter-client>=7.4.4 in /opt/anaconda3/envs/ml/lib/python3.9/site-packages (from jupyter-server<3,>=2.4.0->notebook) (8.1.0)\n",
      "Requirement already satisfied: jupyter-core!=5.0.*,>=4.12 in /opt/anaconda3/envs/ml/lib/python3.9/site-packages (from jupyter-server<3,>=2.4.0->notebook) (5.3.0)\n",
      "Requirement already satisfied: jupyter-events>=0.6.0 in /opt/anaconda3/envs/ml/lib/python3.9/site-packages (from jupyter-server<3,>=2.4.0->notebook) (0.7.0)\n",
      "Requirement already satisfied: jupyter-server-terminals in /opt/anaconda3/envs/ml/lib/python3.9/site-packages (from jupyter-server<3,>=2.4.0->notebook) (0.4.4)\n",
      "Requirement already satisfied: nbconvert>=6.4.4 in /opt/anaconda3/envs/ml/lib/python3.9/site-packages (from jupyter-server<3,>=2.4.0->notebook) (7.8.0)\n",
      "Requirement already satisfied: nbformat>=5.3.0 in /opt/anaconda3/envs/ml/lib/python3.9/site-packages (from jupyter-server<3,>=2.4.0->notebook) (5.9.2)\n",
      "Requirement already satisfied: overrides in /opt/anaconda3/envs/ml/lib/python3.9/site-packages (from jupyter-server<3,>=2.4.0->notebook) (7.4.0)\n",
      "Requirement already satisfied: packaging in /opt/anaconda3/envs/ml/lib/python3.9/site-packages (from jupyter-server<3,>=2.4.0->notebook) (23.0)\n",
      "Requirement already satisfied: prometheus-client in /opt/anaconda3/envs/ml/lib/python3.9/site-packages (from jupyter-server<3,>=2.4.0->notebook) (0.17.1)\n",
      "Requirement already satisfied: pyzmq>=24 in /opt/anaconda3/envs/ml/lib/python3.9/site-packages (from jupyter-server<3,>=2.4.0->notebook) (25.1.0)\n",
      "Requirement already satisfied: send2trash>=1.8.2 in /opt/anaconda3/envs/ml/lib/python3.9/site-packages (from jupyter-server<3,>=2.4.0->notebook) (1.8.2)\n",
      "Requirement already satisfied: terminado>=0.8.3 in /opt/anaconda3/envs/ml/lib/python3.9/site-packages (from jupyter-server<3,>=2.4.0->notebook) (0.17.1)\n",
      "Requirement already satisfied: traitlets>=5.6.0 in /opt/anaconda3/envs/ml/lib/python3.9/site-packages (from jupyter-server<3,>=2.4.0->notebook) (5.7.1)\n",
      "Requirement already satisfied: websocket-client in /opt/anaconda3/envs/ml/lib/python3.9/site-packages (from jupyter-server<3,>=2.4.0->notebook) (1.3.3)\n",
      "Requirement already satisfied: async-lru>=1.0.0 in /opt/anaconda3/envs/ml/lib/python3.9/site-packages (from jupyterlab<5,>=4.0.2->notebook) (2.0.4)\n",
      "Requirement already satisfied: importlib-metadata>=4.8.3 in /opt/anaconda3/envs/ml/lib/python3.9/site-packages (from jupyterlab<5,>=4.0.2->notebook) (6.0.0)\n",
      "Requirement already satisfied: ipykernel in /opt/anaconda3/envs/ml/lib/python3.9/site-packages (from jupyterlab<5,>=4.0.2->notebook) (6.19.2)\n",
      "Requirement already satisfied: jupyter-lsp>=2.0.0 in /opt/anaconda3/envs/ml/lib/python3.9/site-packages (from jupyterlab<5,>=4.0.2->notebook) (2.2.0)\n",
      "Requirement already satisfied: tomli in /opt/anaconda3/envs/ml/lib/python3.9/site-packages (from jupyterlab<5,>=4.0.2->notebook) (2.0.1)\n",
      "Requirement already satisfied: babel>=2.10 in /opt/anaconda3/envs/ml/lib/python3.9/site-packages (from jupyterlab-server<3,>=2.22.1->notebook) (2.12.1)\n",
      "Requirement already satisfied: json5>=0.9.0 in /opt/anaconda3/envs/ml/lib/python3.9/site-packages (from jupyterlab-server<3,>=2.22.1->notebook) (0.9.14)\n",
      "Requirement already satisfied: jsonschema>=4.18.0 in /opt/anaconda3/envs/ml/lib/python3.9/site-packages (from jupyterlab-server<3,>=2.22.1->notebook) (4.18.4)\n",
      "Requirement already satisfied: requests>=2.31 in /opt/anaconda3/envs/ml/lib/python3.9/site-packages (from jupyterlab-server<3,>=2.22.1->notebook) (2.31.0)\n",
      "Requirement already satisfied: idna>=2.8 in /opt/anaconda3/envs/ml/lib/python3.9/site-packages (from anyio>=3.1.0->jupyter-server<3,>=2.4.0->notebook) (3.4)\n",
      "Requirement already satisfied: sniffio>=1.1 in /opt/anaconda3/envs/ml/lib/python3.9/site-packages (from anyio>=3.1.0->jupyter-server<3,>=2.4.0->notebook) (1.3.0)\n",
      "Requirement already satisfied: exceptiongroup>=1.0.2 in /opt/anaconda3/envs/ml/lib/python3.9/site-packages (from anyio>=3.1.0->jupyter-server<3,>=2.4.0->notebook) (1.1.3)\n",
      "Requirement already satisfied: typing-extensions>=4.0.0 in /opt/anaconda3/envs/ml/lib/python3.9/site-packages (from async-lru>=1.0.0->jupyterlab<5,>=4.0.2->notebook) (4.5.0)\n",
      "Requirement already satisfied: zipp>=0.5 in /opt/anaconda3/envs/ml/lib/python3.9/site-packages (from importlib-metadata>=4.8.3->jupyterlab<5,>=4.0.2->notebook) (3.11.0)\n",
      "Requirement already satisfied: MarkupSafe>=2.0 in /opt/anaconda3/envs/ml/lib/python3.9/site-packages (from jinja2->jupyter-server<3,>=2.4.0->notebook) (2.1.1)\n",
      "Requirement already satisfied: attrs>=22.2.0 in /opt/anaconda3/envs/ml/lib/python3.9/site-packages (from jsonschema>=4.18.0->jupyterlab-server<3,>=2.22.1->notebook) (23.1.0)\n",
      "Requirement already satisfied: jsonschema-specifications>=2023.03.6 in /opt/anaconda3/envs/ml/lib/python3.9/site-packages (from jsonschema>=4.18.0->jupyterlab-server<3,>=2.22.1->notebook) (2023.7.1)\n",
      "Requirement already satisfied: referencing>=0.28.4 in /opt/anaconda3/envs/ml/lib/python3.9/site-packages (from jsonschema>=4.18.0->jupyterlab-server<3,>=2.22.1->notebook) (0.30.0)\n",
      "Requirement already satisfied: rpds-py>=0.7.1 in /opt/anaconda3/envs/ml/lib/python3.9/site-packages (from jsonschema>=4.18.0->jupyterlab-server<3,>=2.22.1->notebook) (0.9.2)\n",
      "Requirement already satisfied: python-dateutil>=2.8.2 in /opt/anaconda3/envs/ml/lib/python3.9/site-packages (from jupyter-client>=7.4.4->jupyter-server<3,>=2.4.0->notebook) (2.8.2)\n",
      "Requirement already satisfied: platformdirs>=2.5 in /opt/anaconda3/envs/ml/lib/python3.9/site-packages (from jupyter-core!=5.0.*,>=4.12->jupyter-server<3,>=2.4.0->notebook) (2.5.2)\n",
      "Requirement already satisfied: python-json-logger>=2.0.4 in /opt/anaconda3/envs/ml/lib/python3.9/site-packages (from jupyter-events>=0.6.0->jupyter-server<3,>=2.4.0->notebook) (2.0.7)\n",
      "Requirement already satisfied: pyyaml>=5.3 in /opt/anaconda3/envs/ml/lib/python3.9/site-packages (from jupyter-events>=0.6.0->jupyter-server<3,>=2.4.0->notebook) (6.0)\n",
      "Requirement already satisfied: rfc3339-validator in /opt/anaconda3/envs/ml/lib/python3.9/site-packages (from jupyter-events>=0.6.0->jupyter-server<3,>=2.4.0->notebook) (0.1.4)\n",
      "Requirement already satisfied: rfc3986-validator>=0.1.1 in /opt/anaconda3/envs/ml/lib/python3.9/site-packages (from jupyter-events>=0.6.0->jupyter-server<3,>=2.4.0->notebook) (0.1.1)\n",
      "Requirement already satisfied: beautifulsoup4 in /opt/anaconda3/envs/ml/lib/python3.9/site-packages (from nbconvert>=6.4.4->jupyter-server<3,>=2.4.0->notebook) (4.12.2)\n",
      "Requirement already satisfied: bleach!=5.0.0 in /opt/anaconda3/envs/ml/lib/python3.9/site-packages (from nbconvert>=6.4.4->jupyter-server<3,>=2.4.0->notebook) (6.0.0)\n",
      "Requirement already satisfied: defusedxml in /opt/anaconda3/envs/ml/lib/python3.9/site-packages (from nbconvert>=6.4.4->jupyter-server<3,>=2.4.0->notebook) (0.7.1)\n",
      "Requirement already satisfied: jupyterlab-pygments in /opt/anaconda3/envs/ml/lib/python3.9/site-packages (from nbconvert>=6.4.4->jupyter-server<3,>=2.4.0->notebook) (0.2.2)\n",
      "Requirement already satisfied: mistune<4,>=2.0.3 in /opt/anaconda3/envs/ml/lib/python3.9/site-packages (from nbconvert>=6.4.4->jupyter-server<3,>=2.4.0->notebook) (3.0.1)\n",
      "Requirement already satisfied: nbclient>=0.5.0 in /opt/anaconda3/envs/ml/lib/python3.9/site-packages (from nbconvert>=6.4.4->jupyter-server<3,>=2.4.0->notebook) (0.8.0)\n",
      "Requirement already satisfied: pandocfilters>=1.4.1 in /opt/anaconda3/envs/ml/lib/python3.9/site-packages (from nbconvert>=6.4.4->jupyter-server<3,>=2.4.0->notebook) (1.5.0)\n",
      "Requirement already satisfied: pygments>=2.4.1 in /opt/anaconda3/envs/ml/lib/python3.9/site-packages (from nbconvert>=6.4.4->jupyter-server<3,>=2.4.0->notebook) (2.15.1)\n",
      "Requirement already satisfied: tinycss2 in /opt/anaconda3/envs/ml/lib/python3.9/site-packages (from nbconvert>=6.4.4->jupyter-server<3,>=2.4.0->notebook) (1.2.1)\n",
      "Requirement already satisfied: fastjsonschema in /opt/anaconda3/envs/ml/lib/python3.9/site-packages (from nbformat>=5.3.0->jupyter-server<3,>=2.4.0->notebook) (2.18.0)\n",
      "Requirement already satisfied: charset-normalizer<4,>=2 in /opt/anaconda3/envs/ml/lib/python3.9/site-packages (from requests>=2.31->jupyterlab-server<3,>=2.22.1->notebook) (2.1.1)\n",
      "Requirement already satisfied: urllib3<3,>=1.21.1 in /opt/anaconda3/envs/ml/lib/python3.9/site-packages (from requests>=2.31->jupyterlab-server<3,>=2.22.1->notebook) (1.26.16)\n",
      "Requirement already satisfied: certifi>=2017.4.17 in /opt/anaconda3/envs/ml/lib/python3.9/site-packages (from requests>=2.31->jupyterlab-server<3,>=2.22.1->notebook) (2023.7.22)\n",
      "Requirement already satisfied: ptyprocess in /opt/anaconda3/envs/ml/lib/python3.9/site-packages (from terminado>=0.8.3->jupyter-server<3,>=2.4.0->notebook) (0.7.0)\n",
      "Requirement already satisfied: argon2-cffi-bindings in /opt/anaconda3/envs/ml/lib/python3.9/site-packages (from argon2-cffi->jupyter-server<3,>=2.4.0->notebook) (21.2.0)\n",
      "Requirement already satisfied: appnope in /opt/anaconda3/envs/ml/lib/python3.9/site-packages (from ipykernel->jupyterlab<5,>=4.0.2->notebook) (0.1.2)\n",
      "Requirement already satisfied: comm>=0.1.1 in /opt/anaconda3/envs/ml/lib/python3.9/site-packages (from ipykernel->jupyterlab<5,>=4.0.2->notebook) (0.1.2)\n",
      "Requirement already satisfied: debugpy>=1.0 in /opt/anaconda3/envs/ml/lib/python3.9/site-packages (from ipykernel->jupyterlab<5,>=4.0.2->notebook) (1.5.1)\n",
      "Requirement already satisfied: ipython>=7.23.1 in /opt/anaconda3/envs/ml/lib/python3.9/site-packages (from ipykernel->jupyterlab<5,>=4.0.2->notebook) (8.12.0)\n",
      "Requirement already satisfied: matplotlib-inline>=0.1 in /opt/anaconda3/envs/ml/lib/python3.9/site-packages (from ipykernel->jupyterlab<5,>=4.0.2->notebook) (0.1.6)\n",
      "Requirement already satisfied: nest-asyncio in /opt/anaconda3/envs/ml/lib/python3.9/site-packages (from ipykernel->jupyterlab<5,>=4.0.2->notebook) (1.5.6)\n",
      "Requirement already satisfied: psutil in /opt/anaconda3/envs/ml/lib/python3.9/site-packages (from ipykernel->jupyterlab<5,>=4.0.2->notebook) (5.9.0)\n",
      "Requirement already satisfied: six>=1.9.0 in /opt/anaconda3/envs/ml/lib/python3.9/site-packages (from bleach!=5.0.0->nbconvert>=6.4.4->jupyter-server<3,>=2.4.0->notebook) (1.16.0)\n",
      "Requirement already satisfied: webencodings in /opt/anaconda3/envs/ml/lib/python3.9/site-packages (from bleach!=5.0.0->nbconvert>=6.4.4->jupyter-server<3,>=2.4.0->notebook) (0.5.1)\n",
      "Requirement already satisfied: backcall in /opt/anaconda3/envs/ml/lib/python3.9/site-packages (from ipython>=7.23.1->ipykernel->jupyterlab<5,>=4.0.2->notebook) (0.2.0)\n",
      "Requirement already satisfied: decorator in /opt/anaconda3/envs/ml/lib/python3.9/site-packages (from ipython>=7.23.1->ipykernel->jupyterlab<5,>=4.0.2->notebook) (5.1.1)\n",
      "Requirement already satisfied: jedi>=0.16 in /opt/anaconda3/envs/ml/lib/python3.9/site-packages (from ipython>=7.23.1->ipykernel->jupyterlab<5,>=4.0.2->notebook) (0.18.1)\n",
      "Requirement already satisfied: pickleshare in /opt/anaconda3/envs/ml/lib/python3.9/site-packages (from ipython>=7.23.1->ipykernel->jupyterlab<5,>=4.0.2->notebook) (0.7.5)\n",
      "Requirement already satisfied: prompt-toolkit!=3.0.37,<3.1.0,>=3.0.30 in /opt/anaconda3/envs/ml/lib/python3.9/site-packages (from ipython>=7.23.1->ipykernel->jupyterlab<5,>=4.0.2->notebook) (3.0.36)\n",
      "Requirement already satisfied: stack-data in /opt/anaconda3/envs/ml/lib/python3.9/site-packages (from ipython>=7.23.1->ipykernel->jupyterlab<5,>=4.0.2->notebook) (0.2.0)\n",
      "Requirement already satisfied: pexpect>4.3 in /opt/anaconda3/envs/ml/lib/python3.9/site-packages (from ipython>=7.23.1->ipykernel->jupyterlab<5,>=4.0.2->notebook) (4.8.0)\n",
      "Requirement already satisfied: fqdn in /opt/anaconda3/envs/ml/lib/python3.9/site-packages (from jsonschema>=4.18.0->jupyterlab-server<3,>=2.22.1->notebook) (1.5.1)\n",
      "Requirement already satisfied: isoduration in /opt/anaconda3/envs/ml/lib/python3.9/site-packages (from jsonschema>=4.18.0->jupyterlab-server<3,>=2.22.1->notebook) (20.11.0)\n",
      "Requirement already satisfied: jsonpointer>1.13 in /opt/anaconda3/envs/ml/lib/python3.9/site-packages (from jsonschema>=4.18.0->jupyterlab-server<3,>=2.22.1->notebook) (2.4)\n",
      "Requirement already satisfied: uri-template in /opt/anaconda3/envs/ml/lib/python3.9/site-packages (from jsonschema>=4.18.0->jupyterlab-server<3,>=2.22.1->notebook) (1.3.0)\n",
      "Requirement already satisfied: webcolors>=1.11 in /opt/anaconda3/envs/ml/lib/python3.9/site-packages (from jsonschema>=4.18.0->jupyterlab-server<3,>=2.22.1->notebook) (1.13)\n",
      "Requirement already satisfied: cffi>=1.0.1 in /opt/anaconda3/envs/ml/lib/python3.9/site-packages (from argon2-cffi-bindings->argon2-cffi->jupyter-server<3,>=2.4.0->notebook) (1.15.1)\n",
      "Requirement already satisfied: soupsieve>1.2 in /opt/anaconda3/envs/ml/lib/python3.9/site-packages (from beautifulsoup4->nbconvert>=6.4.4->jupyter-server<3,>=2.4.0->notebook) (2.5)\n",
      "Requirement already satisfied: pycparser in /opt/anaconda3/envs/ml/lib/python3.9/site-packages (from cffi>=1.0.1->argon2-cffi-bindings->argon2-cffi->jupyter-server<3,>=2.4.0->notebook) (2.21)\n",
      "Requirement already satisfied: parso<0.9.0,>=0.8.0 in /opt/anaconda3/envs/ml/lib/python3.9/site-packages (from jedi>=0.16->ipython>=7.23.1->ipykernel->jupyterlab<5,>=4.0.2->notebook) (0.8.3)\n",
      "Requirement already satisfied: wcwidth in /opt/anaconda3/envs/ml/lib/python3.9/site-packages (from prompt-toolkit!=3.0.37,<3.1.0,>=3.0.30->ipython>=7.23.1->ipykernel->jupyterlab<5,>=4.0.2->notebook) (0.2.5)\n",
      "Requirement already satisfied: arrow>=0.15.0 in /opt/anaconda3/envs/ml/lib/python3.9/site-packages (from isoduration->jsonschema>=4.18.0->jupyterlab-server<3,>=2.22.1->notebook) (1.2.3)\n",
      "Requirement already satisfied: executing in /opt/anaconda3/envs/ml/lib/python3.9/site-packages (from stack-data->ipython>=7.23.1->ipykernel->jupyterlab<5,>=4.0.2->notebook) (0.8.3)\n",
      "Requirement already satisfied: asttokens in /opt/anaconda3/envs/ml/lib/python3.9/site-packages (from stack-data->ipython>=7.23.1->ipykernel->jupyterlab<5,>=4.0.2->notebook) (2.0.5)\n",
      "Requirement already satisfied: pure-eval in /opt/anaconda3/envs/ml/lib/python3.9/site-packages (from stack-data->ipython>=7.23.1->ipykernel->jupyterlab<5,>=4.0.2->notebook) (0.2.2)\n",
      "Note: you may need to restart the kernel to use updated packages.\n"
     ]
    }
   ],
   "source": [
    "pip install --upgrade notebook"
   ]
  },
  {
   "cell_type": "code",
   "execution_count": 4,
   "metadata": {},
   "outputs": [
    {
     "name": "stdout",
     "output_type": "stream",
     "text": [
      "Requirement already satisfied: matplotlib in /opt/anaconda3/envs/ml/lib/python3.9/site-packages (3.8.0)\n",
      "Requirement already satisfied: contourpy>=1.0.1 in /opt/anaconda3/envs/ml/lib/python3.9/site-packages (from matplotlib) (1.0.5)\n",
      "Requirement already satisfied: cycler>=0.10 in /opt/anaconda3/envs/ml/lib/python3.9/site-packages (from matplotlib) (0.11.0)\n",
      "Requirement already satisfied: fonttools>=4.22.0 in /opt/anaconda3/envs/ml/lib/python3.9/site-packages (from matplotlib) (4.25.0)\n",
      "Requirement already satisfied: kiwisolver>=1.0.1 in /opt/anaconda3/envs/ml/lib/python3.9/site-packages (from matplotlib) (1.4.4)\n",
      "Requirement already satisfied: numpy<2,>=1.21 in /opt/anaconda3/envs/ml/lib/python3.9/site-packages (from matplotlib) (1.23.5)\n",
      "Requirement already satisfied: packaging>=20.0 in /opt/anaconda3/envs/ml/lib/python3.9/site-packages (from matplotlib) (23.0)\n",
      "Requirement already satisfied: pillow>=6.2.0 in /opt/anaconda3/envs/ml/lib/python3.9/site-packages (from matplotlib) (10.0.0)\n",
      "Requirement already satisfied: pyparsing>=2.3.1 in /opt/anaconda3/envs/ml/lib/python3.9/site-packages (from matplotlib) (3.0.9)\n",
      "Requirement already satisfied: python-dateutil>=2.7 in /opt/anaconda3/envs/ml/lib/python3.9/site-packages (from matplotlib) (2.8.2)\n",
      "Requirement already satisfied: importlib-resources>=3.2.0 in /opt/anaconda3/envs/ml/lib/python3.9/site-packages (from matplotlib) (5.2.0)\n",
      "Requirement already satisfied: zipp>=3.1.0 in /opt/anaconda3/envs/ml/lib/python3.9/site-packages (from importlib-resources>=3.2.0->matplotlib) (3.11.0)\n",
      "Requirement already satisfied: six>=1.5 in /opt/anaconda3/envs/ml/lib/python3.9/site-packages (from python-dateutil>=2.7->matplotlib) (1.16.0)\n",
      "Requirement already satisfied: seaborn in /opt/anaconda3/envs/ml/lib/python3.9/site-packages (0.12.2)\n",
      "Requirement already satisfied: numpy!=1.24.0,>=1.17 in /opt/anaconda3/envs/ml/lib/python3.9/site-packages (from seaborn) (1.23.5)\n",
      "Requirement already satisfied: pandas>=0.25 in /opt/anaconda3/envs/ml/lib/python3.9/site-packages (from seaborn) (1.5.3)\n",
      "Requirement already satisfied: matplotlib!=3.6.1,>=3.1 in /opt/anaconda3/envs/ml/lib/python3.9/site-packages (from seaborn) (3.8.0)\n",
      "Requirement already satisfied: contourpy>=1.0.1 in /opt/anaconda3/envs/ml/lib/python3.9/site-packages (from matplotlib!=3.6.1,>=3.1->seaborn) (1.0.5)\n",
      "Requirement already satisfied: cycler>=0.10 in /opt/anaconda3/envs/ml/lib/python3.9/site-packages (from matplotlib!=3.6.1,>=3.1->seaborn) (0.11.0)\n",
      "Requirement already satisfied: fonttools>=4.22.0 in /opt/anaconda3/envs/ml/lib/python3.9/site-packages (from matplotlib!=3.6.1,>=3.1->seaborn) (4.25.0)\n",
      "Requirement already satisfied: kiwisolver>=1.0.1 in /opt/anaconda3/envs/ml/lib/python3.9/site-packages (from matplotlib!=3.6.1,>=3.1->seaborn) (1.4.4)\n",
      "Requirement already satisfied: packaging>=20.0 in /opt/anaconda3/envs/ml/lib/python3.9/site-packages (from matplotlib!=3.6.1,>=3.1->seaborn) (23.0)\n",
      "Requirement already satisfied: pillow>=6.2.0 in /opt/anaconda3/envs/ml/lib/python3.9/site-packages (from matplotlib!=3.6.1,>=3.1->seaborn) (10.0.0)\n",
      "Requirement already satisfied: pyparsing>=2.3.1 in /opt/anaconda3/envs/ml/lib/python3.9/site-packages (from matplotlib!=3.6.1,>=3.1->seaborn) (3.0.9)\n",
      "Requirement already satisfied: python-dateutil>=2.7 in /opt/anaconda3/envs/ml/lib/python3.9/site-packages (from matplotlib!=3.6.1,>=3.1->seaborn) (2.8.2)\n",
      "Requirement already satisfied: importlib-resources>=3.2.0 in /opt/anaconda3/envs/ml/lib/python3.9/site-packages (from matplotlib!=3.6.1,>=3.1->seaborn) (5.2.0)\n",
      "Requirement already satisfied: pytz>=2020.1 in /opt/anaconda3/envs/ml/lib/python3.9/site-packages (from pandas>=0.25->seaborn) (2022.7)\n",
      "Requirement already satisfied: zipp>=3.1.0 in /opt/anaconda3/envs/ml/lib/python3.9/site-packages (from importlib-resources>=3.2.0->matplotlib!=3.6.1,>=3.1->seaborn) (3.11.0)\n",
      "Requirement already satisfied: six>=1.5 in /opt/anaconda3/envs/ml/lib/python3.9/site-packages (from python-dateutil>=2.7->matplotlib!=3.6.1,>=3.1->seaborn) (1.16.0)\n"
     ]
    }
   ],
   "source": [
    "! pip install matplotlib --upgrade\n",
    "! pip install seaborn --upgrade"
   ]
  },
  {
   "cell_type": "code",
   "execution_count": 5,
   "metadata": {},
   "outputs": [],
   "source": [
    "from sklearn import linear_model\n",
    "from sklearn.experimental import enable_iterative_imputer\n",
    "from sklearn.impute import IterativeImputer\n",
    "from sklearn.ensemble import RandomForestRegressor\n",
    "from sklearn.experimental import enable_iterative_imputer\n",
    "from sklearn.kernel_approximation import Nystroem\n",
    "from sklearn.linear_model import BayesianRidge, Ridge\n",
    "from sklearn.model_selection import cross_val_score\n",
    "from sklearn.neighbors import KNeighborsRegressor\n",
    "from sklearn.pipeline import make_pipeline"
   ]
  },
  {
   "cell_type": "code",
   "execution_count": 6,
   "metadata": {},
   "outputs": [],
   "source": [
    "import pandas as pd\n",
    "import matplotlib.pyplot as plt\n",
    "import numpy as np\n",
    "import seaborn as sns\n",
    "import missingno as mno"
   ]
  },
  {
   "cell_type": "code",
   "execution_count": 7,
   "metadata": {},
   "outputs": [],
   "source": [
    "from sklearn.experimental import enable_iterative_imputer\n",
    "from sklearn.impute import IterativeImputer\n",
    "from sklearn.linear_model import BayesianRidge"
   ]
  },
  {
   "cell_type": "markdown",
   "metadata": {
    "id": "StnL1Z1p6_H-"
   },
   "source": [
    "# Loading the data"
   ]
  },
  {
   "cell_type": "code",
   "execution_count": 8,
   "metadata": {
    "colab": {
     "base_uri": "https://localhost:8080/"
    },
    "id": "eAXy6m9Q7BSS",
    "outputId": "8047ec59-5fbd-4351-b30b-45e1c16e5785"
   },
   "outputs": [],
   "source": [
    "import pandas as pd\n",
    "\n",
    "# Path to your CSV file\n",
    "csv_path = '/Users/mac/Desktop/Summer_2023/datathon/paper_methods/pulseox_dataset.csv'\n",
    "\n",
    "# Read the CSV file using Pandas\n",
    "df_initial = pd.read_csv(csv_path, low_memory=False)"
   ]
  },
  {
   "cell_type": "markdown",
   "metadata": {},
   "source": [
    "# Data Preprocessing"
   ]
  },
  {
   "cell_type": "code",
   "execution_count": 9,
   "metadata": {
    "colab": {
     "base_uri": "https://localhost:8080/"
    },
    "id": "VAdXLhRr8MYN",
    "outputId": "3a90b059-7dc6-4c91-c61e-01d40531bfba"
   },
   "outputs": [
    {
     "data": {
      "text/html": [
       "<div>\n",
       "<style scoped>\n",
       "    .dataframe tbody tr th:only-of-type {\n",
       "        vertical-align: middle;\n",
       "    }\n",
       "\n",
       "    .dataframe tbody tr th {\n",
       "        vertical-align: top;\n",
       "    }\n",
       "\n",
       "    .dataframe thead th {\n",
       "        text-align: right;\n",
       "    }\n",
       "</style>\n",
       "<table border=\"1\" class=\"dataframe\">\n",
       "  <thead>\n",
       "    <tr style=\"text-align: right;\">\n",
       "      <th></th>\n",
       "      <th>unique_subject_id</th>\n",
       "      <th>unique_hospital_admission_id</th>\n",
       "      <th>unique_icustay_id</th>\n",
       "      <th>subject_id</th>\n",
       "      <th>hospital_admission_id</th>\n",
       "      <th>icustay_id</th>\n",
       "      <th>source_db</th>\n",
       "      <th>hospitalid</th>\n",
       "      <th>numbedscategory</th>\n",
       "      <th>teachingstatus</th>\n",
       "      <th>...</th>\n",
       "      <th>delta_sofa_future_coagulation_24hr</th>\n",
       "      <th>sofa_future_coagulation_24hr</th>\n",
       "      <th>delta_sofa_future_liver_24hr</th>\n",
       "      <th>sofa_future_liver_24hr</th>\n",
       "      <th>delta_sofa_future_cardiovascular_24hr</th>\n",
       "      <th>sofa_future_cardiovascular_24hr</th>\n",
       "      <th>delta_sofa_future_cns_24hr</th>\n",
       "      <th>sofa_future_cns_24hr</th>\n",
       "      <th>delta_sofa_future_renal_24hr</th>\n",
       "      <th>sofa_future_renal_24hr</th>\n",
       "    </tr>\n",
       "  </thead>\n",
       "  <tbody>\n",
       "    <tr>\n",
       "      <th>0</th>\n",
       "      <td>0</td>\n",
       "      <td>0</td>\n",
       "      <td>0</td>\n",
       "      <td>002-10050</td>\n",
       "      <td>183274</td>\n",
       "      <td>211144</td>\n",
       "      <td>eicu</td>\n",
       "      <td>71</td>\n",
       "      <td>100 - 249</td>\n",
       "      <td>False</td>\n",
       "      <td>...</td>\n",
       "      <td>1525.0</td>\n",
       "      <td>1.0</td>\n",
       "      <td>1525.0</td>\n",
       "      <td>0.0</td>\n",
       "      <td>1525.0</td>\n",
       "      <td>1.0</td>\n",
       "      <td>1525.0</td>\n",
       "      <td>0.0</td>\n",
       "      <td>1525.0</td>\n",
       "      <td>0.0</td>\n",
       "    </tr>\n",
       "    <tr>\n",
       "      <th>1</th>\n",
       "      <td>1</td>\n",
       "      <td>1</td>\n",
       "      <td>1</td>\n",
       "      <td>002-1007</td>\n",
       "      <td>178462</td>\n",
       "      <td>204935</td>\n",
       "      <td>eicu</td>\n",
       "      <td>71</td>\n",
       "      <td>100 - 249</td>\n",
       "      <td>False</td>\n",
       "      <td>...</td>\n",
       "      <td>NaN</td>\n",
       "      <td>NaN</td>\n",
       "      <td>NaN</td>\n",
       "      <td>NaN</td>\n",
       "      <td>NaN</td>\n",
       "      <td>NaN</td>\n",
       "      <td>NaN</td>\n",
       "      <td>NaN</td>\n",
       "      <td>NaN</td>\n",
       "      <td>NaN</td>\n",
       "    </tr>\n",
       "    <tr>\n",
       "      <th>2</th>\n",
       "      <td>2</td>\n",
       "      <td>2</td>\n",
       "      <td>2</td>\n",
       "      <td>002-10187</td>\n",
       "      <td>150828</td>\n",
       "      <td>169525</td>\n",
       "      <td>eicu</td>\n",
       "      <td>73</td>\n",
       "      <td>&gt;= 500</td>\n",
       "      <td>True</td>\n",
       "      <td>...</td>\n",
       "      <td>1547.0</td>\n",
       "      <td>0.0</td>\n",
       "      <td>1547.0</td>\n",
       "      <td>0.0</td>\n",
       "      <td>1547.0</td>\n",
       "      <td>1.0</td>\n",
       "      <td>1547.0</td>\n",
       "      <td>0.0</td>\n",
       "      <td>1547.0</td>\n",
       "      <td>0.0</td>\n",
       "    </tr>\n",
       "    <tr>\n",
       "      <th>3</th>\n",
       "      <td>3</td>\n",
       "      <td>3</td>\n",
       "      <td>3</td>\n",
       "      <td>002-10306</td>\n",
       "      <td>198249</td>\n",
       "      <td>230427</td>\n",
       "      <td>eicu</td>\n",
       "      <td>63</td>\n",
       "      <td>100 - 249</td>\n",
       "      <td>False</td>\n",
       "      <td>...</td>\n",
       "      <td>1507.0</td>\n",
       "      <td>2.0</td>\n",
       "      <td>1507.0</td>\n",
       "      <td>0.0</td>\n",
       "      <td>1507.0</td>\n",
       "      <td>1.0</td>\n",
       "      <td>1507.0</td>\n",
       "      <td>0.0</td>\n",
       "      <td>1507.0</td>\n",
       "      <td>1.0</td>\n",
       "    </tr>\n",
       "    <tr>\n",
       "      <th>4</th>\n",
       "      <td>4</td>\n",
       "      <td>4</td>\n",
       "      <td>4</td>\n",
       "      <td>002-10324</td>\n",
       "      <td>188445</td>\n",
       "      <td>217835</td>\n",
       "      <td>eicu</td>\n",
       "      <td>73</td>\n",
       "      <td>&gt;= 500</td>\n",
       "      <td>True</td>\n",
       "      <td>...</td>\n",
       "      <td>1537.0</td>\n",
       "      <td>1.0</td>\n",
       "      <td>1537.0</td>\n",
       "      <td>0.0</td>\n",
       "      <td>1537.0</td>\n",
       "      <td>1.0</td>\n",
       "      <td>1537.0</td>\n",
       "      <td>2.0</td>\n",
       "      <td>1537.0</td>\n",
       "      <td>0.0</td>\n",
       "    </tr>\n",
       "    <tr>\n",
       "      <th>...</th>\n",
       "      <td>...</td>\n",
       "      <td>...</td>\n",
       "      <td>...</td>\n",
       "      <td>...</td>\n",
       "      <td>...</td>\n",
       "      <td>...</td>\n",
       "      <td>...</td>\n",
       "      <td>...</td>\n",
       "      <td>...</td>\n",
       "      <td>...</td>\n",
       "      <td>...</td>\n",
       "      <td>...</td>\n",
       "      <td>...</td>\n",
       "      <td>...</td>\n",
       "      <td>...</td>\n",
       "      <td>...</td>\n",
       "      <td>...</td>\n",
       "      <td>...</td>\n",
       "      <td>...</td>\n",
       "      <td>...</td>\n",
       "      <td>...</td>\n",
       "    </tr>\n",
       "    <tr>\n",
       "      <th>49088</th>\n",
       "      <td>44897</td>\n",
       "      <td>49088</td>\n",
       "      <td>49088</td>\n",
       "      <td>19995595</td>\n",
       "      <td>21784060</td>\n",
       "      <td>34670930</td>\n",
       "      <td>mimic_iv</td>\n",
       "      <td>9999</td>\n",
       "      <td>&gt;= 500</td>\n",
       "      <td>True</td>\n",
       "      <td>...</td>\n",
       "      <td>1500.0</td>\n",
       "      <td>0.0</td>\n",
       "      <td>1500.0</td>\n",
       "      <td>2.0</td>\n",
       "      <td>1500.0</td>\n",
       "      <td>1.0</td>\n",
       "      <td>1500.0</td>\n",
       "      <td>0.0</td>\n",
       "      <td>1500.0</td>\n",
       "      <td>1.0</td>\n",
       "    </tr>\n",
       "    <tr>\n",
       "      <th>49089</th>\n",
       "      <td>44898</td>\n",
       "      <td>49089</td>\n",
       "      <td>49089</td>\n",
       "      <td>19995780</td>\n",
       "      <td>21942461</td>\n",
       "      <td>36805359</td>\n",
       "      <td>mimic_iv</td>\n",
       "      <td>9999</td>\n",
       "      <td>&gt;= 500</td>\n",
       "      <td>True</td>\n",
       "      <td>...</td>\n",
       "      <td>1557.0</td>\n",
       "      <td>2.0</td>\n",
       "      <td>1557.0</td>\n",
       "      <td>0.0</td>\n",
       "      <td>1557.0</td>\n",
       "      <td>1.0</td>\n",
       "      <td>1557.0</td>\n",
       "      <td>2.0</td>\n",
       "      <td>1557.0</td>\n",
       "      <td>0.0</td>\n",
       "    </tr>\n",
       "    <tr>\n",
       "      <th>49090</th>\n",
       "      <td>44899</td>\n",
       "      <td>49090</td>\n",
       "      <td>49090</td>\n",
       "      <td>19997293</td>\n",
       "      <td>28847872</td>\n",
       "      <td>31877557</td>\n",
       "      <td>mimic_iv</td>\n",
       "      <td>9999</td>\n",
       "      <td>&gt;= 500</td>\n",
       "      <td>True</td>\n",
       "      <td>...</td>\n",
       "      <td>1557.0</td>\n",
       "      <td>0.0</td>\n",
       "      <td>1557.0</td>\n",
       "      <td>0.0</td>\n",
       "      <td>1557.0</td>\n",
       "      <td>1.0</td>\n",
       "      <td>1557.0</td>\n",
       "      <td>1.0</td>\n",
       "      <td>1557.0</td>\n",
       "      <td>1.0</td>\n",
       "    </tr>\n",
       "    <tr>\n",
       "      <th>49091</th>\n",
       "      <td>44900</td>\n",
       "      <td>49091</td>\n",
       "      <td>49091</td>\n",
       "      <td>19997367</td>\n",
       "      <td>20617667</td>\n",
       "      <td>35616526</td>\n",
       "      <td>mimic_iv</td>\n",
       "      <td>9999</td>\n",
       "      <td>&gt;= 500</td>\n",
       "      <td>True</td>\n",
       "      <td>...</td>\n",
       "      <td>1557.0</td>\n",
       "      <td>3.0</td>\n",
       "      <td>1557.0</td>\n",
       "      <td>2.0</td>\n",
       "      <td>1557.0</td>\n",
       "      <td>1.0</td>\n",
       "      <td>1557.0</td>\n",
       "      <td>1.0</td>\n",
       "      <td>1557.0</td>\n",
       "      <td>1.0</td>\n",
       "    </tr>\n",
       "    <tr>\n",
       "      <th>49092</th>\n",
       "      <td>44901</td>\n",
       "      <td>49092</td>\n",
       "      <td>49092</td>\n",
       "      <td>19997752</td>\n",
       "      <td>29452285</td>\n",
       "      <td>34531437</td>\n",
       "      <td>mimic_iv</td>\n",
       "      <td>9999</td>\n",
       "      <td>&gt;= 500</td>\n",
       "      <td>True</td>\n",
       "      <td>...</td>\n",
       "      <td>1559.0</td>\n",
       "      <td>0.0</td>\n",
       "      <td>1559.0</td>\n",
       "      <td>0.0</td>\n",
       "      <td>1559.0</td>\n",
       "      <td>1.0</td>\n",
       "      <td>1559.0</td>\n",
       "      <td>1.0</td>\n",
       "      <td>1559.0</td>\n",
       "      <td>0.0</td>\n",
       "    </tr>\n",
       "  </tbody>\n",
       "</table>\n",
       "<p>49093 rows × 142 columns</p>\n",
       "</div>"
      ],
      "text/plain": [
       "       unique_subject_id  unique_hospital_admission_id  unique_icustay_id  \\\n",
       "0                      0                             0                  0   \n",
       "1                      1                             1                  1   \n",
       "2                      2                             2                  2   \n",
       "3                      3                             3                  3   \n",
       "4                      4                             4                  4   \n",
       "...                  ...                           ...                ...   \n",
       "49088              44897                         49088              49088   \n",
       "49089              44898                         49089              49089   \n",
       "49090              44899                         49090              49090   \n",
       "49091              44900                         49091              49091   \n",
       "49092              44901                         49092              49092   \n",
       "\n",
       "      subject_id  hospital_admission_id  icustay_id source_db  hospitalid  \\\n",
       "0      002-10050                 183274      211144      eicu          71   \n",
       "1       002-1007                 178462      204935      eicu          71   \n",
       "2      002-10187                 150828      169525      eicu          73   \n",
       "3      002-10306                 198249      230427      eicu          63   \n",
       "4      002-10324                 188445      217835      eicu          73   \n",
       "...          ...                    ...         ...       ...         ...   \n",
       "49088   19995595               21784060    34670930  mimic_iv        9999   \n",
       "49089   19995780               21942461    36805359  mimic_iv        9999   \n",
       "49090   19997293               28847872    31877557  mimic_iv        9999   \n",
       "49091   19997367               20617667    35616526  mimic_iv        9999   \n",
       "49092   19997752               29452285    34531437  mimic_iv        9999   \n",
       "\n",
       "      numbedscategory  teachingstatus  ... delta_sofa_future_coagulation_24hr  \\\n",
       "0           100 - 249           False  ...                             1525.0   \n",
       "1           100 - 249           False  ...                                NaN   \n",
       "2              >= 500            True  ...                             1547.0   \n",
       "3           100 - 249           False  ...                             1507.0   \n",
       "4              >= 500            True  ...                             1537.0   \n",
       "...               ...             ...  ...                                ...   \n",
       "49088          >= 500            True  ...                             1500.0   \n",
       "49089          >= 500            True  ...                             1557.0   \n",
       "49090          >= 500            True  ...                             1557.0   \n",
       "49091          >= 500            True  ...                             1557.0   \n",
       "49092          >= 500            True  ...                             1559.0   \n",
       "\n",
       "       sofa_future_coagulation_24hr  delta_sofa_future_liver_24hr  \\\n",
       "0                               1.0                        1525.0   \n",
       "1                               NaN                           NaN   \n",
       "2                               0.0                        1547.0   \n",
       "3                               2.0                        1507.0   \n",
       "4                               1.0                        1537.0   \n",
       "...                             ...                           ...   \n",
       "49088                           0.0                        1500.0   \n",
       "49089                           2.0                        1557.0   \n",
       "49090                           0.0                        1557.0   \n",
       "49091                           3.0                        1557.0   \n",
       "49092                           0.0                        1559.0   \n",
       "\n",
       "       sofa_future_liver_24hr  delta_sofa_future_cardiovascular_24hr  \\\n",
       "0                         0.0                                 1525.0   \n",
       "1                         NaN                                    NaN   \n",
       "2                         0.0                                 1547.0   \n",
       "3                         0.0                                 1507.0   \n",
       "4                         0.0                                 1537.0   \n",
       "...                       ...                                    ...   \n",
       "49088                     2.0                                 1500.0   \n",
       "49089                     0.0                                 1557.0   \n",
       "49090                     0.0                                 1557.0   \n",
       "49091                     2.0                                 1557.0   \n",
       "49092                     0.0                                 1559.0   \n",
       "\n",
       "       sofa_future_cardiovascular_24hr delta_sofa_future_cns_24hr  \\\n",
       "0                                  1.0                     1525.0   \n",
       "1                                  NaN                        NaN   \n",
       "2                                  1.0                     1547.0   \n",
       "3                                  1.0                     1507.0   \n",
       "4                                  1.0                     1537.0   \n",
       "...                                ...                        ...   \n",
       "49088                              1.0                     1500.0   \n",
       "49089                              1.0                     1557.0   \n",
       "49090                              1.0                     1557.0   \n",
       "49091                              1.0                     1557.0   \n",
       "49092                              1.0                     1559.0   \n",
       "\n",
       "      sofa_future_cns_24hr delta_sofa_future_renal_24hr sofa_future_renal_24hr  \n",
       "0                      0.0                       1525.0                    0.0  \n",
       "1                      NaN                          NaN                    NaN  \n",
       "2                      0.0                       1547.0                    0.0  \n",
       "3                      0.0                       1507.0                    1.0  \n",
       "4                      2.0                       1537.0                    0.0  \n",
       "...                    ...                          ...                    ...  \n",
       "49088                  0.0                       1500.0                    1.0  \n",
       "49089                  2.0                       1557.0                    0.0  \n",
       "49090                  1.0                       1557.0                    1.0  \n",
       "49091                  1.0                       1557.0                    1.0  \n",
       "49092                  1.0                       1559.0                    0.0  \n",
       "\n",
       "[49093 rows x 142 columns]"
      ]
     },
     "execution_count": 9,
     "metadata": {},
     "output_type": "execute_result"
    }
   ],
   "source": [
    "df_initial"
   ]
  },
  {
   "cell_type": "code",
   "execution_count": 10,
   "metadata": {},
   "outputs": [
    {
     "data": {
      "text/plain": [
       "(49093, 142)"
      ]
     },
     "execution_count": 10,
     "metadata": {},
     "output_type": "execute_result"
    }
   ],
   "source": [
    "df_initial.shape"
   ]
  },
  {
   "cell_type": "code",
   "execution_count": 11,
   "metadata": {
    "colab": {
     "base_uri": "https://localhost:8080/"
    },
    "id": "gat01yoRL8PN",
    "outputId": "4798c50a-aff2-41b1-b2c2-bc98428a24b9"
   },
   "outputs": [
    {
     "name": "stdout",
     "output_type": "stream",
     "text": [
      "Column names: ['unique_subject_id', 'unique_hospital_admission_id', 'unique_icustay_id', 'subject_id', 'hospital_admission_id', 'icustay_id', 'source_db', 'hospitalid', 'numbedscategory', 'teachingstatus', 'region', 'admission_age', 'sex_female', 'weight_admission', 'height_admission', 'BMI_admission', 'datetime_hospital_admit', 'datetime_hospital_discharge', 'datetime_icu_admit', 'datetime_icu_discharge', 'los_hospital', 'los_ICU', 'comorbidity_score_name', 'comorbidity_score_value', 'in_hospital_mortality', 'race_ethnicity', 'SaO2_timestamp', 'pH', 'pCO2', 'pO2', 'SaO2', 'SpO2', 'Carboxyhemoglobin', 'Methemoglobin', 'SpO2_timestamp', 'delta_SpO2', 'delta_vitals_heart_rate', 'vitals_heart_rate', 'delta_vitals_resp_rate', 'vitals_resp_rate', 'delta_vitals_mbp_ni', 'vitals_mbp_ni', 'delta_vitals_sbp_ni', 'vitals_sbp_ni', 'delta_vitals_dbp_ni', 'vitals_dbp_ni', 'delta_vitals_mbp_i', 'vitals_mbp_i', 'delta_vitals_sbp_i', 'vitals_sbp_i', 'delta_vitals_dbp_i', 'vitals_dbp_i', 'delta_vitals_tempc', 'vitals_tempc', 'delta_cbc_hemoglobin', 'cbc_hemoglobin', 'delta_cbc_hematocrit', 'cbc_hematocrit', 'delta_cbc_mch', 'cbc_mch', 'delta_cbc_mchc', 'cbc_mchc', 'delta_cbc_mcv', 'cbc_mcv', 'delta_cbc_platelet', 'cbc_platelet', 'delta_cbc_rbc', 'cbc_rbc', 'delta_cbc_rdw', 'cbc_rdw', 'delta_cbc_wbc', 'cbc_wbc', 'delta_coag_fibrinogen', 'coag_fibrinogen', 'delta_coag_inr', 'coag_inr', 'delta_coag_pt', 'coag_pt', 'delta_coag_ptt', 'coag_ptt', 'delta_bmp_sodium', 'bmp_sodium', 'delta_bmp_potassium', 'bmp_potassium', 'delta_bmp_chloride', 'bmp_chloride', 'delta_bmp_bicarbonate', 'bmp_bicarbonate', 'delta_bmp_bun', 'bmp_bun', 'delta_bmp_creatinine', 'bmp_creatinine', 'delta_bmp_glucose', 'bmp_glucose', 'delta_bmp_aniongap', 'bmp_aniongap', 'delta_bmp_calcium', 'bmp_calcium', 'delta_bmp_lactate', 'bmp_lactate', 'delta_hfp_alt', 'hfp_alt', 'delta_hfp_alp', 'hfp_alp', 'delta_hfp_ast', 'hfp_ast', 'delta_hfp_bilirubin_total', 'hfp_bilirubin_total', 'delta_hfp_bilirubin_direct', 'hfp_bilirubin_direct', 'delta_hfp_albumin', 'hfp_albumin', 'delta_others_ck_cpk', 'others_ck_cpk', 'delta_others_ck_mb', 'others_ck_mb', 'delta_others_ld_ldh', 'others_ld_ldh', 'delta_sofa_past_overall_24hr', 'sofa_past_overall_24hr', 'delta_sofa_past_coagulation_24hr', 'sofa_past_coagulation_24hr', 'delta_sofa_past_liver_24hr', 'sofa_past_liver_24hr', 'delta_sofa_past_cardiovascular_24hr', 'sofa_past_cardiovascular_24hr', 'delta_sofa_past_cns_24hr', 'sofa_past_cns_24hr', 'delta_sofa_past_renal_24hr', 'sofa_past_renal_24hr', 'delta_sofa_future_overall_24hr', 'sofa_future_overall_24hr', 'delta_sofa_future_coagulation_24hr', 'sofa_future_coagulation_24hr', 'delta_sofa_future_liver_24hr', 'sofa_future_liver_24hr', 'delta_sofa_future_cardiovascular_24hr', 'sofa_future_cardiovascular_24hr', 'delta_sofa_future_cns_24hr', 'sofa_future_cns_24hr', 'delta_sofa_future_renal_24hr', 'sofa_future_renal_24hr']\n"
     ]
    }
   ],
   "source": [
    "# Assume 'df_initial' is your DataFrame\n",
    "column_names = df_initial.columns.tolist()\n",
    "\n",
    "print(\"Column names:\", column_names)"
   ]
  },
  {
   "cell_type": "markdown",
   "metadata": {},
   "source": [
    "### Keeping columns relevant to our question"
   ]
  },
  {
   "cell_type": "code",
   "execution_count": 12,
   "metadata": {},
   "outputs": [],
   "source": [
    "# List of columns to keep\n",
    "    # we are keeping unique ids instead \n",
    "    # we can drop subject ID .... \n",
    "\n",
    "columns_to_keep = [\"unique_subject_id\", \"unique_hospital_admission_id\", \"unique_icustay_id\",\n",
    "    \"admission_age\", \"sex_female\", \"weight_admission\", \"height_admission\",\n",
    "    \"BMI_admission\", \"los_hospital\", \"los_ICU\",\n",
    "    \"comorbidity_score_value\", \"in_hospital_mortality\",\n",
    "    \"race_ethnicity\", \"pH\", \"pO2\", \"SpO2\", \"vitals_tempc\", \"cbc_hemoglobin\",\n",
    "    \"bmp_sodium\", \"bmp_creatinine\", \"bmp_aniongap\", \"hfp_bilirubin_total\", \n",
    "    \"sofa_past_overall_24hr\",\"pCO2\",\"bmp_bicarbonate\"\n",
    "]\n",
    "\n",
    "# Select only the columns you want to keep\n",
    "df_filtered = df_initial[columns_to_keep]"
   ]
  },
  {
   "cell_type": "markdown",
   "metadata": {},
   "source": [
    "### Computing p50 "
   ]
  },
  {
   "cell_type": "code",
   "execution_count": 13,
   "metadata": {},
   "outputs": [
    {
     "name": "stderr",
     "output_type": "stream",
     "text": [
      "/var/folders/sw/5f53r1m13rq2jww8lqgbks700000gn/T/ipykernel_80314/1236854438.py:1: SettingWithCopyWarning: \n",
      "A value is trying to be set on a copy of a slice from a DataFrame.\n",
      "Try using .loc[row_indexer,col_indexer] = value instead\n",
      "\n",
      "See the caveats in the documentation: https://pandas.pydata.org/pandas-docs/stable/user_guide/indexing.html#returning-a-view-versus-a-copy\n",
      "  df_filtered.loc[:, 'p50'] = ((100 * (df_filtered['pO2']**2.7) / df_filtered['SpO2']) - (df_filtered['pO2']**2.7))**(1/2.7)\n"
     ]
    }
   ],
   "source": [
    "df_filtered.loc[:, 'p50'] = ((100 * (df_filtered['pO2']**2.7) / df_filtered['SpO2']) - (df_filtered['pO2']**2.7))**(1/2.7)"
   ]
  },
  {
   "cell_type": "code",
   "execution_count": 14,
   "metadata": {},
   "outputs": [
    {
     "name": "stdout",
     "output_type": "stream",
     "text": [
      "Column names: ['unique_subject_id', 'unique_hospital_admission_id', 'unique_icustay_id', 'admission_age', 'sex_female', 'weight_admission', 'height_admission', 'BMI_admission', 'los_hospital', 'los_ICU', 'comorbidity_score_value', 'in_hospital_mortality', 'race_ethnicity', 'pH', 'pO2', 'SpO2', 'vitals_tempc', 'cbc_hemoglobin', 'bmp_sodium', 'bmp_creatinine', 'bmp_aniongap', 'hfp_bilirubin_total', 'sofa_past_overall_24hr', 'pCO2', 'bmp_bicarbonate', 'p50']\n"
     ]
    }
   ],
   "source": [
    "# checking our new list of columns \n",
    "column_names_withp50 = df_filtered.columns.tolist()\n",
    "\n",
    "print(\"Column names:\", column_names_withp50)"
   ]
  },
  {
   "cell_type": "markdown",
   "metadata": {},
   "source": [
    "### Handling outliers"
   ]
  },
  {
   "cell_type": "code",
   "execution_count": 15,
   "metadata": {},
   "outputs": [],
   "source": [
    "# Visualising the distribution of each feature\n",
    "import pandas as pd\n",
    "import ydata_profiling  # Import the ydata_profiling library\n",
    "\n",
    "# sample_df = df_cleaned_fromMissing.sample(frac=0.1)  # Use 50% of the data for profiling\n",
    "# Generate a profile report for the DataFrame\n",
    "# profile = pandas_profiling.ProfileReport(sample_df, pool_size=4)\n",
    "\n",
    "# profile = ydata_profiling.ProfileReport(df)\n",
    "# profile.to_widgets()"
   ]
  },
  {
   "cell_type": "code",
   "execution_count": 16,
   "metadata": {},
   "outputs": [],
   "source": [
    "# identify and handle potentially erroneous or extreme values in the specified columns by replacing them with NaN.\n",
    "df_filtered.loc[df_filtered[\"pCO2\"] == 0.0, \"pCO2\"] = np.NAN # for pCO2 = 0 \n",
    "df_filtered.loc[df_filtered[\"pH\"] > 8.0, \"pH\"] = np.NAN # for pH>8 \n",
    "df_filtered.loc[df_filtered[\"cbc_hemoglobin\"] > 30.0, \"cbc_hemoglobin\"] = np.NAN # for cbc_hemoglobin > 30.0\n",
    "\n",
    "# should we do for p50 as well ? "
   ]
  },
  {
   "cell_type": "code",
   "execution_count": 17,
   "metadata": {},
   "outputs": [],
   "source": [
    "# To do: go through each of the features and deal with outliers if there is any very weird values\n",
    "\n",
    "## I would deal with outliers here... making it missing is a possibility \n",
    "    ## e.g check glucose - if it is really high ... if you have 2000 you could scale it down 200 => tell the model that it is a very high value \n",
    "    ## you need to look at each variable and look what is the non normal values and see what to do with them -\n",
    "        ## convert to missingness \n",
    "        ## or convert to the boundaring of your possible range... \n",
    "            ## double check with the doctors - !!"
   ]
  },
  {
   "cell_type": "markdown",
   "metadata": {},
   "source": [
    "## Handling Missing values"
   ]
  },
  {
   "cell_type": "code",
   "execution_count": 18,
   "metadata": {},
   "outputs": [
    {
     "name": "stdout",
     "output_type": "stream",
     "text": [
      "There are missing values in the DataFrame.\n"
     ]
    }
   ],
   "source": [
    "# Check for missing values in the entire DataFrame\n",
    "missing_values = df_filtered.isna()  # or df.isnull() \n",
    "\n",
    "# Check if there are any missing values in the entire DataFrame\n",
    "if missing_values.any().any():\n",
    "    print(\"There are missing values in the DataFrame.\")\n",
    "else: \n",
    "    print(\"There are no missing values in the DataFrame.\")"
   ]
  },
  {
   "cell_type": "code",
   "execution_count": 19,
   "metadata": {},
   "outputs": [
    {
     "name": "stdout",
     "output_type": "stream",
     "text": [
      "                                                    Column  \\\n",
      "unique_subject_id                        unique_subject_id   \n",
      "unique_hospital_admission_id  unique_hospital_admission_id   \n",
      "unique_icustay_id                        unique_icustay_id   \n",
      "admission_age                                admission_age   \n",
      "sex_female                                      sex_female   \n",
      "weight_admission                          weight_admission   \n",
      "height_admission                          height_admission   \n",
      "BMI_admission                                BMI_admission   \n",
      "los_hospital                                  los_hospital   \n",
      "los_ICU                                            los_ICU   \n",
      "comorbidity_score_value            comorbidity_score_value   \n",
      "in_hospital_mortality                in_hospital_mortality   \n",
      "race_ethnicity                              race_ethnicity   \n",
      "pH                                                      pH   \n",
      "pO2                                                    pO2   \n",
      "SpO2                                                  SpO2   \n",
      "vitals_tempc                                  vitals_tempc   \n",
      "cbc_hemoglobin                              cbc_hemoglobin   \n",
      "bmp_sodium                                      bmp_sodium   \n",
      "bmp_creatinine                              bmp_creatinine   \n",
      "bmp_aniongap                                  bmp_aniongap   \n",
      "hfp_bilirubin_total                    hfp_bilirubin_total   \n",
      "sofa_past_overall_24hr              sofa_past_overall_24hr   \n",
      "pCO2                                                  pCO2   \n",
      "bmp_bicarbonate                            bmp_bicarbonate   \n",
      "p50                                                    p50   \n",
      "\n",
      "                              Percentage Missing (%)  \n",
      "unique_subject_id                           0.000000  \n",
      "unique_hospital_admission_id                0.000000  \n",
      "unique_icustay_id                           0.000000  \n",
      "admission_age                               0.004074  \n",
      "sex_female                                  0.000000  \n",
      "weight_admission                            2.248793  \n",
      "height_admission                            2.615444  \n",
      "BMI_admission                               4.043346  \n",
      "los_hospital                                0.000000  \n",
      "los_ICU                                     0.000000  \n",
      "comorbidity_score_value                     0.004074  \n",
      "in_hospital_mortality                       0.822928  \n",
      "race_ethnicity                              0.000000  \n",
      "pH                                          0.004074  \n",
      "pO2                                         0.000000  \n",
      "SpO2                                        0.000000  \n",
      "vitals_tempc                               16.212087  \n",
      "cbc_hemoglobin                             13.847188  \n",
      "bmp_sodium                                 13.319618  \n",
      "bmp_creatinine                             15.880064  \n",
      "bmp_aniongap                               28.026399  \n",
      "hfp_bilirubin_total                        38.899639  \n",
      "sofa_past_overall_24hr                     22.361640  \n",
      "pCO2                                        0.002037  \n",
      "bmp_bicarbonate                            21.728149  \n",
      "p50                                         2.910802  \n",
      "Total Percentage Missing in DataFrame: 7.04%\n"
     ]
    }
   ],
   "source": [
    "# Count the number of missing values per column\n",
    "missing_values_count = df_filtered.isna().sum()\n",
    "\n",
    "# Calculate the total number of cells in the DataFrame\n",
    "total_cells = df_filtered.size\n",
    "\n",
    "# Calculate the total number of missing values in the entire DataFrame\n",
    "total_missing_values = missing_values_count.sum()\n",
    "\n",
    "# Calculate the total percentage of missing values in the entire DataFrame\n",
    "total_percentage_missing = (total_missing_values / total_cells) * 100\n",
    "\n",
    "# Create a DataFrame to display the results\n",
    "missing_data_summary = pd.DataFrame({\n",
    "    'Column': df_filtered.columns,\n",
    "    'Percentage Missing (%)': (missing_values_count / len(df_filtered)) * 100\n",
    "})\n",
    "\n",
    "# Print the missing data summary\n",
    "print(missing_data_summary)\n",
    "\n",
    "# Print the total percentage of missing values in the entire DataFrame\n",
    "print(\"Total Percentage Missing in DataFrame: {:.2f}%\".format(total_percentage_missing))\n"
   ]
  },
  {
   "cell_type": "code",
   "execution_count": 20,
   "metadata": {},
   "outputs": [
    {
     "name": "stdout",
     "output_type": "stream",
     "text": [
      "Percentage of rows with at least one missing value: 68.53%\n"
     ]
    }
   ],
   "source": [
    "# Calculate the percentage of rows (patients) with at least one missing value\n",
    "percentage_rows_with_missing = (df_filtered.isnull().any(axis=1).sum() / len(df_filtered)) * 100\n",
    "\n",
    "# Print the percentage of rows with at least one missing value\n",
    "print(\"Percentage of rows with at least one missing value: {:.2f}%\".format(percentage_rows_with_missing))"
   ]
  },
  {
   "cell_type": "markdown",
   "metadata": {},
   "source": [
    "### Drop some missing values for the columns with few missing values \n",
    "Columns: admission_age, weight_admission, height_admission, BMI_admission, comorbidity_score_value, in_hospital_mortality, pH, p50 "
   ]
  },
  {
   "cell_type": "code",
   "execution_count": 21,
   "metadata": {},
   "outputs": [],
   "source": [
    "# for the rows corresponding to the columns where there is only a small percentage of missing values (<5%)\n",
    "# Drop rows with missing values in specific columns\n",
    "   # double check ?? is it just fine to drop teh columns of sofa_past_overall_24hr or should i use it as a regressor? \n",
    "    # could be risky: \n",
    "    # dropping just based on missingness could be dangerous, e.g black people are less likely to get … you could be dropping valuable information \n",
    "    # -> to do ideally usually done in MIMIC, replace by the normal value - preference of Leo \n",
    "\n",
    "df_filtered_1 = df_filtered.dropna (subset =[\"admission_age\", \"weight_admission\",\"height_admission\",\"BMI_admission\",\"comorbidity_score_value\",\"pH\",\"p50\",\"in_hospital_mortality\",\"sofa_past_overall_24hr\",\"pCO2\"])"
   ]
  },
  {
   "cell_type": "markdown",
   "metadata": {},
   "source": [
    "### Imputation of missing values using regression \n",
    "Columns: vitals_tempc, cbc_hemoglobin, bmp_sodium, bmp_creatinine, bmp_aniongap, hfp_bilirubin_total, hfp_albumin, sofa_past_overall_24hr. "
   ]
  },
  {
   "cell_type": "code",
   "execution_count": 22,
   "metadata": {},
   "outputs": [],
   "source": [
    "missing_vars = [\"vitals_tempc\", \"cbc_hemoglobin\", \"bmp_sodium\", \"bmp_bicarbonate\", \"bmp_creatinine\",\"bmp_aniongap\",\"hfp_bilirubin_total\",\"hfp_bilirubin_total\"]"
   ]
  },
  {
   "cell_type": "code",
   "execution_count": 23,
   "metadata": {},
   "outputs": [],
   "source": [
    "predictor_vars = ['admission_age', 'sex_female', 'comorbidity_score_value', 'sofa_past_overall_24hr']"
   ]
  },
  {
   "cell_type": "code",
   "execution_count": 24,
   "metadata": {},
   "outputs": [
    {
     "name": "stderr",
     "output_type": "stream",
     "text": [
      "/opt/anaconda3/envs/ml/lib/python3.9/site-packages/sklearn/impute/_iterative.py:796: ConvergenceWarning: [IterativeImputer] Early stopping criterion not reached.\n",
      "  warnings.warn(\n",
      "/var/folders/sw/5f53r1m13rq2jww8lqgbks700000gn/T/ipykernel_80314/1908856177.py:4: SettingWithCopyWarning: \n",
      "A value is trying to be set on a copy of a slice from a DataFrame.\n",
      "Try using .loc[row_indexer,col_indexer] = value instead\n",
      "\n",
      "See the caveats in the documentation: https://pandas.pydata.org/pandas-docs/stable/user_guide/indexing.html#returning-a-view-versus-a-copy\n",
      "  df_filtered_1[missing_vars] = imputed_df_final[:, -len(missing_vars):]\n"
     ]
    }
   ],
   "source": [
    "## double check ?? \n",
    "imputer = IterativeImputer(estimator=KNeighborsRegressor())\n",
    "imputed_df_final = imputer.fit_transform(df_filtered_1[predictor_vars + missing_vars])\n",
    "df_filtered_1[missing_vars] = imputed_df_final[:, -len(missing_vars):]"
   ]
  },
  {
   "cell_type": "code",
   "execution_count": 25,
   "metadata": {},
   "outputs": [
    {
     "name": "stdout",
     "output_type": "stream",
     "text": [
      "unique_subject_id               0\n",
      "unique_hospital_admission_id    0\n",
      "unique_icustay_id               0\n",
      "admission_age                   0\n",
      "sex_female                      0\n",
      "weight_admission                0\n",
      "height_admission                0\n",
      "BMI_admission                   0\n",
      "los_hospital                    0\n",
      "los_ICU                         0\n",
      "comorbidity_score_value         0\n",
      "in_hospital_mortality           0\n",
      "race_ethnicity                  0\n",
      "pH                              0\n",
      "pO2                             0\n",
      "SpO2                            0\n",
      "vitals_tempc                    0\n",
      "cbc_hemoglobin                  0\n",
      "bmp_sodium                      0\n",
      "bmp_creatinine                  0\n",
      "bmp_aniongap                    0\n",
      "hfp_bilirubin_total             0\n",
      "sofa_past_overall_24hr          0\n",
      "pCO2                            0\n",
      "bmp_bicarbonate                 0\n",
      "p50                             0\n",
      "dtype: int64\n"
     ]
    }
   ],
   "source": [
    "# aims to identify and handle potentially erroneous or extreme values in the specified columns by replacing them with NaN.\n",
    "# Count missing values in each column\n",
    "missing_counts = df_filtered_1.isna().sum()\n",
    "print(missing_counts)"
   ]
  },
  {
   "cell_type": "code",
   "execution_count": 26,
   "metadata": {},
   "outputs": [
    {
     "data": {
      "text/html": [
       "<div>\n",
       "<style scoped>\n",
       "    .dataframe tbody tr th:only-of-type {\n",
       "        vertical-align: middle;\n",
       "    }\n",
       "\n",
       "    .dataframe tbody tr th {\n",
       "        vertical-align: top;\n",
       "    }\n",
       "\n",
       "    .dataframe thead th {\n",
       "        text-align: right;\n",
       "    }\n",
       "</style>\n",
       "<table border=\"1\" class=\"dataframe\">\n",
       "  <thead>\n",
       "    <tr style=\"text-align: right;\">\n",
       "      <th></th>\n",
       "      <th>unique_subject_id</th>\n",
       "      <th>unique_hospital_admission_id</th>\n",
       "      <th>unique_icustay_id</th>\n",
       "      <th>admission_age</th>\n",
       "      <th>sex_female</th>\n",
       "      <th>weight_admission</th>\n",
       "      <th>height_admission</th>\n",
       "      <th>BMI_admission</th>\n",
       "      <th>los_hospital</th>\n",
       "      <th>los_ICU</th>\n",
       "      <th>...</th>\n",
       "      <th>vitals_tempc</th>\n",
       "      <th>cbc_hemoglobin</th>\n",
       "      <th>bmp_sodium</th>\n",
       "      <th>bmp_creatinine</th>\n",
       "      <th>bmp_aniongap</th>\n",
       "      <th>hfp_bilirubin_total</th>\n",
       "      <th>sofa_past_overall_24hr</th>\n",
       "      <th>pCO2</th>\n",
       "      <th>bmp_bicarbonate</th>\n",
       "      <th>p50</th>\n",
       "    </tr>\n",
       "  </thead>\n",
       "  <tbody>\n",
       "    <tr>\n",
       "      <th>9</th>\n",
       "      <td>9</td>\n",
       "      <td>9</td>\n",
       "      <td>9</td>\n",
       "      <td>60.0</td>\n",
       "      <td>0</td>\n",
       "      <td>125.9</td>\n",
       "      <td>172.7</td>\n",
       "      <td>42.212498</td>\n",
       "      <td>6.884028</td>\n",
       "      <td>3.291667</td>\n",
       "      <td>...</td>\n",
       "      <td>38.10</td>\n",
       "      <td>12.8</td>\n",
       "      <td>138.0</td>\n",
       "      <td>0.80</td>\n",
       "      <td>17.0</td>\n",
       "      <td>0.70</td>\n",
       "      <td>6.0</td>\n",
       "      <td>39.0</td>\n",
       "      <td>21.0</td>\n",
       "      <td>24.038383</td>\n",
       "    </tr>\n",
       "    <tr>\n",
       "      <th>10</th>\n",
       "      <td>10</td>\n",
       "      <td>10</td>\n",
       "      <td>10</td>\n",
       "      <td>43.0</td>\n",
       "      <td>0</td>\n",
       "      <td>130.4</td>\n",
       "      <td>167.6</td>\n",
       "      <td>46.422611</td>\n",
       "      <td>7.927778</td>\n",
       "      <td>6.125000</td>\n",
       "      <td>...</td>\n",
       "      <td>37.70</td>\n",
       "      <td>12.4</td>\n",
       "      <td>139.4</td>\n",
       "      <td>0.84</td>\n",
       "      <td>11.6</td>\n",
       "      <td>0.90</td>\n",
       "      <td>4.0</td>\n",
       "      <td>32.0</td>\n",
       "      <td>19.2</td>\n",
       "      <td>0.000000</td>\n",
       "    </tr>\n",
       "    <tr>\n",
       "      <th>11</th>\n",
       "      <td>11</td>\n",
       "      <td>11</td>\n",
       "      <td>11</td>\n",
       "      <td>31.0</td>\n",
       "      <td>0</td>\n",
       "      <td>114.8</td>\n",
       "      <td>190.5</td>\n",
       "      <td>31.633841</td>\n",
       "      <td>14.004861</td>\n",
       "      <td>4.666667</td>\n",
       "      <td>...</td>\n",
       "      <td>38.10</td>\n",
       "      <td>11.8</td>\n",
       "      <td>138.0</td>\n",
       "      <td>1.44</td>\n",
       "      <td>7.0</td>\n",
       "      <td>0.50</td>\n",
       "      <td>3.0</td>\n",
       "      <td>55.0</td>\n",
       "      <td>33.0</td>\n",
       "      <td>0.000000</td>\n",
       "    </tr>\n",
       "    <tr>\n",
       "      <th>12</th>\n",
       "      <td>12</td>\n",
       "      <td>12</td>\n",
       "      <td>12</td>\n",
       "      <td>65.0</td>\n",
       "      <td>0</td>\n",
       "      <td>77.1</td>\n",
       "      <td>185.4</td>\n",
       "      <td>22.430292</td>\n",
       "      <td>93.045139</td>\n",
       "      <td>82.833333</td>\n",
       "      <td>...</td>\n",
       "      <td>36.60</td>\n",
       "      <td>9.6</td>\n",
       "      <td>132.0</td>\n",
       "      <td>5.13</td>\n",
       "      <td>15.0</td>\n",
       "      <td>1.50</td>\n",
       "      <td>6.0</td>\n",
       "      <td>45.0</td>\n",
       "      <td>29.0</td>\n",
       "      <td>43.684856</td>\n",
       "    </tr>\n",
       "    <tr>\n",
       "      <th>13</th>\n",
       "      <td>13</td>\n",
       "      <td>13</td>\n",
       "      <td>13</td>\n",
       "      <td>44.0</td>\n",
       "      <td>0</td>\n",
       "      <td>262.4</td>\n",
       "      <td>190.5</td>\n",
       "      <td>72.305922</td>\n",
       "      <td>30.303472</td>\n",
       "      <td>15.458333</td>\n",
       "      <td>...</td>\n",
       "      <td>36.80</td>\n",
       "      <td>11.4</td>\n",
       "      <td>138.0</td>\n",
       "      <td>5.08</td>\n",
       "      <td>16.0</td>\n",
       "      <td>1.80</td>\n",
       "      <td>8.0</td>\n",
       "      <td>42.0</td>\n",
       "      <td>23.0</td>\n",
       "      <td>22.712905</td>\n",
       "    </tr>\n",
       "    <tr>\n",
       "      <th>...</th>\n",
       "      <td>...</td>\n",
       "      <td>...</td>\n",
       "      <td>...</td>\n",
       "      <td>...</td>\n",
       "      <td>...</td>\n",
       "      <td>...</td>\n",
       "      <td>...</td>\n",
       "      <td>...</td>\n",
       "      <td>...</td>\n",
       "      <td>...</td>\n",
       "      <td>...</td>\n",
       "      <td>...</td>\n",
       "      <td>...</td>\n",
       "      <td>...</td>\n",
       "      <td>...</td>\n",
       "      <td>...</td>\n",
       "      <td>...</td>\n",
       "      <td>...</td>\n",
       "      <td>...</td>\n",
       "      <td>...</td>\n",
       "      <td>...</td>\n",
       "    </tr>\n",
       "    <tr>\n",
       "      <th>49088</th>\n",
       "      <td>44897</td>\n",
       "      <td>49088</td>\n",
       "      <td>49088</td>\n",
       "      <td>68.0</td>\n",
       "      <td>0</td>\n",
       "      <td>94.7</td>\n",
       "      <td>163.0</td>\n",
       "      <td>35.643043</td>\n",
       "      <td>26.000000</td>\n",
       "      <td>18.670000</td>\n",
       "      <td>...</td>\n",
       "      <td>37.89</td>\n",
       "      <td>8.7</td>\n",
       "      <td>139.0</td>\n",
       "      <td>1.70</td>\n",
       "      <td>12.0</td>\n",
       "      <td>0.80</td>\n",
       "      <td>6.0</td>\n",
       "      <td>49.0</td>\n",
       "      <td>28.0</td>\n",
       "      <td>29.235250</td>\n",
       "    </tr>\n",
       "    <tr>\n",
       "      <th>49089</th>\n",
       "      <td>44898</td>\n",
       "      <td>49089</td>\n",
       "      <td>49089</td>\n",
       "      <td>84.0</td>\n",
       "      <td>0</td>\n",
       "      <td>81.6</td>\n",
       "      <td>168.0</td>\n",
       "      <td>28.911565</td>\n",
       "      <td>7.000000</td>\n",
       "      <td>3.380000</td>\n",
       "      <td>...</td>\n",
       "      <td>37.39</td>\n",
       "      <td>11.2</td>\n",
       "      <td>134.0</td>\n",
       "      <td>0.80</td>\n",
       "      <td>9.0</td>\n",
       "      <td>0.62</td>\n",
       "      <td>5.0</td>\n",
       "      <td>33.0</td>\n",
       "      <td>24.0</td>\n",
       "      <td>19.723802</td>\n",
       "    </tr>\n",
       "    <tr>\n",
       "      <th>49090</th>\n",
       "      <td>44899</td>\n",
       "      <td>49090</td>\n",
       "      <td>49090</td>\n",
       "      <td>76.0</td>\n",
       "      <td>0</td>\n",
       "      <td>107.3</td>\n",
       "      <td>183.0</td>\n",
       "      <td>32.040371</td>\n",
       "      <td>12.000000</td>\n",
       "      <td>5.920000</td>\n",
       "      <td>...</td>\n",
       "      <td>36.89</td>\n",
       "      <td>9.6</td>\n",
       "      <td>136.0</td>\n",
       "      <td>1.70</td>\n",
       "      <td>12.0</td>\n",
       "      <td>0.40</td>\n",
       "      <td>11.0</td>\n",
       "      <td>51.0</td>\n",
       "      <td>30.0</td>\n",
       "      <td>22.712905</td>\n",
       "    </tr>\n",
       "    <tr>\n",
       "      <th>49091</th>\n",
       "      <td>44900</td>\n",
       "      <td>49091</td>\n",
       "      <td>49091</td>\n",
       "      <td>63.0</td>\n",
       "      <td>1</td>\n",
       "      <td>59.0</td>\n",
       "      <td>147.0</td>\n",
       "      <td>27.303438</td>\n",
       "      <td>29.000000</td>\n",
       "      <td>25.330000</td>\n",
       "      <td>...</td>\n",
       "      <td>36.89</td>\n",
       "      <td>12.9</td>\n",
       "      <td>145.0</td>\n",
       "      <td>1.20</td>\n",
       "      <td>20.0</td>\n",
       "      <td>2.30</td>\n",
       "      <td>13.0</td>\n",
       "      <td>33.0</td>\n",
       "      <td>20.0</td>\n",
       "      <td>20.057118</td>\n",
       "    </tr>\n",
       "    <tr>\n",
       "      <th>49092</th>\n",
       "      <td>44901</td>\n",
       "      <td>49092</td>\n",
       "      <td>49092</td>\n",
       "      <td>66.0</td>\n",
       "      <td>1</td>\n",
       "      <td>86.0</td>\n",
       "      <td>170.0</td>\n",
       "      <td>29.757785</td>\n",
       "      <td>11.000000</td>\n",
       "      <td>5.000000</td>\n",
       "      <td>...</td>\n",
       "      <td>36.33</td>\n",
       "      <td>10.3</td>\n",
       "      <td>140.0</td>\n",
       "      <td>0.70</td>\n",
       "      <td>11.0</td>\n",
       "      <td>0.30</td>\n",
       "      <td>1.0</td>\n",
       "      <td>38.0</td>\n",
       "      <td>22.0</td>\n",
       "      <td>0.000000</td>\n",
       "    </tr>\n",
       "  </tbody>\n",
       "</table>\n",
       "<p>35245 rows × 26 columns</p>\n",
       "</div>"
      ],
      "text/plain": [
       "       unique_subject_id  unique_hospital_admission_id  unique_icustay_id  \\\n",
       "9                      9                             9                  9   \n",
       "10                    10                            10                 10   \n",
       "11                    11                            11                 11   \n",
       "12                    12                            12                 12   \n",
       "13                    13                            13                 13   \n",
       "...                  ...                           ...                ...   \n",
       "49088              44897                         49088              49088   \n",
       "49089              44898                         49089              49089   \n",
       "49090              44899                         49090              49090   \n",
       "49091              44900                         49091              49091   \n",
       "49092              44901                         49092              49092   \n",
       "\n",
       "       admission_age  sex_female  weight_admission  height_admission  \\\n",
       "9               60.0           0             125.9             172.7   \n",
       "10              43.0           0             130.4             167.6   \n",
       "11              31.0           0             114.8             190.5   \n",
       "12              65.0           0              77.1             185.4   \n",
       "13              44.0           0             262.4             190.5   \n",
       "...              ...         ...               ...               ...   \n",
       "49088           68.0           0              94.7             163.0   \n",
       "49089           84.0           0              81.6             168.0   \n",
       "49090           76.0           0             107.3             183.0   \n",
       "49091           63.0           1              59.0             147.0   \n",
       "49092           66.0           1              86.0             170.0   \n",
       "\n",
       "       BMI_admission  los_hospital    los_ICU  ...  vitals_tempc  \\\n",
       "9          42.212498      6.884028   3.291667  ...         38.10   \n",
       "10         46.422611      7.927778   6.125000  ...         37.70   \n",
       "11         31.633841     14.004861   4.666667  ...         38.10   \n",
       "12         22.430292     93.045139  82.833333  ...         36.60   \n",
       "13         72.305922     30.303472  15.458333  ...         36.80   \n",
       "...              ...           ...        ...  ...           ...   \n",
       "49088      35.643043     26.000000  18.670000  ...         37.89   \n",
       "49089      28.911565      7.000000   3.380000  ...         37.39   \n",
       "49090      32.040371     12.000000   5.920000  ...         36.89   \n",
       "49091      27.303438     29.000000  25.330000  ...         36.89   \n",
       "49092      29.757785     11.000000   5.000000  ...         36.33   \n",
       "\n",
       "       cbc_hemoglobin bmp_sodium  bmp_creatinine  bmp_aniongap  \\\n",
       "9                12.8      138.0            0.80          17.0   \n",
       "10               12.4      139.4            0.84          11.6   \n",
       "11               11.8      138.0            1.44           7.0   \n",
       "12                9.6      132.0            5.13          15.0   \n",
       "13               11.4      138.0            5.08          16.0   \n",
       "...               ...        ...             ...           ...   \n",
       "49088             8.7      139.0            1.70          12.0   \n",
       "49089            11.2      134.0            0.80           9.0   \n",
       "49090             9.6      136.0            1.70          12.0   \n",
       "49091            12.9      145.0            1.20          20.0   \n",
       "49092            10.3      140.0            0.70          11.0   \n",
       "\n",
       "       hfp_bilirubin_total  sofa_past_overall_24hr  pCO2  bmp_bicarbonate  \\\n",
       "9                     0.70                     6.0  39.0             21.0   \n",
       "10                    0.90                     4.0  32.0             19.2   \n",
       "11                    0.50                     3.0  55.0             33.0   \n",
       "12                    1.50                     6.0  45.0             29.0   \n",
       "13                    1.80                     8.0  42.0             23.0   \n",
       "...                    ...                     ...   ...              ...   \n",
       "49088                 0.80                     6.0  49.0             28.0   \n",
       "49089                 0.62                     5.0  33.0             24.0   \n",
       "49090                 0.40                    11.0  51.0             30.0   \n",
       "49091                 2.30                    13.0  33.0             20.0   \n",
       "49092                 0.30                     1.0  38.0             22.0   \n",
       "\n",
       "             p50  \n",
       "9      24.038383  \n",
       "10      0.000000  \n",
       "11      0.000000  \n",
       "12     43.684856  \n",
       "13     22.712905  \n",
       "...          ...  \n",
       "49088  29.235250  \n",
       "49089  19.723802  \n",
       "49090  22.712905  \n",
       "49091  20.057118  \n",
       "49092   0.000000  \n",
       "\n",
       "[35245 rows x 26 columns]"
      ]
     },
     "execution_count": 26,
     "metadata": {},
     "output_type": "execute_result"
    }
   ],
   "source": [
    "df_filtered_1"
   ]
  },
  {
   "cell_type": "markdown",
   "metadata": {},
   "source": [
    "## Variable encoding \n",
    "Variable encoding, also known as feature encoding or categorical encoding, is a fundamental preprocessing step in machine learning and data analysis. Its goal is to convert categorical variables (features) into a numerical format that machine learning algorithms can work with effectively. Categorical variables are those that represent categories or labels rather than numerical quantities. Encoding categorical variables is essential because many machine learning algorithms require numerical input data."
   ]
  },
  {
   "cell_type": "code",
   "execution_count": 27,
   "metadata": {},
   "outputs": [
    {
     "name": "stdout",
     "output_type": "stream",
     "text": [
      "Non-numeric columns found:\n",
      "      race_ethnicity\n",
      "9              White\n",
      "10             Black\n",
      "11             White\n",
      "12             White\n",
      "13             White\n",
      "...              ...\n",
      "49088        Unknown\n",
      "49089          White\n",
      "49090          White\n",
      "49091          White\n",
      "49092          White\n",
      "\n",
      "[35245 rows x 1 columns]\n"
     ]
    }
   ],
   "source": [
    "import pandas as pd\n",
    "\n",
    "# Assuming you have a DataFrame named df\n",
    "# Select columns with non-numeric data types\n",
    "non_numeric_columns = df_filtered_1.select_dtypes(exclude=['number'])\n",
    "\n",
    "# Check if there are any non-numeric columns\n",
    "if non_numeric_columns.empty:\n",
    "    print(\"All values are numerical.\")\n",
    "else:\n",
    "    print(\"Non-numeric columns found:\")\n",
    "    print(non_numeric_columns)\n"
   ]
  },
  {
   "cell_type": "code",
   "execution_count": 28,
   "metadata": {},
   "outputs": [],
   "source": [
    "df = df_filtered_1"
   ]
  },
  {
   "cell_type": "code",
   "execution_count": 29,
   "metadata": {},
   "outputs": [],
   "source": [
    "# usual method - one hot encoding \n",
    "\n",
    "# ethnicity_mapping = {'White': 1, 'Black': 2, 'Unknown': 3}\n",
    "# df['race_ethnicity'] = df['race_ethnicity'].map(ethnicity_mapping)\n",
    "\n",
    "df = pd.get_dummies(df, columns=['race_ethnicity'], prefix='ethnicity')"
   ]
  },
  {
   "cell_type": "markdown",
   "metadata": {
    "id": "u_9tdLgT8HNT"
   },
   "source": [
    "### Profile Report"
   ]
  },
  {
   "cell_type": "code",
   "execution_count": null,
   "metadata": {
    "id": "EYxGghVh8J2h"
   },
   "outputs": [
    {
     "data": {
      "application/vnd.jupyter.widget-view+json": {
       "model_id": "553ee9286f8d4e77aabe65e462528d2b",
       "version_major": 2,
       "version_minor": 0
      },
      "text/plain": [
       "Summarize dataset:   0%|          | 0/5 [00:00<?, ?it/s]"
      ]
     },
     "metadata": {},
     "output_type": "display_data"
    }
   ],
   "source": [
    "import pandas as pd\n",
    "import ydata_profiling  # Import the ydata_profiling library\n",
    "\n",
    "# sample_df = df_cleaned_fromMissing.sample(frac=0.1)  # Use 50% of the data for profiling\n",
    "# Generate a profile report for the DataFrame\n",
    "# profile = pandas_profiling.ProfileReport(sample_df, pool_size=4)\n",
    "\n",
    "profile = ydata_profiling.ProfileReport(df)\n",
    "profile.to_widgets()"
   ]
  },
  {
   "cell_type": "code",
   "execution_count": 31,
   "metadata": {},
   "outputs": [
    {
     "data": {
      "application/vnd.jupyter.widget-view+json": {
       "model_id": "aa4f953483864aea9c2e777a5dc19f09",
       "version_major": 2,
       "version_minor": 0
      },
      "text/plain": [
       "Summarize dataset:   0%|          | 0/5 [00:00<?, ?it/s]"
      ]
     },
     "metadata": {},
     "output_type": "display_data"
    },
    {
     "ename": "AttributeError",
     "evalue": "module 'matplotlib.cbook' has no attribute 'mplDeprecation'",
     "output_type": "error",
     "traceback": [
      "\u001b[0;31m---------------------------------------------------------------------------\u001b[0m",
      "\u001b[0;31mAttributeError\u001b[0m                            Traceback (most recent call last)",
      "File \u001b[0;32m/opt/anaconda3/envs/ml/lib/python3.9/site-packages/IPython/core/formatters.py:344\u001b[0m, in \u001b[0;36mBaseFormatter.__call__\u001b[0;34m(self, obj)\u001b[0m\n\u001b[1;32m    342\u001b[0m     method \u001b[38;5;241m=\u001b[39m get_real_method(obj, \u001b[38;5;28mself\u001b[39m\u001b[38;5;241m.\u001b[39mprint_method)\n\u001b[1;32m    343\u001b[0m     \u001b[38;5;28;01mif\u001b[39;00m method \u001b[38;5;129;01mis\u001b[39;00m \u001b[38;5;129;01mnot\u001b[39;00m \u001b[38;5;28;01mNone\u001b[39;00m:\n\u001b[0;32m--> 344\u001b[0m         \u001b[38;5;28;01mreturn\u001b[39;00m \u001b[43mmethod\u001b[49m\u001b[43m(\u001b[49m\u001b[43m)\u001b[49m\n\u001b[1;32m    345\u001b[0m     \u001b[38;5;28;01mreturn\u001b[39;00m \u001b[38;5;28;01mNone\u001b[39;00m\n\u001b[1;32m    346\u001b[0m \u001b[38;5;28;01melse\u001b[39;00m:\n",
      "File \u001b[0;32m/opt/anaconda3/envs/ml/lib/python3.9/site-packages/typeguard/__init__.py:1033\u001b[0m, in \u001b[0;36mtypechecked.<locals>.wrapper\u001b[0;34m(*args, **kwargs)\u001b[0m\n\u001b[1;32m   1031\u001b[0m memo \u001b[38;5;241m=\u001b[39m _CallMemo(python_func, _localns, args\u001b[38;5;241m=\u001b[39margs, kwargs\u001b[38;5;241m=\u001b[39mkwargs)\n\u001b[1;32m   1032\u001b[0m check_argument_types(memo)\n\u001b[0;32m-> 1033\u001b[0m retval \u001b[38;5;241m=\u001b[39m \u001b[43mfunc\u001b[49m\u001b[43m(\u001b[49m\u001b[38;5;241;43m*\u001b[39;49m\u001b[43margs\u001b[49m\u001b[43m,\u001b[49m\u001b[43m \u001b[49m\u001b[38;5;241;43m*\u001b[39;49m\u001b[38;5;241;43m*\u001b[39;49m\u001b[43mkwargs\u001b[49m\u001b[43m)\u001b[49m\n\u001b[1;32m   1034\u001b[0m \u001b[38;5;28;01mtry\u001b[39;00m:\n\u001b[1;32m   1035\u001b[0m     check_return_type(retval, memo)\n",
      "File \u001b[0;32m/opt/anaconda3/envs/ml/lib/python3.9/site-packages/ydata_profiling/profile_report.py:511\u001b[0m, in \u001b[0;36mProfileReport._repr_html_\u001b[0;34m(self)\u001b[0m\n\u001b[1;32m    509\u001b[0m \u001b[38;5;28;01mdef\u001b[39;00m \u001b[38;5;21m_repr_html_\u001b[39m(\u001b[38;5;28mself\u001b[39m) \u001b[38;5;241m-\u001b[39m\u001b[38;5;241m>\u001b[39m \u001b[38;5;28;01mNone\u001b[39;00m:\n\u001b[1;32m    510\u001b[0m \u001b[38;5;250m    \u001b[39m\u001b[38;5;124;03m\"\"\"The ipython notebook widgets user interface gets called by the jupyter notebook.\"\"\"\u001b[39;00m\n\u001b[0;32m--> 511\u001b[0m     \u001b[38;5;28;43mself\u001b[39;49m\u001b[38;5;241;43m.\u001b[39;49m\u001b[43mto_notebook_iframe\u001b[49m\u001b[43m(\u001b[49m\u001b[43m)\u001b[49m\n",
      "File \u001b[0;32m/opt/anaconda3/envs/ml/lib/python3.9/site-packages/typeguard/__init__.py:1033\u001b[0m, in \u001b[0;36mtypechecked.<locals>.wrapper\u001b[0;34m(*args, **kwargs)\u001b[0m\n\u001b[1;32m   1031\u001b[0m memo \u001b[38;5;241m=\u001b[39m _CallMemo(python_func, _localns, args\u001b[38;5;241m=\u001b[39margs, kwargs\u001b[38;5;241m=\u001b[39mkwargs)\n\u001b[1;32m   1032\u001b[0m check_argument_types(memo)\n\u001b[0;32m-> 1033\u001b[0m retval \u001b[38;5;241m=\u001b[39m \u001b[43mfunc\u001b[49m\u001b[43m(\u001b[49m\u001b[38;5;241;43m*\u001b[39;49m\u001b[43margs\u001b[49m\u001b[43m,\u001b[49m\u001b[43m \u001b[49m\u001b[38;5;241;43m*\u001b[39;49m\u001b[38;5;241;43m*\u001b[39;49m\u001b[43mkwargs\u001b[49m\u001b[43m)\u001b[49m\n\u001b[1;32m   1034\u001b[0m \u001b[38;5;28;01mtry\u001b[39;00m:\n\u001b[1;32m   1035\u001b[0m     check_return_type(retval, memo)\n",
      "File \u001b[0;32m/opt/anaconda3/envs/ml/lib/python3.9/site-packages/ydata_profiling/profile_report.py:491\u001b[0m, in \u001b[0;36mProfileReport.to_notebook_iframe\u001b[0;34m(self)\u001b[0m\n\u001b[1;32m    489\u001b[0m \u001b[38;5;28;01mwith\u001b[39;00m warnings\u001b[38;5;241m.\u001b[39mcatch_warnings():\n\u001b[1;32m    490\u001b[0m     warnings\u001b[38;5;241m.\u001b[39msimplefilter(\u001b[38;5;124m\"\u001b[39m\u001b[38;5;124mignore\u001b[39m\u001b[38;5;124m\"\u001b[39m)\n\u001b[0;32m--> 491\u001b[0m     display(\u001b[43mget_notebook_iframe\u001b[49m\u001b[43m(\u001b[49m\u001b[38;5;28;43mself\u001b[39;49m\u001b[38;5;241;43m.\u001b[39;49m\u001b[43mconfig\u001b[49m\u001b[43m,\u001b[49m\u001b[43m \u001b[49m\u001b[38;5;28;43mself\u001b[39;49m\u001b[43m)\u001b[49m)\n",
      "File \u001b[0;32m/opt/anaconda3/envs/ml/lib/python3.9/site-packages/ydata_profiling/report/presentation/flavours/widget/notebook.py:75\u001b[0m, in \u001b[0;36mget_notebook_iframe\u001b[0;34m(config, profile)\u001b[0m\n\u001b[1;32m     73\u001b[0m     output \u001b[38;5;241m=\u001b[39m get_notebook_iframe_src(config, profile)\n\u001b[1;32m     74\u001b[0m \u001b[38;5;28;01melif\u001b[39;00m attribute \u001b[38;5;241m==\u001b[39m IframeAttribute\u001b[38;5;241m.\u001b[39msrcdoc:\n\u001b[0;32m---> 75\u001b[0m     output \u001b[38;5;241m=\u001b[39m \u001b[43mget_notebook_iframe_srcdoc\u001b[49m\u001b[43m(\u001b[49m\u001b[43mconfig\u001b[49m\u001b[43m,\u001b[49m\u001b[43m \u001b[49m\u001b[43mprofile\u001b[49m\u001b[43m)\u001b[49m\n\u001b[1;32m     76\u001b[0m \u001b[38;5;28;01melse\u001b[39;00m:\n\u001b[1;32m     77\u001b[0m     \u001b[38;5;28;01mraise\u001b[39;00m \u001b[38;5;167;01mValueError\u001b[39;00m(\n\u001b[1;32m     78\u001b[0m         \u001b[38;5;124mf\u001b[39m\u001b[38;5;124m'\u001b[39m\u001b[38;5;124mIframe Attribute can be \u001b[39m\u001b[38;5;124m\"\u001b[39m\u001b[38;5;124msrc\u001b[39m\u001b[38;5;124m\"\u001b[39m\u001b[38;5;124m or \u001b[39m\u001b[38;5;124m\"\u001b[39m\u001b[38;5;124msrcdoc\u001b[39m\u001b[38;5;124m\"\u001b[39m\u001b[38;5;124m (current: \u001b[39m\u001b[38;5;132;01m{\u001b[39;00mattribute\u001b[38;5;132;01m}\u001b[39;00m\u001b[38;5;124m).\u001b[39m\u001b[38;5;124m'\u001b[39m\n\u001b[1;32m     79\u001b[0m     )\n",
      "File \u001b[0;32m/opt/anaconda3/envs/ml/lib/python3.9/site-packages/ydata_profiling/report/presentation/flavours/widget/notebook.py:29\u001b[0m, in \u001b[0;36mget_notebook_iframe_srcdoc\u001b[0;34m(config, profile)\u001b[0m\n\u001b[1;32m     27\u001b[0m width \u001b[38;5;241m=\u001b[39m config\u001b[38;5;241m.\u001b[39mnotebook\u001b[38;5;241m.\u001b[39miframe\u001b[38;5;241m.\u001b[39mwidth\n\u001b[1;32m     28\u001b[0m height \u001b[38;5;241m=\u001b[39m config\u001b[38;5;241m.\u001b[39mnotebook\u001b[38;5;241m.\u001b[39miframe\u001b[38;5;241m.\u001b[39mheight\n\u001b[0;32m---> 29\u001b[0m src \u001b[38;5;241m=\u001b[39m html\u001b[38;5;241m.\u001b[39mescape(\u001b[43mprofile\u001b[49m\u001b[38;5;241;43m.\u001b[39;49m\u001b[43mto_html\u001b[49m\u001b[43m(\u001b[49m\u001b[43m)\u001b[49m)\n\u001b[1;32m     31\u001b[0m iframe \u001b[38;5;241m=\u001b[39m \u001b[38;5;124mf\u001b[39m\u001b[38;5;124m'\u001b[39m\u001b[38;5;124m<iframe width=\u001b[39m\u001b[38;5;124m\"\u001b[39m\u001b[38;5;132;01m{\u001b[39;00mwidth\u001b[38;5;132;01m}\u001b[39;00m\u001b[38;5;124m\"\u001b[39m\u001b[38;5;124m height=\u001b[39m\u001b[38;5;124m\"\u001b[39m\u001b[38;5;132;01m{\u001b[39;00mheight\u001b[38;5;132;01m}\u001b[39;00m\u001b[38;5;124m\"\u001b[39m\u001b[38;5;124m srcdoc=\u001b[39m\u001b[38;5;124m\"\u001b[39m\u001b[38;5;132;01m{\u001b[39;00msrc\u001b[38;5;132;01m}\u001b[39;00m\u001b[38;5;124m\"\u001b[39m\u001b[38;5;124m frameborder=\u001b[39m\u001b[38;5;124m\"\u001b[39m\u001b[38;5;124m0\u001b[39m\u001b[38;5;124m\"\u001b[39m\u001b[38;5;124m allowfullscreen></iframe>\u001b[39m\u001b[38;5;124m'\u001b[39m\n\u001b[1;32m     33\u001b[0m \u001b[38;5;28;01mreturn\u001b[39;00m HTML(iframe)\n",
      "File \u001b[0;32m/opt/anaconda3/envs/ml/lib/python3.9/site-packages/typeguard/__init__.py:1033\u001b[0m, in \u001b[0;36mtypechecked.<locals>.wrapper\u001b[0;34m(*args, **kwargs)\u001b[0m\n\u001b[1;32m   1031\u001b[0m memo \u001b[38;5;241m=\u001b[39m _CallMemo(python_func, _localns, args\u001b[38;5;241m=\u001b[39margs, kwargs\u001b[38;5;241m=\u001b[39mkwargs)\n\u001b[1;32m   1032\u001b[0m check_argument_types(memo)\n\u001b[0;32m-> 1033\u001b[0m retval \u001b[38;5;241m=\u001b[39m \u001b[43mfunc\u001b[49m\u001b[43m(\u001b[49m\u001b[38;5;241;43m*\u001b[39;49m\u001b[43margs\u001b[49m\u001b[43m,\u001b[49m\u001b[43m \u001b[49m\u001b[38;5;241;43m*\u001b[39;49m\u001b[38;5;241;43m*\u001b[39;49m\u001b[43mkwargs\u001b[49m\u001b[43m)\u001b[49m\n\u001b[1;32m   1034\u001b[0m \u001b[38;5;28;01mtry\u001b[39;00m:\n\u001b[1;32m   1035\u001b[0m     check_return_type(retval, memo)\n",
      "File \u001b[0;32m/opt/anaconda3/envs/ml/lib/python3.9/site-packages/ydata_profiling/profile_report.py:461\u001b[0m, in \u001b[0;36mProfileReport.to_html\u001b[0;34m(self)\u001b[0m\n\u001b[1;32m    453\u001b[0m \u001b[38;5;28;01mdef\u001b[39;00m \u001b[38;5;21mto_html\u001b[39m(\u001b[38;5;28mself\u001b[39m) \u001b[38;5;241m-\u001b[39m\u001b[38;5;241m>\u001b[39m \u001b[38;5;28mstr\u001b[39m:\n\u001b[1;32m    454\u001b[0m \u001b[38;5;250m    \u001b[39m\u001b[38;5;124;03m\"\"\"Generate and return complete template as lengthy string\u001b[39;00m\n\u001b[1;32m    455\u001b[0m \u001b[38;5;124;03m        for using with frameworks.\u001b[39;00m\n\u001b[1;32m    456\u001b[0m \n\u001b[0;32m   (...)\u001b[0m\n\u001b[1;32m    459\u001b[0m \n\u001b[1;32m    460\u001b[0m \u001b[38;5;124;03m    \"\"\"\u001b[39;00m\n\u001b[0;32m--> 461\u001b[0m     \u001b[38;5;28;01mreturn\u001b[39;00m \u001b[38;5;28;43mself\u001b[39;49m\u001b[38;5;241;43m.\u001b[39;49m\u001b[43mhtml\u001b[49m\n",
      "File \u001b[0;32m/opt/anaconda3/envs/ml/lib/python3.9/site-packages/typeguard/__init__.py:1033\u001b[0m, in \u001b[0;36mtypechecked.<locals>.wrapper\u001b[0;34m(*args, **kwargs)\u001b[0m\n\u001b[1;32m   1031\u001b[0m memo \u001b[38;5;241m=\u001b[39m _CallMemo(python_func, _localns, args\u001b[38;5;241m=\u001b[39margs, kwargs\u001b[38;5;241m=\u001b[39mkwargs)\n\u001b[1;32m   1032\u001b[0m check_argument_types(memo)\n\u001b[0;32m-> 1033\u001b[0m retval \u001b[38;5;241m=\u001b[39m \u001b[43mfunc\u001b[49m\u001b[43m(\u001b[49m\u001b[38;5;241;43m*\u001b[39;49m\u001b[43margs\u001b[49m\u001b[43m,\u001b[49m\u001b[43m \u001b[49m\u001b[38;5;241;43m*\u001b[39;49m\u001b[38;5;241;43m*\u001b[39;49m\u001b[43mkwargs\u001b[49m\u001b[43m)\u001b[49m\n\u001b[1;32m   1034\u001b[0m \u001b[38;5;28;01mtry\u001b[39;00m:\n\u001b[1;32m   1035\u001b[0m     check_return_type(retval, memo)\n",
      "File \u001b[0;32m/opt/anaconda3/envs/ml/lib/python3.9/site-packages/ydata_profiling/profile_report.py:272\u001b[0m, in \u001b[0;36mProfileReport.html\u001b[0;34m(self)\u001b[0m\n\u001b[1;32m    269\u001b[0m \u001b[38;5;129m@property\u001b[39m\n\u001b[1;32m    270\u001b[0m \u001b[38;5;28;01mdef\u001b[39;00m \u001b[38;5;21mhtml\u001b[39m(\u001b[38;5;28mself\u001b[39m) \u001b[38;5;241m-\u001b[39m\u001b[38;5;241m>\u001b[39m \u001b[38;5;28mstr\u001b[39m:\n\u001b[1;32m    271\u001b[0m     \u001b[38;5;28;01mif\u001b[39;00m \u001b[38;5;28mself\u001b[39m\u001b[38;5;241m.\u001b[39m_html \u001b[38;5;129;01mis\u001b[39;00m \u001b[38;5;28;01mNone\u001b[39;00m:\n\u001b[0;32m--> 272\u001b[0m         \u001b[38;5;28mself\u001b[39m\u001b[38;5;241m.\u001b[39m_html \u001b[38;5;241m=\u001b[39m \u001b[38;5;28;43mself\u001b[39;49m\u001b[38;5;241;43m.\u001b[39;49m\u001b[43m_render_html\u001b[49m\u001b[43m(\u001b[49m\u001b[43m)\u001b[49m\n\u001b[1;32m    273\u001b[0m     \u001b[38;5;28;01mreturn\u001b[39;00m \u001b[38;5;28mself\u001b[39m\u001b[38;5;241m.\u001b[39m_html\n",
      "File \u001b[0;32m/opt/anaconda3/envs/ml/lib/python3.9/site-packages/typeguard/__init__.py:1033\u001b[0m, in \u001b[0;36mtypechecked.<locals>.wrapper\u001b[0;34m(*args, **kwargs)\u001b[0m\n\u001b[1;32m   1031\u001b[0m memo \u001b[38;5;241m=\u001b[39m _CallMemo(python_func, _localns, args\u001b[38;5;241m=\u001b[39margs, kwargs\u001b[38;5;241m=\u001b[39mkwargs)\n\u001b[1;32m   1032\u001b[0m check_argument_types(memo)\n\u001b[0;32m-> 1033\u001b[0m retval \u001b[38;5;241m=\u001b[39m \u001b[43mfunc\u001b[49m\u001b[43m(\u001b[49m\u001b[38;5;241;43m*\u001b[39;49m\u001b[43margs\u001b[49m\u001b[43m,\u001b[49m\u001b[43m \u001b[49m\u001b[38;5;241;43m*\u001b[39;49m\u001b[38;5;241;43m*\u001b[39;49m\u001b[43mkwargs\u001b[49m\u001b[43m)\u001b[49m\n\u001b[1;32m   1034\u001b[0m \u001b[38;5;28;01mtry\u001b[39;00m:\n\u001b[1;32m   1035\u001b[0m     check_return_type(retval, memo)\n",
      "File \u001b[0;32m/opt/anaconda3/envs/ml/lib/python3.9/site-packages/ydata_profiling/profile_report.py:380\u001b[0m, in \u001b[0;36mProfileReport._render_html\u001b[0;34m(self)\u001b[0m\n\u001b[1;32m    377\u001b[0m \u001b[38;5;28;01mdef\u001b[39;00m \u001b[38;5;21m_render_html\u001b[39m(\u001b[38;5;28mself\u001b[39m) \u001b[38;5;241m-\u001b[39m\u001b[38;5;241m>\u001b[39m \u001b[38;5;28mstr\u001b[39m:\n\u001b[1;32m    378\u001b[0m     \u001b[38;5;28;01mfrom\u001b[39;00m \u001b[38;5;21;01mydata_profiling\u001b[39;00m\u001b[38;5;21;01m.\u001b[39;00m\u001b[38;5;21;01mreport\u001b[39;00m\u001b[38;5;21;01m.\u001b[39;00m\u001b[38;5;21;01mpresentation\u001b[39;00m\u001b[38;5;21;01m.\u001b[39;00m\u001b[38;5;21;01mflavours\u001b[39;00m \u001b[38;5;28;01mimport\u001b[39;00m HTMLReport\n\u001b[0;32m--> 380\u001b[0m     report \u001b[38;5;241m=\u001b[39m \u001b[38;5;28;43mself\u001b[39;49m\u001b[38;5;241;43m.\u001b[39;49m\u001b[43mreport\u001b[49m\n\u001b[1;32m    382\u001b[0m     \u001b[38;5;28;01mwith\u001b[39;00m tqdm(\n\u001b[1;32m    383\u001b[0m         total\u001b[38;5;241m=\u001b[39m\u001b[38;5;241m1\u001b[39m, desc\u001b[38;5;241m=\u001b[39m\u001b[38;5;124m\"\u001b[39m\u001b[38;5;124mRender HTML\u001b[39m\u001b[38;5;124m\"\u001b[39m, disable\u001b[38;5;241m=\u001b[39m\u001b[38;5;129;01mnot\u001b[39;00m \u001b[38;5;28mself\u001b[39m\u001b[38;5;241m.\u001b[39mconfig\u001b[38;5;241m.\u001b[39mprogress_bar\n\u001b[1;32m    384\u001b[0m     ) \u001b[38;5;28;01mas\u001b[39;00m pbar:\n\u001b[1;32m    385\u001b[0m         html \u001b[38;5;241m=\u001b[39m HTMLReport(copy\u001b[38;5;241m.\u001b[39mdeepcopy(report))\u001b[38;5;241m.\u001b[39mrender(\n\u001b[1;32m    386\u001b[0m             nav\u001b[38;5;241m=\u001b[39m\u001b[38;5;28mself\u001b[39m\u001b[38;5;241m.\u001b[39mconfig\u001b[38;5;241m.\u001b[39mhtml\u001b[38;5;241m.\u001b[39mnavbar_show,\n\u001b[1;32m    387\u001b[0m             offline\u001b[38;5;241m=\u001b[39m\u001b[38;5;28mself\u001b[39m\u001b[38;5;241m.\u001b[39mconfig\u001b[38;5;241m.\u001b[39mhtml\u001b[38;5;241m.\u001b[39muse_local_assets,\n\u001b[0;32m   (...)\u001b[0m\n\u001b[1;32m    395\u001b[0m             version\u001b[38;5;241m=\u001b[39m\u001b[38;5;28mself\u001b[39m\u001b[38;5;241m.\u001b[39mdescription_set[\u001b[38;5;124m\"\u001b[39m\u001b[38;5;124mpackage\u001b[39m\u001b[38;5;124m\"\u001b[39m][\u001b[38;5;124m\"\u001b[39m\u001b[38;5;124mydata_profiling_version\u001b[39m\u001b[38;5;124m\"\u001b[39m],\n\u001b[1;32m    396\u001b[0m         )\n",
      "File \u001b[0;32m/opt/anaconda3/envs/ml/lib/python3.9/site-packages/typeguard/__init__.py:1033\u001b[0m, in \u001b[0;36mtypechecked.<locals>.wrapper\u001b[0;34m(*args, **kwargs)\u001b[0m\n\u001b[1;32m   1031\u001b[0m memo \u001b[38;5;241m=\u001b[39m _CallMemo(python_func, _localns, args\u001b[38;5;241m=\u001b[39margs, kwargs\u001b[38;5;241m=\u001b[39mkwargs)\n\u001b[1;32m   1032\u001b[0m check_argument_types(memo)\n\u001b[0;32m-> 1033\u001b[0m retval \u001b[38;5;241m=\u001b[39m \u001b[43mfunc\u001b[49m\u001b[43m(\u001b[49m\u001b[38;5;241;43m*\u001b[39;49m\u001b[43margs\u001b[49m\u001b[43m,\u001b[49m\u001b[43m \u001b[49m\u001b[38;5;241;43m*\u001b[39;49m\u001b[38;5;241;43m*\u001b[39;49m\u001b[43mkwargs\u001b[49m\u001b[43m)\u001b[49m\n\u001b[1;32m   1034\u001b[0m \u001b[38;5;28;01mtry\u001b[39;00m:\n\u001b[1;32m   1035\u001b[0m     check_return_type(retval, memo)\n",
      "File \u001b[0;32m/opt/anaconda3/envs/ml/lib/python3.9/site-packages/ydata_profiling/profile_report.py:266\u001b[0m, in \u001b[0;36mProfileReport.report\u001b[0;34m(self)\u001b[0m\n\u001b[1;32m    263\u001b[0m \u001b[38;5;129m@property\u001b[39m\n\u001b[1;32m    264\u001b[0m \u001b[38;5;28;01mdef\u001b[39;00m \u001b[38;5;21mreport\u001b[39m(\u001b[38;5;28mself\u001b[39m) \u001b[38;5;241m-\u001b[39m\u001b[38;5;241m>\u001b[39m Root:\n\u001b[1;32m    265\u001b[0m     \u001b[38;5;28;01mif\u001b[39;00m \u001b[38;5;28mself\u001b[39m\u001b[38;5;241m.\u001b[39m_report \u001b[38;5;129;01mis\u001b[39;00m \u001b[38;5;28;01mNone\u001b[39;00m:\n\u001b[0;32m--> 266\u001b[0m         \u001b[38;5;28mself\u001b[39m\u001b[38;5;241m.\u001b[39m_report \u001b[38;5;241m=\u001b[39m get_report_structure(\u001b[38;5;28mself\u001b[39m\u001b[38;5;241m.\u001b[39mconfig, \u001b[38;5;28;43mself\u001b[39;49m\u001b[38;5;241;43m.\u001b[39;49m\u001b[43mdescription_set\u001b[49m)\n\u001b[1;32m    267\u001b[0m     \u001b[38;5;28;01mreturn\u001b[39;00m \u001b[38;5;28mself\u001b[39m\u001b[38;5;241m.\u001b[39m_report\n",
      "File \u001b[0;32m/opt/anaconda3/envs/ml/lib/python3.9/site-packages/typeguard/__init__.py:1033\u001b[0m, in \u001b[0;36mtypechecked.<locals>.wrapper\u001b[0;34m(*args, **kwargs)\u001b[0m\n\u001b[1;32m   1031\u001b[0m memo \u001b[38;5;241m=\u001b[39m _CallMemo(python_func, _localns, args\u001b[38;5;241m=\u001b[39margs, kwargs\u001b[38;5;241m=\u001b[39mkwargs)\n\u001b[1;32m   1032\u001b[0m check_argument_types(memo)\n\u001b[0;32m-> 1033\u001b[0m retval \u001b[38;5;241m=\u001b[39m \u001b[43mfunc\u001b[49m\u001b[43m(\u001b[49m\u001b[38;5;241;43m*\u001b[39;49m\u001b[43margs\u001b[49m\u001b[43m,\u001b[49m\u001b[43m \u001b[49m\u001b[38;5;241;43m*\u001b[39;49m\u001b[38;5;241;43m*\u001b[39;49m\u001b[43mkwargs\u001b[49m\u001b[43m)\u001b[49m\n\u001b[1;32m   1034\u001b[0m \u001b[38;5;28;01mtry\u001b[39;00m:\n\u001b[1;32m   1035\u001b[0m     check_return_type(retval, memo)\n",
      "File \u001b[0;32m/opt/anaconda3/envs/ml/lib/python3.9/site-packages/ydata_profiling/profile_report.py:248\u001b[0m, in \u001b[0;36mProfileReport.description_set\u001b[0;34m(self)\u001b[0m\n\u001b[1;32m    245\u001b[0m \u001b[38;5;129m@property\u001b[39m\n\u001b[1;32m    246\u001b[0m \u001b[38;5;28;01mdef\u001b[39;00m \u001b[38;5;21mdescription_set\u001b[39m(\u001b[38;5;28mself\u001b[39m) \u001b[38;5;241m-\u001b[39m\u001b[38;5;241m>\u001b[39m Dict[\u001b[38;5;28mstr\u001b[39m, Any]:\n\u001b[1;32m    247\u001b[0m     \u001b[38;5;28;01mif\u001b[39;00m \u001b[38;5;28mself\u001b[39m\u001b[38;5;241m.\u001b[39m_description_set \u001b[38;5;129;01mis\u001b[39;00m \u001b[38;5;28;01mNone\u001b[39;00m:\n\u001b[0;32m--> 248\u001b[0m         \u001b[38;5;28mself\u001b[39m\u001b[38;5;241m.\u001b[39m_description_set \u001b[38;5;241m=\u001b[39m \u001b[43mdescribe_df\u001b[49m\u001b[43m(\u001b[49m\n\u001b[1;32m    249\u001b[0m \u001b[43m            \u001b[49m\u001b[38;5;28;43mself\u001b[39;49m\u001b[38;5;241;43m.\u001b[39;49m\u001b[43mconfig\u001b[49m\u001b[43m,\u001b[49m\n\u001b[1;32m    250\u001b[0m \u001b[43m            \u001b[49m\u001b[38;5;28;43mself\u001b[39;49m\u001b[38;5;241;43m.\u001b[39;49m\u001b[43mdf\u001b[49m\u001b[43m,\u001b[49m\n\u001b[1;32m    251\u001b[0m \u001b[43m            \u001b[49m\u001b[38;5;28;43mself\u001b[39;49m\u001b[38;5;241;43m.\u001b[39;49m\u001b[43msummarizer\u001b[49m\u001b[43m,\u001b[49m\n\u001b[1;32m    252\u001b[0m \u001b[43m            \u001b[49m\u001b[38;5;28;43mself\u001b[39;49m\u001b[38;5;241;43m.\u001b[39;49m\u001b[43mtypeset\u001b[49m\u001b[43m,\u001b[49m\n\u001b[1;32m    253\u001b[0m \u001b[43m            \u001b[49m\u001b[38;5;28;43mself\u001b[39;49m\u001b[38;5;241;43m.\u001b[39;49m\u001b[43m_sample\u001b[49m\u001b[43m,\u001b[49m\n\u001b[1;32m    254\u001b[0m \u001b[43m        \u001b[49m\u001b[43m)\u001b[49m\n\u001b[1;32m    255\u001b[0m     \u001b[38;5;28;01mreturn\u001b[39;00m \u001b[38;5;28mself\u001b[39m\u001b[38;5;241m.\u001b[39m_description_set\n",
      "File \u001b[0;32m/opt/anaconda3/envs/ml/lib/python3.9/site-packages/ydata_profiling/model/describe.py:127\u001b[0m, in \u001b[0;36mdescribe\u001b[0;34m(config, df, summarizer, typeset, sample)\u001b[0m\n\u001b[1;32m    123\u001b[0m scatter_matrix: Dict[Any, Dict[Any, Any]] \u001b[38;5;241m=\u001b[39m {\n\u001b[1;32m    124\u001b[0m     x: {y: \u001b[38;5;28;01mNone\u001b[39;00m} \u001b[38;5;28;01mfor\u001b[39;00m x, y \u001b[38;5;129;01min\u001b[39;00m scatter_tasks\n\u001b[1;32m    125\u001b[0m }\n\u001b[1;32m    126\u001b[0m \u001b[38;5;28;01mfor\u001b[39;00m x, y \u001b[38;5;129;01min\u001b[39;00m scatter_tasks:\n\u001b[0;32m--> 127\u001b[0m     scatter_matrix[x][y] \u001b[38;5;241m=\u001b[39m \u001b[43mprogress\u001b[49m\u001b[43m(\u001b[49m\n\u001b[1;32m    128\u001b[0m \u001b[43m        \u001b[49m\u001b[43mget_scatter_plot\u001b[49m\u001b[43m,\u001b[49m\u001b[43m \u001b[49m\u001b[43mpbar\u001b[49m\u001b[43m,\u001b[49m\u001b[43m \u001b[49m\u001b[38;5;124;43mf\u001b[39;49m\u001b[38;5;124;43m\"\u001b[39;49m\u001b[38;5;124;43mscatter \u001b[39;49m\u001b[38;5;132;43;01m{\u001b[39;49;00m\u001b[43mx\u001b[49m\u001b[38;5;132;43;01m}\u001b[39;49;00m\u001b[38;5;124;43m, \u001b[39;49m\u001b[38;5;132;43;01m{\u001b[39;49;00m\u001b[43my\u001b[49m\u001b[38;5;132;43;01m}\u001b[39;49;00m\u001b[38;5;124;43m\"\u001b[39;49m\n\u001b[1;32m    129\u001b[0m \u001b[43m    \u001b[49m\u001b[43m)\u001b[49m\u001b[43m(\u001b[49m\u001b[43mconfig\u001b[49m\u001b[43m,\u001b[49m\u001b[43m \u001b[49m\u001b[43mdf\u001b[49m\u001b[43m,\u001b[49m\u001b[43m \u001b[49m\u001b[43mx\u001b[49m\u001b[43m,\u001b[49m\u001b[43m \u001b[49m\u001b[43my\u001b[49m\u001b[43m,\u001b[49m\u001b[43m \u001b[49m\u001b[43minterval_columns\u001b[49m\u001b[43m)\u001b[49m\n\u001b[1;32m    131\u001b[0m \u001b[38;5;66;03m# missing diagrams\u001b[39;00m\n\u001b[1;32m    132\u001b[0m missing_map \u001b[38;5;241m=\u001b[39m get_missing_active(config, table_stats)\n",
      "File \u001b[0;32m/opt/anaconda3/envs/ml/lib/python3.9/site-packages/ydata_profiling/utils/progress_bar.py:11\u001b[0m, in \u001b[0;36mprogress.<locals>.inner\u001b[0;34m(*args, **kwargs)\u001b[0m\n\u001b[1;32m      8\u001b[0m \u001b[38;5;129m@wraps\u001b[39m(fn)\n\u001b[1;32m      9\u001b[0m \u001b[38;5;28;01mdef\u001b[39;00m \u001b[38;5;21minner\u001b[39m(\u001b[38;5;241m*\u001b[39margs, \u001b[38;5;241m*\u001b[39m\u001b[38;5;241m*\u001b[39mkwargs) \u001b[38;5;241m-\u001b[39m\u001b[38;5;241m>\u001b[39m Any:\n\u001b[1;32m     10\u001b[0m     bar\u001b[38;5;241m.\u001b[39mset_postfix_str(message)\n\u001b[0;32m---> 11\u001b[0m     ret \u001b[38;5;241m=\u001b[39m \u001b[43mfn\u001b[49m\u001b[43m(\u001b[49m\u001b[38;5;241;43m*\u001b[39;49m\u001b[43margs\u001b[49m\u001b[43m,\u001b[49m\u001b[43m \u001b[49m\u001b[38;5;241;43m*\u001b[39;49m\u001b[38;5;241;43m*\u001b[39;49m\u001b[43mkwargs\u001b[49m\u001b[43m)\u001b[49m\n\u001b[1;32m     12\u001b[0m     bar\u001b[38;5;241m.\u001b[39mupdate()\n\u001b[1;32m     13\u001b[0m     \u001b[38;5;28;01mreturn\u001b[39;00m ret\n",
      "File \u001b[0;32m/opt/anaconda3/envs/ml/lib/python3.9/site-packages/ydata_profiling/model/pairwise.py:31\u001b[0m, in \u001b[0;36mget_scatter_plot\u001b[0;34m(config, df, x, y, continuous_variables)\u001b[0m\n\u001b[1;32m     29\u001b[0m     \u001b[38;5;28;01melse\u001b[39;00m:\n\u001b[1;32m     30\u001b[0m         df_temp \u001b[38;5;241m=\u001b[39m df[[x, y]]\u001b[38;5;241m.\u001b[39mdropna()\n\u001b[0;32m---> 31\u001b[0m     \u001b[38;5;28;01mreturn\u001b[39;00m \u001b[43mscatter_pairwise\u001b[49m\u001b[43m(\u001b[49m\u001b[43mconfig\u001b[49m\u001b[43m,\u001b[49m\u001b[43m \u001b[49m\u001b[43mdf_temp\u001b[49m\u001b[43m[\u001b[49m\u001b[43mx\u001b[49m\u001b[43m]\u001b[49m\u001b[43m,\u001b[49m\u001b[43m \u001b[49m\u001b[43mdf_temp\u001b[49m\u001b[43m[\u001b[49m\u001b[43my\u001b[49m\u001b[43m]\u001b[49m\u001b[43m,\u001b[49m\u001b[43m \u001b[49m\u001b[43mx\u001b[49m\u001b[43m,\u001b[49m\u001b[43m \u001b[49m\u001b[43my\u001b[49m\u001b[43m)\u001b[49m\n\u001b[1;32m     32\u001b[0m \u001b[38;5;28;01melse\u001b[39;00m:\n\u001b[1;32m     33\u001b[0m     \u001b[38;5;28;01mreturn\u001b[39;00m \u001b[38;5;124m\"\u001b[39m\u001b[38;5;124m\"\u001b[39m\n",
      "File \u001b[0;32m/opt/anaconda3/envs/ml/lib/python3.9/contextlib.py:79\u001b[0m, in \u001b[0;36mContextDecorator.__call__.<locals>.inner\u001b[0;34m(*args, **kwds)\u001b[0m\n\u001b[1;32m     76\u001b[0m \u001b[38;5;129m@wraps\u001b[39m(func)\n\u001b[1;32m     77\u001b[0m \u001b[38;5;28;01mdef\u001b[39;00m \u001b[38;5;21minner\u001b[39m(\u001b[38;5;241m*\u001b[39margs, \u001b[38;5;241m*\u001b[39m\u001b[38;5;241m*\u001b[39mkwds):\n\u001b[1;32m     78\u001b[0m     \u001b[38;5;28;01mwith\u001b[39;00m \u001b[38;5;28mself\u001b[39m\u001b[38;5;241m.\u001b[39m_recreate_cm():\n\u001b[0;32m---> 79\u001b[0m         \u001b[38;5;28;01mreturn\u001b[39;00m func(\u001b[38;5;241m*\u001b[39margs, \u001b[38;5;241m*\u001b[39m\u001b[38;5;241m*\u001b[39mkwds)\n",
      "File \u001b[0;32m/opt/anaconda3/envs/ml/lib/python3.9/contextlib.py:126\u001b[0m, in \u001b[0;36m_GeneratorContextManager.__exit__\u001b[0;34m(self, typ, value, traceback)\u001b[0m\n\u001b[1;32m    124\u001b[0m \u001b[38;5;28;01mif\u001b[39;00m typ \u001b[38;5;129;01mis\u001b[39;00m \u001b[38;5;28;01mNone\u001b[39;00m:\n\u001b[1;32m    125\u001b[0m     \u001b[38;5;28;01mtry\u001b[39;00m:\n\u001b[0;32m--> 126\u001b[0m         \u001b[38;5;28;43mnext\u001b[39;49m\u001b[43m(\u001b[49m\u001b[38;5;28;43mself\u001b[39;49m\u001b[38;5;241;43m.\u001b[39;49m\u001b[43mgen\u001b[49m\u001b[43m)\u001b[49m\n\u001b[1;32m    127\u001b[0m     \u001b[38;5;28;01mexcept\u001b[39;00m \u001b[38;5;167;01mStopIteration\u001b[39;00m:\n\u001b[1;32m    128\u001b[0m         \u001b[38;5;28;01mreturn\u001b[39;00m \u001b[38;5;28;01mFalse\u001b[39;00m\n",
      "File \u001b[0;32m/opt/anaconda3/envs/ml/lib/python3.9/site-packages/ydata_profiling/visualisation/context.py:85\u001b[0m, in \u001b[0;36mmanage_matplotlib_context\u001b[0;34m()\u001b[0m\n\u001b[1;32m     83\u001b[0m deregister_matplotlib_converters()  \u001b[38;5;66;03m# revert to original unit registries\u001b[39;00m\n\u001b[1;32m     84\u001b[0m \u001b[38;5;28;01mwith\u001b[39;00m warnings\u001b[38;5;241m.\u001b[39mcatch_warnings():\n\u001b[0;32m---> 85\u001b[0m     warnings\u001b[38;5;241m.\u001b[39mfilterwarnings(\u001b[38;5;124m\"\u001b[39m\u001b[38;5;124mignore\u001b[39m\u001b[38;5;124m\"\u001b[39m, category\u001b[38;5;241m=\u001b[39m\u001b[43mmatplotlib\u001b[49m\u001b[38;5;241;43m.\u001b[39;49m\u001b[43mcbook\u001b[49m\u001b[38;5;241;43m.\u001b[39;49m\u001b[43mmplDeprecation\u001b[49m)\n\u001b[1;32m     86\u001b[0m     matplotlib\u001b[38;5;241m.\u001b[39mrcParams\u001b[38;5;241m.\u001b[39mupdate(originalRcParams)\n",
      "\u001b[0;31mAttributeError\u001b[0m: module 'matplotlib.cbook' has no attribute 'mplDeprecation'"
     ]
    },
    {
     "data": {
      "text/plain": []
     },
     "execution_count": 31,
     "metadata": {},
     "output_type": "execute_result"
    }
   ],
   "source": [
    "profile"
   ]
  },
  {
   "cell_type": "markdown",
   "metadata": {},
   "source": [
    "N.B: If it is not running on your machine, please consider: \n",
    "* Only using a percentage of the data for profiling\n",
    "* Parallel Processing: If your system supports it, you can enable parallel processing using the pool_size parameter. This can help distribute computations across multiple CPU cores.\n",
    "* Turn Off Specific Analyses: The pandas_profiling.ProfileReport() function has several parameters that allow you to customize the analyses performed. For example, you can turn off correlation computations or histogram calculations if they are not essential for your analysis.\n",
    "\n",
    "\n"
   ]
  },
  {
   "cell_type": "markdown",
   "metadata": {},
   "source": [
    "### Normasation and Standarization: \n",
    "If needed, normalize or standardize your data to ensure that features with different scales don't disproportionately influence the clustering process."
   ]
  },
  {
   "cell_type": "code",
   "execution_count": 32,
   "metadata": {},
   "outputs": [],
   "source": [
    "## Is this step required for our case? \n",
    "    # for this setting = NOT necessary \n",
    "    # usuallt what we do, we could compute the mean and std of the variables... just so that all the values are on the same scale and not one is favored over the other\n",
    "    # some models expect to have your data standardised some don't "
   ]
  },
  {
   "cell_type": "markdown",
   "metadata": {},
   "source": [
    "# Statistical Modeling "
   ]
  },
  {
   "cell_type": "markdown",
   "metadata": {},
   "source": [
    "### Compare mortality groups"
   ]
  },
  {
   "cell_type": "code",
   "execution_count": 33,
   "metadata": {},
   "outputs": [
    {
     "data": {
      "text/plain": [
       "9        0.0\n",
       "10       0.0\n",
       "11       0.0\n",
       "12       0.0\n",
       "13       0.0\n",
       "        ... \n",
       "49088    0.0\n",
       "49089    0.0\n",
       "49090    0.0\n",
       "49091    0.0\n",
       "49092    0.0\n",
       "Name: in_hospital_mortality, Length: 35245, dtype: float64"
      ]
     },
     "execution_count": 33,
     "metadata": {},
     "output_type": "execute_result"
    }
   ],
   "source": [
    "df['in_hospital_mortality']"
   ]
  },
  {
   "cell_type": "code",
   "execution_count": 34,
   "metadata": {},
   "outputs": [
    {
     "name": "stdout",
     "output_type": "stream",
     "text": [
      "Comparing Mortality Groups:\n",
      "   Mortality  Count\n",
      "0        0.0  28822\n",
      "1        1.0   6423\n"
     ]
    }
   ],
   "source": [
    "mortality_comparison = df['in_hospital_mortality'].value_counts().reset_index()\n",
    "mortality_comparison.columns = ['Mortality', 'Count']\n",
    "print(\"Comparing Mortality Groups:\")\n",
    "print(mortality_comparison)"
   ]
  },
  {
   "cell_type": "markdown",
   "metadata": {},
   "source": [
    "### Compare Mortality groups with p50 "
   ]
  },
  {
   "cell_type": "code",
   "execution_count": 35,
   "metadata": {},
   "outputs": [],
   "source": [
    "%matplotlib inline"
   ]
  },
  {
   "cell_type": "code",
   "execution_count": 36,
   "metadata": {},
   "outputs": [],
   "source": [
    "import matplotlib.pyplot as plt\n",
    "import seaborn as sns\n",
    "from scipy import stats"
   ]
  },
  {
   "cell_type": "code",
   "execution_count": 37,
   "metadata": {},
   "outputs": [
    {
     "name": "stdout",
     "output_type": "stream",
     "text": [
      "Comparing Mortality and Different Groups of p50:\n",
      "   in_hospital_mortality    p50_group  Count\n",
      "0                    0.0   Left Shift  16118\n",
      "1                    0.0       Normal   8792\n",
      "2                    0.0  Right Shift   3912\n",
      "3                    1.0   Left Shift   3169\n",
      "4                    1.0       Normal   1883\n",
      "5                    1.0  Right Shift   1371\n"
     ]
    }
   ],
   "source": [
    "# Define a function to categorize 'p50' values into groups\n",
    "def p50_category(p50_value):\n",
    "    if p50_value > 30:\n",
    "        return 'Right Shift'\n",
    "    elif 22 <= p50_value <= 30:\n",
    "        return 'Normal'\n",
    "    else:\n",
    "        return 'Left Shift'\n",
    "\n",
    "# Apply the categorization function to create a new column 'p50_group'\n",
    "df['p50_group'] = df['p50'].apply(p50_category)\n",
    "\n",
    "# Group by 'in_hospital_mortality' and 'p50_group' and calculate the count for each group\n",
    "group_comparison = df.groupby(['in_hospital_mortality', 'p50_group']).size().reset_index(name='Count')\n",
    "\n",
    "print(\"Comparing Mortality and Different Groups of p50:\")\n",
    "print(group_comparison)\n"
   ]
  },
  {
   "cell_type": "markdown",
   "metadata": {},
   "source": [
    "#### Chi-squared test\n",
    "The chi-squared test, and specifically the chi-squared test of independence, is a statistical test used to determine if there is a significant association or relationship between two categorical variables. It is often used to assess whether there is a non-random connection between the two variables in a contingency table."
   ]
  },
  {
   "cell_type": "code",
   "execution_count": 38,
   "metadata": {},
   "outputs": [
    {
     "name": "stdout",
     "output_type": "stream",
     "text": [
      "Chi-squared test p-value: 2.939016326411925e-56\n"
     ]
    }
   ],
   "source": [
    "# Perform a chi-squared test to assess the association between 'p50_group' and 'in_hospital_mortality'\n",
    "contingency_table = pd.crosstab(df['p50_group'], df['in_hospital_mortality'])\n",
    "chi2, p, _, _ = stats.chi2_contingency(contingency_table)\n",
    "print(f'Chi-squared test p-value: {p}')"
   ]
  },
  {
   "cell_type": "markdown",
   "metadata": {},
   "source": [
    "Indicates a strong association between the 'p50_group' and 'in_hospital_mortality' variables. This means that the two variables are not independent of each other, and there's a substantial impact of 'p50_group' on 'in_hospital_mortality.'"
   ]
  },
  {
   "cell_type": "code",
   "execution_count": 39,
   "metadata": {},
   "outputs": [
    {
     "name": "stdout",
     "output_type": "stream",
     "text": [
      "object\n",
      "float64\n",
      "['Normal' 'Left Shift' 'Right Shift']\n",
      "[0. 1.]\n"
     ]
    }
   ],
   "source": [
    "print(df['p50_group'].dtype)\n",
    "print(df['in_hospital_mortality'].dtype)\n",
    "\n",
    "print(df['p50_group'].unique())\n",
    "print(df['in_hospital_mortality'].unique())\n"
   ]
  },
  {
   "cell_type": "markdown",
   "metadata": {},
   "source": [
    "#### Visualisation"
   ]
  },
  {
   "cell_type": "code",
   "execution_count": 40,
   "metadata": {},
   "outputs": [
    {
     "data": {
      "image/png": "[encoded data removed]",
      "text/plain": [
       "<Figure size 1000x600 with 1 Axes>"
      ]
     },
     "metadata": {},
     "output_type": "display_data"
    }
   ],
   "source": [
    "import matplotlib\n",
    "# matplotlib.use('tkagg')  # Use Tkinter backend\n",
    "\n",
    "import seaborn as sns\n",
    "import matplotlib.pyplot as plt\n",
    "\n",
    "\n",
    "# Convert 'in_hospital_mortality' to strings ('0' or '1')\n",
    "df['in_hospital_mortality'] = df['in_hospital_mortality'].astype(str)\n",
    "\n",
    "# Create a count plot to compare 'p50_group' categories with respect to mortality\n",
    "plt.figure(figsize=(10, 6))\n",
    "sns.countplot(x='p50_group', hue='in_hospital_mortality', data=df, palette='Set3', order=['Left Shift', 'Normal', 'Right Shift'])\n",
    "plt.title('Count Plot of p50_group by Mortality')\n",
    "plt.xlabel('p50_group')\n",
    "plt.ylabel('Count')\n",
    "plt.legend(title='Mortality', labels=['Survivors', 'Non-Survivors'])\n",
    "plt.show()"
   ]
  },
  {
   "cell_type": "code",
   "execution_count": 41,
   "metadata": {},
   "outputs": [
    {
     "data": {
      "image/png": "[encoded data removed]",
      "text/plain": [
       "<Figure size 1000x600 with 1 Axes>"
      ]
     },
     "metadata": {},
     "output_type": "display_data"
    }
   ],
   "source": [
    "\n",
    "\n",
    "import seaborn as sns\n",
    "import matplotlib.pyplot as plt\n",
    "\n",
    "# Create box plots for p50 based on mortality\n",
    "plt.figure(figsize=(10, 6))\n",
    "sns.boxplot(x='in_hospital_mortality', y='p50', data=df, palette='Set3')\n",
    "plt.title('Box Plot of p50 by Mortality')\n",
    "plt.xlabel('Mortality (0: Non-Survivors, 1: Survivors)')\n",
    "plt.ylabel('p50')\n",
    "plt.xticks([0, 1], ['Non-Survivors', 'Survivors'])\n",
    "plt.show()"
   ]
  },
  {
   "cell_type": "code",
   "execution_count": 42,
   "metadata": {},
   "outputs": [
    {
     "name": "stderr",
     "output_type": "stream",
     "text": [
      "/opt/anaconda3/envs/ml/lib/python3.9/site-packages/sklearn/base.py:464: UserWarning: X does not have valid feature names, but LogisticRegression was fitted with feature names\n",
      "  warnings.warn(\n"
     ]
    },
    {
     "data": {
      "image/png": "[encoded data removed]",
      "text/plain": [
       "<Figure size 1000x600 with 1 Axes>"
      ]
     },
     "metadata": {},
     "output_type": "display_data"
    }
   ],
   "source": [
    "import numpy as np\n",
    "import matplotlib.pyplot as plt\n",
    "from sklearn.linear_model import LogisticRegression\n",
    "\n",
    "# Create a logistic regression model\n",
    "model = LogisticRegression()\n",
    "\n",
    "# Fit the model to the data\n",
    "X_train = df[['p50']]\n",
    "y_train = df['in_hospital_mortality']\n",
    "model.fit(X_train, y_train)\n",
    "\n",
    "# Define a range of 'p50' values for prediction\n",
    "p50_values = np.linspace(df['p50'].min(), df['p50'].max(), 1000)\n",
    "\n",
    "# Predict the probability of mortality for each 'p50' value\n",
    "probabilities = model.predict_proba(p50_values.reshape(-1, 1))[:, 1]\n",
    "\n",
    "# Create a plot for the logistic regression curve\n",
    "plt.figure(figsize=(10, 6))\n",
    "plt.plot(p50_values, probabilities, label='Logistic Regression Curve', color='blue')\n",
    "plt.xlabel('p50')\n",
    "plt.ylabel('Predicted Probability of Mortality')\n",
    "plt.title('Logistic Regression Curve for Mortality Prediction')\n",
    "plt.axhline(0.5, color='red', linestyle='--', label='Threshold (0.5)')\n",
    "plt.legend()\n",
    "plt.grid(True)\n",
    "plt.show()"
   ]
  },
  {
   "cell_type": "code",
   "execution_count": 43,
   "metadata": {},
   "outputs": [
    {
     "name": "stderr",
     "output_type": "stream",
     "text": [
      "/opt/anaconda3/envs/ml/lib/python3.9/site-packages/sklearn/base.py:464: UserWarning: X does not have valid feature names, but LogisticRegression was fitted with feature names\n",
      "  warnings.warn(\n",
      "/opt/anaconda3/envs/ml/lib/python3.9/site-packages/sklearn/base.py:464: UserWarning: X does not have valid feature names, but LinearRegression was fitted with feature names\n",
      "  warnings.warn(\n",
      "/opt/anaconda3/envs/ml/lib/python3.9/site-packages/sklearn/base.py:464: UserWarning: X does not have valid feature names, but LinearRegression was fitted with feature names\n",
      "  warnings.warn(\n"
     ]
    },
    {
     "data": {
      "image/png": "[encoded data removed]",
      "text/plain": [
       "<Figure size 500x1500 with 3 Axes>"
      ]
     },
     "metadata": {},
     "output_type": "display_data"
    }
   ],
   "source": [
    "import numpy as np\n",
    "import matplotlib.pyplot as plt\n",
    "from sklearn.linear_model import LogisticRegression\n",
    "from sklearn.linear_model import LinearRegression\n",
    "\n",
    "# Define the three outcome variables\n",
    "outcomes = ['in_hospital_mortality', 'los_ICU', 'los_hospital']\n",
    "\n",
    "# Create subplots for each outcome arranged vertically\n",
    "fig, axes = plt.subplots(len(outcomes), 1, figsize=(5, 15))\n",
    "\n",
    "# Loop through each outcome\n",
    "for i, outcome in enumerate(outcomes):\n",
    "    if outcome == 'in_hospital_mortality':\n",
    "        # Create a logistic regression model for binary outcome\n",
    "        model = LogisticRegression()\n",
    "\n",
    "        # Fit the model to the data\n",
    "        X_train = df[['p50']]\n",
    "        y_train = df[outcome]\n",
    "        model.fit(X_train, y_train)\n",
    "\n",
    "        # Define a range of 'p50' values for prediction\n",
    "        p50_values = np.linspace(df['p50'].min(), df['p50'].max(), 1000)\n",
    "\n",
    "        # Predict the probability of the outcome for each 'p50' value\n",
    "        probabilities = model.predict_proba(p50_values.reshape(-1, 1))[:, 1]\n",
    "\n",
    "        # Create a plot for the logistic regression curve\n",
    "        axes[i].plot(p50_values, probabilities, label='Logistic Regression Curve', color='blue')\n",
    "        axes[i].set_xlabel('p50')\n",
    "        axes[i].set_ylabel(f'Predicted Probability of {outcome}')\n",
    "        axes[i].set_title(f'Logistic Regression Curve for {outcome} Prediction')\n",
    "        axes[i].axhline(0.5, color='red', linestyle='--', label='Threshold (0.5)')\n",
    "        axes[i].legend()\n",
    "        axes[i].grid(True)\n",
    "    else:\n",
    "        # Create a linear regression model for continuous outcomes\n",
    "        model = LinearRegression()\n",
    "\n",
    "        # Fit the model to the data\n",
    "        X_train = df[['p50']]\n",
    "        y_train = df[outcome]\n",
    "        model.fit(X_train, y_train)\n",
    "\n",
    "        # Define a range of 'p50' values for prediction\n",
    "        p50_values = np.linspace(df['p50'].min(), df['p50'].max(), 1000)\n",
    "\n",
    "        # Predict the outcome for each 'p50' value\n",
    "        outcome_predictions = model.predict(p50_values.reshape(-1, 1))\n",
    "\n",
    "        # Create a scatterplot for continuous outcomes\n",
    "        axes[i].scatter(df['p50'], df[outcome], label='Scatterplot', color='green', alpha=0.3)\n",
    "        axes[i].plot(p50_values, outcome_predictions, label='Linear Regression Line', color='blue')\n",
    "        axes[i].set_xlabel('p50')\n",
    "        axes[i].set_ylabel(f'{outcome}')\n",
    "        axes[i].set_title(f'Scatterplot and Linear Regression for {outcome}')\n",
    "        axes[i].legend()\n",
    "        axes[i].grid(True)\n",
    "\n",
    "# Adjust the layout of subplots\n",
    "plt.tight_layout()\n",
    "plt.show()\n"
   ]
  },
  {
   "cell_type": "code",
   "execution_count": 44,
   "metadata": {},
   "outputs": [
    {
     "name": "stderr",
     "output_type": "stream",
     "text": [
      "/opt/anaconda3/envs/ml/lib/python3.9/site-packages/sklearn/base.py:464: UserWarning: X does not have valid feature names, but LogisticRegression was fitted with feature names\n",
      "  warnings.warn(\n",
      "/opt/anaconda3/envs/ml/lib/python3.9/site-packages/sklearn/base.py:464: UserWarning: X does not have valid feature names, but LogisticRegression was fitted with feature names\n",
      "  warnings.warn(\n",
      "/opt/anaconda3/envs/ml/lib/python3.9/site-packages/sklearn/base.py:464: UserWarning: X does not have valid feature names, but LogisticRegression was fitted with feature names\n",
      "  warnings.warn(\n"
     ]
    },
    {
     "data": {
      "image/png": "[encoded data removed]",
      "text/plain": [
       "<Figure size 1000x600 with 1 Axes>"
      ]
     },
     "metadata": {},
     "output_type": "display_data"
    }
   ],
   "source": [
    "import numpy as np\n",
    "import matplotlib.pyplot as plt\n",
    "from sklearn.linear_model import LogisticRegression\n",
    "\n",
    "# Define the three groups of 'p50': Right Shift (>30), Normal (22-30), Left Shift (<22)\n",
    "df['p50_group'] = pd.cut(df['p50'], bins=[-np.inf, 22, 30, np.inf], labels=['Left Shift', 'Normal', 'Right Shift'])\n",
    "\n",
    "# Create a logistic regression model for each group\n",
    "groups = ['Left Shift', 'Normal', 'Right Shift']\n",
    "colors = ['red', 'green', 'blue']\n",
    "\n",
    "plt.figure(figsize=(10, 6))\n",
    "\n",
    "# Calculate the minimum and maximum 'p50' values across the entire dataset\n",
    "min_p50 = df['p50'].min()\n",
    "max_p50 = df['p50'].max()\n",
    "\n",
    "for i, group in enumerate(groups):\n",
    "    # Filter data for the current group\n",
    "    group_data = df[df['p50_group'] == group]\n",
    "\n",
    "    # Create a logistic regression model\n",
    "    model = LogisticRegression()\n",
    "\n",
    "    # Fit the model to the data\n",
    "    X_train = group_data[['p50']]\n",
    "    y_train = group_data['in_hospital_mortality']\n",
    "    model.fit(X_train, y_train)\n",
    "\n",
    "    # Define a range of 'p50' values for prediction\n",
    "    p50_values = np.linspace(min_p50, max_p50, 1000)\n",
    "\n",
    "    # Predict the probability of mortality for each 'p50' value\n",
    "    probabilities = model.predict_proba(p50_values.reshape(-1, 1))[:, 1]\n",
    "\n",
    "    # Create a plot for the logistic regression curve\n",
    "    plt.plot(p50_values, probabilities, label=f'{group} Group', color=colors[i])\n",
    "\n",
    "plt.xlabel('p50')\n",
    "plt.ylabel('Predicted Probability of Mortality')\n",
    "plt.title('Logistic Regression Curve for Mortality Prediction')\n",
    "plt.axhline(0.5, color='red', linestyle='--', label='Threshold (0.5)')\n",
    "plt.legend()\n",
    "plt.grid(True)\n",
    "plt.show()\n"
   ]
  },
  {
   "cell_type": "code",
   "execution_count": null,
   "metadata": {},
   "outputs": [],
   "source": []
  },
  {
   "cell_type": "code",
   "execution_count": null,
   "metadata": {},
   "outputs": [],
   "source": []
  }
 ],
 "metadata": {
  "colab": {
   "provenance": []
  },
  "kernelspec": {
   "display_name": "Python (ml)",
   "language": "python",
   "name": "ml"
  },
  "language_info": {
   "codemirror_mode": {
    "name": "ipython",
    "version": 3
   },
   "file_extension": ".py",
   "mimetype": "text/x-python",
   "name": "python",
   "nbconvert_exporter": "python",
   "pygments_lexer": "ipython3",
   "version": "3.9.17"
  },
  "widgets": {
   "application/vnd.jupyter.widget-state+json": {
    "1db5eb8bcb554b879e6eae872be3ec4a": {
     "model_module": "@jupyter-widgets/controls",
     "model_module_version": "1.5.0",
     "model_name": "HTMLModel",
     "state": {
      "_dom_classes": [],
      "_model_module": "@jupyter-widgets/controls",
      "_model_module_version": "1.5.0",
      "_model_name": "HTMLModel",
      "_view_count": null,
      "_view_module": "@jupyter-widgets/controls",
      "_view_module_version": "1.5.0",
      "_view_name": "HTMLView",
      "description": "",
      "description_tooltip": null,
      "layout": "IPY_MODEL_6f66bce592cf4e969f1469f6e98eebea",
      "placeholder": "​",
      "style": "IPY_MODEL_bfe5965b21ec4734b51fdcb645a01340",
      "value": "Summarize dataset:   1%"
     }
    },
    "30c584cfbac2489fbe55f6b1280baa30": {
     "model_module": "@jupyter-widgets/base",
     "model_module_version": "1.2.0",
     "model_name": "LayoutModel",
     "state": {
      "_model_module": "@jupyter-widgets/base",
      "_model_module_version": "1.2.0",
      "_model_name": "LayoutModel",
      "_view_count": null,
      "_view_module": "@jupyter-widgets/base",
      "_view_module_version": "1.2.0",
      "_view_name": "LayoutView",
      "align_content": null,
      "align_items": null,
      "align_self": null,
      "border": null,
      "bottom": null,
      "display": null,
      "flex": null,
      "flex_flow": null,
      "grid_area": null,
      "grid_auto_columns": null,
      "grid_auto_flow": null,
      "grid_auto_rows": null,
      "grid_column": null,
      "grid_gap": null,
      "grid_row": null,
      "grid_template_areas": null,
      "grid_template_columns": null,
      "grid_template_rows": null,
      "height": null,
      "justify_content": null,
      "justify_items": null,
      "left": null,
      "margin": null,
      "max_height": null,
      "max_width": null,
      "min_height": null,
      "min_width": null,
      "object_fit": null,
      "object_position": null,
      "order": null,
      "overflow": null,
      "overflow_x": null,
      "overflow_y": null,
      "padding": null,
      "right": null,
      "top": null,
      "visibility": null,
      "width": null
     }
    },
    "6f16b8392a074baebaa06dd87007e467": {
     "model_module": "@jupyter-widgets/base",
     "model_module_version": "1.2.0",
     "model_name": "LayoutModel",
     "state": {
      "_model_module": "@jupyter-widgets/base",
      "_model_module_version": "1.2.0",
      "_model_name": "LayoutModel",
      "_view_count": null,
      "_view_module": "@jupyter-widgets/base",
      "_view_module_version": "1.2.0",
      "_view_name": "LayoutView",
      "align_content": null,
      "align_items": null,
      "align_self": null,
      "border": null,
      "bottom": null,
      "display": null,
      "flex": null,
      "flex_flow": null,
      "grid_area": null,
      "grid_auto_columns": null,
      "grid_auto_flow": null,
      "grid_auto_rows": null,
      "grid_column": null,
      "grid_gap": null,
      "grid_row": null,
      "grid_template_areas": null,
      "grid_template_columns": null,
      "grid_template_rows": null,
      "height": null,
      "justify_content": null,
      "justify_items": null,
      "left": null,
      "margin": null,
      "max_height": null,
      "max_width": null,
      "min_height": null,
      "min_width": null,
      "object_fit": null,
      "object_position": null,
      "order": null,
      "overflow": null,
      "overflow_x": null,
      "overflow_y": null,
      "padding": null,
      "right": null,
      "top": null,
      "visibility": null,
      "width": null
     }
    },
    "6f66bce592cf4e969f1469f6e98eebea": {
     "model_module": "@jupyter-widgets/base",
     "model_module_version": "1.2.0",
     "model_name": "LayoutModel",
     "state": {
      "_model_module": "@jupyter-widgets/base",
      "_model_module_version": "1.2.0",
      "_model_name": "LayoutModel",
      "_view_count": null,
      "_view_module": "@jupyter-widgets/base",
      "_view_module_version": "1.2.0",
      "_view_name": "LayoutView",
      "align_content": null,
      "align_items": null,
      "align_self": null,
      "border": null,
      "bottom": null,
      "display": null,
      "flex": null,
      "flex_flow": null,
      "grid_area": null,
      "grid_auto_columns": null,
      "grid_auto_flow": null,
      "grid_auto_rows": null,
      "grid_column": null,
      "grid_gap": null,
      "grid_row": null,
      "grid_template_areas": null,
      "grid_template_columns": null,
      "grid_template_rows": null,
      "height": null,
      "justify_content": null,
      "justify_items": null,
      "left": null,
      "margin": null,
      "max_height": null,
      "max_width": null,
      "min_height": null,
      "min_width": null,
      "object_fit": null,
      "object_position": null,
      "order": null,
      "overflow": null,
      "overflow_x": null,
      "overflow_y": null,
      "padding": null,
      "right": null,
      "top": null,
      "visibility": null,
      "width": null
     }
    },
    "7918f85bc2cc472fa390935b90671eae": {
     "model_module": "@jupyter-widgets/controls",
     "model_module_version": "1.5.0",
     "model_name": "FloatProgressModel",
     "state": {
      "_dom_classes": [],
      "_model_module": "@jupyter-widgets/controls",
      "_model_module_version": "1.5.0",
      "_model_name": "FloatProgressModel",
      "_view_count": null,
      "_view_module": "@jupyter-widgets/controls",
      "_view_module_version": "1.5.0",
      "_view_name": "ProgressView",
      "bar_style": "danger",
      "description": "",
      "description_tooltip": null,
      "layout": "IPY_MODEL_6f16b8392a074baebaa06dd87007e467",
      "max": 5,
      "min": 0,
      "orientation": "horizontal",
      "style": "IPY_MODEL_e77ccf0fc56b4ae89b33c7fccadb9f27",
      "value": 5
     }
    },
    "bfe5965b21ec4734b51fdcb645a01340": {
     "model_module": "@jupyter-widgets/controls",
     "model_module_version": "1.5.0",
     "model_name": "DescriptionStyleModel",
     "state": {
      "_model_module": "@jupyter-widgets/controls",
      "_model_module_version": "1.5.0",
      "_model_name": "DescriptionStyleModel",
      "_view_count": null,
      "_view_module": "@jupyter-widgets/base",
      "_view_module_version": "1.2.0",
      "_view_name": "StyleView",
      "description_width": ""
     }
    },
    "d063b5b532b64e1dace7175d4693aadc": {
     "model_module": "@jupyter-widgets/controls",
     "model_module_version": "1.5.0",
     "model_name": "HTMLModel",
     "state": {
      "_dom_classes": [],
      "_model_module": "@jupyter-widgets/controls",
      "_model_module_version": "1.5.0",
      "_model_name": "HTMLModel",
      "_view_count": null,
      "_view_module": "@jupyter-widgets/controls",
      "_view_module_version": "1.5.0",
      "_view_name": "HTMLView",
      "description": "",
      "description_tooltip": null,
      "layout": "IPY_MODEL_ef363f165a764753ab0a6183e7862db9",
      "placeholder": "​",
      "style": "IPY_MODEL_eacccf2ec5844c928350d5df7c1ee21e",
      "value": " 197/13838 [02:22&lt;1:01:35,  3.69it/s, scatter delta_cbc_rdw, unique_subject_id]"
     }
    },
    "e77ccf0fc56b4ae89b33c7fccadb9f27": {
     "model_module": "@jupyter-widgets/controls",
     "model_module_version": "1.5.0",
     "model_name": "ProgressStyleModel",
     "state": {
      "_model_module": "@jupyter-widgets/controls",
      "_model_module_version": "1.5.0",
      "_model_name": "ProgressStyleModel",
      "_view_count": null,
      "_view_module": "@jupyter-widgets/base",
      "_view_module_version": "1.2.0",
      "_view_name": "StyleView",
      "bar_color": null,
      "description_width": ""
     }
    },
    "ea0a43ac205a439ea27515369eaa103e": {
     "model_module": "@jupyter-widgets/controls",
     "model_module_version": "1.5.0",
     "model_name": "HBoxModel",
     "state": {
      "_dom_classes": [],
      "_model_module": "@jupyter-widgets/controls",
      "_model_module_version": "1.5.0",
      "_model_name": "HBoxModel",
      "_view_count": null,
      "_view_module": "@jupyter-widgets/controls",
      "_view_module_version": "1.5.0",
      "_view_name": "HBoxView",
      "box_style": "",
      "children": [
       "IPY_MODEL_1db5eb8bcb554b879e6eae872be3ec4a",
       "IPY_MODEL_7918f85bc2cc472fa390935b90671eae",
       "IPY_MODEL_d063b5b532b64e1dace7175d4693aadc"
      ],
      "layout": "IPY_MODEL_30c584cfbac2489fbe55f6b1280baa30"
     }
    },
    "eacccf2ec5844c928350d5df7c1ee21e": {
     "model_module": "@jupyter-widgets/controls",
     "model_module_version": "1.5.0",
     "model_name": "DescriptionStyleModel",
     "state": {
      "_model_module": "@jupyter-widgets/controls",
      "_model_module_version": "1.5.0",
      "_model_name": "DescriptionStyleModel",
      "_view_count": null,
      "_view_module": "@jupyter-widgets/base",
      "_view_module_version": "1.2.0",
      "_view_name": "StyleView",
      "description_width": ""
     }
    },
    "ef363f165a764753ab0a6183e7862db9": {
     "model_module": "@jupyter-widgets/base",
     "model_module_version": "1.2.0",
     "model_name": "LayoutModel",
     "state": {
      "_model_module": "@jupyter-widgets/base",
      "_model_module_version": "1.2.0",
      "_model_name": "LayoutModel",
      "_view_count": null,
      "_view_module": "@jupyter-widgets/base",
      "_view_module_version": "1.2.0",
      "_view_name": "LayoutView",
      "align_content": null,
      "align_items": null,
      "align_self": null,
      "border": null,
      "bottom": null,
      "display": null,
      "flex": null,
      "flex_flow": null,
      "grid_area": null,
      "grid_auto_columns": null,
      "grid_auto_flow": null,
      "grid_auto_rows": null,
      "grid_column": null,
      "grid_gap": null,
      "grid_row": null,
      "grid_template_areas": null,
      "grid_template_columns": null,
      "grid_template_rows": null,
      "height": null,
      "justify_content": null,
      "justify_items": null,
      "left": null,
      "margin": null,
      "max_height": null,
      "max_width": null,
      "min_height": null,
      "min_width": null,
      "object_fit": null,
      "object_position": null,
      "order": null,
      "overflow": null,
      "overflow_x": null,
      "overflow_y": null,
      "padding": null,
      "right": null,
      "top": null,
      "visibility": null,
      "width": null
     }
    }
   }
  }
 },
 "nbformat": 4,
 "nbformat_minor": 4
}
