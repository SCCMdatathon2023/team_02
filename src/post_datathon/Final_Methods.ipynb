{
 "cells": [
  {
   "cell_type": "markdown",
   "id": "e990c768-94d2-4265-b152-b2d38ecee76f",
   "metadata": {},
   "source": [
    "# Loading the dependencies and libraries"
   ]
  },
  {
   "cell_type": "code",
   "execution_count": 1,
   "id": "68a3405c-9bb8-4678-927e-56f594a185da",
   "metadata": {},
   "outputs": [],
   "source": [
    "from sklearn import linear_model\n",
    "from sklearn.experimental import enable_iterative_imputer\n",
    "from sklearn.impute import IterativeImputer\n",
    "from sklearn.ensemble import RandomForestRegressor\n",
    "from sklearn.experimental import enable_iterative_imputer\n",
    "from sklearn.kernel_approximation import Nystroem\n",
    "from sklearn.linear_model import BayesianRidge, Ridge\n",
    "from sklearn.model_selection import cross_val_score\n",
    "from sklearn.neighbors import KNeighborsRegressor\n",
    "from sklearn.pipeline import make_pipeline\n",
    "from sklearn.experimental import enable_iterative_imputer\n",
    "from sklearn.impute import IterativeImputer\n",
    "from sklearn.linear_model import BayesianRidge"
   ]
  },
  {
   "cell_type": "code",
   "execution_count": 2,
   "id": "6c4239e2-55c6-46d2-9ddd-14a54af93a4a",
   "metadata": {},
   "outputs": [],
   "source": [
    "import pandas as pd\n",
    "import matplotlib.pyplot as plt\n",
    "import numpy as np\n",
    "import seaborn as sns\n",
    "import missingno as mno"
   ]
  },
  {
   "cell_type": "markdown",
   "id": "6714935c-7d49-4e40-a367-3f8c9d0dace7",
   "metadata": {},
   "source": [
    "# Loading the data"
   ]
  },
  {
   "cell_type": "code",
   "execution_count": 3,
   "id": "7e8578bb-03a4-4930-a125-102808e76a07",
   "metadata": {},
   "outputs": [],
   "source": [
    "import pandas as pd\n",
    "\n",
    "# Path to your CSV file\n",
    "csv_path = '/Users/mac/Desktop/team_02/src/post_datathon/data/pulseox_dataset.csv'\n",
    "\n",
    "# Read the CSV file using Pandas\n",
    "df_initial = pd.read_csv(csv_path, low_memory=False)"
   ]
  },
  {
   "cell_type": "markdown",
   "id": "e7d4fc1e-3bdc-4440-83d5-4e98a6d08d28",
   "metadata": {},
   "source": [
    "# Data Preprocessing"
   ]
  },
  {
   "cell_type": "code",
   "execution_count": 4,
   "id": "7d4e66b2-0e69-45cb-bf7c-83bebb85aade",
   "metadata": {},
   "outputs": [
    {
     "data": {
      "text/html": [
       "<div>\n",
       "<style scoped>\n",
       "    .dataframe tbody tr th:only-of-type {\n",
       "        vertical-align: middle;\n",
       "    }\n",
       "\n",
       "    .dataframe tbody tr th {\n",
       "        vertical-align: top;\n",
       "    }\n",
       "\n",
       "    .dataframe thead th {\n",
       "        text-align: right;\n",
       "    }\n",
       "</style>\n",
       "<table border=\"1\" class=\"dataframe\">\n",
       "  <thead>\n",
       "    <tr style=\"text-align: right;\">\n",
       "      <th></th>\n",
       "      <th>unique_subject_id</th>\n",
       "      <th>unique_hospital_admission_id</th>\n",
       "      <th>unique_icustay_id</th>\n",
       "      <th>subject_id</th>\n",
       "      <th>hospital_admission_id</th>\n",
       "      <th>icustay_id</th>\n",
       "      <th>source_db</th>\n",
       "      <th>hospitalid</th>\n",
       "      <th>numbedscategory</th>\n",
       "      <th>teachingstatus</th>\n",
       "      <th>...</th>\n",
       "      <th>delta_sofa_future_coagulation_24hr</th>\n",
       "      <th>sofa_future_coagulation_24hr</th>\n",
       "      <th>delta_sofa_future_liver_24hr</th>\n",
       "      <th>sofa_future_liver_24hr</th>\n",
       "      <th>delta_sofa_future_cardiovascular_24hr</th>\n",
       "      <th>sofa_future_cardiovascular_24hr</th>\n",
       "      <th>delta_sofa_future_cns_24hr</th>\n",
       "      <th>sofa_future_cns_24hr</th>\n",
       "      <th>delta_sofa_future_renal_24hr</th>\n",
       "      <th>sofa_future_renal_24hr</th>\n",
       "    </tr>\n",
       "  </thead>\n",
       "  <tbody>\n",
       "    <tr>\n",
       "      <th>0</th>\n",
       "      <td>0</td>\n",
       "      <td>0</td>\n",
       "      <td>0</td>\n",
       "      <td>002-10050</td>\n",
       "      <td>183274</td>\n",
       "      <td>211144</td>\n",
       "      <td>eicu</td>\n",
       "      <td>71</td>\n",
       "      <td>100 - 249</td>\n",
       "      <td>False</td>\n",
       "      <td>...</td>\n",
       "      <td>1525.0</td>\n",
       "      <td>1.0</td>\n",
       "      <td>1525.0</td>\n",
       "      <td>0.0</td>\n",
       "      <td>1525.0</td>\n",
       "      <td>1.0</td>\n",
       "      <td>1525.0</td>\n",
       "      <td>0.0</td>\n",
       "      <td>1525.0</td>\n",
       "      <td>0.0</td>\n",
       "    </tr>\n",
       "    <tr>\n",
       "      <th>1</th>\n",
       "      <td>1</td>\n",
       "      <td>1</td>\n",
       "      <td>1</td>\n",
       "      <td>002-1007</td>\n",
       "      <td>178462</td>\n",
       "      <td>204935</td>\n",
       "      <td>eicu</td>\n",
       "      <td>71</td>\n",
       "      <td>100 - 249</td>\n",
       "      <td>False</td>\n",
       "      <td>...</td>\n",
       "      <td>NaN</td>\n",
       "      <td>NaN</td>\n",
       "      <td>NaN</td>\n",
       "      <td>NaN</td>\n",
       "      <td>NaN</td>\n",
       "      <td>NaN</td>\n",
       "      <td>NaN</td>\n",
       "      <td>NaN</td>\n",
       "      <td>NaN</td>\n",
       "      <td>NaN</td>\n",
       "    </tr>\n",
       "    <tr>\n",
       "      <th>2</th>\n",
       "      <td>2</td>\n",
       "      <td>2</td>\n",
       "      <td>2</td>\n",
       "      <td>002-10187</td>\n",
       "      <td>150828</td>\n",
       "      <td>169525</td>\n",
       "      <td>eicu</td>\n",
       "      <td>73</td>\n",
       "      <td>&gt;= 500</td>\n",
       "      <td>True</td>\n",
       "      <td>...</td>\n",
       "      <td>1547.0</td>\n",
       "      <td>0.0</td>\n",
       "      <td>1547.0</td>\n",
       "      <td>0.0</td>\n",
       "      <td>1547.0</td>\n",
       "      <td>1.0</td>\n",
       "      <td>1547.0</td>\n",
       "      <td>0.0</td>\n",
       "      <td>1547.0</td>\n",
       "      <td>0.0</td>\n",
       "    </tr>\n",
       "    <tr>\n",
       "      <th>3</th>\n",
       "      <td>3</td>\n",
       "      <td>3</td>\n",
       "      <td>3</td>\n",
       "      <td>002-10306</td>\n",
       "      <td>198249</td>\n",
       "      <td>230427</td>\n",
       "      <td>eicu</td>\n",
       "      <td>63</td>\n",
       "      <td>100 - 249</td>\n",
       "      <td>False</td>\n",
       "      <td>...</td>\n",
       "      <td>1507.0</td>\n",
       "      <td>2.0</td>\n",
       "      <td>1507.0</td>\n",
       "      <td>0.0</td>\n",
       "      <td>1507.0</td>\n",
       "      <td>1.0</td>\n",
       "      <td>1507.0</td>\n",
       "      <td>0.0</td>\n",
       "      <td>1507.0</td>\n",
       "      <td>1.0</td>\n",
       "    </tr>\n",
       "    <tr>\n",
       "      <th>4</th>\n",
       "      <td>4</td>\n",
       "      <td>4</td>\n",
       "      <td>4</td>\n",
       "      <td>002-10324</td>\n",
       "      <td>188445</td>\n",
       "      <td>217835</td>\n",
       "      <td>eicu</td>\n",
       "      <td>73</td>\n",
       "      <td>&gt;= 500</td>\n",
       "      <td>True</td>\n",
       "      <td>...</td>\n",
       "      <td>1537.0</td>\n",
       "      <td>1.0</td>\n",
       "      <td>1537.0</td>\n",
       "      <td>0.0</td>\n",
       "      <td>1537.0</td>\n",
       "      <td>1.0</td>\n",
       "      <td>1537.0</td>\n",
       "      <td>2.0</td>\n",
       "      <td>1537.0</td>\n",
       "      <td>0.0</td>\n",
       "    </tr>\n",
       "    <tr>\n",
       "      <th>...</th>\n",
       "      <td>...</td>\n",
       "      <td>...</td>\n",
       "      <td>...</td>\n",
       "      <td>...</td>\n",
       "      <td>...</td>\n",
       "      <td>...</td>\n",
       "      <td>...</td>\n",
       "      <td>...</td>\n",
       "      <td>...</td>\n",
       "      <td>...</td>\n",
       "      <td>...</td>\n",
       "      <td>...</td>\n",
       "      <td>...</td>\n",
       "      <td>...</td>\n",
       "      <td>...</td>\n",
       "      <td>...</td>\n",
       "      <td>...</td>\n",
       "      <td>...</td>\n",
       "      <td>...</td>\n",
       "      <td>...</td>\n",
       "      <td>...</td>\n",
       "    </tr>\n",
       "    <tr>\n",
       "      <th>49088</th>\n",
       "      <td>44897</td>\n",
       "      <td>49088</td>\n",
       "      <td>49088</td>\n",
       "      <td>19995595</td>\n",
       "      <td>21784060</td>\n",
       "      <td>34670930</td>\n",
       "      <td>mimic_iv</td>\n",
       "      <td>9999</td>\n",
       "      <td>&gt;= 500</td>\n",
       "      <td>True</td>\n",
       "      <td>...</td>\n",
       "      <td>1500.0</td>\n",
       "      <td>0.0</td>\n",
       "      <td>1500.0</td>\n",
       "      <td>2.0</td>\n",
       "      <td>1500.0</td>\n",
       "      <td>1.0</td>\n",
       "      <td>1500.0</td>\n",
       "      <td>0.0</td>\n",
       "      <td>1500.0</td>\n",
       "      <td>1.0</td>\n",
       "    </tr>\n",
       "    <tr>\n",
       "      <th>49089</th>\n",
       "      <td>44898</td>\n",
       "      <td>49089</td>\n",
       "      <td>49089</td>\n",
       "      <td>19995780</td>\n",
       "      <td>21942461</td>\n",
       "      <td>36805359</td>\n",
       "      <td>mimic_iv</td>\n",
       "      <td>9999</td>\n",
       "      <td>&gt;= 500</td>\n",
       "      <td>True</td>\n",
       "      <td>...</td>\n",
       "      <td>1557.0</td>\n",
       "      <td>2.0</td>\n",
       "      <td>1557.0</td>\n",
       "      <td>0.0</td>\n",
       "      <td>1557.0</td>\n",
       "      <td>1.0</td>\n",
       "      <td>1557.0</td>\n",
       "      <td>2.0</td>\n",
       "      <td>1557.0</td>\n",
       "      <td>0.0</td>\n",
       "    </tr>\n",
       "    <tr>\n",
       "      <th>49090</th>\n",
       "      <td>44899</td>\n",
       "      <td>49090</td>\n",
       "      <td>49090</td>\n",
       "      <td>19997293</td>\n",
       "      <td>28847872</td>\n",
       "      <td>31877557</td>\n",
       "      <td>mimic_iv</td>\n",
       "      <td>9999</td>\n",
       "      <td>&gt;= 500</td>\n",
       "      <td>True</td>\n",
       "      <td>...</td>\n",
       "      <td>1557.0</td>\n",
       "      <td>0.0</td>\n",
       "      <td>1557.0</td>\n",
       "      <td>0.0</td>\n",
       "      <td>1557.0</td>\n",
       "      <td>1.0</td>\n",
       "      <td>1557.0</td>\n",
       "      <td>1.0</td>\n",
       "      <td>1557.0</td>\n",
       "      <td>1.0</td>\n",
       "    </tr>\n",
       "    <tr>\n",
       "      <th>49091</th>\n",
       "      <td>44900</td>\n",
       "      <td>49091</td>\n",
       "      <td>49091</td>\n",
       "      <td>19997367</td>\n",
       "      <td>20617667</td>\n",
       "      <td>35616526</td>\n",
       "      <td>mimic_iv</td>\n",
       "      <td>9999</td>\n",
       "      <td>&gt;= 500</td>\n",
       "      <td>True</td>\n",
       "      <td>...</td>\n",
       "      <td>1557.0</td>\n",
       "      <td>3.0</td>\n",
       "      <td>1557.0</td>\n",
       "      <td>2.0</td>\n",
       "      <td>1557.0</td>\n",
       "      <td>1.0</td>\n",
       "      <td>1557.0</td>\n",
       "      <td>1.0</td>\n",
       "      <td>1557.0</td>\n",
       "      <td>1.0</td>\n",
       "    </tr>\n",
       "    <tr>\n",
       "      <th>49092</th>\n",
       "      <td>44901</td>\n",
       "      <td>49092</td>\n",
       "      <td>49092</td>\n",
       "      <td>19997752</td>\n",
       "      <td>29452285</td>\n",
       "      <td>34531437</td>\n",
       "      <td>mimic_iv</td>\n",
       "      <td>9999</td>\n",
       "      <td>&gt;= 500</td>\n",
       "      <td>True</td>\n",
       "      <td>...</td>\n",
       "      <td>1559.0</td>\n",
       "      <td>0.0</td>\n",
       "      <td>1559.0</td>\n",
       "      <td>0.0</td>\n",
       "      <td>1559.0</td>\n",
       "      <td>1.0</td>\n",
       "      <td>1559.0</td>\n",
       "      <td>1.0</td>\n",
       "      <td>1559.0</td>\n",
       "      <td>0.0</td>\n",
       "    </tr>\n",
       "  </tbody>\n",
       "</table>\n",
       "<p>49093 rows × 142 columns</p>\n",
       "</div>"
      ],
      "text/plain": [
       "       unique_subject_id  unique_hospital_admission_id  unique_icustay_id  \\\n",
       "0                      0                             0                  0   \n",
       "1                      1                             1                  1   \n",
       "2                      2                             2                  2   \n",
       "3                      3                             3                  3   \n",
       "4                      4                             4                  4   \n",
       "...                  ...                           ...                ...   \n",
       "49088              44897                         49088              49088   \n",
       "49089              44898                         49089              49089   \n",
       "49090              44899                         49090              49090   \n",
       "49091              44900                         49091              49091   \n",
       "49092              44901                         49092              49092   \n",
       "\n",
       "      subject_id  hospital_admission_id  icustay_id source_db  hospitalid  \\\n",
       "0      002-10050                 183274      211144      eicu          71   \n",
       "1       002-1007                 178462      204935      eicu          71   \n",
       "2      002-10187                 150828      169525      eicu          73   \n",
       "3      002-10306                 198249      230427      eicu          63   \n",
       "4      002-10324                 188445      217835      eicu          73   \n",
       "...          ...                    ...         ...       ...         ...   \n",
       "49088   19995595               21784060    34670930  mimic_iv        9999   \n",
       "49089   19995780               21942461    36805359  mimic_iv        9999   \n",
       "49090   19997293               28847872    31877557  mimic_iv        9999   \n",
       "49091   19997367               20617667    35616526  mimic_iv        9999   \n",
       "49092   19997752               29452285    34531437  mimic_iv        9999   \n",
       "\n",
       "      numbedscategory  teachingstatus  ... delta_sofa_future_coagulation_24hr  \\\n",
       "0           100 - 249           False  ...                             1525.0   \n",
       "1           100 - 249           False  ...                                NaN   \n",
       "2              >= 500            True  ...                             1547.0   \n",
       "3           100 - 249           False  ...                             1507.0   \n",
       "4              >= 500            True  ...                             1537.0   \n",
       "...               ...             ...  ...                                ...   \n",
       "49088          >= 500            True  ...                             1500.0   \n",
       "49089          >= 500            True  ...                             1557.0   \n",
       "49090          >= 500            True  ...                             1557.0   \n",
       "49091          >= 500            True  ...                             1557.0   \n",
       "49092          >= 500            True  ...                             1559.0   \n",
       "\n",
       "       sofa_future_coagulation_24hr  delta_sofa_future_liver_24hr  \\\n",
       "0                               1.0                        1525.0   \n",
       "1                               NaN                           NaN   \n",
       "2                               0.0                        1547.0   \n",
       "3                               2.0                        1507.0   \n",
       "4                               1.0                        1537.0   \n",
       "...                             ...                           ...   \n",
       "49088                           0.0                        1500.0   \n",
       "49089                           2.0                        1557.0   \n",
       "49090                           0.0                        1557.0   \n",
       "49091                           3.0                        1557.0   \n",
       "49092                           0.0                        1559.0   \n",
       "\n",
       "       sofa_future_liver_24hr  delta_sofa_future_cardiovascular_24hr  \\\n",
       "0                         0.0                                 1525.0   \n",
       "1                         NaN                                    NaN   \n",
       "2                         0.0                                 1547.0   \n",
       "3                         0.0                                 1507.0   \n",
       "4                         0.0                                 1537.0   \n",
       "...                       ...                                    ...   \n",
       "49088                     2.0                                 1500.0   \n",
       "49089                     0.0                                 1557.0   \n",
       "49090                     0.0                                 1557.0   \n",
       "49091                     2.0                                 1557.0   \n",
       "49092                     0.0                                 1559.0   \n",
       "\n",
       "       sofa_future_cardiovascular_24hr delta_sofa_future_cns_24hr  \\\n",
       "0                                  1.0                     1525.0   \n",
       "1                                  NaN                        NaN   \n",
       "2                                  1.0                     1547.0   \n",
       "3                                  1.0                     1507.0   \n",
       "4                                  1.0                     1537.0   \n",
       "...                                ...                        ...   \n",
       "49088                              1.0                     1500.0   \n",
       "49089                              1.0                     1557.0   \n",
       "49090                              1.0                     1557.0   \n",
       "49091                              1.0                     1557.0   \n",
       "49092                              1.0                     1559.0   \n",
       "\n",
       "      sofa_future_cns_24hr delta_sofa_future_renal_24hr sofa_future_renal_24hr  \n",
       "0                      0.0                       1525.0                    0.0  \n",
       "1                      NaN                          NaN                    NaN  \n",
       "2                      0.0                       1547.0                    0.0  \n",
       "3                      0.0                       1507.0                    1.0  \n",
       "4                      2.0                       1537.0                    0.0  \n",
       "...                    ...                          ...                    ...  \n",
       "49088                  0.0                       1500.0                    1.0  \n",
       "49089                  2.0                       1557.0                    0.0  \n",
       "49090                  1.0                       1557.0                    1.0  \n",
       "49091                  1.0                       1557.0                    1.0  \n",
       "49092                  1.0                       1559.0                    0.0  \n",
       "\n",
       "[49093 rows x 142 columns]"
      ]
     },
     "execution_count": 4,
     "metadata": {},
     "output_type": "execute_result"
    }
   ],
   "source": [
    "df_initial"
   ]
  },
  {
   "cell_type": "code",
   "execution_count": 5,
   "id": "44697473-63e5-44f4-98bf-0c0311dd8e44",
   "metadata": {},
   "outputs": [
    {
     "data": {
      "text/plain": [
       "(49093, 142)"
      ]
     },
     "execution_count": 5,
     "metadata": {},
     "output_type": "execute_result"
    }
   ],
   "source": [
    "df_initial.shape"
   ]
  },
  {
   "cell_type": "code",
   "execution_count": 6,
   "id": "7d6899a9-fa3a-4ff1-84aa-f29ea82f69f0",
   "metadata": {},
   "outputs": [
    {
     "name": "stdout",
     "output_type": "stream",
     "text": [
      "Column names: ['unique_subject_id', 'unique_hospital_admission_id', 'unique_icustay_id', 'subject_id', 'hospital_admission_id', 'icustay_id', 'source_db', 'hospitalid', 'numbedscategory', 'teachingstatus', 'region', 'admission_age', 'sex_female', 'weight_admission', 'height_admission', 'BMI_admission', 'datetime_hospital_admit', 'datetime_hospital_discharge', 'datetime_icu_admit', 'datetime_icu_discharge', 'los_hospital', 'los_ICU', 'comorbidity_score_name', 'comorbidity_score_value', 'in_hospital_mortality', 'race_ethnicity', 'SaO2_timestamp', 'pH', 'pCO2', 'pO2', 'SaO2', 'SpO2', 'Carboxyhemoglobin', 'Methemoglobin', 'SpO2_timestamp', 'delta_SpO2', 'delta_vitals_heart_rate', 'vitals_heart_rate', 'delta_vitals_resp_rate', 'vitals_resp_rate', 'delta_vitals_mbp_ni', 'vitals_mbp_ni', 'delta_vitals_sbp_ni', 'vitals_sbp_ni', 'delta_vitals_dbp_ni', 'vitals_dbp_ni', 'delta_vitals_mbp_i', 'vitals_mbp_i', 'delta_vitals_sbp_i', 'vitals_sbp_i', 'delta_vitals_dbp_i', 'vitals_dbp_i', 'delta_vitals_tempc', 'vitals_tempc', 'delta_cbc_hemoglobin', 'cbc_hemoglobin', 'delta_cbc_hematocrit', 'cbc_hematocrit', 'delta_cbc_mch', 'cbc_mch', 'delta_cbc_mchc', 'cbc_mchc', 'delta_cbc_mcv', 'cbc_mcv', 'delta_cbc_platelet', 'cbc_platelet', 'delta_cbc_rbc', 'cbc_rbc', 'delta_cbc_rdw', 'cbc_rdw', 'delta_cbc_wbc', 'cbc_wbc', 'delta_coag_fibrinogen', 'coag_fibrinogen', 'delta_coag_inr', 'coag_inr', 'delta_coag_pt', 'coag_pt', 'delta_coag_ptt', 'coag_ptt', 'delta_bmp_sodium', 'bmp_sodium', 'delta_bmp_potassium', 'bmp_potassium', 'delta_bmp_chloride', 'bmp_chloride', 'delta_bmp_bicarbonate', 'bmp_bicarbonate', 'delta_bmp_bun', 'bmp_bun', 'delta_bmp_creatinine', 'bmp_creatinine', 'delta_bmp_glucose', 'bmp_glucose', 'delta_bmp_aniongap', 'bmp_aniongap', 'delta_bmp_calcium', 'bmp_calcium', 'delta_bmp_lactate', 'bmp_lactate', 'delta_hfp_alt', 'hfp_alt', 'delta_hfp_alp', 'hfp_alp', 'delta_hfp_ast', 'hfp_ast', 'delta_hfp_bilirubin_total', 'hfp_bilirubin_total', 'delta_hfp_bilirubin_direct', 'hfp_bilirubin_direct', 'delta_hfp_albumin', 'hfp_albumin', 'delta_others_ck_cpk', 'others_ck_cpk', 'delta_others_ck_mb', 'others_ck_mb', 'delta_others_ld_ldh', 'others_ld_ldh', 'delta_sofa_past_overall_24hr', 'sofa_past_overall_24hr', 'delta_sofa_past_coagulation_24hr', 'sofa_past_coagulation_24hr', 'delta_sofa_past_liver_24hr', 'sofa_past_liver_24hr', 'delta_sofa_past_cardiovascular_24hr', 'sofa_past_cardiovascular_24hr', 'delta_sofa_past_cns_24hr', 'sofa_past_cns_24hr', 'delta_sofa_past_renal_24hr', 'sofa_past_renal_24hr', 'delta_sofa_future_overall_24hr', 'sofa_future_overall_24hr', 'delta_sofa_future_coagulation_24hr', 'sofa_future_coagulation_24hr', 'delta_sofa_future_liver_24hr', 'sofa_future_liver_24hr', 'delta_sofa_future_cardiovascular_24hr', 'sofa_future_cardiovascular_24hr', 'delta_sofa_future_cns_24hr', 'sofa_future_cns_24hr', 'delta_sofa_future_renal_24hr', 'sofa_future_renal_24hr']\n"
     ]
    }
   ],
   "source": [
    "# Assume 'df_initial' is your DataFrame\n",
    "column_names = df_initial.columns.tolist()\n",
    "\n",
    "print(\"Column names:\", column_names)"
   ]
  },
  {
   "cell_type": "markdown",
   "id": "88d511f5-bc3d-4775-a7a4-8038fa27b358",
   "metadata": {},
   "source": [
    "## Keeping relevant columns only"
   ]
  },
  {
   "cell_type": "code",
   "execution_count": 7,
   "id": "03f3c380-cd33-4cc0-96ea-0a4e5e1f8dea",
   "metadata": {},
   "outputs": [],
   "source": [
    "# List of columns to keep (N.B I removed subject_id) \n",
    "columns_to_keep = ['hospital_admission_id', 'source_db', 'admission_age', 'sex_female', 'weight_admission', 'height_admission', 'BMI_admission', 'los_hospital', 'los_ICU', 'comorbidity_score_name', 'comorbidity_score_value', 'in_hospital_mortality', 'race_ethnicity', 'pH', 'pCO2', 'pO2', 'SaO2', 'SpO2', 'vitals_tempc', 'cbc_hemoglobin', 'bmp_sodium', 'bmp_bicarbonate', 'bmp_creatinine', 'sofa_past_overall_24hr', 'sofa_past_cardiovascular_24hr']\n",
    "\n",
    "# Select only the columns you want to keep\n",
    "df_filtered = df_initial[columns_to_keep]"
   ]
  },
  {
   "cell_type": "code",
   "execution_count": 8,
   "id": "9239ed87-a9d6-4c98-87a4-95c38b7c6bdb",
   "metadata": {},
   "outputs": [
    {
     "data": {
      "text/plain": [
       "(49093, 25)"
      ]
     },
     "execution_count": 8,
     "metadata": {},
     "output_type": "execute_result"
    }
   ],
   "source": [
    "df_filtered.shape"
   ]
  },
  {
   "cell_type": "markdown",
   "id": "b20e2fea-228c-431c-a0c6-a932a10f2c28",
   "metadata": {},
   "source": [
    "## Computing p50"
   ]
  },
  {
   "cell_type": "code",
   "execution_count": 9,
   "id": "b1068647-74a9-40ba-beb6-f43874a68c5a",
   "metadata": {},
   "outputs": [],
   "source": [
    "# Create a Copy to ensure no modification of a slice of the original DataFrame\n",
    "df_filtered = df_filtered.copy()\n",
    "df_filtered.loc[:, 'p50'] = ((100 * (df_filtered['pO2']**2.711) / df_filtered['SpO2']) - (df_filtered['pO2']**2.711))**(1/2.711)"
   ]
  },
  {
   "cell_type": "code",
   "execution_count": 10,
   "id": "64f60224-34d2-4345-843c-86ba885441ac",
   "metadata": {},
   "outputs": [
    {
     "name": "stdout",
     "output_type": "stream",
     "text": [
      "Column names: ['hospital_admission_id', 'source_db', 'admission_age', 'sex_female', 'weight_admission', 'height_admission', 'BMI_admission', 'los_hospital', 'los_ICU', 'comorbidity_score_name', 'comorbidity_score_value', 'in_hospital_mortality', 'race_ethnicity', 'pH', 'pCO2', 'pO2', 'SaO2', 'SpO2', 'vitals_tempc', 'cbc_hemoglobin', 'bmp_sodium', 'bmp_bicarbonate', 'bmp_creatinine', 'sofa_past_overall_24hr', 'sofa_past_cardiovascular_24hr', 'p50']\n"
     ]
    }
   ],
   "source": [
    "# checking our new list of columns \n",
    "column_names_withp50 = df_filtered.columns.tolist()\n",
    "\n",
    "print(\"Column names:\", column_names_withp50)"
   ]
  },
  {
   "cell_type": "code",
   "execution_count": 11,
   "id": "41e722e1-e42f-4852-95ed-36b21ed5ccfa",
   "metadata": {},
   "outputs": [
    {
     "data": {
      "text/plain": [
       "(49093, 26)"
      ]
     },
     "execution_count": 11,
     "metadata": {},
     "output_type": "execute_result"
    }
   ],
   "source": [
    "df_filtered.shape"
   ]
  },
  {
   "cell_type": "markdown",
   "id": "d578cfc2-62b3-46ca-82e4-bf60fe42d20b",
   "metadata": {},
   "source": [
    "## Handling outliers"
   ]
  },
  {
   "cell_type": "code",
   "execution_count": 12,
   "id": "153f6fb3-2698-48b5-bf26-0ec8b4aa260f",
   "metadata": {},
   "outputs": [],
   "source": [
    "# identify and handle potentially erroneous or extreme values in the specified columns by replacing them with NaN.\n",
    "df_filtered.loc[df_filtered[\"pCO2\"] == 0.0, \"pCO2\"] = np.NAN # for pCO2 = 0 \n",
    "df_filtered.loc[df_filtered[\"pH\"] > 8.0, \"pH\"] = np.NAN # for pH>8 \n",
    "df_filtered.loc[df_filtered[\"cbc_hemoglobin\"] > 30.0, \"cbc_hemoglobin\"] = np.NAN # for cbc_hemoglobin > 30.0\n",
    "\n",
    "# only keep 10 < p50< 100\n",
    "# instead of replacing with NaNs just remove the nonvalid entries \n",
    "df_filtered = df_filtered.loc[(df_filtered['p50'] >= 10) & (df_filtered['p50'] <= 100)]"
   ]
  },
  {
   "cell_type": "code",
   "execution_count": 13,
   "id": "e627ee38-e0ed-43ab-9ff8-517339d43393",
   "metadata": {},
   "outputs": [
    {
     "data": {
      "text/plain": [
       "(30490, 26)"
      ]
     },
     "execution_count": 13,
     "metadata": {},
     "output_type": "execute_result"
    }
   ],
   "source": [
    "df_filtered.shape"
   ]
  },
  {
   "cell_type": "markdown",
   "id": "f8581d7b-1936-4443-b18e-3804890c6ba5",
   "metadata": {},
   "source": [
    "## Handling Missing values"
   ]
  },
  {
   "cell_type": "code",
   "execution_count": 14,
   "id": "377eda42-cd61-417a-a393-a5ab2518c9a4",
   "metadata": {},
   "outputs": [
    {
     "name": "stdout",
     "output_type": "stream",
     "text": [
      "There are missing values in the DataFrame.\n"
     ]
    }
   ],
   "source": [
    "# Check for missing values in the entire DataFrame\n",
    "missing_values = df_filtered.isna()  # or df.isnull() \n",
    "\n",
    "# Check if there are any missing values in the entire DataFrame\n",
    "if missing_values.any().any():\n",
    "    print(\"There are missing values in the DataFrame.\")\n",
    "else: \n",
    "    print(\"There are no missing values in the DataFrame.\")"
   ]
  },
  {
   "cell_type": "markdown",
   "id": "eefa4980-ae26-4afc-b5ed-2c7dc64417dc",
   "metadata": {},
   "source": [
    "### Find the percentage of missing values per column "
   ]
  },
  {
   "cell_type": "code",
   "execution_count": 15,
   "id": "ee57f021-d911-4faf-8bdb-56f2d594a9ae",
   "metadata": {},
   "outputs": [
    {
     "name": "stdout",
     "output_type": "stream",
     "text": [
      "                                                      Column  \\\n",
      "hospital_admission_id                  hospital_admission_id   \n",
      "source_db                                          source_db   \n",
      "admission_age                                  admission_age   \n",
      "sex_female                                        sex_female   \n",
      "weight_admission                            weight_admission   \n",
      "height_admission                            height_admission   \n",
      "BMI_admission                                  BMI_admission   \n",
      "los_hospital                                    los_hospital   \n",
      "los_ICU                                              los_ICU   \n",
      "comorbidity_score_name                comorbidity_score_name   \n",
      "comorbidity_score_value              comorbidity_score_value   \n",
      "in_hospital_mortality                  in_hospital_mortality   \n",
      "race_ethnicity                                race_ethnicity   \n",
      "pH                                                        pH   \n",
      "pCO2                                                    pCO2   \n",
      "pO2                                                      pO2   \n",
      "SaO2                                                    SaO2   \n",
      "SpO2                                                    SpO2   \n",
      "vitals_tempc                                    vitals_tempc   \n",
      "cbc_hemoglobin                                cbc_hemoglobin   \n",
      "bmp_sodium                                        bmp_sodium   \n",
      "bmp_bicarbonate                              bmp_bicarbonate   \n",
      "bmp_creatinine                                bmp_creatinine   \n",
      "sofa_past_overall_24hr                sofa_past_overall_24hr   \n",
      "sofa_past_cardiovascular_24hr  sofa_past_cardiovascular_24hr   \n",
      "p50                                                      p50   \n",
      "\n",
      "                               Percentage Missing (%)  \n",
      "hospital_admission_id                        0.000000  \n",
      "source_db                                    0.000000  \n",
      "admission_age                                0.003280  \n",
      "sex_female                                   0.000000  \n",
      "weight_admission                             2.371269  \n",
      "height_admission                             2.804198  \n",
      "BMI_admission                                4.253854  \n",
      "los_hospital                                 0.000000  \n",
      "los_ICU                                      0.000000  \n",
      "comorbidity_score_name                       0.000000  \n",
      "comorbidity_score_value                      0.003280  \n",
      "in_hospital_mortality                        0.803542  \n",
      "race_ethnicity                               0.000000  \n",
      "pH                                           0.006560  \n",
      "pCO2                                         0.003280  \n",
      "pO2                                          0.000000  \n",
      "SaO2                                         0.000000  \n",
      "SpO2                                         0.000000  \n",
      "vitals_tempc                                15.355854  \n",
      "cbc_hemoglobin                              14.076746  \n",
      "bmp_sodium                                  13.207609  \n",
      "bmp_bicarbonate                             20.701869  \n",
      "bmp_creatinine                              15.359134  \n",
      "sofa_past_overall_24hr                      19.635946  \n",
      "sofa_past_cardiovascular_24hr               19.635946  \n",
      "p50                                          0.000000  \n",
      "Total Percentage Missing in DataFrame: 4.93%\n"
     ]
    }
   ],
   "source": [
    "# Count the number of missing values per column\n",
    "missing_values_count = df_filtered.isna().sum()\n",
    "\n",
    "# Calculate the total number of cells in the DataFrame\n",
    "total_cells = df_filtered.size\n",
    "\n",
    "# Calculate the total number of missing values in the entire DataFrame\n",
    "total_missing_values = missing_values_count.sum()\n",
    "\n",
    "# Calculate the total percentage of missing values in the entire DataFrame\n",
    "total_percentage_missing = (total_missing_values / total_cells) * 100\n",
    "\n",
    "# Create a DataFrame to display the results\n",
    "missing_data_summary = pd.DataFrame({\n",
    "    'Column': df_filtered.columns,\n",
    "    'Percentage Missing (%)': (missing_values_count / len(df_filtered)) * 100\n",
    "})\n",
    "\n",
    "# Print the missing data summary\n",
    "print(missing_data_summary)\n",
    "\n",
    "# Print the total percentage of missing values in the entire DataFrame\n",
    "print(\"Total Percentage Missing in DataFrame: {:.2f}%\".format(total_percentage_missing))\n"
   ]
  },
  {
   "cell_type": "code",
   "execution_count": 16,
   "id": "8da1037b-4469-4a10-a41c-c0caf21696fd",
   "metadata": {},
   "outputs": [
    {
     "name": "stdout",
     "output_type": "stream",
     "text": [
      "Percentage of rows with at least one missing value: 46.79%\n"
     ]
    }
   ],
   "source": [
    "# Calculate the percentage of rows (patients) with at least one missing value\n",
    "percentage_rows_with_missing = (df_filtered.isnull().any(axis=1).sum() / len(df_filtered)) * 100\n",
    "\n",
    "# Print the percentage of rows with at least one missing value\n",
    "print(\"Percentage of rows with at least one missing value: {:.2f}%\".format(percentage_rows_with_missing))"
   ]
  },
  {
   "cell_type": "markdown",
   "id": "d11b8b0e-055e-4e66-ac96-1acfff7e145b",
   "metadata": {},
   "source": [
    "### Drop missing values for the columns with < 5% missing values \n",
    "Columns: admission_age, weight_admission, height_admission, BMI_admission, comorbidity_score_value, in_hospital_mortality, pH, pCO2"
   ]
  },
  {
   "cell_type": "code",
   "execution_count": 17,
   "id": "9ffd8034-50f7-4355-b8e3-845af577ce7e",
   "metadata": {},
   "outputs": [],
   "source": [
    "df_filtered_1 = df_filtered.dropna(subset=[\"sofa_past_overall_24hr\", \"admission_age\", \"weight_admission\", \"height_admission\",\"BMI_admission\", \"comorbidity_score_value\", \"in_hospital_mortality\", \"pH\", \"pCO2\"])\n",
    "\n",
    "# for now dropping sofa_past_overall_24hr even if 20% of the column is missing -> need to consider another approach later !!! "
   ]
  },
  {
   "cell_type": "code",
   "execution_count": 18,
   "id": "8dfc853a-978e-449d-9206-f6b499b19b2a",
   "metadata": {},
   "outputs": [
    {
     "data": {
      "text/plain": [
       "(23224, 26)"
      ]
     },
     "execution_count": 18,
     "metadata": {},
     "output_type": "execute_result"
    }
   ],
   "source": [
    "df_filtered_1.shape"
   ]
  },
  {
   "cell_type": "code",
   "execution_count": 19,
   "id": "3ecffc0d-8a35-475f-b784-608555064d33",
   "metadata": {},
   "outputs": [
    {
     "name": "stdout",
     "output_type": "stream",
     "text": [
      "                                                      Column  \\\n",
      "hospital_admission_id                  hospital_admission_id   \n",
      "source_db                                          source_db   \n",
      "admission_age                                  admission_age   \n",
      "sex_female                                        sex_female   \n",
      "weight_admission                            weight_admission   \n",
      "height_admission                            height_admission   \n",
      "BMI_admission                                  BMI_admission   \n",
      "los_hospital                                    los_hospital   \n",
      "los_ICU                                              los_ICU   \n",
      "comorbidity_score_name                comorbidity_score_name   \n",
      "comorbidity_score_value              comorbidity_score_value   \n",
      "in_hospital_mortality                  in_hospital_mortality   \n",
      "race_ethnicity                                race_ethnicity   \n",
      "pH                                                        pH   \n",
      "pCO2                                                    pCO2   \n",
      "pO2                                                      pO2   \n",
      "SaO2                                                    SaO2   \n",
      "SpO2                                                    SpO2   \n",
      "vitals_tempc                                    vitals_tempc   \n",
      "cbc_hemoglobin                                cbc_hemoglobin   \n",
      "bmp_sodium                                        bmp_sodium   \n",
      "bmp_bicarbonate                              bmp_bicarbonate   \n",
      "bmp_creatinine                                bmp_creatinine   \n",
      "sofa_past_overall_24hr                sofa_past_overall_24hr   \n",
      "sofa_past_cardiovascular_24hr  sofa_past_cardiovascular_24hr   \n",
      "p50                                                      p50   \n",
      "\n",
      "                               Percentage Missing (%)  \n",
      "hospital_admission_id                        0.000000  \n",
      "source_db                                    0.000000  \n",
      "admission_age                                0.000000  \n",
      "sex_female                                   0.000000  \n",
      "weight_admission                             0.000000  \n",
      "height_admission                             0.000000  \n",
      "BMI_admission                                0.000000  \n",
      "los_hospital                                 0.000000  \n",
      "los_ICU                                      0.000000  \n",
      "comorbidity_score_name                       0.000000  \n",
      "comorbidity_score_value                      0.000000  \n",
      "in_hospital_mortality                        0.000000  \n",
      "race_ethnicity                               0.000000  \n",
      "pH                                           0.000000  \n",
      "pCO2                                         0.000000  \n",
      "pO2                                          0.000000  \n",
      "SaO2                                         0.000000  \n",
      "SpO2                                         0.000000  \n",
      "vitals_tempc                                 9.629387  \n",
      "cbc_hemoglobin                               8.838964  \n",
      "bmp_sodium                                   8.209249  \n",
      "bmp_bicarbonate                             12.850115  \n",
      "bmp_creatinine                               8.488029  \n",
      "sofa_past_overall_24hr                       0.000000  \n",
      "sofa_past_cardiovascular_24hr                0.000000  \n",
      "p50                                          0.000000  \n",
      "Total Percentage Missing in DataFrame: 2.42%\n"
     ]
    }
   ],
   "source": [
    "# Count the number of missing values per column\n",
    "missing_values_count = df_filtered_1.isna().sum()\n",
    "\n",
    "# Calculate the total number of cells in the DataFrame\n",
    "total_cells = df_filtered_1.size\n",
    "\n",
    "# Calculate the total number of missing values in the entire DataFrame\n",
    "total_missing_values = missing_values_count.sum()\n",
    "\n",
    "# Calculate the total percentage of missing values in the entire DataFrame\n",
    "total_percentage_missing = (total_missing_values / total_cells) * 100\n",
    "\n",
    "# Create a DataFrame to display the results\n",
    "missing_data_summary = pd.DataFrame({\n",
    "    'Column': df_filtered.columns,\n",
    "    'Percentage Missing (%)': (missing_values_count / len(df_filtered)) * 100\n",
    "})\n",
    "\n",
    "# Print the missing data summary\n",
    "print(missing_data_summary)\n",
    "\n",
    "# Print the total percentage of missing values in the entire DataFrame\n",
    "print(\"Total Percentage Missing in DataFrame: {:.2f}%\".format(total_percentage_missing))\n"
   ]
  },
  {
   "cell_type": "markdown",
   "id": "d7fbd4e1-ad25-4838-bd21-01f5d03f2157",
   "metadata": {},
   "source": [
    "### Imputation of missing values using regression for columns with missing values >5%\n",
    "Columns: vitals_tempc, cbc_hemoglobin, bmp_sodium, bmp_bicarbonate, bmp_creatinine, sofa_past_overall_24hr, sofa_past_cardiovascular_24hr"
   ]
  },
  {
   "cell_type": "code",
   "execution_count": 20,
   "id": "8c3923a0-b852-4198-bfa3-7724d01913fc",
   "metadata": {},
   "outputs": [],
   "source": [
    "missing_vars = [\"vitals_tempc\", \"cbc_hemoglobin\", \"bmp_sodium\", \"bmp_bicarbonate\", \"bmp_creatinine\"]"
   ]
  },
  {
   "cell_type": "code",
   "execution_count": 21,
   "id": "a24b6ae3-dcc8-4931-ba69-b5af7ef01c30",
   "metadata": {},
   "outputs": [],
   "source": [
    "predictor_vars = ['admission_age', 'sex_female', 'comorbidity_score_value', 'sofa_past_overall_24hr']"
   ]
  },
  {
   "cell_type": "code",
   "execution_count": 22,
   "id": "a54fd5af-21df-4eda-9a91-4c9b62f9cd20",
   "metadata": {},
   "outputs": [
    {
     "name": "stderr",
     "output_type": "stream",
     "text": [
      "/opt/anaconda3/envs/ml/lib/python3.9/site-packages/sklearn/impute/_iterative.py:796: ConvergenceWarning: [IterativeImputer] Early stopping criterion not reached.\n",
      "  warnings.warn(\n",
      "/var/folders/sw/5f53r1m13rq2jww8lqgbks700000gn/T/ipykernel_31657/440307370.py:12: SettingWithCopyWarning: \n",
      "A value is trying to be set on a copy of a slice from a DataFrame.\n",
      "Try using .loc[row_indexer,col_indexer] = value instead\n",
      "\n",
      "See the caveats in the documentation: https://pandas.pydata.org/pandas-docs/stable/user_guide/indexing.html#returning-a-view-versus-a-copy\n",
      "  df_filtered_1.loc[:, missing_vars] = imputed_df_final[:, -len(missing_vars):]\n"
     ]
    }
   ],
   "source": [
    "from sklearn.experimental import enable_iterative_imputer\n",
    "from sklearn.impute import IterativeImputer\n",
    "from sklearn.neighbors import KNeighborsRegressor\n",
    "\n",
    "# Create an IterativeImputer with a higher number of iterations\n",
    "imputer = IterativeImputer(estimator=KNeighborsRegressor(), max_iter=10)  # You can adjust the value as needed\n",
    "\n",
    "# Fit and transform the imputer on df_filtered_1\n",
    "imputed_df_final = imputer.fit_transform(df_filtered_1[predictor_vars + missing_vars])\n",
    "\n",
    "# Update the original DataFrame using .loc\n",
    "df_filtered_1.loc[:, missing_vars] = imputed_df_final[:, -len(missing_vars):]"
   ]
  },
  {
   "cell_type": "code",
   "execution_count": 23,
   "id": "36515a81-a0ea-4c92-9f07-3de1f45197bf",
   "metadata": {},
   "outputs": [
    {
     "name": "stdout",
     "output_type": "stream",
     "text": [
      "hospital_admission_id            0\n",
      "source_db                        0\n",
      "admission_age                    0\n",
      "sex_female                       0\n",
      "weight_admission                 0\n",
      "height_admission                 0\n",
      "BMI_admission                    0\n",
      "los_hospital                     0\n",
      "los_ICU                          0\n",
      "comorbidity_score_name           0\n",
      "comorbidity_score_value          0\n",
      "in_hospital_mortality            0\n",
      "race_ethnicity                   0\n",
      "pH                               0\n",
      "pCO2                             0\n",
      "pO2                              0\n",
      "SaO2                             0\n",
      "SpO2                             0\n",
      "vitals_tempc                     0\n",
      "cbc_hemoglobin                   0\n",
      "bmp_sodium                       0\n",
      "bmp_bicarbonate                  0\n",
      "bmp_creatinine                   0\n",
      "sofa_past_overall_24hr           0\n",
      "sofa_past_cardiovascular_24hr    0\n",
      "p50                              0\n",
      "dtype: int64\n"
     ]
    }
   ],
   "source": [
    "# aims to identify and handle potentially erroneous or extreme values in the specified columns by replacing them with NaN.\n",
    "# Count missing values in each column\n",
    "missing_counts = df_filtered_1.isna().sum()\n",
    "print(missing_counts)"
   ]
  },
  {
   "cell_type": "code",
   "execution_count": 24,
   "id": "069b0f36-1e01-41e3-b103-c3c4c78c6a53",
   "metadata": {},
   "outputs": [
    {
     "data": {
      "text/plain": [
       "(23224, 26)"
      ]
     },
     "execution_count": 24,
     "metadata": {},
     "output_type": "execute_result"
    }
   ],
   "source": [
    "df_filtered_1.shape"
   ]
  },
  {
   "cell_type": "markdown",
   "id": "5c02ac01-9867-4c67-b0a8-cdb6a7173a50",
   "metadata": {},
   "source": [
    "## Cohort Selection "
   ]
  },
  {
   "cell_type": "code",
   "execution_count": 25,
   "id": "d4f9b331-e93b-42fa-b246-b24f8d478955",
   "metadata": {},
   "outputs": [
    {
     "name": "stdout",
     "output_type": "stream",
     "text": [
      "['White' 'Black' 'Unknown' 'Hispanic OR Latino'\n",
      " 'American Indian / Alaska Native' 'Asian'\n",
      " 'Native Hawaiian / Pacific Islander' 'More Than One Race']\n"
     ]
    }
   ],
   "source": [
    "# Get the unique values from a specific column\n",
    "unique_values = df_filtered_1['race_ethnicity'].unique()\n",
    "\n",
    "# Print the unique values\n",
    "print(unique_values)"
   ]
  },
  {
   "cell_type": "code",
   "execution_count": 26,
   "id": "bbb3e881-af7b-45ba-b0a1-508c04e2bfc0",
   "metadata": {
    "scrolled": true
   },
   "outputs": [
    {
     "name": "stdout",
     "output_type": "stream",
     "text": [
      "Gender                              Female       Male\n",
      "race_ethnicity                                       \n",
      "American Indian / Alaska Native   0.322439   0.425033\n",
      "Asian                             0.586252   0.703503\n",
      "Black                             3.820411   4.709561\n",
      "Hispanic OR Latino                1.817382   2.003029\n",
      "Unknown                           2.481802   3.370951\n",
      "White                            36.611461  43.148175\n"
     ]
    }
   ],
   "source": [
    "import pandas as pd\n",
    "\n",
    "# Filter the DataFrame to include only rows where source_db is 'eicu'\n",
    "filtered_df = df_filtered_1[df_filtered_1[\"source_db\"] == \"eicu\"].copy()  \n",
    "\n",
    "# Create a 'Gender' column based on 'sex_female'\n",
    "filtered_df['Gender'] = filtered_df['sex_female'].map({0: 'Male', 1: 'Female'})\n",
    "\n",
    "# Group the data by 'Gender' and 'race_ethnicity' and calculate the percentage\n",
    "result = filtered_df.groupby(['Gender', 'race_ethnicity']).size() / len(filtered_df) * 100\n",
    "\n",
    "# Reset the index to create a DataFrame\n",
    "result = result.reset_index(name='Percentage')\n",
    "\n",
    "# Pivot the DataFrame to have columns for females and males\n",
    "pivot_table = result.pivot(index='race_ethnicity', columns='Gender', values='Percentage')\n",
    "\n",
    "# Fill NaN values with 0\n",
    "pivot_table = pivot_table.fillna(0)\n",
    "\n",
    "# Display the table\n",
    "print(pivot_table)\n"
   ]
  },
  {
   "cell_type": "markdown",
   "id": "b541ef7c-09a9-4d12-b2f0-de772fd8ceb9",
   "metadata": {},
   "source": [
    "## Profile Report\n",
    "Provides a summary of descriptive statistics and insights about a dataset. "
   ]
  },
  {
   "cell_type": "code",
   "execution_count": 27,
   "id": "5d8006f8-e1ea-4c23-b211-e923d3d0cf6e",
   "metadata": {},
   "outputs": [
    {
     "data": {
      "application/vnd.jupyter.widget-view+json": {
       "model_id": "bae1fa64fd0849bab1887c48854a0b73",
       "version_major": 2,
       "version_minor": 0
      },
      "text/plain": [
       "Summarize dataset:   0%|          | 0/5 [00:00<?, ?it/s]"
      ]
     },
     "metadata": {},
     "output_type": "display_data"
    },
    {
     "data": {
      "application/vnd.jupyter.widget-view+json": {
       "model_id": "3b975645ff2f4c40b9c892138875ef99",
       "version_major": 2,
       "version_minor": 0
      },
      "text/plain": [
       "Generate report structure:   0%|          | 0/1 [00:00<?, ?it/s]"
      ]
     },
     "metadata": {},
     "output_type": "display_data"
    },
    {
     "data": {
      "application/vnd.jupyter.widget-view+json": {
       "model_id": "57f6de2c93e942bf837b728c8ad08960",
       "version_major": 2,
       "version_minor": 0
      },
      "text/plain": [
       "Render HTML:   0%|          | 0/1 [00:00<?, ?it/s]"
      ]
     },
     "metadata": {},
     "output_type": "display_data"
    },
    {
     "data": {
      "application/vnd.jupyter.widget-view+json": {
       "model_id": "ccdef6b4e788420d96a49d2866582efc",
       "version_major": 2,
       "version_minor": 0
      },
      "text/plain": [
       "Export report to file:   0%|          | 0/1 [00:00<?, ?it/s]"
      ]
     },
     "metadata": {},
     "output_type": "display_data"
    }
   ],
   "source": [
    "import pandas as pd\n",
    "from ydata_profiling import ProfileReport\n",
    "\n",
    "# Create a profile report\n",
    "profile = ProfileReport(filtered_df)\n",
    "\n",
    "# Save the report to an HTML file\n",
    "profile.to_file('report.html')"
   ]
  },
  {
   "cell_type": "markdown",
   "id": "d69f1dc5-9556-42f2-9a37-af6e61f6a420",
   "metadata": {},
   "source": [
    "## Variable encoding\n",
    "Variable encoding, also known as feature encoding or categorical encoding, is a fundamental preprocessing step in machine learning and data analysis. Its goal is to convert categorical variables (features) into a numerical format that machine learning algorithms can work with effectively. Categorical variables are those that represent categories or labels rather than numerical quantities. Encoding categorical variables is essential because many machine learning algorithms require numerical input data."
   ]
  },
  {
   "cell_type": "code",
   "execution_count": 35,
   "id": "022bca36-077f-4d13-9ef3-d322e46d6aa7",
   "metadata": {},
   "outputs": [
    {
     "name": "stdout",
     "output_type": "stream",
     "text": [
      "['White' 'Black' 'Unknown' 'Hispanic OR Latino'\n",
      " 'American Indian / Alaska Native' 'Asian'\n",
      " 'Native Hawaiian / Pacific Islander' 'More Than One Race']\n"
     ]
    }
   ],
   "source": [
    "# Get the unique values from a specific column\n",
    "unique_values = df_filtered_1['race_ethnicity'].unique()\n",
    "\n",
    "# Print the unique values\n",
    "print(unique_values)"
   ]
  },
  {
   "cell_type": "code",
   "execution_count": 36,
   "id": "1729e890-bd57-420a-ada8-b28e736511e9",
   "metadata": {},
   "outputs": [
    {
     "name": "stdout",
     "output_type": "stream",
     "text": [
      "Non-numeric columns found:\n",
      "      source_db comorbidity_score_name race_ethnicity\n",
      "9          eicu               Charlson          White\n",
      "12         eicu               Charlson          White\n",
      "13         eicu               Charlson          White\n",
      "18         eicu               Charlson          White\n",
      "19         eicu               Charlson          White\n",
      "...         ...                    ...            ...\n",
      "49085  mimic_iv               Charlson        Unknown\n",
      "49088  mimic_iv               Charlson        Unknown\n",
      "49089  mimic_iv               Charlson          White\n",
      "49090  mimic_iv               Charlson          White\n",
      "49091  mimic_iv               Charlson          White\n",
      "\n",
      "[23224 rows x 3 columns]\n",
      "Occurrences in 'source_db':\n",
      "eicu         20469\n",
      "mimic_iv      2359\n",
      "mimic_iii      396\n",
      "Name: source_db, dtype: int64\n",
      "Occurrences in 'comorbidity_score_name':\n",
      "Charlson      22828\n",
      "Elixhauser      396\n",
      "Name: comorbidity_score_name, dtype: int64\n",
      "Occurrences in 'race_ethnicity':\n",
      "White                                 18288\n",
      "Black                                  1907\n",
      "Unknown                                1666\n",
      "Hispanic OR Latino                      881\n",
      "Asian                                   317\n",
      "American Indian / Alaska Native         157\n",
      "Native Hawaiian / Pacific Islander        6\n",
      "More Than One Race                        2\n",
      "Name: race_ethnicity, dtype: int64\n"
     ]
    }
   ],
   "source": [
    "import pandas as pd\n",
    "\n",
    "# Select columns with non-numeric data types\n",
    "non_numeric_columns = df_filtered_1.select_dtypes(exclude=['number'])\n",
    "\n",
    "# Check if there are any non-numeric columns\n",
    "if non_numeric_columns.empty:\n",
    "    print(\"All values are numerical.\")\n",
    "else:\n",
    "    print(\"Non-numeric columns found:\")\n",
    "    print(non_numeric_columns)\n",
    "\n",
    "    # Count occurrences of each unique value in non-numeric columns\n",
    "    for column in non_numeric_columns:\n",
    "        value_counts = df_filtered_1[column].value_counts()\n",
    "        print(f\"Occurrences in '{column}':\")\n",
    "        print(value_counts)"
   ]
  },
  {
   "cell_type": "code",
   "execution_count": 37,
   "id": "d958cce8-5589-4897-a9e8-6310b26b0e9a",
   "metadata": {},
   "outputs": [],
   "source": [
    "df = df_filtered_1"
   ]
  },
  {
   "cell_type": "code",
   "execution_count": 38,
   "id": "b8981852-9144-446a-b47b-11f1fc691dca",
   "metadata": {},
   "outputs": [],
   "source": [
    "df = pd.get_dummies(df, columns=['race_ethnicity'], prefix='ethnicity')\n",
    "df = pd.get_dummies(df, columns=['source_db'], prefix='source')\n",
    "df = pd.get_dummies(df, columns=['comorbidity_score_name'], prefix='comorbidity_score_name')\n",
    "# N.B: we are only interested in Charlson"
   ]
  },
  {
   "cell_type": "markdown",
   "id": "95701a38-c899-470b-bf19-78789adf455e",
   "metadata": {},
   "source": [
    "## Final Shape of the dataframe used for statistical modeling "
   ]
  },
  {
   "cell_type": "code",
   "execution_count": 39,
   "id": "f41096b6-e93f-4641-9fda-b83ef92645c5",
   "metadata": {},
   "outputs": [
    {
     "data": {
      "text/plain": [
       "(23224, 36)"
      ]
     },
     "execution_count": 39,
     "metadata": {},
     "output_type": "execute_result"
    }
   ],
   "source": [
    "df.shape"
   ]
  },
  {
   "cell_type": "code",
   "execution_count": 40,
   "id": "e850c77e-1ce8-4ba9-bf2e-a783f1279c63",
   "metadata": {},
   "outputs": [
    {
     "name": "stdout",
     "output_type": "stream",
     "text": [
      "Index(['hospital_admission_id', 'admission_age', 'sex_female',\n",
      "       'weight_admission', 'height_admission', 'BMI_admission', 'los_hospital',\n",
      "       'los_ICU', 'comorbidity_score_value', 'in_hospital_mortality', 'pH',\n",
      "       'pCO2', 'pO2', 'SaO2', 'SpO2', 'vitals_tempc', 'cbc_hemoglobin',\n",
      "       'bmp_sodium', 'bmp_bicarbonate', 'bmp_creatinine',\n",
      "       'sofa_past_overall_24hr', 'sofa_past_cardiovascular_24hr', 'p50',\n",
      "       'ethnicity_American Indian / Alaska Native', 'ethnicity_Asian',\n",
      "       'ethnicity_Black', 'ethnicity_Hispanic OR Latino',\n",
      "       'ethnicity_More Than One Race',\n",
      "       'ethnicity_Native Hawaiian / Pacific Islander', 'ethnicity_Unknown',\n",
      "       'ethnicity_White', 'source_eicu', 'source_mimic_iii', 'source_mimic_iv',\n",
      "       'comorbidity_score_name_Charlson', 'comorbidity_score_name_Elixhauser'],\n",
      "      dtype='object')\n"
     ]
    }
   ],
   "source": [
    "# To see all the columns in the DataFrame\n",
    "print(df.columns)"
   ]
  },
  {
   "cell_type": "code",
   "execution_count": 71,
   "id": "23602462-a082-4f64-aaec-d43d010ee51a",
   "metadata": {},
   "outputs": [
    {
     "name": "stdout",
     "output_type": "stream",
     "text": [
      "A total of 23224 patients were included in the final analysis from the original dataset of 49093 patients.\n",
      "Variable                       Survivor Mean        Non-Survivor Mean    p-value             \n",
      "admission_age                  64.11                68.79                0.000               \n",
      "sex_female                     0.44                 0.45                 0.378               \n",
      "sofa_past_overall_24hr         4.51                 6.28                 0.000               \n",
      "comorbidity_score_name_Charlson 0.98                 0.98                 0.464               \n",
      "los_ICU                        5.50                 6.18                 0.000               \n",
      "los_hospital                   11.92                9.54                 0.000               \n"
     ]
    }
   ],
   "source": [
    "import pandas as pd\n",
    "import scipy.stats as stats\n",
    "\n",
    "# Load your original dataset into a DataFrame\n",
    "# Replace 'original_dataset.csv' with your dataset file path\n",
    "# df = pd.read_csv('original_dataset.csv')\n",
    "\n",
    "# Select the columns of interest for your analysis\n",
    "columns_of_interest = ['admission_age', 'sex_female', 'sofa_past_overall_24hr', 'comorbidity_score_name_Charlson', 'los_ICU', 'los_hospital', 'in_hospital_mortality']\n",
    "\n",
    "# Create separate DataFrames for survivor and non-survivor cohorts\n",
    "survivor_df = df[df['in_hospital_mortality'] == 0]  # 0 for survivors\n",
    "non_survivor_df = df[df['in_hospital_mortality'] == 1]  # 1 for non-survivors\n",
    "\n",
    "# Calculate and format the statistics for each variable\n",
    "stats_summary = []\n",
    "\n",
    "for column in columns_of_interest[:-1]:  # Excluding 'in_hospital_mortality' column\n",
    "    mean_survivor = survivor_df[column].mean()\n",
    "    mean_non_survivor = non_survivor_df[column].mean()\n",
    "    p_value = stats.ttest_ind(survivor_df[column], non_survivor_df[column]).pvalue\n",
    "\n",
    "    stats_summary.append((column, mean_survivor, mean_non_survivor, p_value))\n",
    "\n",
    "# Table column headers\n",
    "table_headers = [\n",
    "    \"Variable\", \"Survivor Mean\", \"Non-Survivor Mean\", \"p-value\"\n",
    "]\n",
    "\n",
    "# Table content\n",
    "table_content = []\n",
    "\n",
    "for stat in stats_summary:\n",
    "    variable, mean_survivor, mean_non_survivor, p_value = stat\n",
    "    table_content.append([variable, f\"{mean_survivor:.2f}\", f\"{mean_non_survivor:.2f}\", f\"{p_value:.3f}\"])\n",
    "\n",
    "# Print the table\n",
    "total_patients = len(df)\n",
    "total_initial_patients = len(df_initial)\n",
    "print(f'A total of {total_patients} patients were included in the final analysis from the original dataset of {total_initial_patients} patients.')\n",
    "\n",
    "# Print table headers\n",
    "print(\"{:<30} {:<20} {:<20} {:<20}\".format(*table_headers))\n",
    "\n",
    "# Print table content\n",
    "for row in table_content:\n",
    "    print(\"{:<30} {:<20} {:<20} {:<20}\".format(*row))\n"
   ]
  },
  {
   "cell_type": "markdown",
   "id": "062e2615-44cf-45f3-a812-ccad8edcbd09",
   "metadata": {},
   "source": [
    "# Statistical Modeling "
   ]
  },
  {
   "cell_type": "markdown",
   "id": "03ea2ba3-16e8-4322-9c36-5e9562141587",
   "metadata": {},
   "source": [
    "## Compare mortality group\n",
    "Note: \n",
    "* Mortality 1 -> patient passed away\n",
    "* Mortality 0 -> patient survived"
   ]
  },
  {
   "cell_type": "code",
   "execution_count": 42,
   "id": "2edc26a1-9843-4ccc-9730-dce4c668499b",
   "metadata": {},
   "outputs": [
    {
     "data": {
      "text/plain": [
       "9        0.0\n",
       "12       0.0\n",
       "13       0.0\n",
       "18       0.0\n",
       "19       0.0\n",
       "        ... \n",
       "49085    1.0\n",
       "49088    0.0\n",
       "49089    0.0\n",
       "49090    0.0\n",
       "49091    0.0\n",
       "Name: in_hospital_mortality, Length: 23224, dtype: float64"
      ]
     },
     "execution_count": 42,
     "metadata": {},
     "output_type": "execute_result"
    }
   ],
   "source": [
    "df['in_hospital_mortality']"
   ]
  },
  {
   "cell_type": "code",
   "execution_count": 72,
   "id": "8fed5ff8-3163-45f2-a579-75548d8677ee",
   "metadata": {},
   "outputs": [
    {
     "name": "stdout",
     "output_type": "stream",
     "text": [
      "Comparing Mortality Groups:\n",
      "   Mortality  Count  Percentage\n",
      "0          0  18920       81.47\n",
      "1          1   4304       18.53\n"
     ]
    }
   ],
   "source": [
    "import pandas as pd\n",
    "\n",
    "# Assuming df is your DataFrame and 'in_hospital_mortality' is the column of interest\n",
    "mortality_comparison = df['in_hospital_mortality'].value_counts().reset_index()\n",
    "mortality_comparison.columns = ['Mortality', 'Count']\n",
    "\n",
    "# Calculate the percentage for each group\n",
    "mortality_comparison['Percentage'] = (mortality_comparison['Count'] / mortality_comparison['Count'].sum()) * 100\n",
    "\n",
    "# Formatting the Percentage column to display only 2 decimal points\n",
    "mortality_comparison['Percentage'] = mortality_comparison['Percentage'].round(2)\n",
    "\n",
    "# Display the results\n",
    "print(\"Comparing Mortality Groups:\")\n",
    "print(mortality_comparison)"
   ]
  },
  {
   "cell_type": "markdown",
   "id": "7e94a664-a73c-4ae5-a043-0ec1bb9c1926",
   "metadata": {},
   "source": [
    "## Compare Mortality groups with p50"
   ]
  },
  {
   "cell_type": "code",
   "execution_count": 44,
   "id": "33d4909d-6948-4974-b56e-03ec253b74af",
   "metadata": {},
   "outputs": [],
   "source": [
    "%matplotlib inline"
   ]
  },
  {
   "cell_type": "code",
   "execution_count": 45,
   "id": "8b4494bc-cb20-4ced-b682-b71cb02de014",
   "metadata": {},
   "outputs": [],
   "source": [
    "import matplotlib.pyplot as plt\n",
    "import seaborn as sns\n",
    "from scipy import stats"
   ]
  },
  {
   "cell_type": "code",
   "execution_count": 46,
   "id": "234d2faa-07b0-4be6-bf23-28909bb0dc04",
   "metadata": {},
   "outputs": [
    {
     "name": "stdout",
     "output_type": "stream",
     "text": [
      "Comparing Mortality and Different Groups of p50:\n",
      "   in_hospital_mortality    p50_group  Count\n",
      "0                    0.0   Left Shift   6333\n",
      "1                    0.0       Normal   8742\n",
      "2                    0.0  Right Shift   3845\n",
      "3                    1.0   Left Shift   1164\n",
      "4                    1.0       Normal   1869\n",
      "5                    1.0  Right Shift   1271\n"
     ]
    }
   ],
   "source": [
    "# Define a function to categorize 'p50' values into groups\n",
    "def p50_category(p50_value):\n",
    "    if p50_value > 30:\n",
    "        return 'Right Shift'\n",
    "    elif 22 <= p50_value <= 30:\n",
    "        return 'Normal'\n",
    "    else:\n",
    "        return 'Left Shift'\n",
    "\n",
    "# Apply the categorization function to create a new column 'p50_group'\n",
    "df['p50_group'] = df['p50'].apply(p50_category)\n",
    "\n",
    "# Group by 'in_hospital_mortality' and 'p50_group' and calculate the count for each group\n",
    "group_comparison = df.groupby(['in_hospital_mortality', 'p50_group']).size().reset_index(name='Count')\n",
    "\n",
    "print(\"Comparing Mortality and Different Groups of p50:\")\n",
    "print(group_comparison)\n"
   ]
  },
  {
   "cell_type": "markdown",
   "id": "1856ce47-0b6e-48c8-b647-7723e5d339dc",
   "metadata": {},
   "source": [
    "### Visualisation"
   ]
  },
  {
   "cell_type": "code",
   "execution_count": 47,
   "id": "2b49ef21-b784-40d2-b0c5-f9dd55db690e",
   "metadata": {},
   "outputs": [
    {
     "data": {
      "image/png": "[encoded data removed]",
      "text/plain": [
       "<Figure size 1000x600 with 1 Axes>"
      ]
     },
     "metadata": {},
     "output_type": "display_data"
    }
   ],
   "source": [
    "import matplotlib\n",
    "# matplotlib.use('tkagg')  # Use Tkinter backend\n",
    "\n",
    "import seaborn as sns\n",
    "import matplotlib.pyplot as plt\n",
    "\n",
    "# # Convert 'in_hospital_mortality' to strings ('0' or '1')\n",
    "# df['in_hospital_mortality'] = df['in_hospital_mortality'].astype(str)\n",
    "\n",
    "# Create a count plot to compare 'p50_group' categories with respect to mortality\n",
    "plt.figure(figsize=(10, 6))\n",
    "sns.countplot(x='p50_group', hue='in_hospital_mortality', data=df, palette='Set3', order=['Left Shift', 'Normal', 'Right Shift'])\n",
    "plt.title('Count Plot of p50_group by Mortality')\n",
    "plt.xlabel('p50_group')\n",
    "plt.ylabel('Count')\n",
    "plt.legend(title='Mortality', labels=['Survivors', 'Non-Survivors'])\n",
    "plt.show()"
   ]
  },
  {
   "cell_type": "markdown",
   "id": "1e684e76-acb4-400e-942c-bb3b390cd483",
   "metadata": {},
   "source": [
    "## pH, pCO2, and HCO3 Grouping and Box Plot"
   ]
  },
  {
   "cell_type": "code",
   "execution_count": 48,
   "id": "e84c4d18-e427-499a-b2d7-5111933538b7",
   "metadata": {},
   "outputs": [
    {
     "data": {
      "image/png": "[encoded data removed]",
      "text/plain": [
       "<Figure size 1000x600 with 1 Axes>"
      ]
     },
     "metadata": {},
     "output_type": "display_data"
    }
   ],
   "source": [
    "import pandas as pd\n",
    "import matplotlib.pyplot as plt\n",
    "import seaborn as sns\n",
    "\n",
    "\n",
    "# Define pH groups\n",
    "def get_pH_group(pH):\n",
    "    if pH < 7.0:\n",
    "        return 'Gr1:pH<7.0'\n",
    "    elif pH < 7.2:\n",
    "        return 'Gr2:pH7.0-7.2'\n",
    "    elif pH < 7.35:\n",
    "        return 'Gr3:pH7.2-7.35'\n",
    "    elif pH < 7.45:\n",
    "        return 'Gr4:pH7.35-7.45'\n",
    "    elif pH < 7.6:\n",
    "        return 'Gr5:pH7.45-7.6'\n",
    "    else:\n",
    "        return 'Gr6:pH>7.6'\n",
    "\n",
    "# Apply grouping functions to create new columns\n",
    "df['pHGr'] = df['pH'].apply(get_pH_group)\n",
    "\n",
    "# Specify the order of pHGr categories\n",
    "order = ['Gr1:pH<7.0', 'Gr2:pH7.0-7.2', 'Gr3:pH7.2-7.35', 'Gr4:pH7.35-7.45', 'Gr5:pH7.45-7.6', 'Gr6:pH>7.6']\n",
    "\n",
    "# Create a box plot\n",
    "plt.figure(figsize=(10, 6))\n",
    "sns.boxplot(x='pHGr', y='p50', data=df, palette='Set3', order=order)\n",
    "plt.ylim(0, 60)\n",
    "plt.title('Box Plot of p50 by pH Group')\n",
    "plt.xlabel('pH Group')\n",
    "plt.ylabel('p50')\n",
    "plt.show()\n"
   ]
  },
  {
   "cell_type": "markdown",
   "id": "1128f9c6-2f11-4fbb-8986-6869c8ec4c74",
   "metadata": {},
   "source": [
    "## ANOVA and Box Plot for pCO2 Groups vs. p50"
   ]
  },
  {
   "cell_type": "code",
   "execution_count": 49,
   "id": "9bd9ba64-7e13-4223-b43b-1b6cdb4e359e",
   "metadata": {},
   "outputs": [
    {
     "name": "stdout",
     "output_type": "stream",
     "text": [
      "                 sum_sq       df          F        PR(>F)\n",
      "C(pCO2Gr)  8.393105e+03      6.0  11.951248  1.916892e-13\n",
      "Residual   2.717467e+06  23217.0        NaN           NaN\n"
     ]
    },
    {
     "data": {
      "image/png": "[encoded data removed]",
      "text/plain": [
       "<Figure size 1000x600 with 1 Axes>"
      ]
     },
     "metadata": {},
     "output_type": "display_data"
    }
   ],
   "source": [
    "import pandas as pd\n",
    "import matplotlib.pyplot as plt\n",
    "import seaborn as sns\n",
    "import statsmodels.api as sm\n",
    "from statsmodels.formula.api import ols\n",
    "\n",
    "# Define pCO2 groups\n",
    "def get_pCO2_group(pCO2):\n",
    "    if pCO2 < 20:\n",
    "        return 'Gr1:pCO2<20'\n",
    "    elif pCO2 < 35:\n",
    "        return 'Gr2:pCO2:20-35'\n",
    "    elif pCO2 < 45:\n",
    "        return 'Gr3:pCO2:35-45'\n",
    "    elif pCO2 < 60:\n",
    "        return 'Gr4:pCO2:45-60'\n",
    "    elif pCO2 < 90:\n",
    "        return 'Gr5:pCO2:60-90'\n",
    "    elif pCO2 < 120:\n",
    "        return 'Gr6:pCO2:90-120'\n",
    "    else:\n",
    "        return 'Gr7:pCO2>120'\n",
    "\n",
    "# Apply grouping functions to create new columns\n",
    "df['pCO2Gr'] = df['pCO2'].apply(get_pCO2_group)\n",
    "\n",
    "# Perform ANOVA\n",
    "model = ols('p50 ~ C(pCO2Gr)', data=df).fit()\n",
    "anova_table = sm.stats.anova_lm(model, typ=2)\n",
    "\n",
    "# Display ANOVA results\n",
    "print(anova_table)\n",
    "\n",
    "# Create a box plot\n",
    "plt.figure(figsize=(10, 6))\n",
    "sns.boxplot(x='pCO2Gr', y='p50', data=df, palette='Set3')\n",
    "plt.ylim(0, 60)\n",
    "plt.title('Box Plot of p50 by pCO2 Group')\n",
    "plt.xlabel('pCO2 Group')\n",
    "plt.ylabel('p50')\n",
    "plt.show()\n"
   ]
  },
  {
   "cell_type": "markdown",
   "id": "b3915b4f-c11f-45ea-a1dd-799b7938e509",
   "metadata": {},
   "source": [
    "## ANOVA and Box Plot for HCO3 Groups vs. p50"
   ]
  },
  {
   "cell_type": "code",
   "execution_count": 50,
   "id": "6e6f1407-6c5a-4867-ab81-18764fca1703",
   "metadata": {},
   "outputs": [
    {
     "name": "stdout",
     "output_type": "stream",
     "text": [
      "                 sum_sq       df          F        PR(>F)\n",
      "C(pCO2Gr)  8.393105e+03      6.0  11.951248  1.916892e-13\n",
      "Residual   2.717467e+06  23217.0        NaN           NaN\n"
     ]
    },
    {
     "data": {
      "image/png": "[encoded data removed]",
      "text/plain": [
       "<Figure size 1000x600 with 1 Axes>"
      ]
     },
     "metadata": {},
     "output_type": "display_data"
    }
   ],
   "source": [
    "import pandas as pd\n",
    "import matplotlib.pyplot as plt\n",
    "import seaborn as sns\n",
    "import statsmodels.api as sm\n",
    "from statsmodels.formula.api import ols\n",
    "\n",
    "\n",
    "# Define pCO2 groups\n",
    "def get_pCO2_group(pCO2):\n",
    "    if pCO2 < 20:\n",
    "        return 'Gr1:pCO2<20'\n",
    "    elif pCO2 < 35:\n",
    "        return 'Gr2:pCO2:20-35'\n",
    "    elif pCO2 < 45:\n",
    "        return 'Gr3:pCO2:35-45'\n",
    "    elif pCO2 < 60:\n",
    "        return 'Gr4:pCO2:45-60'\n",
    "    elif pCO2 < 90:\n",
    "        return 'Gr5:pCO2:60-90'\n",
    "    elif pCO2 < 120:\n",
    "        return 'Gr6:pCO2:90-120'\n",
    "    else:\n",
    "        return 'Gr7:pCO2>120'\n",
    "\n",
    "# Apply grouping functions to create new columns\n",
    "df['pCO2Gr'] = df['pCO2'].apply(get_pCO2_group)\n",
    "\n",
    "# Perform ANOVA\n",
    "model = ols('p50 ~ C(pCO2Gr)', data=df).fit()\n",
    "anova_table = sm.stats.anova_lm(model, typ=2)\n",
    "\n",
    "# Display ANOVA results\n",
    "print(anova_table)\n",
    "\n",
    "# Create a box plot\n",
    "plt.figure(figsize=(10, 6))\n",
    "sns.boxplot(x='pCO2Gr', y='p50', data=df, palette='Set3')\n",
    "plt.ylim(0, 60)\n",
    "plt.title('Box Plot of p50 by pCO2 Group')\n",
    "plt.xlabel('pCO2 Group')\n",
    "plt.ylabel('p50')\n",
    "plt.show()\n"
   ]
  },
  {
   "cell_type": "code",
   "execution_count": 51,
   "id": "be4faef6-6033-4c88-9029-b3a22bb53ed3",
   "metadata": {},
   "outputs": [
    {
     "name": "stdout",
     "output_type": "stream",
     "text": [
      "                 sum_sq       df          F        PR(>F)\n",
      "C(HCO3Gr)  1.588352e+04      5.0  27.216746  1.470228e-27\n",
      "Residual   2.709976e+06  23218.0        NaN           NaN\n"
     ]
    },
    {
     "data": {
      "image/png": "[encoded data removed]",
      "text/plain": [
       "<Figure size 1000x600 with 1 Axes>"
      ]
     },
     "metadata": {},
     "output_type": "display_data"
    }
   ],
   "source": [
    "import pandas as pd\n",
    "import matplotlib.pyplot as plt\n",
    "import seaborn as sns\n",
    "import statsmodels.api as sm\n",
    "from statsmodels.formula.api import ols\n",
    "\n",
    "\n",
    "p50df = df\n",
    "\n",
    "# Define HCO3 groups\n",
    "def get_HCO3_group(bmp_bicarbonate):\n",
    "    if bmp_bicarbonate < 8:\n",
    "        return 'Gr1:HCO3<8'\n",
    "    elif bmp_bicarbonate < 18:\n",
    "        return 'Gr2:HCO3:8-18'\n",
    "    elif bmp_bicarbonate < 24:\n",
    "        return 'Gr3:HCO3:18-24'\n",
    "    elif bmp_bicarbonate < 28:\n",
    "        return 'Gr4:HCO3:24-28'\n",
    "    elif bmp_bicarbonate < 35:\n",
    "        return 'Gr5:HCO3:28-35'\n",
    "    else:\n",
    "        return 'Gr6:HCO3>35'\n",
    "\n",
    "# Apply grouping functions to create a new column\n",
    "p50df['HCO3Gr'] = p50df['bmp_bicarbonate'].apply(get_HCO3_group)\n",
    "\n",
    "# Perform ANOVA\n",
    "model = ols('p50 ~ C(HCO3Gr)', data=p50df).fit()\n",
    "anova_table = sm.stats.anova_lm(model, typ=2)\n",
    "\n",
    "# Display ANOVA results\n",
    "print(anova_table)\n",
    "\n",
    "# Create a box plot\n",
    "plt.figure(figsize=(10, 6))\n",
    "sns.boxplot(x='HCO3Gr', y='p50', data=p50df, palette='Set3')\n",
    "plt.ylim(0, 60)\n",
    "plt.title('Box Plot of p50 by HCO3 Group')\n",
    "plt.xlabel('HCO3 Group')\n",
    "plt.ylabel('p50')\n",
    "plt.show()"
   ]
  },
  {
   "cell_type": "markdown",
   "id": "ffd6b14e-110b-4331-a4bd-0b7942955a30",
   "metadata": {},
   "source": [
    "## Scatter Plot with Non-Straight Regression Lines and Darker Color for Lines"
   ]
  },
  {
   "cell_type": "code",
   "execution_count": 52,
   "id": "bb41a897-7519-4e43-b33b-80c9018399c1",
   "metadata": {},
   "outputs": [
    {
     "data": {
      "image/png": "[encoded data removed]",
      "text/plain": [
       "<Figure size 1000x600 with 1 Axes>"
      ]
     },
     "metadata": {},
     "output_type": "display_data"
    }
   ],
   "source": [
    "import pandas as pd\n",
    "import matplotlib.pyplot as plt\n",
    "import seaborn as sns\n",
    "from statsmodels.formula.api import ols\n",
    "\n",
    "p50df = df\n",
    "\n",
    "# Define a function to categorize p50 values\n",
    "def p50_category(p50_value):\n",
    "    if p50_value > 30:\n",
    "        return 'Right Shift'\n",
    "    elif 22 <= p50_value <= 30:\n",
    "        return 'Normal'\n",
    "    else:\n",
    "        return 'Left Shift'\n",
    "\n",
    "# Add the p50Gr column to the DataFrame\n",
    "p50df['p50Gr'] = p50df['p50'].apply(p50_category)\n",
    "\n",
    "# Linear regression models\n",
    "model1 = ols('p50 ~ C(pHGr) + C(pCO2Gr) + C(HCO3Gr)', data=p50df).fit()\n",
    "model2 = ols('p50 ~ pH + pCO2 + bmp_bicarbonate', data=p50df).fit()\n",
    "\n",
    "# Recreate scatter plot with non-straight regression lines for different categories\n",
    "plt.figure(figsize=(10, 6))\n",
    "palette = sns.color_palette(\"husl\", len(p50df['p50Gr'].unique()))\n",
    "\n",
    "for category, color in zip(p50df['p50Gr'].unique(), palette):\n",
    "    category_data = p50df[p50df['p50Gr'] == category]\n",
    "\n",
    "    # Choose a darker shade of the same color for the line\n",
    "    line_color = sns.set_hls_values(color, l=0.3)\n",
    "\n",
    "    sns.regplot(\n",
    "        x='pO2',\n",
    "        y='SpO2',\n",
    "        data=category_data,\n",
    "        color=line_color,\n",
    "        label=category,\n",
    "        lowess=True,  # Use lowess regression for non-straight lines\n",
    "        scatter=False,  # Hide scatter points in the regression line\n",
    "        line_kws={'lw': 2}  # Adjust line thickness as needed\n",
    "    )\n",
    "\n",
    "    sns.scatterplot(\n",
    "        x='pO2',\n",
    "        y='SpO2',\n",
    "        data=category_data,\n",
    "        color=color,\n",
    "        label=f'{category} Dots',\n",
    "        s=60  # Adjust the size of the dots as needed\n",
    "    )\n",
    "\n",
    "plt.title('Scatter Plot with Non-Straight Regression Lines and Darker Color for Lines')\n",
    "plt.xlabel('pO2')\n",
    "plt.ylabel('SpO2')\n",
    "plt.legend()\n",
    "plt.show()\n"
   ]
  },
  {
   "cell_type": "markdown",
   "id": "617df6ce-595d-4ee7-b811-1b4f51cf6633",
   "metadata": {},
   "source": [
    "## ANOVA on admission_age, comorbidity_score_value, sofa_past_overall_24hr"
   ]
  },
  {
   "cell_type": "code",
   "execution_count": 53,
   "id": "39c8367a-16c4-481c-bdd8-55b061c629ba",
   "metadata": {},
   "outputs": [
    {
     "name": "stdout",
     "output_type": "stream",
     "text": [
      "\n",
      "ANOVA on admission_age:\n",
      "               df        sum_sq      mean_sq         F    PR(>F)\n",
      "p50Gr         2.0  2.813908e+03  1406.953963  5.951158  0.002607\n",
      "Residual  23221.0  5.489836e+06   236.416853       NaN       NaN\n",
      "\n",
      "ANOVA on comorbidity_score_value:\n",
      "               df         sum_sq   mean_sq         F    PR(>F)\n",
      "p50Gr         2.0       6.913303  3.456652  0.366059  0.693466\n",
      "Residual  23221.0  219273.030505  9.442876       NaN       NaN\n",
      "\n",
      "ANOVA on sofa_past_overall_24hr:\n",
      "               df         sum_sq     mean_sq          F        PR(>F)\n",
      "p50Gr         2.0     330.846555  165.423278  13.825583  9.981547e-07\n",
      "Residual  23221.0  277839.569523   11.965013        NaN           NaN\n"
     ]
    }
   ],
   "source": [
    "import pandas as pd\n",
    "import matplotlib.pyplot as plt\n",
    "import seaborn as sns\n",
    "from statsmodels.formula.api import ols\n",
    "from statsmodels.stats.anova import anova_lm\n",
    "from statsmodels.discrete.discrete_model import Logit\n",
    "from lifelines import KaplanMeierFitter\n",
    "import scipy.stats as stats\n",
    "\n",
    "p50df = df\n",
    "\n",
    "# Define a function to categorize p50 values\n",
    "def p50_category(p50_value):\n",
    "    if p50_value > 30:\n",
    "        return 'Right Shift'\n",
    "    elif 22 <= p50_value <= 30:\n",
    "        return 'Normal'\n",
    "    else:\n",
    "        return 'Left Shift'\n",
    "\n",
    "# Create the p50Gr variable based on the p50_category function\n",
    "p50df['p50Gr'] = p50df['p50'].apply(p50_category)\n",
    "\n",
    "# Perform ANOVA on admission_age\n",
    "model_age = ols('admission_age ~ p50Gr', data=p50df).fit()\n",
    "anova_age = anova_lm(model_age)\n",
    "\n",
    "print(\"\\nANOVA on admission_age:\")\n",
    "print(anova_age)\n",
    "\n",
    "# Perform ANOVA on comorbidity_score_value\n",
    "model_comorbidity = ols('comorbidity_score_value ~ p50Gr', data=p50df).fit()\n",
    "anova_comorbidity = anova_lm(model_comorbidity)\n",
    "\n",
    "print(\"\\nANOVA on comorbidity_score_value:\")\n",
    "print(anova_comorbidity)\n",
    "\n",
    "# Perform ANOVA on sofa_past_overall_24hr\n",
    "model_sofa = ols('sofa_past_overall_24hr ~ p50Gr', data=p50df).fit()\n",
    "anova_sofa = anova_lm(model_sofa)\n",
    "\n",
    "print(\"\\nANOVA on sofa_past_overall_24hr:\")\n",
    "print(anova_sofa)"
   ]
  },
  {
   "cell_type": "markdown",
   "id": "7ba2263d-dc8e-4570-8c5e-958c82108977",
   "metadata": {},
   "source": [
    "## Chi-squared test"
   ]
  },
  {
   "cell_type": "code",
   "execution_count": 54,
   "id": "c2f6978b-408c-43ea-b863-ca894c66fb40",
   "metadata": {},
   "outputs": [
    {
     "name": "stdout",
     "output_type": "stream",
     "text": [
      "\n",
      "Chi-squared test for p50Gr and sex_female:\n",
      "Chi-squared = 12.707, p-value = 0.001741\n"
     ]
    }
   ],
   "source": [
    "# Chi-squared test for p50Gr and sex_female\n",
    "chisq_sex = stats.chi2_contingency(pd.crosstab(p50df['p50Gr'], p50df['sex_female']))\n",
    "\n",
    "print(\"\\nChi-squared test for p50Gr and sex_female:\")\n",
    "print(f\"Chi-squared = {chisq_sex[0]:.3f}, p-value = {chisq_sex[1]:.6f}\")\n"
   ]
  },
  {
   "cell_type": "markdown",
   "id": "822ad76b-9b59-44a1-af9d-b5f9eee4d422",
   "metadata": {},
   "source": [
    "## Logistic Regression"
   ]
  },
  {
   "cell_type": "code",
   "execution_count": 55,
   "id": "7195594a-ce3f-49f3-b10d-a952d636bc78",
   "metadata": {},
   "outputs": [
    {
     "name": "stdout",
     "output_type": "stream",
     "text": [
      "Optimization terminated successfully.\n",
      "         Current function value: 0.451117\n",
      "         Iterations 6\n",
      "Optimization terminated successfully.\n",
      "         Current function value: 0.447261\n",
      "         Iterations 6\n",
      "Logistic Regression Model 1:\n",
      "                             Logit Regression Results                            \n",
      "=================================================================================\n",
      "Dep. Variable:     in_hospital_mortality   No. Observations:                23224\n",
      "Model:                             Logit   Df Residuals:                    23220\n",
      "Method:                              MLE   Df Model:                            3\n",
      "Date:                   Thu, 28 Dec 2023   Pseudo R-squ.:                 0.05894\n",
      "Time:                           17:51:37   Log-Likelihood:                -10477.\n",
      "converged:                          True   LL-Null:                       -11133.\n",
      "Covariance Type:               nonrobust   LLR p-value:                2.912e-284\n",
      "===========================================================================================\n",
      "                              coef    std err          z      P>|z|      [0.025      0.975]\n",
      "-------------------------------------------------------------------------------------------\n",
      "Intercept                  -3.4911      0.093    -37.389      0.000      -3.674      -3.308\n",
      "sofa_past_overall_24hr      0.1342      0.005     27.630      0.000       0.125       0.144\n",
      "comorbidity_score_value     0.0641      0.006     10.352      0.000       0.052       0.076\n",
      "admission_age               0.0149      0.001     10.633      0.000       0.012       0.018\n",
      "===========================================================================================\n",
      "\n",
      "Odds Ratios for Model 1:\n",
      "  2.5%  97.5%  Odds Ratio\n",
      "0.0254 0.0366      0.0305\n",
      "1.1328 1.1546      1.1436\n",
      "1.0534 1.0793      1.0662\n",
      "1.0122 1.0178      1.0150\n",
      "Logistic Regression Model 2:\n",
      "                             Logit Regression Results                            \n",
      "=================================================================================\n",
      "Dep. Variable:     in_hospital_mortality   No. Observations:                23224\n",
      "Model:                             Logit   Df Residuals:                    23219\n",
      "Method:                              MLE   Df Model:                            4\n",
      "Date:                   Thu, 28 Dec 2023   Pseudo R-squ.:                 0.06699\n",
      "Time:                           17:51:37   Log-Likelihood:                -10387.\n",
      "converged:                          True   LL-Null:                       -11133.\n",
      "Covariance Type:               nonrobust   LLR p-value:                     0.000\n",
      "===========================================================================================\n",
      "                              coef    std err          z      P>|z|      [0.025      0.975]\n",
      "-------------------------------------------------------------------------------------------\n",
      "Intercept                  -4.0262      0.102    -39.370      0.000      -4.227      -3.826\n",
      "p50                         0.0196      0.001     13.773      0.000       0.017       0.022\n",
      "sofa_past_overall_24hr      0.1333      0.005     27.324      0.000       0.124       0.143\n",
      "comorbidity_score_value     0.0646      0.006     10.360      0.000       0.052       0.077\n",
      "admission_age               0.0149      0.001     10.613      0.000       0.012       0.018\n",
      "===========================================================================================\n",
      "\n",
      "Odds Ratios for Model 2:\n",
      "  2.5%  97.5%  Odds Ratio\n",
      "0.0146 0.0218      0.0178\n",
      "1.0169 1.0226      1.0198\n",
      "1.1318 1.1536      1.1426\n",
      "1.0538 1.0798      1.0667\n",
      "1.0122 1.0178      1.0150\n"
     ]
    }
   ],
   "source": [
    "import pandas as pd\n",
    "import statsmodels.api as sm\n",
    "from lifelines import KaplanMeierFitter\n",
    "import matplotlib.pyplot as plt\n",
    "import numpy as np\n",
    "\n",
    "# Assuming 'in_hospital_mortality' is the name of your column\n",
    "df['in_hospital_mortality'] = pd.to_numeric(df['in_hospital_mortality'], errors='coerce')\n",
    "df['in_hospital_mortality'] = df['in_hospital_mortality'].fillna(0).astype(int)\n",
    "\n",
    "# Logistic Regression Model 1\n",
    "formula1 = \"in_hospital_mortality ~ sofa_past_overall_24hr + comorbidity_score_value + admission_age\"\n",
    "model1 = sm.Logit.from_formula(formula1, data=df)\n",
    "result1 = model1.fit()\n",
    "\n",
    "# Logistic Regression Model 2\n",
    "formula2 = \"in_hospital_mortality ~ p50 + sofa_past_overall_24hr + comorbidity_score_value + admission_age\"\n",
    "model2 = sm.Logit.from_formula(formula2, data=df)\n",
    "result2 = model2.fit()\n",
    "\n",
    "# Summarize Model 1\n",
    "print(\"Logistic Regression Model 1:\")\n",
    "print(result1.summary())\n",
    "\n",
    "# Calculate and print odds ratios for Model 1\n",
    "params_model1 = result1.params\n",
    "conf_int_model1 = result1.conf_int()\n",
    "conf_int_model1['Odds Ratio'] = params_model1\n",
    "conf_int_model1.columns = ['2.5%', '97.5%', 'Odds Ratio']\n",
    "odds_ratios_model1 = np.exp(conf_int_model1)\n",
    "\n",
    "# Round numeric columns\n",
    "odds_ratios_model1['Odds Ratio'] = odds_ratios_model1['Odds Ratio'].round(4)\n",
    "odds_ratios_model1['2.5%'] = odds_ratios_model1['2.5%'].round(4)\n",
    "odds_ratios_model1['97.5%'] = odds_ratios_model1['97.5%'].round(4)\n",
    "\n",
    "# Print the odds ratios for Model 1\n",
    "print(\"\\nOdds Ratios for Model 1:\")\n",
    "print(odds_ratios_model1.to_string(index=False))\n",
    "\n",
    "# Summarize Model 2\n",
    "print(\"Logistic Regression Model 2:\")\n",
    "print(result2.summary())\n",
    "\n",
    "# Calculate and print odds ratios for Model 2\n",
    "params_model2 = result2.params\n",
    "conf_int_model2 = result2.conf_int()\n",
    "conf_int_model2['Odds Ratio'] = params_model2\n",
    "conf_int_model2.columns = ['2.5%', '97.5%', 'Odds Ratio']\n",
    "odds_ratios_model2 = np.exp(conf_int_model2)\n",
    "\n",
    "# Round numeric columns\n",
    "odds_ratios_model2['Odds Ratio'] = odds_ratios_model2['Odds Ratio'].round(4)\n",
    "odds_ratios_model2['2.5%'] = odds_ratios_model2['2.5%'].round(4)\n",
    "odds_ratios_model2['97.5%'] = odds_ratios_model2['97.5%'].round(4)\n",
    "\n",
    "# Print the odds ratios for Model 2\n",
    "print(\"\\nOdds Ratios for Model 2:\")\n",
    "print(odds_ratios_model2.to_string(index=False))\n"
   ]
  },
  {
   "cell_type": "markdown",
   "id": "9c39a0c5-572c-4534-9240-f53bf2aaf998",
   "metadata": {},
   "source": [
    "## Kaplan-Meier Survival Curves"
   ]
  },
  {
   "cell_type": "code",
   "execution_count": 56,
   "id": "69177869-b1eb-4497-8042-6d61f78a1aa3",
   "metadata": {},
   "outputs": [
    {
     "data": {
      "image/png": "[encoded data removed]",
      "text/plain": [
       "<Figure size 1000x600 with 1 Axes>"
      ]
     },
     "metadata": {},
     "output_type": "display_data"
    }
   ],
   "source": [
    "from lifelines import KaplanMeierFitter\n",
    "import matplotlib.pyplot as plt\n",
    "\n",
    "# Define a function to categorize p50 values\n",
    "def p50_category(p50_value):\n",
    "    if p50_value > 30:\n",
    "        return 'Right Shift'\n",
    "    elif 22 <= p50_value <= 30:\n",
    "        return 'Normal'\n",
    "    else:\n",
    "        return 'Left Shift'\n",
    "\n",
    "# Apply the p50 category function to create a new column 'p50_category'\n",
    "df['p50_category'] = df['p50'].apply(p50_category)\n",
    "\n",
    "# Create KaplanMeierFitter\n",
    "kmf = KaplanMeierFitter()\n",
    "\n",
    "# Set up plot colors\n",
    "colors = ['blue', 'green', 'red']\n",
    "\n",
    "# Create subplots\n",
    "fig, ax = plt.subplots(figsize=(10, 6))\n",
    "\n",
    "# Set the time range between 0 and 200\n",
    "ax.set_xlim(0, 200)\n",
    "\n",
    "# Fit survival curves and plot with a finer time scale\n",
    "for i, category in enumerate(df['p50_category'].unique()):\n",
    "    mask = (df['p50_category'] == category)\n",
    "    kmf.fit(df['los_hospital'][mask], event_observed=df['in_hospital_mortality'][mask], label=category)\n",
    "\n",
    "    # Plot the survival curve with a step size\n",
    "    kmf.plot(ax=ax, ci_show=False, color=colors[i], linewidth=2, label=category)\n",
    "\n",
    "# Add labels to the axes\n",
    "ax.set_title('Kaplan-Meier Survival Curves')\n",
    "ax.set_xlabel('Time (LOS_Hospital)')\n",
    "ax.set_ylabel('Survival Probability')\n",
    "\n",
    "# Add legend\n",
    "ax.legend()\n",
    "\n",
    "plt.show()"
   ]
  },
  {
   "cell_type": "code",
   "execution_count": 57,
   "id": "f80102b0-1855-40d4-b3ea-35a3d995ec1d",
   "metadata": {},
   "outputs": [
    {
     "data": {
      "image/png": "[encoded data removed]",
      "text/plain": [
       "<Figure size 1000x600 with 1 Axes>"
      ]
     },
     "metadata": {},
     "output_type": "display_data"
    }
   ],
   "source": [
    "from lifelines import KaplanMeierFitter\n",
    "import matplotlib.pyplot as plt\n",
    "import numpy as np\n",
    "\n",
    "# Define a function to categorize p50 values\n",
    "def p50_category(p50_value):\n",
    "    if p50_value > 30:\n",
    "        return 'Right Shift'\n",
    "    elif 22 <= p50_value <= 30:\n",
    "        return 'Normal'\n",
    "    else:\n",
    "        return 'Left Shift'\n",
    "\n",
    "# Apply the p50 category function to create a new column 'p50_category'\n",
    "df['p50_category'] = df['p50'].apply(p50_category)\n",
    "\n",
    "# Create KaplanMeierFitter\n",
    "kmf = KaplanMeierFitter()\n",
    "\n",
    "# Set up plot colors\n",
    "colors = ['blue', 'green', 'red']\n",
    "\n",
    "# Create subplots\n",
    "fig, ax = plt.subplots(figsize=(10, 6))\n",
    "\n",
    "# Define a custom time grid for smoother curves\n",
    "time_grid = np.linspace(0, 200, 200)  # Adjust the range to 0-200\n",
    "\n",
    "# Plot Kaplan-Meier survival curves with kernel smoothing\n",
    "for i, category in enumerate(df['p50_category'].unique()):\n",
    "    mask = (df['p50_category'] == category)\n",
    "    times = df['los_hospital'][mask]\n",
    "    events = df['in_hospital_mortality'][mask]\n",
    "\n",
    "    # Plot the survival curve with kernel smoothing\n",
    "    kmf.fit(times, event_observed=events, timeline=time_grid, label=category)\n",
    "    kmf.plot(ax=ax, color=colors[i], linewidth=2, ci_alpha=0.2)\n",
    "\n",
    "# Add labels to the axes\n",
    "ax.set_title('Kaplan-Meier Survival Curves')\n",
    "ax.set_xlabel('Time (LOS_Hospital)')\n",
    "ax.set_ylabel('Survival Probability')\n",
    "\n",
    "# Add legend\n",
    "ax.legend()\n",
    "\n",
    "plt.show()\n"
   ]
  },
  {
   "cell_type": "markdown",
   "id": "3509e204-fe90-4dcb-938e-d0e53e124890",
   "metadata": {},
   "source": [
    "# Analyzing the Impact of p50 on Predicting Hospital Mortality"
   ]
  },
  {
   "cell_type": "markdown",
   "id": "f4e0cec1-63d2-455e-a22c-d45d35c94a14",
   "metadata": {},
   "source": [
    "## Simple Regression"
   ]
  },
  {
   "cell_type": "markdown",
   "id": "c3b319d2-03ee-4533-a0fc-cb25d4655382",
   "metadata": {},
   "source": [
    "sofa_past_overall_24hr as a predictor variable"
   ]
  },
  {
   "cell_type": "code",
   "execution_count": 58,
   "id": "f4c6ce0f-120e-4cb3-807e-b1165713f1b5",
   "metadata": {},
   "outputs": [],
   "source": [
    "import numpy as np\n",
    "import pandas as pd\n",
    "from sklearn.model_selection import train_test_split, cross_val_score\n",
    "from sklearn.linear_model import LogisticRegression\n",
    "from sklearn.metrics import roc_auc_score, accuracy_score, precision_score, recall_score, f1_score, confusion_matrix\n",
    "from sklearn.model_selection import StratifiedKFold\n"
   ]
  },
  {
   "cell_type": "code",
   "execution_count": 59,
   "id": "bd9cfe55-1421-4959-834e-d116037bc9c7",
   "metadata": {
    "scrolled": true
   },
   "outputs": [
    {
     "name": "stdout",
     "output_type": "stream",
     "text": [
      "AUC Score: 0.62\n",
      "95% Confidence Interval: (0.63, 0.63)\n",
      "Accuracy: 0.82\n",
      "Precision: 0.56\n",
      "Recall: 0.05\n",
      "F1 Score: 0.10\n",
      "Confusion Matrix:\n",
      "[[3764   36]\n",
      " [ 799   46]]\n"
     ]
    }
   ],
   "source": [
    "import numpy as np\n",
    "from sklearn.utils import resample\n",
    "from sklearn.metrics import accuracy_score, precision_score, recall_score, f1_score, confusion_matrix, roc_auc_score\n",
    "from sklearn.model_selection import train_test_split, cross_val_score, StratifiedKFold\n",
    "from sklearn.linear_model import LogisticRegression\n",
    "\n",
    "# Your data preparation code\n",
    "X = df[['sofa_past_overall_24hr']]  # Predictor variable\n",
    "y = df['in_hospital_mortality']  # Target variable\n",
    "\n",
    "# Split data into training, validation, and test sets\n",
    "X_train, X_test, y_train, y_test = train_test_split(X, y, test_size=0.2, random_state=42)\n",
    "\n",
    "model = LogisticRegression()\n",
    "\n",
    "k_fold = StratifiedKFold(n_splits=5, shuffle=True, random_state=42)\n",
    "cross_val_scores = cross_val_score(model, X_train, y_train, cv=k_fold, scoring='roc_auc')\n",
    "\n",
    "# Train the model on the training data:\n",
    "model.fit(X_train, y_train)\n",
    "\n",
    "# Make predictions on the test set\n",
    "y_prob = model.predict_proba(X_test)[:, 1]\n",
    "y_pred = (y_prob > 0.4).astype(int)\n",
    "\n",
    "# Calculate AUC score on the test set\n",
    "auc_score = roc_auc_score(y_test, model.predict_proba(X_test)[:, 1])\n",
    "\n",
    "# Number of bootstrap iterations\n",
    "n_iterations = 1000  # You can change this value based on your preference\n",
    "\n",
    "# Create an array to store the AUC values from the bootstrap iterations\n",
    "auc_scores = []\n",
    "\n",
    "for _ in range(n_iterations):\n",
    "    # Sample with replacement from the test data\n",
    "    X_boot, y_boot = resample(X_test, y_test, random_state=42)\n",
    "\n",
    "    # Calculate AUC score on the bootstrapped data\n",
    "    auc = roc_auc_score(y_boot, model.predict_proba(X_boot)[:, 1])\n",
    "    auc_scores.append(auc)\n",
    "\n",
    "# Calculate the confidence interval\n",
    "alpha = 0.95  # You can change this for different confidence levels\n",
    "p = ((1.0-alpha)/2.0) * 100\n",
    "lower = max(0.0, np.percentile(auc_scores, p))\n",
    "p = (alpha+((1.0-alpha)/2.0)) * 100\n",
    "upper = min(1.0, np.percentile(auc_scores, p))\n",
    "\n",
    "# Calculate additional metrics\n",
    "accuracy = accuracy_score(y_test, y_pred)\n",
    "precision = precision_score(y_test, y_pred)\n",
    "recall = recall_score(y_test, y_pred)\n",
    "f1 = f1_score(y_test, y_pred)\n",
    "\n",
    "# Print the metrics\n",
    "print(f'AUC Score: {auc_score:.2f}')\n",
    "print(f'95% Confidence Interval: ({lower:.2f}, {upper:.2f})')\n",
    "print(f'Accuracy: {accuracy:.2f}')\n",
    "print(f'Precision: {precision:.2f}')\n",
    "print(f'Recall: {recall:.2f}')\n",
    "print(f'F1 Score: {f1:.2f}')\n",
    "\n",
    "# Print the confusion matrix \n",
    "conf_matrix = confusion_matrix(y_test, y_pred)\n",
    "print(\"Confusion Matrix:\")\n",
    "print(conf_matrix)\n"
   ]
  },
  {
   "cell_type": "markdown",
   "id": "874e531b-5b1e-4e8f-9469-a6682fb6c749",
   "metadata": {},
   "source": [
    "## Simple regression with other predictive features"
   ]
  },
  {
   "cell_type": "markdown",
   "id": "3efe776e-8fd6-45d4-b0c7-a9846b8aa9e5",
   "metadata": {},
   "source": [
    "### Without p50"
   ]
  },
  {
   "cell_type": "code",
   "execution_count": 60,
   "id": "a4f457ff-2250-4507-84c8-8d09a09ab577",
   "metadata": {},
   "outputs": [
    {
     "name": "stdout",
     "output_type": "stream",
     "text": [
      "AUC Score: 0.68\n",
      "95% Confidence Interval: (0.69, 0.69)\n",
      "Accuracy: 0.82\n",
      "Precision: 0.62\n",
      "Recall: 0.03\n",
      "F1 Score: 0.05\n",
      "Coefficient for sofa_past_overall_24hr: 0.48\n",
      "Coefficient for comorbidity_score_value: 0.24\n",
      "Coefficient for cbc_hemoglobin: -0.05\n",
      "Coefficient for bmp_sodium: -0.03\n",
      "Coefficient for admission_age: 0.20\n",
      "Coefficient for comorbidity_score_name_Charlson: 0.08\n",
      "Coefficient for comorbidity_score_name_Elixhauser: -0.08\n"
     ]
    }
   ],
   "source": [
    "import numpy as np\n",
    "from sklearn.utils import resample\n",
    "from sklearn.metrics import roc_auc_score, accuracy_score, precision_score, recall_score, f1_score\n",
    "from sklearn.model_selection import train_test_split, StratifiedKFold, cross_val_score\n",
    "from sklearn.linear_model import LogisticRegression\n",
    "from sklearn.preprocessing import StandardScaler\n",
    "\n",
    "\n",
    "# Select relevant columns\n",
    "selected_features = [\n",
    "    'sofa_past_overall_24hr',\n",
    "    'comorbidity_score_value', 'cbc_hemoglobin', 'bmp_sodium', 'admission_age',\n",
    "    'in_hospital_mortality', 'comorbidity_score_name_Charlson', 'comorbidity_score_name_Elixhauser'\n",
    "]\n",
    "\n",
    "# Create a DataFrame with selected features\n",
    "selected_df = df[selected_features]\n",
    "\n",
    "# Split data\n",
    "X = selected_df.drop('in_hospital_mortality', axis=1)\n",
    "y = selected_df['in_hospital_mortality']\n",
    "X_train, X_test, y_train, y_test = train_test_split(X, y, test_size=0.2, random_state=42)\n",
    "\n",
    "# Scale our data \n",
    "scaler = StandardScaler()\n",
    "X_train_scaled = scaler.fit_transform(X_train)\n",
    "X_test_scaled = scaler.transform(X_test)\n",
    "\n",
    "# solver -> specifies the algorithm used for optimizing the logistic regression model \n",
    "# lbfgs -> suitable for small to medium-sized datasets.\n",
    "model = LogisticRegression(solver='lbfgs', max_iter=1000)\n",
    "\n",
    "# K folds cross-validation \n",
    "k_fold = StratifiedKFold(n_splits=5, shuffle=True, random_state=42)\n",
    "cross_val_scores = cross_val_score(model, X_train_scaled, y_train, cv=k_fold, scoring='roc_auc')\n",
    "\n",
    "# Train the model with the scaled data\n",
    "model.fit(X_train_scaled, y_train)\n",
    "\n",
    "# Make predictions\n",
    "y_pred = model.predict(X_test_scaled)\n",
    "\n",
    "# Calculate AUC score on the test set\n",
    "auc_score = roc_auc_score(y_test, model.predict_proba(X_test_scaled)[:, 1])\n",
    "\n",
    "# Number of bootstrap iterations\n",
    "n_iterations = 1000  # You can change this value based on your preference\n",
    "\n",
    "# Create an array to store the AUC values from the bootstrap iterations\n",
    "auc_scores = []\n",
    "\n",
    "for _ in range(n_iterations):\n",
    "    # Sample with replacement from the test data\n",
    "    X_boot, y_boot = resample(X_test_scaled, y_test, random_state=42)\n",
    "\n",
    "    # Calculate AUC score on the bootstrapped data\n",
    "    auc = roc_auc_score(y_boot, model.predict_proba(X_boot)[:, 1])\n",
    "    auc_scores.append(auc)\n",
    "\n",
    "# Calculate the confidence interval\n",
    "alpha = 0.95  # You can change this for different confidence levels\n",
    "p = ((1.0-alpha)/2.0) * 100\n",
    "lower = max(0.0, np.percentile(auc_scores, p))\n",
    "p = (alpha+((1.0-alpha)/2.0)) * 100\n",
    "upper = min(1.0, np.percentile(auc_scores, p))\n",
    "\n",
    "# Calculate various metrics\n",
    "accuracy = accuracy_score(y_test, y_pred)\n",
    "precision = precision_score(y_test, y_pred)\n",
    "recall = recall_score(y_test, y_pred)\n",
    "f1 = f1_score(y_test, y_pred)\n",
    "\n",
    "# Assess the coefficients for the selected features\n",
    "feature_coefficients = model.coef_[0]\n",
    "\n",
    "# Print results\n",
    "print(f'AUC Score: {auc_score:.2f}')\n",
    "print(f'95% Confidence Interval: ({lower:.2f}, {upper:.2f})')\n",
    "print(f'Accuracy: {accuracy:.2f}')\n",
    "print(f'Precision: {precision:.2f}')\n",
    "print(f'Recall: {recall:.2f}')\n",
    "print(f'F1 Score: {f1:.2f}')\n",
    "\n",
    "for feature, coefficient in zip(X.columns, feature_coefficients):\n",
    "    print(f'Coefficient for {feature}: {coefficient:.2f}')\n"
   ]
  },
  {
   "cell_type": "markdown",
   "id": "db989d77-b22a-4c49-a49d-61768aaf8775",
   "metadata": {},
   "source": [
    "### With p50 "
   ]
  },
  {
   "cell_type": "code",
   "execution_count": 61,
   "id": "928e8405-3741-4913-bf4f-304379bf1f2b",
   "metadata": {},
   "outputs": [
    {
     "name": "stdout",
     "output_type": "stream",
     "text": [
      "AUC Score: 0.69\n",
      "95% Confidence Interval: (0.69, 0.69)\n",
      "Accuracy: 0.82\n",
      "Precision: 0.58\n",
      "Recall: 0.05\n",
      "F1 Score: 0.09\n",
      "Coefficient for p50: 0.22\n",
      "Coefficient for sofa_past_overall_24hr: 0.47\n",
      "Coefficient for comorbidity_score_value: 0.24\n",
      "Coefficient for cbc_hemoglobin: -0.06\n",
      "Coefficient for bmp_sodium: -0.02\n",
      "Coefficient for admission_age: 0.20\n",
      "Coefficient for comorbidity_score_name_Charlson: 0.08\n",
      "Coefficient for comorbidity_score_name_Elixhauser: -0.08\n"
     ]
    }
   ],
   "source": [
    "import numpy as np\n",
    "from sklearn.utils import resample\n",
    "from sklearn.metrics import roc_auc_score, accuracy_score, precision_score, recall_score, f1_score\n",
    "from sklearn.model_selection import train_test_split, StratifiedKFold, cross_val_score\n",
    "from sklearn.linear_model import LogisticRegression\n",
    "from sklearn.preprocessing import StandardScaler\n",
    "\n",
    "\n",
    "# Select relevant columns\n",
    "selected_features = [ 'p50',\n",
    "    'sofa_past_overall_24hr',\n",
    "    'comorbidity_score_value', 'cbc_hemoglobin', 'bmp_sodium', 'admission_age',\n",
    "    'in_hospital_mortality', 'comorbidity_score_name_Charlson', 'comorbidity_score_name_Elixhauser'\n",
    "]\n",
    "\n",
    "# Create a DataFrame with selected features\n",
    "selected_df = df[selected_features]\n",
    "\n",
    "# Split data\n",
    "X = selected_df.drop('in_hospital_mortality', axis=1)\n",
    "y = selected_df['in_hospital_mortality']\n",
    "X_train, X_test, y_train, y_test = train_test_split(X, y, test_size=0.2, random_state=42)\n",
    "\n",
    "# Scale our data \n",
    "scaler = StandardScaler()\n",
    "X_train_scaled = scaler.fit_transform(X_train)\n",
    "X_test_scaled = scaler.transform(X_test)\n",
    "\n",
    "# solver -> specifies the algorithm used for optimizing the logistic regression model \n",
    "# lbfgs -> suitable for small to medium-sized datasets.\n",
    "model = LogisticRegression(solver='lbfgs', max_iter=1000)\n",
    "\n",
    "# K folds cross-validation \n",
    "k_fold = StratifiedKFold(n_splits=5, shuffle=True, random_state=42)\n",
    "cross_val_scores = cross_val_score(model, X_train_scaled, y_train, cv=k_fold, scoring='roc_auc')\n",
    "\n",
    "# Train the model with the scaled data\n",
    "model.fit(X_train_scaled, y_train)\n",
    "\n",
    "# Make predictions\n",
    "y_pred = model.predict(X_test_scaled)\n",
    "\n",
    "# Calculate AUC score on the test set\n",
    "auc_score = roc_auc_score(y_test, model.predict_proba(X_test_scaled)[:, 1])\n",
    "\n",
    "# Number of bootstrap iterations\n",
    "n_iterations = 1000  # You can change this value based on your preference\n",
    "\n",
    "# Create an array to store the AUC values from the bootstrap iterations\n",
    "auc_scores = []\n",
    "\n",
    "for _ in range(n_iterations):\n",
    "    # Sample with replacement from the test data\n",
    "    X_boot, y_boot = resample(X_test_scaled, y_test, random_state=42)\n",
    "\n",
    "    # Calculate AUC score on the bootstrapped data\n",
    "    auc = roc_auc_score(y_boot, model.predict_proba(X_boot)[:, 1])\n",
    "    auc_scores.append(auc)\n",
    "\n",
    "# Calculate the confidence interval\n",
    "alpha = 0.95  # You can change this for different confidence levels\n",
    "p = ((1.0-alpha)/2.0) * 100\n",
    "lower = max(0.0, np.percentile(auc_scores, p))\n",
    "p = (alpha+((1.0-alpha)/2.0)) * 100\n",
    "upper = min(1.0, np.percentile(auc_scores, p))\n",
    "\n",
    "# Calculate various metrics\n",
    "accuracy = accuracy_score(y_test, y_pred)\n",
    "precision = precision_score(y_test, y_pred)\n",
    "recall = recall_score(y_test, y_pred)\n",
    "f1 = f1_score(y_test, y_pred)\n",
    "\n",
    "# Assess the coefficients for the selected features\n",
    "feature_coefficients = model.coef_[0]\n",
    "\n",
    "# Print results\n",
    "print(f'AUC Score: {auc_score:.2f}')\n",
    "print(f'95% Confidence Interval: ({lower:.2f}, {upper:.2f})')\n",
    "print(f'Accuracy: {accuracy:.2f}')\n",
    "print(f'Precision: {precision:.2f}')\n",
    "print(f'Recall: {recall:.2f}')\n",
    "print(f'F1 Score: {f1:.2f}')\n",
    "\n",
    "for feature, coefficient in zip(X.columns, feature_coefficients):\n",
    "    print(f'Coefficient for {feature}: {coefficient:.2f}')\n"
   ]
  },
  {
   "cell_type": "markdown",
   "id": "1ff1aabc-d22a-4e53-8e10-8d717a9d30fe",
   "metadata": {},
   "source": [
    "## Comparing the performance with other ML models"
   ]
  },
  {
   "cell_type": "markdown",
   "id": "964392cb-e486-41a0-88c3-1d291c0e0159",
   "metadata": {},
   "source": [
    "### 10-fold cross-validation"
   ]
  },
  {
   "cell_type": "markdown",
   "id": "0b2a7820-3098-44b7-a0ff-d9a1f7fc462c",
   "metadata": {},
   "source": [
    "#### Without p50"
   ]
  },
  {
   "cell_type": "code",
   "execution_count": 62,
   "id": "3ea49261-3bed-4d1b-a1d3-5160eb7d7745",
   "metadata": {},
   "outputs": [
    {
     "name": "stdout",
     "output_type": "stream",
     "text": [
      "Hospital Mortality Prediction without p50: \n",
      "\n",
      "Model                AUC             Accuracy        Precision       Recall          F1 Score       \n",
      "Logistic Regression  0.67128         0.81627         0.58809         0.03090         0.05857        \n",
      "Decision Tree        0.54135         0.70815         0.24505         0.27649         0.25979        \n",
      "Random Forest        0.64908         0.80761         0.42478         0.10758         0.17163        \n",
      "Gradient Boosting    0.69052         0.81648         0.54763         0.06087         0.10928        \n",
      "\n",
      "\n",
      "Logistic Regression: AUC 95% CI (0.65226, 0.69379)\n",
      "Decision Tree: AUC 95% CI (0.52505, 0.57285)\n",
      "Random Forest: AUC 95% CI (0.62527, 0.67668)\n",
      "Gradient Boosting: AUC 95% CI (0.66828, 0.71944)\n"
     ]
    }
   ],
   "source": [
    "from sklearn.model_selection import StratifiedKFold\n",
    "from sklearn.linear_model import LogisticRegression\n",
    "from sklearn.tree import DecisionTreeClassifier\n",
    "from sklearn.ensemble import RandomForestClassifier, GradientBoostingClassifier\n",
    "from sklearn.metrics import roc_auc_score, accuracy_score, precision_score, recall_score, f1_score\n",
    "import numpy as np\n",
    "\n",
    "# Select relevant columns\n",
    "selected_features = [\n",
    "    'sofa_past_overall_24hr',\n",
    "    'comorbidity_score_value', 'cbc_hemoglobin', 'bmp_sodium', 'admission_age',\n",
    "    'in_hospital_mortality', 'comorbidity_score_name_Charlson', 'comorbidity_score_name_Elixhauser'\n",
    "]\n",
    "\n",
    "# Create a DataFrame with selected features\n",
    "selected_df = df[selected_features]\n",
    "\n",
    "# Split data\n",
    "X = selected_df.drop('in_hospital_mortality', axis=1)\n",
    "y = selected_df['in_hospital_mortality']\n",
    "\n",
    "# Initialize and train different models\n",
    "models = {\n",
    "    'Logistic Regression': LogisticRegression(solver='lbfgs', max_iter=1000),\n",
    "    'Decision Tree': DecisionTreeClassifier(),\n",
    "    'Random Forest': RandomForestClassifier(),\n",
    "    'Gradient Boosting': GradientBoostingClassifier()\n",
    "}\n",
    "\n",
    "results = {}\n",
    "\n",
    "for model_name, model in models.items():\n",
    "    auc_scores = []  # List to store AUC scores for each validation fold\n",
    "    accuracy_scores = []  # List to store accuracy scores for each validation fold\n",
    "    precision_scores = []  # List to store precision scores for each validation fold\n",
    "    recall_scores = []  # List to store recall scores for each validation fold\n",
    "    f1_scores = []  # List to store F1 scores for each validation fold\n",
    "\n",
    "    # Perform 10-fold cross-validation\n",
    "    k_fold = StratifiedKFold(n_splits=10, shuffle=True, random_state=42)\n",
    "    for train_idx, test_idx in k_fold.split(X, y):\n",
    "        X_train_fold, X_test_fold = X.iloc[train_idx], X.iloc[test_idx]\n",
    "        y_train_fold, y_test_fold = y.iloc[train_idx], y.iloc[test_idx]\n",
    "\n",
    "        model.fit(X_train_fold, y_train_fold)\n",
    "        auc_fold = roc_auc_score(y_test_fold, model.predict_proba(X_test_fold)[:, 1])\n",
    "        auc_scores.append(auc_fold)\n",
    "\n",
    "        y_pred = model.predict(X_test_fold)\n",
    "        accuracy_fold = accuracy_score(y_test_fold, y_pred)\n",
    "        accuracy_scores.append(accuracy_fold)\n",
    "        precision_fold = precision_score(y_test_fold, y_pred)\n",
    "        precision_scores.append(precision_fold)\n",
    "        recall_fold = recall_score(y_test_fold, y_pred)\n",
    "        recall_scores.append(recall_fold)\n",
    "        f1_fold = f1_score(y_test_fold, y_pred)\n",
    "        f1_scores.append(f1_fold)\n",
    "\n",
    "    # Calculate 2.5 and 97.5 percentiles to obtain the CI for AUC\n",
    "    alpha = 0.95\n",
    "    lower_auc = np.percentile(auc_scores, 2.5)\n",
    "    upper_auc = np.percentile(auc_scores, 97.5)\n",
    "\n",
    "    results[model_name] = {\n",
    "        'AUC Scores (Validation Folds)': auc_scores,\n",
    "        'AUC 95% CI': (lower_auc, upper_auc),\n",
    "        'Accuracy Scores (Validation Folds)': accuracy_scores,\n",
    "        'Precision Scores (Validation Folds)': precision_scores,\n",
    "        'Recall Scores (Validation Folds)': recall_scores,\n",
    "        'F1 Scores (Validation Folds)': f1_scores\n",
    "    }\n",
    "\n",
    "# Print results in a tabular format with 5 decimal places\n",
    "print(\"Hospital Mortality Prediction without p50: \\n\")\n",
    "print(\"{:<20} {:<15} {:<15} {:<15} {:<15} {:<15}\".format('Model', 'AUC', 'Accuracy', 'Precision', 'Recall', 'F1 Score'))\n",
    "for model_name, metrics in results.items():\n",
    "    print(\"{:<20} {:<15.5f} {:<15.5f} {:<15.5f} {:<15.5f} {:<15.5f}\".format(\n",
    "        model_name,\n",
    "        np.mean(metrics['AUC Scores (Validation Folds)']),\n",
    "        np.mean(metrics['Accuracy Scores (Validation Folds)']),\n",
    "        np.mean(metrics['Precision Scores (Validation Folds)']),\n",
    "        np.mean(metrics['Recall Scores (Validation Folds)']),\n",
    "        np.mean(metrics['F1 Scores (Validation Folds)'])\n",
    "    ))\n",
    "\n",
    "# Add a blank line\n",
    "print(\"\\n\")\n",
    "\n",
    "# Print all the AUC CIs for the models with 5 decimal places\n",
    "for model_name, metrics in results.items():\n",
    "    lower_auc = metrics['AUC 95% CI'][0]\n",
    "    upper_auc = metrics['AUC 95% CI'][1]\n",
    "    print(f'{model_name}: AUC 95% CI ({lower_auc:.5f}, {upper_auc:.5f})')"
   ]
  },
  {
   "cell_type": "markdown",
   "id": "c89b6e9c-96a1-406a-9408-f59125e561fc",
   "metadata": {},
   "source": [
    "#### With p50"
   ]
  },
  {
   "cell_type": "code",
   "execution_count": 63,
   "id": "2c2d8dc6-9afc-4733-b6d9-071d6972714f",
   "metadata": {},
   "outputs": [
    {
     "name": "stdout",
     "output_type": "stream",
     "text": [
      "Hospital Mortality Prediction with p50: \n",
      "\n",
      "Model                AUC             Accuracy        Precision       Recall          F1 Score       \n",
      "Logistic Regression  0.68278         0.81653         0.56608         0.04717         0.08691        \n",
      "Decision Tree        0.54535         0.71616         0.25349         0.27395         0.26321        \n",
      "Random Forest        0.67104         0.81123         0.45264         0.08759         0.14654        \n",
      "Gradient Boosting    0.69792         0.81579         0.52787         0.07156         0.12577        \n",
      "\n",
      "\n",
      "Logistic Regression: AUC 95% CI (0.66661, 0.70536)\n",
      "Decision Tree: AUC 95% CI (0.53189, 0.56737)\n",
      "Random Forest: AUC 95% CI (0.65719, 0.69038)\n",
      "Gradient Boosting: AUC 95% CI (0.67783, 0.72702)\n"
     ]
    }
   ],
   "source": [
    "from sklearn.model_selection import StratifiedKFold\n",
    "from sklearn.linear_model import LogisticRegression\n",
    "from sklearn.tree import DecisionTreeClassifier\n",
    "from sklearn.ensemble import RandomForestClassifier, GradientBoostingClassifier\n",
    "from sklearn.metrics import roc_auc_score, accuracy_score, precision_score, recall_score, f1_score\n",
    "import numpy as np\n",
    "\n",
    "# Select relevant columns\n",
    "selected_features = ['p50',\n",
    "    'sofa_past_overall_24hr',\n",
    "    'comorbidity_score_value', 'cbc_hemoglobin', 'bmp_sodium', 'admission_age',\n",
    "    'in_hospital_mortality', 'comorbidity_score_name_Charlson', 'comorbidity_score_name_Elixhauser'\n",
    "]\n",
    "\n",
    "# Create a DataFrame with selected features\n",
    "selected_df = df[selected_features]\n",
    "\n",
    "# Split data\n",
    "X = selected_df.drop('in_hospital_mortality', axis=1)\n",
    "y = selected_df['in_hospital_mortality']\n",
    "\n",
    "# Initialize and train different models\n",
    "models = {\n",
    "    'Logistic Regression': LogisticRegression(solver='lbfgs', max_iter=1000),\n",
    "    'Decision Tree': DecisionTreeClassifier(),\n",
    "    'Random Forest': RandomForestClassifier(),\n",
    "    'Gradient Boosting': GradientBoostingClassifier()\n",
    "}\n",
    "\n",
    "results = {}\n",
    "\n",
    "for model_name, model in models.items():\n",
    "    auc_scores = []  # List to store AUC scores for each validation fold\n",
    "    accuracy_scores = []  # List to store accuracy scores for each validation fold\n",
    "    precision_scores = []  # List to store precision scores for each validation fold\n",
    "    recall_scores = []  # List to store recall scores for each validation fold\n",
    "    f1_scores = []  # List to store F1 scores for each validation fold\n",
    "\n",
    "    # Perform 10-fold cross-validation\n",
    "    k_fold = StratifiedKFold(n_splits=10, shuffle=True, random_state=42)\n",
    "    for train_idx, test_idx in k_fold.split(X, y):\n",
    "        X_train_fold, X_test_fold = X.iloc[train_idx], X.iloc[test_idx]\n",
    "        y_train_fold, y_test_fold = y.iloc[train_idx], y.iloc[test_idx]\n",
    "\n",
    "        model.fit(X_train_fold, y_train_fold)\n",
    "        auc_fold = roc_auc_score(y_test_fold, model.predict_proba(X_test_fold)[:, 1])\n",
    "        auc_scores.append(auc_fold)\n",
    "\n",
    "        y_pred = model.predict(X_test_fold)\n",
    "        accuracy_fold = accuracy_score(y_test_fold, y_pred)\n",
    "        accuracy_scores.append(accuracy_fold)\n",
    "        precision_fold = precision_score(y_test_fold, y_pred)\n",
    "        precision_scores.append(precision_fold)\n",
    "        recall_fold = recall_score(y_test_fold, y_pred)\n",
    "        recall_scores.append(recall_fold)\n",
    "        f1_fold = f1_score(y_test_fold, y_pred)\n",
    "        f1_scores.append(f1_fold)\n",
    "\n",
    "    # Calculate 2.5 and 97.5 percentiles to obtain the CI for AUC\n",
    "    alpha = 0.95\n",
    "    lower_auc = np.percentile(auc_scores, 2.5)\n",
    "    upper_auc = np.percentile(auc_scores, 97.5)\n",
    "\n",
    "    results[model_name] = {\n",
    "        'AUC Scores (Validation Folds)': auc_scores,\n",
    "        'AUC 95% CI': (lower_auc, upper_auc),\n",
    "        'Accuracy Scores (Validation Folds)': accuracy_scores,\n",
    "        'Precision Scores (Validation Folds)': precision_scores,\n",
    "        'Recall Scores (Validation Folds)': recall_scores,\n",
    "        'F1 Scores (Validation Folds)': f1_scores\n",
    "    }\n",
    "\n",
    "# Print results in a tabular format with 5 decimal places\n",
    "print(\"Hospital Mortality Prediction with p50: \\n\")\n",
    "print(\"{:<20} {:<15} {:<15} {:<15} {:<15} {:<15}\".format('Model', 'AUC', 'Accuracy', 'Precision', 'Recall', 'F1 Score'))\n",
    "for model_name, metrics in results.items():\n",
    "    print(\"{:<20} {:<15.5f} {:<15.5f} {:<15.5f} {:<15.5f} {:<15.5f}\".format(\n",
    "        model_name,\n",
    "        np.mean(metrics['AUC Scores (Validation Folds)']),\n",
    "        np.mean(metrics['Accuracy Scores (Validation Folds)']),\n",
    "        np.mean(metrics['Precision Scores (Validation Folds)']),\n",
    "        np.mean(metrics['Recall Scores (Validation Folds)']),\n",
    "        np.mean(metrics['F1 Scores (Validation Folds)'])\n",
    "    ))\n",
    "\n",
    "# Add a blank line\n",
    "print(\"\\n\")\n",
    "\n",
    "# Print all the AUC CIs for the models with 5 decimal places\n",
    "for model_name, metrics in results.items():\n",
    "    lower_auc = metrics['AUC 95% CI'][0]\n",
    "    upper_auc = metrics['AUC 95% CI'][1]\n",
    "    print(f'{model_name}: AUC 95% CI ({lower_auc:.5f}, {upper_auc:.5f})')"
   ]
  },
  {
   "cell_type": "markdown",
   "id": "e187091c-f00a-4346-bdd6-813e41f25022",
   "metadata": {},
   "source": [
    "### Train, Validate with K folds, and test - Comparing AUC"
   ]
  },
  {
   "cell_type": "markdown",
   "id": "e0d8d64d-6b46-4f85-9547-63f133390deb",
   "metadata": {},
   "source": [
    "#### Without p50 "
   ]
  },
  {
   "cell_type": "code",
   "execution_count": 64,
   "id": "e8d21d8e-c431-4022-b20f-224ed0b8ea0a",
   "metadata": {},
   "outputs": [
    {
     "name": "stdout",
     "output_type": "stream",
     "text": [
      "Model Performance:\n",
      "Model                Validation Set       Test Set            \n",
      "Logistic Regression  0.67437              0.66183             \n",
      "Decision Tree        0.54519              0.53850             \n",
      "Random Forest        0.63222              0.63108             \n",
      "Gradient Boosting    0.67312              0.67048             \n"
     ]
    }
   ],
   "source": [
    "from sklearn.model_selection import StratifiedKFold, train_test_split\n",
    "from sklearn.linear_model import LogisticRegression\n",
    "from sklearn.tree import DecisionTreeClassifier\n",
    "from sklearn.ensemble import RandomForestClassifier, GradientBoostingClassifier\n",
    "from sklearn.metrics import roc_auc_score, accuracy_score, precision_score, recall_score, f1_score\n",
    "import numpy as np\n",
    "\n",
    "# Select relevant columns\n",
    "selected_features = [\n",
    "    'sofa_past_overall_24hr',\n",
    "    'comorbidity_score_value', 'cbc_hemoglobin', 'bmp_sodium', 'admission_age',\n",
    "    'in_hospital_mortality', 'comorbidity_score_name_Charlson', 'comorbidity_score_name_Elixhauser'\n",
    "]\n",
    "\n",
    "# Create a DataFrame with selected features\n",
    "selected_df = df[selected_features]\n",
    "\n",
    "# Split data into train, validate, and test sets\n",
    "X = selected_df.drop('in_hospital_mortality', axis=1)\n",
    "y = selected_df['in_hospital_mortality']\n",
    "\n",
    "X_train, X_temp, y_train, y_temp = train_test_split(X, y, test_size=0.3, random_state=42)\n",
    "X_validate, X_test, y_validate, y_test = train_test_split(X_temp, y_temp, test_size=0.5, random_state=42)\n",
    "\n",
    "# Initialize and train different models\n",
    "models = {\n",
    "    'Logistic Regression': LogisticRegression(solver='lbfgs', max_iter=1000),\n",
    "    'Decision Tree': DecisionTreeClassifier(),\n",
    "    'Random Forest': RandomForestClassifier(),\n",
    "    'Gradient Boosting': GradientBoostingClassifier()\n",
    "}\n",
    "\n",
    "results = {}\n",
    "\n",
    "for model_name, model in models.items():\n",
    "    auc_scores_validate = []  # List to store AUC scores for the validation set\n",
    "    auc_scores_test = []  # List to store AUC scores for the test set\n",
    "    accuracy_scores_validate = []  # List to store accuracy scores for the validation set\n",
    "    accuracy_scores_test = []  # List to store accuracy scores for the test set\n",
    "\n",
    "    k_fold = StratifiedKFold(n_splits=10, shuffle=True, random_state=42)\n",
    "\n",
    "    for train_idx, val_idx in k_fold.split(X_validate, y_validate):\n",
    "        X_train_fold, X_val_fold = X_validate.iloc[train_idx], X_validate.iloc[val_idx]\n",
    "        y_train_fold, y_val_fold = y_validate.iloc[train_idx], y_validate.iloc[val_idx]\n",
    "\n",
    "        model.fit(X_train_fold, y_train_fold)\n",
    "\n",
    "        # Validation Set\n",
    "        y_pred_val = model.predict(X_val_fold)\n",
    "        auc_val = roc_auc_score(y_val_fold, model.predict_proba(X_val_fold)[:, 1])\n",
    "        auc_scores_validate.append(auc_val)\n",
    "        accuracy_val = accuracy_score(y_val_fold, y_pred_val)\n",
    "        accuracy_scores_validate.append(accuracy_val)\n",
    "\n",
    "    # Test Set\n",
    "    y_pred_test = model.predict(X_test)\n",
    "    auc_test = roc_auc_score(y_test, model.predict_proba(X_test)[:, 1])\n",
    "    auc_scores_test.append(auc_test)\n",
    "    accuracy_test = accuracy_score(y_test, y_pred_test)\n",
    "    accuracy_scores_test.append(accuracy_test)\n",
    "\n",
    "    results[model_name] = {\n",
    "        'AUC Score (Validation Set)': np.mean(auc_scores_validate),\n",
    "        'AUC Score (Test Set)': np.mean(auc_scores_test),\n",
    "        'Accuracy (Validation Set)': np.mean(accuracy_scores_validate),\n",
    "        'Accuracy (Test Set)': np.mean(accuracy_scores_test)\n",
    "    }\n",
    "\n",
    "# Print results\n",
    "print(\"Model Performance:\")\n",
    "print(\"{:<20} {:<20} {:<20}\".format('Model', 'Validation Set', 'Test Set'))\n",
    "for model_name, metrics in results.items():\n",
    "    print(\"{:<20} {:<20.5f} {:<20.5f}\".format(\n",
    "        model_name,\n",
    "        metrics['AUC Score (Validation Set)'],\n",
    "        metrics['AUC Score (Test Set)']\n",
    "    ))\n"
   ]
  },
  {
   "cell_type": "markdown",
   "id": "67756347-67b6-4f0f-8c15-99fa819a487d",
   "metadata": {},
   "source": [
    "#### with p50 "
   ]
  },
  {
   "cell_type": "code",
   "execution_count": 65,
   "id": "94af5e37-660e-4bab-836c-fd9445edb165",
   "metadata": {},
   "outputs": [
    {
     "name": "stdout",
     "output_type": "stream",
     "text": [
      "Model Performance:\n",
      "Model                Validation Set       Test Set            \n",
      "Logistic Regression  0.68112              0.67374             \n",
      "Decision Tree        0.54483              0.54373             \n",
      "Random Forest        0.65659              0.65919             \n",
      "Gradient Boosting    0.67704              0.68303             \n"
     ]
    }
   ],
   "source": [
    "from sklearn.model_selection import StratifiedKFold, train_test_split\n",
    "from sklearn.linear_model import LogisticRegression\n",
    "from sklearn.tree import DecisionTreeClassifier\n",
    "from sklearn.ensemble import RandomForestClassifier, GradientBoostingClassifier\n",
    "from sklearn.metrics import roc_auc_score, accuracy_score, precision_score, recall_score, f1_score\n",
    "import numpy as np\n",
    "\n",
    "# Select relevant columns\n",
    "selected_features = ['p50',\n",
    "    'sofa_past_overall_24hr',\n",
    "    'comorbidity_score_value', 'cbc_hemoglobin', 'bmp_sodium', 'admission_age',\n",
    "    'in_hospital_mortality', 'comorbidity_score_name_Charlson', 'comorbidity_score_name_Elixhauser'\n",
    "]\n",
    "\n",
    "# Create a DataFrame with selected features\n",
    "selected_df = df[selected_features]\n",
    "\n",
    "# Split data into train, validate, and test sets\n",
    "X = selected_df.drop('in_hospital_mortality', axis=1)\n",
    "y = selected_df['in_hospital_mortality']\n",
    "\n",
    "X_train, X_temp, y_train, y_temp = train_test_split(X, y, test_size=0.3, random_state=42)\n",
    "X_validate, X_test, y_validate, y_test = train_test_split(X_temp, y_temp, test_size=0.5, random_state=42)\n",
    "\n",
    "# Initialize and train different models\n",
    "models = {\n",
    "    'Logistic Regression': LogisticRegression(solver='lbfgs', max_iter=1000),\n",
    "    'Decision Tree': DecisionTreeClassifier(),\n",
    "    'Random Forest': RandomForestClassifier(),\n",
    "    'Gradient Boosting': GradientBoostingClassifier()\n",
    "}\n",
    "\n",
    "results = {}\n",
    "\n",
    "for model_name, model in models.items():\n",
    "    auc_scores_validate = []  # List to store AUC scores for the validation set\n",
    "    auc_scores_test = []  # List to store AUC scores for the test set\n",
    "    accuracy_scores_validate = []  # List to store accuracy scores for the validation set\n",
    "    accuracy_scores_test = []  # List to store accuracy scores for the test set\n",
    "\n",
    "    k_fold = StratifiedKFold(n_splits=10, shuffle=True, random_state=42)\n",
    "\n",
    "    for train_idx, val_idx in k_fold.split(X_validate, y_validate):\n",
    "        X_train_fold, X_val_fold = X_validate.iloc[train_idx], X_validate.iloc[val_idx]\n",
    "        y_train_fold, y_val_fold = y_validate.iloc[train_idx], y_validate.iloc[val_idx]\n",
    "\n",
    "        model.fit(X_train_fold, y_train_fold)\n",
    "\n",
    "        # Validation Set\n",
    "        y_pred_val = model.predict(X_val_fold)\n",
    "        auc_val = roc_auc_score(y_val_fold, model.predict_proba(X_val_fold)[:, 1])\n",
    "        auc_scores_validate.append(auc_val)\n",
    "        accuracy_val = accuracy_score(y_val_fold, y_pred_val)\n",
    "        accuracy_scores_validate.append(accuracy_val)\n",
    "\n",
    "    # Test Set\n",
    "    y_pred_test = model.predict(X_test)\n",
    "    auc_test = roc_auc_score(y_test, model.predict_proba(X_test)[:, 1])\n",
    "    auc_scores_test.append(auc_test)\n",
    "    accuracy_test = accuracy_score(y_test, y_pred_test)\n",
    "    accuracy_scores_test.append(accuracy_test)\n",
    "\n",
    "    results[model_name] = {\n",
    "        'AUC Score (Validation Set)': np.mean(auc_scores_validate),\n",
    "        'AUC Score (Test Set)': np.mean(auc_scores_test),\n",
    "        'Accuracy (Validation Set)': np.mean(accuracy_scores_validate),\n",
    "        'Accuracy (Test Set)': np.mean(accuracy_scores_test)\n",
    "    }\n",
    "\n",
    "# Print results\n",
    "print(\"Model Performance:\")\n",
    "print(\"{:<20} {:<20} {:<20}\".format('Model', 'Validation Set', 'Test Set'))\n",
    "for model_name, metrics in results.items():\n",
    "    print(\"{:<20} {:<20.5f} {:<20.5f}\".format(\n",
    "        model_name,\n",
    "        metrics['AUC Score (Validation Set)'],\n",
    "        metrics['AUC Score (Test Set)']\n",
    "    ))\n"
   ]
  },
  {
   "cell_type": "markdown",
   "id": "61f67884-15e5-49b8-8e8d-afc459c50e4a",
   "metadata": {},
   "source": [
    "### Train, Validate with K folds, and test - Comparing AUC, Accuracy, Precision, Recall, F1"
   ]
  },
  {
   "cell_type": "markdown",
   "id": "30c7cd69-38aa-4add-b435-f9e13edfbd6b",
   "metadata": {},
   "source": [
    "#### Without p50 "
   ]
  },
  {
   "cell_type": "code",
   "execution_count": 66,
   "id": "a87742cb-5969-4c56-8e09-785814f5fef1",
   "metadata": {},
   "outputs": [
    {
     "name": "stdout",
     "output_type": "stream",
     "text": [
      "Hospital Mortality Prediction without p50: \n",
      "\n",
      "\n",
      "\n",
      "Validation Set Metrics: \n",
      "\n",
      "Model                AUC             Accuracy        Precision       Recall          F1 Score       \n",
      "Logistic Regression  0.67437         0.81917         0.58214         0.03616         0.06735        \n",
      "Decision Tree        0.54094         0.71183         0.24127         0.27237         0.25521        \n",
      "Random Forest        0.64115         0.81400         0.46074         0.10699         0.17309        \n",
      "Gradient Boosting    0.67352         0.81457         0.47182         0.07708         0.13178        \n",
      "\n",
      "\n",
      "Logistic Regression: AUC 95% CI (Validation) (0.60135, 0.73150)\n",
      "Decision Tree: AUC 95% CI (Validation) (0.50413, 0.60586)\n",
      "Random Forest: AUC 95% CI (Validation) (0.58019, 0.67693)\n",
      "Gradient Boosting: AUC 95% CI (Validation) (0.59779, 0.73173)\n",
      "\n",
      "Test Set Metrics: \n",
      "\n",
      "Model                AUC             Accuracy        Precision       Recall          F1 Score       \n",
      "Logistic Regression  0.66183         0.81200         0.53846         0.05303         0.09655        \n",
      "Decision Tree        0.53430         0.70436         0.24090         0.26061         0.25036        \n",
      "Random Forest        0.63574         0.80511         0.44242         0.11061         0.17697        \n",
      "Gradient Boosting    0.67082         0.80970         0.48780         0.09091         0.15326        \n",
      "\n",
      "\n"
     ]
    }
   ],
   "source": [
    "from sklearn.model_selection import StratifiedKFold, train_test_split\n",
    "from sklearn.linear_model import LogisticRegression\n",
    "from sklearn.tree import DecisionTreeClassifier\n",
    "from sklearn.ensemble import RandomForestClassifier, GradientBoostingClassifier\n",
    "from sklearn.metrics import roc_auc_score, accuracy_score, precision_score, recall_score, f1_score\n",
    "import numpy as np\n",
    "\n",
    "# Select relevant columns\n",
    "selected_features = [\n",
    "    'sofa_past_overall_24hr',\n",
    "    'comorbidity_score_value', 'cbc_hemoglobin', 'bmp_sodium', 'admission_age',\n",
    "    'in_hospital_mortality', 'comorbidity_score_name_Charlson', 'comorbidity_score_name_Elixhauser'\n",
    "]\n",
    "\n",
    "# Create a DataFrame with selected features\n",
    "selected_df = df[selected_features]\n",
    "\n",
    "# Split data into train, validate, and test sets\n",
    "X = selected_df.drop('in_hospital_mortality', axis=1)\n",
    "y = selected_df['in_hospital_mortality']\n",
    "\n",
    "X_train, X_temp, y_train, y_temp = train_test_split(X, y, test_size=0.3, random_state=42)\n",
    "X_validate, X_test, y_validate, y_test = train_test_split(X_temp, y_temp, test_size=0.5, random_state=42)\n",
    "\n",
    "# Initialize and train different models\n",
    "models = {\n",
    "    'Logistic Regression': LogisticRegression(solver='lbfgs', max_iter=1000),\n",
    "    'Decision Tree': DecisionTreeClassifier(),\n",
    "    'Random Forest': RandomForestClassifier(),\n",
    "    'Gradient Boosting': GradientBoostingClassifier()\n",
    "}\n",
    "\n",
    "results_validate = {}\n",
    "results_test = {}\n",
    "\n",
    "for model_name, model in models.items():\n",
    "    auc_scores_validate = []  # List to store AUC scores for each validation fold\n",
    "    accuracy_scores_validate = []  # List to store accuracy scores for each validation fold\n",
    "    precision_scores_validate = []  # List to store precision scores for each validation fold\n",
    "    recall_scores_validate = []  # List to store recall scores for each validation fold\n",
    "    f1_scores_validate = []  # List to store F1 scores for each validation fold\n",
    "\n",
    "    auc_scores_test = []  # List to store AUC scores for the test set\n",
    "    accuracy_scores_test = []  # List to store accuracy scores for the test set\n",
    "    precision_scores_test = []  # List to store precision scores for the test set\n",
    "    recall_scores_test = []  # List to store recall scores for the test set\n",
    "    f1_scores_test = []  # List to store F1 scores for the test set\n",
    "\n",
    "    # Perform 10-fold cross-validation on the validation set\n",
    "    k_fold = StratifiedKFold(n_splits=10, shuffle=True, random_state=42)\n",
    "    for train_idx, validate_idx in k_fold.split(X_validate, y_validate):\n",
    "        X_train_fold, X_validate_fold = X_validate.iloc[train_idx], X_validate.iloc[validate_idx]\n",
    "        y_train_fold, y_validate_fold = y_validate.iloc[train_idx], y_validate.iloc[validate_idx]\n",
    "\n",
    "        model.fit(X_train_fold, y_train_fold)\n",
    "        auc_fold_validate = roc_auc_score(y_validate_fold, model.predict_proba(X_validate_fold)[:, 1])\n",
    "        auc_scores_validate.append(auc_fold_validate)\n",
    "\n",
    "        y_pred_validate = model.predict(X_validate_fold)\n",
    "        accuracy_fold_validate = accuracy_score(y_validate_fold, y_pred_validate)\n",
    "        accuracy_scores_validate.append(accuracy_fold_validate)\n",
    "        precision_fold_validate = precision_score(y_validate_fold, y_pred_validate)\n",
    "        precision_scores_validate.append(precision_fold_validate)\n",
    "        recall_fold_validate = recall_score(y_validate_fold, y_pred_validate)\n",
    "        recall_scores_validate.append(recall_fold_validate)\n",
    "        f1_fold_validate = f1_score(y_validate_fold, y_pred_validate)\n",
    "        f1_scores_validate.append(f1_fold_validate)\n",
    "\n",
    "    # Now evaluate on the test set\n",
    "    y_pred_test = model.predict(X_test)\n",
    "    auc_test = roc_auc_score(y_test, model.predict_proba(X_test)[:, 1])\n",
    "    auc_scores_test.append(auc_test)\n",
    "    accuracy_test = accuracy_score(y_test, y_pred_test)\n",
    "    accuracy_scores_test.append(accuracy_test)\n",
    "    precision_test = precision_score(y_test, y_pred_test)\n",
    "    precision_scores_test.append(precision_test)\n",
    "    recall_test = recall_score(y_test, y_pred_test)\n",
    "    recall_scores_test.append(recall_test)\n",
    "    f1_test = f1_score(y_test, y_pred_test)\n",
    "    f1_scores_test.append(f1_test)\n",
    "\n",
    "    # Calculate 2.5 and 97.5 percentiles to obtain the CI for AUC on the validation set\n",
    "    alpha = 0.95\n",
    "    lower_auc_validate = np.percentile(auc_scores_validate, 2.5)\n",
    "    upper_auc_validate = np.percentile(auc_scores_validate, 97.5)\n",
    "\n",
    "    results_validate[model_name] = {\n",
    "        'AUC Scores (Validation Folds)': auc_scores_validate,\n",
    "        'AUC 95% CI': (lower_auc_validate, upper_auc_validate),\n",
    "        'Accuracy Scores (Validation Folds)': accuracy_scores_validate,\n",
    "        'Precision Scores (Validation Folds)': precision_scores_validate,\n",
    "        'Recall Scores (Validation Folds)': recall_scores_validate,\n",
    "        'F1 Scores (Validation Folds)': f1_scores_validate\n",
    "    }\n",
    "\n",
    "    # Store the test set metrics\n",
    "    results_test[model_name] = {\n",
    "        'AUC Test Score': np.mean(auc_scores_test),\n",
    "        'Accuracy Test Score': np.mean(accuracy_scores_test),\n",
    "        'Precision Test Score': np.mean(precision_scores_test),\n",
    "        'Recall Test Score': np.mean(recall_scores_test),\n",
    "        'F1 Test Score': np.mean(f1_scores_test)\n",
    "    }\n",
    "\n",
    "\n",
    "print(\"Hospital Mortality Prediction without p50: \\n\")\n",
    "# Add a blank line\n",
    "print(\"\\n\")\n",
    "\n",
    "# Print results for the validation set in a tabular format with 5 decimal places\n",
    "print(\"Validation Set Metrics: \\n\")\n",
    "print(\"{:<20} {:<15} {:<15} {:<15} {:<15} {:<15}\".format('Model', 'AUC', 'Accuracy', 'Precision', 'Recall', 'F1 Score'))\n",
    "for model_name, metrics in results_validate.items():\n",
    "    print(\"{:<20} {:<15.5f} {:<15.5f} {:<15.5f} {:<15.5f} {:<15.5f}\".format(\n",
    "        model_name,\n",
    "        np.mean(metrics['AUC Scores (Validation Folds)']),\n",
    "        np.mean(metrics['Accuracy Scores (Validation Folds)']),\n",
    "        np.mean(metrics['Precision Scores (Validation Folds)']),\n",
    "        np.mean(metrics['Recall Scores (Validation Folds)']),\n",
    "        np.mean(metrics['F1 Scores (Validation Folds)'])\n",
    "    ))\n",
    "\n",
    "# Add a blank line\n",
    "print(\"\\n\")\n",
    "\n",
    "# Print all the AUC CIs for the models on the validation set with 5 decimal places\n",
    "for model_name, metrics in results_validate.items():\n",
    "    lower_auc_validate = metrics['AUC 95% CI'][0]\n",
    "    upper_auc_validate = metrics['AUC 95% CI'][1]\n",
    "    print(f'{model_name}: AUC 95% CI (Validation) ({lower_auc_validate:.5f}, {upper_auc_validate:.5f})')\n",
    "\n",
    "# Print results for the test set tabular format with 5 decimal places\n",
    "print(\"\\nTest Set Metrics: \\n\")\n",
    "print(\"{:<20} {:<15} {:<15} {:<15} {:<15} {:<15}\".format('Model', 'AUC', 'Accuracy', 'Precision', 'Recall', 'F1 Score'))\n",
    "for model_name, metrics in results_test.items():\n",
    "    print(\"{:<20} {:<15.5f} {:<15.5f} {:<15.5f} {:<15.5f} {:<15.5f}\".format(\n",
    "        model_name,\n",
    "        metrics['AUC Test Score'],\n",
    "        metrics['Accuracy Test Score'],\n",
    "        metrics['Precision Test Score'],\n",
    "        metrics['Recall Test Score'],\n",
    "        metrics['F1 Test Score']\n",
    "    ))\n",
    "\n",
    "# Add a blank line\n",
    "print(\"\\n\")\n"
   ]
  },
  {
   "cell_type": "markdown",
   "id": "a0c7b5d1-89de-453d-be0c-e9e9b138233c",
   "metadata": {},
   "source": [
    "#### With p50"
   ]
  },
  {
   "cell_type": "code",
   "execution_count": 67,
   "id": "d9fd16c1-526e-46fb-b2f8-93d5c0a3939c",
   "metadata": {},
   "outputs": [
    {
     "name": "stdout",
     "output_type": "stream",
     "text": [
      "Hospital Mortality Prediction with p50: \n",
      "\n",
      "\n",
      "\n",
      "Validation Set Metrics: \n",
      "\n",
      "Model                AUC             Accuracy        Precision       Recall          F1 Score       \n",
      "Logistic Regression  0.68112         0.81946         0.58619         0.04405         0.08114        \n",
      "Decision Tree        0.54820         0.71642         0.25183         0.28348         0.26653        \n",
      "Random Forest        0.66217         0.81773         0.50808         0.08492         0.14395        \n",
      "Gradient Boosting    0.67703         0.81544         0.45565         0.07860         0.13291        \n",
      "\n",
      "\n",
      "Logistic Regression: AUC 95% CI (Validation) (0.59933, 0.73335)\n",
      "Decision Tree: AUC 95% CI (Validation) (0.50579, 0.57987)\n",
      "Random Forest: AUC 95% CI (Validation) (0.60795, 0.70900)\n",
      "Gradient Boosting: AUC 95% CI (Validation) (0.61381, 0.73757)\n",
      "\n",
      "Test Set Metrics: \n",
      "\n",
      "Model                AUC             Accuracy        Precision       Recall          F1 Score       \n",
      "Logistic Regression  0.67374         0.81228         0.54286         0.05758         0.10411        \n",
      "Decision Tree        0.54878         0.70896         0.26016         0.29091         0.27468        \n",
      "Random Forest        0.65104         0.80741         0.45736         0.08939         0.14956        \n",
      "Gradient Boosting    0.68311         0.80941         0.48462         0.09545         0.15949        \n",
      "\n",
      "\n"
     ]
    }
   ],
   "source": [
    "from sklearn.model_selection import StratifiedKFold, train_test_split\n",
    "from sklearn.linear_model import LogisticRegression\n",
    "from sklearn.tree import DecisionTreeClassifier\n",
    "from sklearn.ensemble import RandomForestClassifier, GradientBoostingClassifier\n",
    "from sklearn.metrics import roc_auc_score, accuracy_score, precision_score, recall_score, f1_score\n",
    "import numpy as np\n",
    "\n",
    "# Select relevant columns\n",
    "selected_features = ['p50',\n",
    "    'sofa_past_overall_24hr',\n",
    "    'comorbidity_score_value', 'cbc_hemoglobin', 'bmp_sodium', 'admission_age',\n",
    "    'in_hospital_mortality', 'comorbidity_score_name_Charlson', 'comorbidity_score_name_Elixhauser'\n",
    "]\n",
    "\n",
    "# Create a DataFrame with selected features\n",
    "selected_df = df[selected_features]\n",
    "\n",
    "# Split data into train, validate, and test sets\n",
    "X = selected_df.drop('in_hospital_mortality', axis=1)\n",
    "y = selected_df['in_hospital_mortality']\n",
    "\n",
    "X_train, X_temp, y_train, y_temp = train_test_split(X, y, test_size=0.3, random_state=42)\n",
    "X_validate, X_test, y_validate, y_test = train_test_split(X_temp, y_temp, test_size=0.5, random_state=42)\n",
    "\n",
    "# Initialize and train different models\n",
    "models = {\n",
    "    'Logistic Regression': LogisticRegression(solver='lbfgs', max_iter=1000),\n",
    "    'Decision Tree': DecisionTreeClassifier(),\n",
    "    'Random Forest': RandomForestClassifier(),\n",
    "    'Gradient Boosting': GradientBoostingClassifier()\n",
    "}\n",
    "\n",
    "results_validate = {}\n",
    "results_test = {}\n",
    "\n",
    "for model_name, model in models.items():\n",
    "    auc_scores_validate = []  # List to store AUC scores for each validation fold\n",
    "    accuracy_scores_validate = []  # List to store accuracy scores for each validation fold\n",
    "    precision_scores_validate = []  # List to store precision scores for each validation fold\n",
    "    recall_scores_validate = []  # List to store recall scores for each validation fold\n",
    "    f1_scores_validate = []  # List to store F1 scores for each validation fold\n",
    "\n",
    "    auc_scores_test = []  # List to store AUC scores for the test set\n",
    "    accuracy_scores_test = []  # List to store accuracy scores for the test set\n",
    "    precision_scores_test = []  # List to store precision scores for the test set\n",
    "    recall_scores_test = []  # List to store recall scores for the test set\n",
    "    f1_scores_test = []  # List to store F1 scores for the test set\n",
    "\n",
    "    # Perform 10-fold cross-validation on the validation set\n",
    "    k_fold = StratifiedKFold(n_splits=10, shuffle=True, random_state=42)\n",
    "    for train_idx, validate_idx in k_fold.split(X_validate, y_validate):\n",
    "        X_train_fold, X_validate_fold = X_validate.iloc[train_idx], X_validate.iloc[validate_idx]\n",
    "        y_train_fold, y_validate_fold = y_validate.iloc[train_idx], y_validate.iloc[validate_idx]\n",
    "\n",
    "        model.fit(X_train_fold, y_train_fold)\n",
    "        auc_fold_validate = roc_auc_score(y_validate_fold, model.predict_proba(X_validate_fold)[:, 1])\n",
    "        auc_scores_validate.append(auc_fold_validate)\n",
    "\n",
    "        y_pred_validate = model.predict(X_validate_fold)\n",
    "        accuracy_fold_validate = accuracy_score(y_validate_fold, y_pred_validate)\n",
    "        accuracy_scores_validate.append(accuracy_fold_validate)\n",
    "        precision_fold_validate = precision_score(y_validate_fold, y_pred_validate)\n",
    "        precision_scores_validate.append(precision_fold_validate)\n",
    "        recall_fold_validate = recall_score(y_validate_fold, y_pred_validate)\n",
    "        recall_scores_validate.append(recall_fold_validate)\n",
    "        f1_fold_validate = f1_score(y_validate_fold, y_pred_validate)\n",
    "        f1_scores_validate.append(f1_fold_validate)\n",
    "\n",
    "    # Now evaluate on the test set\n",
    "    y_pred_test = model.predict(X_test)\n",
    "    auc_test = roc_auc_score(y_test, model.predict_proba(X_test)[:, 1])\n",
    "    auc_scores_test.append(auc_test)\n",
    "    accuracy_test = accuracy_score(y_test, y_pred_test)\n",
    "    accuracy_scores_test.append(accuracy_test)\n",
    "    precision_test = precision_score(y_test, y_pred_test)\n",
    "    precision_scores_test.append(precision_test)\n",
    "    recall_test = recall_score(y_test, y_pred_test)\n",
    "    recall_scores_test.append(recall_test)\n",
    "    f1_test = f1_score(y_test, y_pred_test)\n",
    "    f1_scores_test.append(f1_test)\n",
    "\n",
    "    # Calculate 2.5 and 97.5 percentiles to obtain the CI for AUC on the validation set\n",
    "    alpha = 0.95\n",
    "    lower_auc_validate = np.percentile(auc_scores_validate, 2.5)\n",
    "    upper_auc_validate = np.percentile(auc_scores_validate, 97.5)\n",
    "\n",
    "    results_validate[model_name] = {\n",
    "        'AUC Scores (Validation Folds)': auc_scores_validate,\n",
    "        'AUC 95% CI': (lower_auc_validate, upper_auc_validate),\n",
    "        'Accuracy Scores (Validation Folds)': accuracy_scores_validate,\n",
    "        'Precision Scores (Validation Folds)': precision_scores_validate,\n",
    "        'Recall Scores (Validation Folds)': recall_scores_validate,\n",
    "        'F1 Scores (Validation Folds)': f1_scores_validate\n",
    "    }\n",
    "\n",
    "    # Store the test set metrics\n",
    "    results_test[model_name] = {\n",
    "        'AUC Test Score': np.mean(auc_scores_test),\n",
    "        'Accuracy Test Score': np.mean(accuracy_scores_test),\n",
    "        'Precision Test Score': np.mean(precision_scores_test),\n",
    "        'Recall Test Score': np.mean(recall_scores_test),\n",
    "        'F1 Test Score': np.mean(f1_scores_test)\n",
    "    }\n",
    "\n",
    "\n",
    "\n",
    "print(\"Hospital Mortality Prediction with p50: \\n\")\n",
    "# Add a blank line\n",
    "print(\"\\n\")\n",
    "\n",
    "# Print results for the validation set in a tabular format with 5 decimal places\n",
    "print(\"Validation Set Metrics: \\n\")\n",
    "print(\"{:<20} {:<15} {:<15} {:<15} {:<15} {:<15}\".format('Model', 'AUC', 'Accuracy', 'Precision', 'Recall', 'F1 Score'))\n",
    "for model_name, metrics in results_validate.items():\n",
    "    print(\"{:<20} {:<15.5f} {:<15.5f} {:<15.5f} {:<15.5f} {:<15.5f}\".format(\n",
    "        model_name,\n",
    "        np.mean(metrics['AUC Scores (Validation Folds)']),\n",
    "        np.mean(metrics['Accuracy Scores (Validation Folds)']),\n",
    "        np.mean(metrics['Precision Scores (Validation Folds)']),\n",
    "        np.mean(metrics['Recall Scores (Validation Folds)']),\n",
    "        np.mean(metrics['F1 Scores (Validation Folds)'])\n",
    "    ))\n",
    "\n",
    "# Add a blank line\n",
    "print(\"\\n\")\n",
    "\n",
    "# Print all the AUC CIs for the models on the validation set with 5 decimal places\n",
    "for model_name, metrics in results_validate.items():\n",
    "    lower_auc_validate = metrics['AUC 95% CI'][0]\n",
    "    upper_auc_validate = metrics['AUC 95% CI'][1]\n",
    "    print(f'{model_name}: AUC 95% CI (Validation) ({lower_auc_validate:.5f}, {upper_auc_validate:.5f})')\n",
    "\n",
    "# Print results for the test set tabular format with 5 decimal places\n",
    "print(\"\\nTest Set Metrics: \\n\")\n",
    "print(\"{:<20} {:<15} {:<15} {:<15} {:<15} {:<15}\".format('Model', 'AUC', 'Accuracy', 'Precision', 'Recall', 'F1 Score'))\n",
    "for model_name, metrics in results_test.items():\n",
    "    print(\"{:<20} {:<15.5f} {:<15.5f} {:<15.5f} {:<15.5f} {:<15.5f}\".format(\n",
    "        model_name,\n",
    "        metrics['AUC Test Score'],\n",
    "        metrics['Accuracy Test Score'],\n",
    "        metrics['Precision Test Score'],\n",
    "        metrics['Recall Test Score'],\n",
    "        metrics['F1 Test Score']\n",
    "    ))\n",
    "\n",
    "# Add a blank line\n",
    "print(\"\\n\")\n"
   ]
  },
  {
   "cell_type": "markdown",
   "id": "1418e198-671a-409c-b196-5a32402ebf24",
   "metadata": {},
   "source": [
    "Out of the 4 models, Gradient Boosting is performing the best overall. "
   ]
  },
  {
   "cell_type": "markdown",
   "id": "50a32793-e2c6-4636-bb20-f9962fc88217",
   "metadata": {},
   "source": [
    "### Next steps: \n",
    "* Optimizing further Grading Boosting to further prove the predictive power of p50\n",
    "    * GridSearchCV\n",
    "* Analyzing feature importance for each model -> provide insights into the model's decision-making process.\n",
    "* \"By incorporating the p50 feature into pre-trained mortality prediction models, we aim to assess whether this addition leads to an improvement in accuracy. \n",
    "  *  OASIS\n",
    "  *  \"Reproducibility in critical care: a mortality prediction case study\" Link: https://proceedings.mlr.press/v68/johnson17a.html"
   ]
  },
  {
   "cell_type": "code",
   "execution_count": null,
   "id": "5792d147-2b20-48aa-8b62-f686d91ccd61",
   "metadata": {},
   "outputs": [],
   "source": []
  },
  {
   "cell_type": "code",
   "execution_count": null,
   "id": "cc511dd3-89ff-43ac-acd3-48ad1ac9f46d",
   "metadata": {},
   "outputs": [],
   "source": []
  },
  {
   "cell_type": "code",
   "execution_count": null,
   "id": "890084e6-a5c7-49fd-a9e8-f4fe159f4a27",
   "metadata": {},
   "outputs": [],
   "source": []
  }
 ],
 "metadata": {
  "kernelspec": {
   "display_name": "Python (ml)",
   "language": "python",
   "name": "ml"
  },
  "language_info": {
   "codemirror_mode": {
    "name": "ipython",
    "version": 3
   },
   "file_extension": ".py",
   "mimetype": "text/x-python",
   "name": "python",
   "nbconvert_exporter": "python",
   "pygments_lexer": "ipython3",
   "version": "3.9.17"
  }
 },
 "nbformat": 4,
 "nbformat_minor": 5
}
